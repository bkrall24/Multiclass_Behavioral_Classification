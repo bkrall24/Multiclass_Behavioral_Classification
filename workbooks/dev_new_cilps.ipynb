{
 "cells": [
  {
   "cell_type": "code",
   "execution_count": 1,
   "metadata": {},
   "outputs": [],
   "source": [
    "# adding clips from video to training set using predictions\n",
    "\n",
    "# pull video\n",
    "# predict some section\n",
    "#   perhaps using the 5 min bin predictions from the original model\n",
    "#   perhaps randomly sample\n",
    "# user label clips as scratch, not scratch - any of the possible clip categories\n",
    "# if clip label-able, write to correct directory\n"
   ]
  },
  {
   "cell_type": "code",
   "execution_count": null,
   "metadata": {},
   "outputs": [],
   "source": [
    "in_training_set = \"/Users/rebeccakrall/Desktop/PRX_03_Validation_Sheet_in_training_set.csv\"\n"
   ]
  }
 ],
 "metadata": {
  "kernelspec": {
   "display_name": "tf",
   "language": "python",
   "name": "python3"
  },
  "language_info": {
   "codemirror_mode": {
    "name": "ipython",
    "version": 3
   },
   "file_extension": ".py",
   "mimetype": "text/x-python",
   "name": "python",
   "nbconvert_exporter": "python",
   "pygments_lexer": "ipython3",
   "version": "3.11.4"
  }
 },
 "nbformat": 4,
 "nbformat_minor": 2
}
