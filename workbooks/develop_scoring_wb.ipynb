{
 "cells": [
  {
   "cell_type": "code",
   "execution_count": 1,
   "metadata": {},
   "outputs": [
    {
     "name": "stderr",
     "output_type": "stream",
     "text": [
      "/Users/rebeccakrall/miniconda3/envs/tf/lib/python3.11/site-packages/tqdm/auto.py:21: TqdmWarning: IProgress not found. Please update jupyter and ipywidgets. See https://ipywidgets.readthedocs.io/en/stable/user_install.html\n",
      "  from .autonotebook import tqdm as notebook_tqdm\n"
     ]
    }
   ],
   "source": [
    "from model_loading import *\n",
    "from prediction import *"
   ]
  },
  {
   "cell_type": "code",
   "execution_count": 2,
   "metadata": {},
   "outputs": [],
   "source": [
    "model_folder = \"/Users/rebeccakrall/Desktop/Model Saving Test/Scratch_012425\"\n",
    "model_data, data_specs = load_seg_model_data(\"/Users/rebeccakrall/Desktop/Model Saving Test/Scratch_012425\")"
   ]
  },
  {
   "cell_type": "code",
   "execution_count": 154,
   "metadata": {},
   "outputs": [],
   "source": [
    "model_data['checkpoint_dir'] = \"/Users/rebeccakrall/Data/MoViNet Models After Jan 2025/Models/scratch_120624/scratch_120624_checkpoints\""
   ]
  },
  {
   "cell_type": "code",
   "execution_count": 155,
   "metadata": {},
   "outputs": [
    {
     "name": "stdout",
     "output_type": "stream",
     "text": [
      "Running on single GPU  /device:GPU:0\n",
      "Number of accelerators:  1\n"
     ]
    }
   ],
   "source": [
    "model = load_seg_model_weights(model_data)"
   ]
  },
  {
   "cell_type": "code",
   "execution_count": 156,
   "metadata": {},
   "outputs": [
    {
     "data": {
      "text/plain": [
       "{'checkpoint_dir': '/Users/rebeccakrall/Data/MoViNet Models After Jan 2025/Models/scratch_120624/scratch_120624_checkpoints',\n",
       " 'checkpoint_path': None,\n",
       " 'model_id': 'a0',\n",
       " 'resolution': 172,\n",
       " 'batch_size': 8,\n",
       " 'num_frames': 30,\n",
       " 'num_classes': 1,\n",
       " 'loss_name': None,\n",
       " 'learning_rate': 0.0001,\n",
       " 'class_labels': {'Not Scratch': 1, 'Scratch': 0}}"
      ]
     },
     "execution_count": 156,
     "metadata": {},
     "output_type": "execute_result"
    }
   ],
   "source": [
    "model_data"
   ]
  },
  {
   "cell_type": "code",
   "execution_count": 157,
   "metadata": {},
   "outputs": [],
   "source": [
    "save_segmentation_model(\"/Users/rebeccakrall/Data/MoViNet Models After Jan 2025/Models/scratch_120624\", model_data, data_specs, None, None, None)"
   ]
  },
  {
   "cell_type": "code",
   "execution_count": 9,
   "metadata": {},
   "outputs": [],
   "source": [
    "table_file=\"/Users/rebeccakrall/Desktop/PRX_03_Validation_Sheet.csv\"\n",
    "save_folder=\"/Users/rebeccakrall/Desktop/scratch_120624_predictions\"\n",
    "# tbl, metadata = load_experiment_table(table_file=\"/Users/rebeccakrall/Desktop/PRX_03_Validation_Sheet_short.csv\")"
   ]
  },
  {
   "cell_type": "code",
   "execution_count": null,
   "metadata": {},
   "outputs": [],
   "source": [
    "predict_from_table(table_file, model, model_data, data_specs, save_folder)"
   ]
  },
  {
   "cell_type": "code",
   "execution_count": 11,
   "metadata": {},
   "outputs": [],
   "source": [
    "from model_validation import *"
   ]
  },
  {
   "cell_type": "code",
   "execution_count": 221,
   "metadata": {},
   "outputs": [],
   "source": [
    "path = \"/Users/rebeccakrall/Data/Video Processing and Prediction/Scratching_Projects/PRX_03/PRX_03_Videos/PRX_03_Run_3_Computer_2_D12_Males_16DEC22.mp4\"\n",
    "animal = 'm4'\n",
    "\n",
    "with open(\"/Users/rebeccakrall/Data/MoViNet Models After Jan 2025/Model and Training Set Development/scratch_120624_predictions/predictions/PRX_03_Run_3_Computer_2_D12_Males_16DEC22.mp4_33.pkl\", 'rb') as f:\n",
    "    logits = pickle.load(f)\n",
    "\n",
    "window = 10\n",
    "delay_start = 4\n"
   ]
  },
  {
   "cell_type": "code",
   "execution_count": 219,
   "metadata": {},
   "outputs": [],
   "source": [
    "%matplotlib inline\n",
    "import matplotlib.pyplot as plt"
   ]
  },
  {
   "cell_type": "code",
   "execution_count": 85,
   "metadata": {},
   "outputs": [
    {
     "data": {
      "text/plain": [
       "'30.pkl'"
      ]
     },
     "execution_count": 85,
     "metadata": {},
     "output_type": "execute_result"
    }
   ],
   "source": [
    "\"PRX_03_Run_3_Computer_1_D12_Males_16DEC22.mp4_30.pkl\".rpartition('_')[-1]"
   ]
  },
  {
   "cell_type": "code",
   "execution_count": 16,
   "metadata": {},
   "outputs": [
    {
     "data": {
      "text/plain": [
       "{'checkpoint_dir': 'Models/scratch_120624',\n",
       " 'checkpoint_path': None,\n",
       " 'model_id': 'a0',\n",
       " 'resolution': 172,\n",
       " 'batch_size': 8,\n",
       " 'num_frames': 30,\n",
       " 'num_classes': 1,\n",
       " 'loss_name': None,\n",
       " 'learning_rate': 0.0001,\n",
       " 'class_labels': {'Not Scratch': 1, 'Scratch': 0}}"
      ]
     },
     "execution_count": 16,
     "metadata": {},
     "output_type": "execute_result"
    }
   ],
   "source": [
    "model_data"
   ]
  },
  {
   "cell_type": "code",
   "execution_count": 19,
   "metadata": {},
   "outputs": [
    {
     "name": "stdout",
     "output_type": "stream",
     "text": [
      "Evaluating Bin: 0 with 23 videos\n",
      "Wrong: 0, Total 10\n",
      "Wrong Count: 0.0\n",
      "All Count: 23\n",
      "Evaluating Bin: 1 with 169 videos\n",
      "Wrong: 0, Total 10\n",
      "Wrong Count: 0.0\n",
      "All Count: 192\n",
      "Evaluating Bin: 2 with 51 videos\n",
      "Wrong: 4, Total 10\n",
      "Wrong Count: 30.8\n",
      "All Count: 269\n",
      "Evaluating Bin: 3 with 260 videos\n",
      "Wrong: 7, Total 10\n",
      "Wrong Count: 240.8\n",
      "All Count: 569\n",
      "Evaluating Bin: 4 with 1229 videos\n",
      "Wrong: 5, Total 9\n",
      "Wrong Count: 924.1333333333334\n",
      "All Count: 1799\n"
     ]
    }
   ],
   "source": [
    "user_labled_clips, percent_presumed_wrong, percent_wrong =  validate_animal(path, animal, logits, 30, window= 2, delay_start = 0, num_clips = 10, bins = 5, labels = ['Scratch', 'Not Scratch', 'mixed'], show_label = False)"
   ]
  },
  {
   "cell_type": "code",
   "execution_count": 232,
   "metadata": {},
   "outputs": [],
   "source": [
    "path = \"/Users/rebeccakrall/Data/Video Processing and Prediction/Scratching_Projects/PRX_03/PRX_03_Videos/PRX-03_Run_3_Computer_1_D8_Males_12DEC22.mp4\"\n",
    "animal = 'm4'\n",
    "\n",
    "with open(\"/Users/rebeccakrall/Data/MoViNet Models After Jan 2025/Model and Training Set Development/scratch_120624_predictions/predictions/PRX-03_Run_3_Computer_1_D8_Males_12DEC22.mp4_26.pkl\", 'rb') as f:\n",
    "    logits = pickle.load(f)\n",
    "\n",
    "# window = 10\n",
    "delay_start = 2"
   ]
  },
  {
   "cell_type": "code",
   "execution_count": 233,
   "metadata": {},
   "outputs": [],
   "source": [
    "circles, frames, fps, _ = get_params_from_vid(path)"
   ]
  },
  {
   "cell_type": "code",
   "execution_count": 234,
   "metadata": {},
   "outputs": [],
   "source": [
    "ann = boolean_to_annotations((np.array(logits) <= 0).astype(int), 30, fps)"
   ]
  },
  {
   "cell_type": "code",
   "execution_count": 235,
   "metadata": {},
   "outputs": [],
   "source": [
    "ann_delay = np.array(ann) + (delay_start * 60)\n",
    "ann_dict= {'m3': ann_delay}"
   ]
  },
  {
   "cell_type": "code",
   "execution_count": 236,
   "metadata": {},
   "outputs": [
    {
     "data": {
      "text/plain": [
       "{'project': {'pid': '__VIA_PROJECT_ID__',\n",
       "  'rev': '__VIA_PROJECT_REV_ID__',\n",
       "  'rev_timestamp': '__VIA_PROJECT_REV_TIMESTAMP__',\n",
       "  'pname': 'Unnamed VIA Project',\n",
       "  'creator': 'VGG Image Annotator (http://www.robots.ox.ac.uk/~vgg/software/via)',\n",
       "  'created': 1738788792295,\n",
       "  'vid_list': ['1']},\n",
       " 'config': {'file': {'loc_prefix': {'1': '', '2': '', '3': '', '4': ''}},\n",
       "  'ui': {'file_content_align': 'center',\n",
       "   'file_metadata_editor_visible': True,\n",
       "   'spatial_metadata_editor_visible': True,\n",
       "   'temporal_segment_metadata_editor_visible': True,\n",
       "   'spatial_region_label_attribute_id': '',\n",
       "   'gtimeline_visible_row_count': '4'}},\n",
       " 'attribute': {'1': {'aname': 'TEMPORAL-SEGMENTS',\n",
       "   'anchor_id': 'FILE1_Z2_XY0',\n",
       "   'type': 4,\n",
       "   'desc': 'Temporal segment attribute added by default',\n",
       "   'options': {'default': 'Default'},\n",
       "   'default_option_id': ''}},\n",
       " 'file': {'1': {'fid': '1',\n",
       "   'fname': '/Users/rebeccakrall/Data/Video Processing and Prediction/Scratching_Projects/PRX_03/PRX_03_Videos/PRX-03_Run_3_Computer_1_D8_Males_12DEC22.mp4',\n",
       "   'type': 4,\n",
       "   'loc': 1,\n",
       "   'src': ''}},\n",
       " 'metadata': {'1_OM08QE6L': {'vid': '1',\n",
       "   'flg': 0,\n",
       "   'z': [127.00257463919725, 128.00294244479687],\n",
       "   'xy': [],\n",
       "   'av': {'1': 'm3'}},\n",
       "  '1_n6Q9qfOC': {'vid': '1',\n",
       "   'flg': 0,\n",
       "   'z': [144.00882733439056, 145.00919513999017],\n",
       "   'xy': [],\n",
       "   'av': {'1': 'm3'}},\n",
       "  '1_km24uHG1': {'vid': '1',\n",
       "   'flg': 0,\n",
       "   'z': [158.0139766127851, 162.0154478351835],\n",
       "   'xy': [],\n",
       "   'av': {'1': 'm3'}},\n",
       "  '1_LBSRnJF0': {'vid': '1',\n",
       "   'flg': 0,\n",
       "   'z': [164.0161834463827, 166.01691905758193],\n",
       "   'xy': [],\n",
       "   'av': {'1': 'm3'}},\n",
       "  '1_0P4ClmQb': {'vid': '1',\n",
       "   'flg': 0,\n",
       "   'z': [249.04744692234934, 251.04818253354856],\n",
       "   'xy': [],\n",
       "   'av': {'1': 'm3'}},\n",
       "  '1_PM8NP9qE': {'vid': '1',\n",
       "   'flg': 0,\n",
       "   'z': [286.0610557295348, 287.0614235351344],\n",
       "   'xy': [],\n",
       "   'av': {'1': 'm3'}},\n",
       "  '1_se3ud1Eh': {'vid': '1',\n",
       "   'flg': 0,\n",
       "   'z': [310.0698830639254, 317.0724577031226],\n",
       "   'xy': [],\n",
       "   'av': {'1': 'm3'}},\n",
       "  '1_IBsrbxKe': {'vid': '1',\n",
       "   'flg': 0,\n",
       "   'z': [323.07466453672026, 326.07576795351906],\n",
       "   'xy': [],\n",
       "   'av': {'1': 'm3'}},\n",
       "  '1_HjEDsaNq': {'vid': '1',\n",
       "   'flg': 0,\n",
       "   'z': [341.0812850375132, 342.0816528431128],\n",
       "   'xy': [],\n",
       "   'av': {'1': 'm3'}},\n",
       "  '1_ISEmlZQy': {'vid': '1',\n",
       "   'flg': 0,\n",
       "   'z': [345.08275625991166, 346.08312406551124],\n",
       "   'xy': [],\n",
       "   'av': {'1': 'm3'}},\n",
       "  '1_4qnJNuAY': {'vid': '1',\n",
       "   'flg': 0,\n",
       "   'z': [348.08385967671046, 349.08422748231004],\n",
       "   'xy': [],\n",
       "   'av': {'1': 'm3'}},\n",
       "  '1_3RRriI8g': {'vid': '1',\n",
       "   'flg': 0,\n",
       "   'z': [355.0864343159077, 356.0868021215073],\n",
       "   'xy': [],\n",
       "   'av': {'1': 'm3'}},\n",
       "  '1_4MVFRUgV': {'vid': '1',\n",
       "   'flg': 0,\n",
       "   'z': [377.09452603909904, 380.0956294558979],\n",
       "   'xy': [],\n",
       "   'av': {'1': 'm3'}},\n",
       "  '1_9CpdWiKd': {'vid': '1',\n",
       "   'flg': 0,\n",
       "   'z': [383.0967328726967, 386.09783628949555],\n",
       "   'xy': [],\n",
       "   'av': {'1': 'm3'}},\n",
       "  '1_F5XY9PFx': {'vid': '1',\n",
       "   'flg': 0,\n",
       "   'z': [397.1018821510912, 399.10261776229044],\n",
       "   'xy': [],\n",
       "   'av': {'1': 'm3'}},\n",
       "  '1_kccSU4vE': {'vid': '1',\n",
       "   'flg': 0,\n",
       "   'z': [400.10298556789, 401.10335337348965],\n",
       "   'xy': [],\n",
       "   'av': {'1': 'm3'}},\n",
       "  '1_uTEkCrtA': {'vid': '1',\n",
       "   'flg': 0,\n",
       "   'z': [403.1040889846889, 404.10445679028845],\n",
       "   'xy': [],\n",
       "   'av': {'1': 'm3'}},\n",
       "  '1_MNK3BLT5': {'vid': '1',\n",
       "   'flg': 0,\n",
       "   'z': [413.1077670406849, 414.10813484628454],\n",
       "   'xy': [],\n",
       "   'av': {'1': 'm3'}},\n",
       "  '1_usXmVVKd': {'vid': '1',\n",
       "   'flg': 0,\n",
       "   'z': [440.1176977918743, 444.11916901427276],\n",
       "   'xy': [],\n",
       "   'av': {'1': 'm3'}},\n",
       "  '1_RQc9sfkh': {'vid': '1',\n",
       "   'flg': 0,\n",
       "   'z': [450.1213758478704, 452.1221114590696],\n",
       "   'xy': [],\n",
       "   'av': {'1': 'm3'}},\n",
       "  '1_TvOusIl4': {'vid': '1',\n",
       "   'flg': 0,\n",
       "   'z': [461.1254217094661, 468.1279963486633],\n",
       "   'xy': [],\n",
       "   'av': {'1': 'm3'}},\n",
       "  '1_loeo2re2': {'vid': '1',\n",
       "   'flg': 0,\n",
       "   'z': [470.12873195986253, 473.12983537666133],\n",
       "   'xy': [],\n",
       "   'av': {'1': 'm3'}},\n",
       "  '1_p0P8FXYf': {'vid': '1',\n",
       "   'flg': 0,\n",
       "   'z': [494.1375592942531, 495.13792709985273],\n",
       "   'xy': [],\n",
       "   'av': {'1': 'm3'}},\n",
       "  '1_sKLOcDep': {'vid': '1',\n",
       "   'flg': 0,\n",
       "   'z': [499.1393983222511, 501.14013393345033],\n",
       "   'xy': [],\n",
       "   'av': {'1': 'm3'}},\n",
       "  '1_go0fwXLW': {'vid': '1',\n",
       "   'flg': 0,\n",
       "   'z': [503.14086954464955, 504.1412373502492],\n",
       "   'xy': [],\n",
       "   'av': {'1': 'm3'}},\n",
       "  '1_lQEVRKHG': {'vid': '1',\n",
       "   'flg': 0,\n",
       "   'z': [505.14160515584877, 506.1419729614484],\n",
       "   'xy': [],\n",
       "   'av': {'1': 'm3'}},\n",
       "  '1_FlczAv6K': {'vid': '1',\n",
       "   'flg': 0,\n",
       "   'z': [508.1427085726476, 510.14344418384684],\n",
       "   'xy': [],\n",
       "   'av': {'1': 'm3'}},\n",
       "  '1_nQkNhN3u': {'vid': '1',\n",
       "   'flg': 0,\n",
       "   'z': [514.1449154062452, 518.1463866286437],\n",
       "   'xy': [],\n",
       "   'av': {'1': 'm3'}},\n",
       "  '1_MKv6JTjx': {'vid': '1',\n",
       "   'flg': 0,\n",
       "   'z': [521.1474900454425, 528.1500646846398],\n",
       "   'xy': [],\n",
       "   'av': {'1': 'm3'}},\n",
       "  '1_VhKYpvQ1': {'vid': '1',\n",
       "   'flg': 0,\n",
       "   'z': [544.1559495742335, 549.1577886022314],\n",
       "   'xy': [],\n",
       "   'av': {'1': 'm3'}},\n",
       "  '1_X7Ojsdqh': {'vid': '1',\n",
       "   'flg': 0,\n",
       "   'z': [550.158156407831, 551.1585242134307],\n",
       "   'xy': [],\n",
       "   'av': {'1': 'm3'}},\n",
       "  '1_ZiER6luS': {'vid': '1',\n",
       "   'flg': 0,\n",
       "   'z': [552.1588920190303, 554.1596276302296],\n",
       "   'xy': [],\n",
       "   'av': {'1': 'm3'}},\n",
       "  '1_9zgUJU5H': {'vid': '1',\n",
       "   'flg': 0,\n",
       "   'z': [590.1728686318154, 592.1736042430146],\n",
       "   'xy': [],\n",
       "   'av': {'1': 'm3'}},\n",
       "  '1_xrtCemTU': {'vid': '1',\n",
       "   'flg': 0,\n",
       "   'z': [620.1839027998036, 623.1850062166025],\n",
       "   'xy': [],\n",
       "   'av': {'1': 'm3'}},\n",
       "  '1_2jATDDSQ': {'vid': '1',\n",
       "   'flg': 0,\n",
       "   'z': [629.1872130502001, 630.1875808557998],\n",
       "   'xy': [],\n",
       "   'av': {'1': 'm3'}},\n",
       "  '1_6JJ1wmpO': {'vid': '1',\n",
       "   'flg': 0,\n",
       "   'z': [631.1879486613993, 633.1886842725985],\n",
       "   'xy': [],\n",
       "   'av': {'1': 'm3'}},\n",
       "  '1_F2NPd19X': {'vid': '1',\n",
       "   'flg': 0,\n",
       "   'z': [634.1890520781981, 635.1894198837978],\n",
       "   'xy': [],\n",
       "   'av': {'1': 'm3'}},\n",
       "  '1_FFiNZjO5': {'vid': '1',\n",
       "   'flg': 0,\n",
       "   'z': [637.1901554949969, 638.1905233005965],\n",
       "   'xy': [],\n",
       "   'av': {'1': 'm3'}},\n",
       "  '1_zAAkLJ3N': {'vid': '1',\n",
       "   'flg': 0,\n",
       "   'z': [651.1953047733914, 652.1956725789911],\n",
       "   'xy': [],\n",
       "   'av': {'1': 'm3'}},\n",
       "  '1_ULwysIhy': {'vid': '1',\n",
       "   'flg': 0,\n",
       "   'z': [653.1960403845907, 658.1978794125887],\n",
       "   'xy': [],\n",
       "   'av': {'1': 'm3'}},\n",
       "  '1_Aphz0hpD': {'vid': '1',\n",
       "   'flg': 0,\n",
       "   'z': [659.1982472181883, 660.1986150237879],\n",
       "   'xy': [],\n",
       "   'av': {'1': 'm3'}},\n",
       "  '1_zqcMp4iz': {'vid': '1',\n",
       "   'flg': 0,\n",
       "   'z': [661.1989828293875, 671.2026608853836],\n",
       "   'xy': [],\n",
       "   'av': {'1': 'm3'}},\n",
       "  '1_xKyz4cJs': {'vid': '1',\n",
       "   'flg': 0,\n",
       "   'z': [685.207810163778, 686.2081779693777],\n",
       "   'xy': [],\n",
       "   'av': {'1': 'm3'}},\n",
       "  '1_U9mZRje3': {'vid': '1',\n",
       "   'flg': 0,\n",
       "   'z': [688.2089135805769, 689.2092813861765],\n",
       "   'xy': [],\n",
       "   'av': {'1': 'm3'}},\n",
       "  '1_BJRrpLyk': {'vid': '1',\n",
       "   'flg': 0,\n",
       "   'z': [691.2100169973758, 694.2111204141745],\n",
       "   'xy': [],\n",
       "   'av': {'1': 'm3'}},\n",
       "  '1_N9FnqoKn': {'vid': '1',\n",
       "   'flg': 0,\n",
       "   'z': [695.2114882197742, 697.2122238309734],\n",
       "   'xy': [],\n",
       "   'av': {'1': 'm3'}},\n",
       "  '1_IBIMWk1h': {'vid': '1',\n",
       "   'flg': 0,\n",
       "   'z': [713.2181087205671, 716.219212137366],\n",
       "   'xy': [],\n",
       "   'av': {'1': 'm3'}},\n",
       "  '1_3JO7DpFE': {'vid': '1',\n",
       "   'flg': 0,\n",
       "   'z': [718.2199477485651, 724.2221545821627],\n",
       "   'xy': [],\n",
       "   'av': {'1': 'm3'}},\n",
       "  '1_6jhxJpSo': {'vid': '1',\n",
       "   'flg': 0,\n",
       "   'z': [738.2273038605573, 742.2287750829557],\n",
       "   'xy': [],\n",
       "   'av': {'1': 'm3'}},\n",
       "  '1_QjkC34b8': {'vid': '1',\n",
       "   'flg': 0,\n",
       "   'z': [746.2302463053542, 747.2306141109538],\n",
       "   'xy': [],\n",
       "   'av': {'1': 'm3'}},\n",
       "  '1_9fTThsSL': {'vid': '1',\n",
       "   'flg': 0,\n",
       "   'z': [768.2383380285455, 770.2390736397447],\n",
       "   'xy': [],\n",
       "   'av': {'1': 'm3'}},\n",
       "  '1_kLWXbQTT': {'vid': '1',\n",
       "   'flg': 0,\n",
       "   'z': [804.2515790301313, 805.2519468357309],\n",
       "   'xy': [],\n",
       "   'av': {'1': 'm3'}},\n",
       "  '1_PT3Jf8or': {'vid': '1',\n",
       "   'flg': 0,\n",
       "   'z': [810.253785863729, 812.2545214749282],\n",
       "   'xy': [],\n",
       "   'av': {'1': 'm3'}},\n",
       "  '1_Q2Jg3PZW': {'vid': '1',\n",
       "   'flg': 0,\n",
       "   'z': [818.2567283085258, 823.2585673365239],\n",
       "   'xy': [],\n",
       "   'av': {'1': 'm3'}},\n",
       "  '1_FBurAfw8': {'vid': '1',\n",
       "   'flg': 0,\n",
       "   'z': [824.2589351421235, 825.2593029477231],\n",
       "   'xy': [],\n",
       "   'av': {'1': 'm3'}},\n",
       "  '1_k8QeuJWh': {'vid': '1',\n",
       "   'flg': 0,\n",
       "   'z': [839.2644522261176, 841.2651878373168],\n",
       "   'xy': [],\n",
       "   'av': {'1': 'm3'}},\n",
       "  '1_f4C0D3Ox': {'vid': '1',\n",
       "   'flg': 0,\n",
       "   'z': [842.2655556429164, 847.2673946709144],\n",
       "   'xy': [],\n",
       "   'av': {'1': 'm3'}},\n",
       "  '1_nwFtvo3k': {'vid': '1',\n",
       "   'flg': 0,\n",
       "   'z': [858.2714405325102, 862.2729117549086],\n",
       "   'xy': [],\n",
       "   'av': {'1': 'm3'}},\n",
       "  '1_kDXHPCi6': {'vid': '1',\n",
       "   'flg': 0,\n",
       "   'z': [869.2754863941058, 871.276222005305],\n",
       "   'xy': [],\n",
       "   'av': {'1': 'm3'}},\n",
       "  '1_ptvZJxe6': {'vid': '1',\n",
       "   'flg': 0,\n",
       "   'z': [872.2765898109046, 873.2769576165042],\n",
       "   'xy': [],\n",
       "   'av': {'1': 'm3'}},\n",
       "  '1_SDv1eciD': {'vid': '1',\n",
       "   'flg': 0,\n",
       "   'z': [886.2817390892991, 887.2821068948988],\n",
       "   'xy': [],\n",
       "   'av': {'1': 'm3'}},\n",
       "  '1_l8JVTHF0': {'vid': '1',\n",
       "   'flg': 0,\n",
       "   'z': [906.2890952012913, 910.2905664236897],\n",
       "   'xy': [],\n",
       "   'av': {'1': 'm3'}},\n",
       "  '1_UkdoZzsE': {'vid': '1',\n",
       "   'flg': 0,\n",
       "   'z': [915.2924054516877, 918.2935088684866],\n",
       "   'xy': [],\n",
       "   'av': {'1': 'm3'}},\n",
       "  '1_1aaGpzp8': {'vid': '1',\n",
       "   'flg': 0,\n",
       "   'z': [930.2979225356819, 935.2997615636799],\n",
       "   'xy': [],\n",
       "   'av': {'1': 'm3'}},\n",
       "  '1_WPpl1lvQ': {'vid': '1',\n",
       "   'flg': 0,\n",
       "   'z': [936.3001293692795, 938.3008649804788],\n",
       "   'xy': [],\n",
       "   'av': {'1': 'm3'}},\n",
       "  '1_bpurIdMM': {'vid': '1',\n",
       "   'flg': 0,\n",
       "   'z': [939.3012327860783, 943.3027040084768],\n",
       "   'xy': [],\n",
       "   'av': {'1': 'm3'}},\n",
       "  '1_cSoxDZ6Z': {'vid': '1',\n",
       "   'flg': 0,\n",
       "   'z': [963.3100601204688, 964.3104279260685],\n",
       "   'xy': [],\n",
       "   'av': {'1': 'm3'}},\n",
       "  '1_24EAM3Ol': {'vid': '1',\n",
       "   'flg': 0,\n",
       "   'z': [981.3166806212619, 987.3188874548595],\n",
       "   'xy': [],\n",
       "   'av': {'1': 'm3'}},\n",
       "  '1_VzN2TuBk': {'vid': '1',\n",
       "   'flg': 0,\n",
       "   'z': [992.3207264828575, 999.3233011220548],\n",
       "   'xy': [],\n",
       "   'av': {'1': 'm3'}},\n",
       "  '1_Oho243pO': {'vid': '1',\n",
       "   'flg': 0,\n",
       "   'z': [1001.3240367332539, 1002.3244045388536],\n",
       "   'xy': [],\n",
       "   'av': {'1': 'm3'}},\n",
       "  '1_aPK2aZGu': {'vid': '1',\n",
       "   'flg': 0,\n",
       "   'z': [1003.3247723444532, 1008.3266113724512],\n",
       "   'xy': [],\n",
       "   'av': {'1': 'm3'}},\n",
       "  '1_kbCUXfz8': {'vid': '1',\n",
       "   'flg': 0,\n",
       "   'z': [1009.3269791780508, 1018.3302894284473],\n",
       "   'xy': [],\n",
       "   'av': {'1': 'm3'}},\n",
       "  '1_C9Jp8BCV': {'vid': '1',\n",
       "   'flg': 0,\n",
       "   'z': [1031.335070901242, 1032.3354387068418],\n",
       "   'xy': [],\n",
       "   'av': {'1': 'm3'}},\n",
       "  '1_MnYSG0Pu': {'vid': '1',\n",
       "   'flg': 0,\n",
       "   'z': [1048.3413235964354, 1050.3420592076347],\n",
       "   'xy': [],\n",
       "   'av': {'1': 'm3'}},\n",
       "  '1_7zfSuIEa': {'vid': '1',\n",
       "   'flg': 0,\n",
       "   'z': [1060.3457372636308, 1061.3461050692304],\n",
       "   'xy': [],\n",
       "   'av': {'1': 'm3'}},\n",
       "  '1_KwL4GYA5': {'vid': '1',\n",
       "   'flg': 0,\n",
       "   'z': [1064.347208486029, 1068.3486797084277],\n",
       "   'xy': [],\n",
       "   'av': {'1': 'm3'}},\n",
       "  '1_Pxh4G8lT': {'vid': '1',\n",
       "   'flg': 0,\n",
       "   'z': [1069.3490475140272, 1070.3494153196268],\n",
       "   'xy': [],\n",
       "   'av': {'1': 'm3'}},\n",
       "  '1_phyL8sCO': {'vid': '1',\n",
       "   'flg': 0,\n",
       "   'z': [1074.3508865420254, 1078.3523577644237],\n",
       "   'xy': [],\n",
       "   'av': {'1': 'm3'}},\n",
       "  '1_1pcGFC1J': {'vid': '1',\n",
       "   'flg': 0,\n",
       "   'z': [1119.3674377940076, 1124.3692768220058],\n",
       "   'xy': [],\n",
       "   'av': {'1': 'm3'}},\n",
       "  '1_ba9uZhv4': {'vid': '1',\n",
       "   'flg': 0,\n",
       "   'z': [1198.3964944363765, 1199.3968622419761],\n",
       "   'xy': [],\n",
       "   'av': {'1': 'm3'}},\n",
       "  '1_nocgNCHq': {'vid': '1',\n",
       "   'flg': 0,\n",
       "   'z': [1205.3990690755738, 1207.399804686773],\n",
       "   'xy': [],\n",
       "   'av': {'1': 'm3'}},\n",
       "  '1_hgn77QIq': {'vid': '1',\n",
       "   'flg': 0,\n",
       "   'z': [1240.41194227156, 1241.4123100771596],\n",
       "   'xy': [],\n",
       "   'av': {'1': 'm3'}},\n",
       "  '1_uIGWqkVl': {'vid': '1',\n",
       "   'flg': 0,\n",
       "   'z': [1278.4259188843453, 1279.4262866899448],\n",
       "   'xy': [],\n",
       "   'av': {'1': 'm3'}},\n",
       "  '1_eBGPNzfD': {'vid': '1',\n",
       "   'flg': 0,\n",
       "   'z': [1280.4266544955444, 1281.427022301144],\n",
       "   'xy': [],\n",
       "   'av': {'1': 'm3'}},\n",
       "  '1_To7Ul4Ne': {'vid': '1',\n",
       "   'flg': 0,\n",
       "   'z': [1315.4395276915307, 1316.4398954971302],\n",
       "   'xy': [],\n",
       "   'av': {'1': 'm3'}},\n",
       "  '1_FIAYCrwR': {'vid': '1',\n",
       "   'flg': 0,\n",
       "   'z': [1353.4535043043156, 1359.4557111379133],\n",
       "   'xy': [],\n",
       "   'av': {'1': 'm3'}},\n",
       "  '1_I9mwAvVZ': {'vid': '1',\n",
       "   'flg': 0,\n",
       "   'z': [1363.457182360312, 1365.457917971511],\n",
       "   'xy': [],\n",
       "   'av': {'1': 'm3'}},\n",
       "  '1_z2X4Igk6': {'vid': '1',\n",
       "   'flg': 0,\n",
       "   'z': [1370.459756999509, 1371.4601248051085],\n",
       "   'xy': [],\n",
       "   'av': {'1': 'm3'}},\n",
       "  '1_zB54Uboe': {'vid': '1',\n",
       "   'flg': 0,\n",
       "   'z': [1373.460860416308, 1374.4612282219075],\n",
       "   'xy': [],\n",
       "   'av': {'1': 'm3'}},\n",
       "  '1_qvYPy2le': {'vid': '1',\n",
       "   'flg': 0,\n",
       "   'z': [1379.4630672499054, 1380.4634350555052],\n",
       "   'xy': [],\n",
       "   'av': {'1': 'm3'}},\n",
       "  '1_7awnOVYv': {'vid': '1',\n",
       "   'flg': 0,\n",
       "   'z': [1385.4652740835031, 1391.4674809171008],\n",
       "   'xy': [],\n",
       "   'av': {'1': 'm3'}},\n",
       "  '1_EJ0h7Est': {'vid': '1',\n",
       "   'flg': 0,\n",
       "   'z': [1393.4682165283, 1397.4696877506983],\n",
       "   'xy': [],\n",
       "   'av': {'1': 'm3'}},\n",
       "  '1_cyVnp7ez': {'vid': '1',\n",
       "   'flg': 0,\n",
       "   'z': [1398.4700555562981, 1403.471894584296],\n",
       "   'xy': [],\n",
       "   'av': {'1': 'm3'}},\n",
       "  '1_UyitjbOg': {'vid': '1',\n",
       "   'flg': 0,\n",
       "   'z': [1473.4976409762685, 1474.4980087818683],\n",
       "   'xy': [],\n",
       "   'av': {'1': 'm3'}},\n",
       "  '1_JB2sNtjK': {'vid': '1',\n",
       "   'flg': 0,\n",
       "   'z': [1478.4994800042666, 1480.5002156154658],\n",
       "   'xy': [],\n",
       "   'av': {'1': 'm3'}},\n",
       "  '1_FUrE1xRq': {'vid': '1',\n",
       "   'flg': 0,\n",
       "   'z': [1528.517870284247, 1536.5208127290439],\n",
       "   'xy': [],\n",
       "   'av': {'1': 'm3'}},\n",
       "  '1_Pit2KgbV': {'vid': '1',\n",
       "   'flg': 0,\n",
       "   'z': [1537.5211805346435, 1548.525226396239],\n",
       "   'xy': [],\n",
       "   'av': {'1': 'm3'}},\n",
       "  '1_dMEWzIsO': {'vid': '1',\n",
       "   'flg': 0,\n",
       "   'z': [1551.526329813038, 1562.5303756746337],\n",
       "   'xy': [],\n",
       "   'av': {'1': 'm3'}},\n",
       "  '1_wWljxfjW': {'vid': '1',\n",
       "   'flg': 0,\n",
       "   'z': [1568.5325825082314, 1574.5347893418289],\n",
       "   'xy': [],\n",
       "   'av': {'1': 'm3'}},\n",
       "  '1_b6UQQPJz': {'vid': '1',\n",
       "   'flg': 0,\n",
       "   'z': [1589.540306425823, 1602.5450878986178],\n",
       "   'xy': [],\n",
       "   'av': {'1': 'm3'}},\n",
       "  '1_TgWzdJWh': {'vid': '1',\n",
       "   'flg': 0,\n",
       "   'z': [1610.5480303434147, 1613.5491337602136],\n",
       "   'xy': [],\n",
       "   'av': {'1': 'm3'}},\n",
       "  '1_4vegKApl': {'vid': '1',\n",
       "   'flg': 0,\n",
       "   'z': [1615.5498693714128, 1616.5502371770124],\n",
       "   'xy': [],\n",
       "   'av': {'1': 'm3'}},\n",
       "  '1_7VlzE83f': {'vid': '1',\n",
       "   'flg': 0,\n",
       "   'z': [1636.5575932890044, 1637.5579610946043],\n",
       "   'xy': [],\n",
       "   'av': {'1': 'm3'}},\n",
       "  '1_QLIgT1cB': {'vid': '1',\n",
       "   'flg': 0,\n",
       "   'z': [1640.559064511403, 1641.5594323170026],\n",
       "   'xy': [],\n",
       "   'av': {'1': 'm3'}},\n",
       "  '1_6ESYpKO6': {'vid': '1',\n",
       "   'flg': 0,\n",
       "   'z': [1642.5598001226022, 1643.5601679282017],\n",
       "   'xy': [],\n",
       "   'av': {'1': 'm3'}},\n",
       "  '1_0cR8J4R8': {'vid': '1',\n",
       "   'flg': 0,\n",
       "   'z': [1646.5612713450007, 1647.5616391506003],\n",
       "   'xy': [],\n",
       "   'av': {'1': 'm3'}},\n",
       "  '1_jYQC7pXj': {'vid': '1',\n",
       "   'flg': 0,\n",
       "   'z': [1659.5660528177955, 1660.566420623395],\n",
       "   'xy': [],\n",
       "   'av': {'1': 'm3'}},\n",
       "  '1_b8aRR9HZ': {'vid': '1',\n",
       "   'flg': 0,\n",
       "   'z': [1673.57120209619, 1682.5745123465865],\n",
       "   'xy': [],\n",
       "   'av': {'1': 'm3'}},\n",
       "  '1_S7MusVIb': {'vid': '1',\n",
       "   'flg': 0,\n",
       "   'z': [1683.574880152186, 1685.5756157633853],\n",
       "   'xy': [],\n",
       "   'av': {'1': 'm3'}},\n",
       "  '1_A8WMzt8L': {'vid': '1',\n",
       "   'flg': 0,\n",
       "   'z': [1720.5884889593715, 1721.588856764971],\n",
       "   'xy': [],\n",
       "   'av': {'1': 'm3'}},\n",
       "  '1_MuY1ItzZ': {'vid': '1',\n",
       "   'flg': 0,\n",
       "   'z': [1729.591799209768, 1730.5921670153675],\n",
       "   'xy': [],\n",
       "   'av': {'1': 'm3'}},\n",
       "  '1_cX0m2otz': {'vid': '1',\n",
       "   'flg': 0,\n",
       "   'z': [1731.5925348209673, 1732.592902626567],\n",
       "   'xy': [],\n",
       "   'av': {'1': 'm3'}}},\n",
       " 'view': {'1': {'fid_list': ['1']}}}"
      ]
     },
     "execution_count": 236,
     "metadata": {},
     "output_type": "execute_result"
    }
   ],
   "source": [
    "build_json_dict(path, ann_dict, \"/Users/rebeccakrall/Desktop/PRX-03_Run_3_Computer_1_D8_Males_12DEC22.mp4_26.json\")"
   ]
  },
  {
   "cell_type": "code",
   "execution_count": 68,
   "metadata": {},
   "outputs": [],
   "source": [
    "def plot_circles(vid_path, circles, radius = None):\n",
    "\n",
    "    src = cv2.VideoCapture(str(vid_path))\n",
    "    video_length = src.get(cv2.CAP_PROP_FRAME_COUNT) \n",
    "\n",
    "    ret = False\n",
    "    count = 0\n",
    "\n",
    "    while not ret:\n",
    "        ret, frame = src.read() \n",
    "        count = count +1\n",
    "        if count > video_length:\n",
    "            return None\n",
    "          \n",
    "    src.release()\n",
    "\t# convert the (x, y) coordinates and radius of the circles to integers\n",
    "    v = np.round(circles).astype(\"int\")\n",
    "\t# loop over the (x, y) coordinates and radius of the circles\n",
    "    # for v in circles:\n",
    "        # draw the circle in the output image, then draw a rectangle\n",
    "        # corresponding to the center of the circle\n",
    "    if radius is None:\n",
    "        radius = v[2]\n",
    "    v = v.astype(int)\n",
    "    cv2.circle(frame, (v[0], v[1]), radius, (0, 255, 0), 4)\n",
    "    cv2.rectangle(frame, (v[0] - 5, v[1] - 5), (v[0] + 5, v[1] + 5), (0, 128, 255), -1)\n",
    "    # show the output image\n",
    "    cv2.imshow(\"output\", frame)\n",
    "    cv2.waitKey(0)\n",
    "    cv2.destroyAllWindows()\n",
    "    cv2.waitKey(1)"
   ]
  },
  {
   "cell_type": "code",
   "execution_count": 69,
   "metadata": {},
   "outputs": [],
   "source": [
    "plot_circles(path, circles['m5'])"
   ]
  },
  {
   "cell_type": "code",
   "execution_count": 87,
   "metadata": {},
   "outputs": [],
   "source": [
    "scores = pd.read_csv(\"/Users/rebeccakrall/Desktop/scratch_120624_predictions/scored_PRX_03_Validation_Sheet.csv\")"
   ]
  },
  {
   "cell_type": "code",
   "execution_count": 94,
   "metadata": {},
   "outputs": [
    {
     "data": {
      "text/html": [
       "<div>\n",
       "<style scoped>\n",
       "    .dataframe tbody tr th:only-of-type {\n",
       "        vertical-align: middle;\n",
       "    }\n",
       "\n",
       "    .dataframe tbody tr th {\n",
       "        vertical-align: top;\n",
       "    }\n",
       "\n",
       "    .dataframe thead th {\n",
       "        text-align: right;\n",
       "    }\n",
       "</style>\n",
       "<table border=\"1\" class=\"dataframe\">\n",
       "  <thead>\n",
       "    <tr style=\"text-align: right;\">\n",
       "      <th></th>\n",
       "      <th>Folder Path</th>\n",
       "      <th>File Name</th>\n",
       "      <th>Subject #</th>\n",
       "      <th>Arena Location</th>\n",
       "      <th>Scoring Start (min)</th>\n",
       "      <th>Scoring End (min)</th>\n",
       "      <th>mouse id</th>\n",
       "      <th>bin 1</th>\n",
       "      <th>bin 2</th>\n",
       "      <th>bin 3</th>\n",
       "      <th>...</th>\n",
       "      <th>Duration: Bin 3</th>\n",
       "      <th>Bouts: Bin 3</th>\n",
       "      <th>Duration: Bin 4</th>\n",
       "      <th>Bouts: Bin 4</th>\n",
       "      <th>Duration: Bin 5</th>\n",
       "      <th>Bouts: Bin 5</th>\n",
       "      <th>Duration: Bin 6</th>\n",
       "      <th>Bouts: Bin 6</th>\n",
       "      <th>Duration: Total</th>\n",
       "      <th>Bouts: Total</th>\n",
       "    </tr>\n",
       "  </thead>\n",
       "  <tbody>\n",
       "    <tr>\n",
       "      <th>20</th>\n",
       "      <td>/Users/rebeccakrall/Data/Video Processing and ...</td>\n",
       "      <td>PRX_03_Run_3_Computer_1_D12_Males_16DEC22.mp4</td>\n",
       "      <td>30</td>\n",
       "      <td>6</td>\n",
       "      <td>10</td>\n",
       "      <td>40</td>\n",
       "      <td>m4</td>\n",
       "      <td>29.59</td>\n",
       "      <td>54.94</td>\n",
       "      <td>57.19</td>\n",
       "      <td>...</td>\n",
       "      <td>30.011084</td>\n",
       "      <td>6</td>\n",
       "      <td>12.004434</td>\n",
       "      <td>3</td>\n",
       "      <td>0.0</td>\n",
       "      <td>0</td>\n",
       "      <td>0.0</td>\n",
       "      <td>0</td>\n",
       "      <td>153.278212</td>\n",
       "      <td>29</td>\n",
       "    </tr>\n",
       "  </tbody>\n",
       "</table>\n",
       "<p>1 rows × 29 columns</p>\n",
       "</div>"
      ],
      "text/plain": [
       "                                          Folder Path  \\\n",
       "20  /Users/rebeccakrall/Data/Video Processing and ...   \n",
       "\n",
       "                                        File Name  Subject #  Arena Location  \\\n",
       "20  PRX_03_Run_3_Computer_1_D12_Males_16DEC22.mp4         30               6   \n",
       "\n",
       "    Scoring Start (min)  Scoring End (min) mouse id  bin 1  bin 2  bin 3  ...  \\\n",
       "20                   10                 40       m4  29.59  54.94  57.19  ...   \n",
       "\n",
       "    Duration: Bin 3  Bouts: Bin 3  Duration: Bin 4  Bouts: Bin 4  \\\n",
       "20        30.011084             6        12.004434             3   \n",
       "\n",
       "   Duration: Bin 5  Bouts: Bin 5  Duration: Bin 6  Bouts: Bin 6  \\\n",
       "20             0.0             0              0.0             0   \n",
       "\n",
       "    Duration: Total  Bouts: Total  \n",
       "20       153.278212            29  \n",
       "\n",
       "[1 rows x 29 columns]"
      ]
     },
     "execution_count": 94,
     "metadata": {},
     "output_type": "execute_result"
    }
   ],
   "source": [
    "vid = 'PRX_03_Run_3_Computer_1_D12_Males_16DEC22.mp4'\n",
    "scores.loc[(scores['File Name'] == vid) & (scores['Subject #'] == 30),:]"
   ]
  },
  {
   "cell_type": "code",
   "execution_count": 101,
   "metadata": {},
   "outputs": [],
   "source": [
    "pred_path = \"/Users/rebeccakrall/Desktop/scratch_120624_predictions/predictions\"\n",
    "new_dat = []\n",
    "for ind, row in scores.iterrows():\n",
    "    vid = row['File Name']\n",
    "    sub = row['Subject #']\n",
    "    fn = os.path.join(pred_path, vid + '_'+ str(sub) + '.pkl')\n",
    "\n",
    "    with open(fn, 'rb') as file:\n",
    "        prediction = pickle.load(file)\n",
    "    \n",
    "    circles, fraes, fps, _ = get_params_from_vid(os.path.join(row['Folder Path'], row['File Name']))\n",
    "    bool_predict = np.array(prediction < 0).astype(int)\n",
    "    ann = boolean_to_annotations(bool_predict, data_specs['num_frames'], fps)\n",
    "    duration, bouts = bin_annotations(np.array(ann), start = 0, length = 30, bin_size = 5) # since we start the predictions at the scoring start - don't delay.\n",
    "    for ind, (d,b) in enumerate(zip(duration, bouts)):\n",
    "        row['Duration: Bin '+str(ind+1)] = d\n",
    "        row['Bouts: Bin '+str(ind+1)] = b\n",
    "    row['Duration: Total'] = sum(duration)\n",
    "    row['Bouts: Total'] = sum(bouts)\n",
    "\n",
    "    new_dat.append(row)\n",
    "\n",
    "\n"
   ]
  },
  {
   "cell_type": "code",
   "execution_count": 103,
   "metadata": {},
   "outputs": [],
   "source": [
    "new_scores = pd.DataFrame(new_dat)"
   ]
  },
  {
   "cell_type": "code",
   "execution_count": 104,
   "metadata": {},
   "outputs": [],
   "source": [
    "new_scores.to_csv(\"/Users/rebeccakrall/Desktop/scratch_120624_predictions/fixed_scored_PRX_03_Validation_Sheet.csv\")"
   ]
  },
  {
   "cell_type": "code",
   "execution_count": 177,
   "metadata": {},
   "outputs": [],
   "source": [
    "validation_sheet = \"/Users/rebeccakrall/Desktop/PRX_03_Validation_Sheet.csv\"\n",
    "full_video_list = \"/Users/rebeccakrall/Data/MoViNet Models After Jan 2025/Model and Training Set Development/011425 - Training Set Clarifications/Full_Video_List_011425.csv\""
   ]
  },
  {
   "cell_type": "code",
   "execution_count": 178,
   "metadata": {},
   "outputs": [],
   "source": [
    "tbl= pd.read_csv(\"/Users/rebeccakrall/Data/MoViNet Models After Jan 2025/Model and Training Set Development/scratch_120624_predictions/fixed_scored_PRX_03_Validation_Sheet.csv\")\n",
    "vid_list = pd.read_csv(full_video_list)"
   ]
  },
  {
   "cell_type": "code",
   "execution_count": 179,
   "metadata": {},
   "outputs": [],
   "source": [
    "in_train_set = []\n",
    "untrained = []\n",
    "for ind, row in tbl.iterrows():\n",
    "    file = row['File Name'].split('.mp4')[0]\n",
    "    animal = row['Animal ID']\n",
    "    if vid_list.loc[(vid_list['parent file']== file) & (vid_list['animal']== animal), 'Used for training'].item():\n",
    "        in_train_set.append(row)\n",
    "    else:\n",
    "        untrained.append(row)\n",
    "\n",
    "trained = pd.DataFrame(in_train_set)\n",
    "untrained = pd.DataFrame(untrained)"
   ]
  },
  {
   "cell_type": "code",
   "execution_count": 180,
   "metadata": {},
   "outputs": [],
   "source": [
    "trained.to_csv(\"/Users/rebeccakrall/Desktop/PRX_03_Validation_Sheet_in_training_set.csv\")"
   ]
  },
  {
   "cell_type": "code",
   "execution_count": 181,
   "metadata": {},
   "outputs": [],
   "source": [
    "untrained.to_csv(\"/Users/rebeccakrall/Desktop/PRX_03_Validation_Sheet_not_in_training_set.csv\")"
   ]
  },
  {
   "cell_type": "code",
   "execution_count": 163,
   "metadata": {},
   "outputs": [],
   "source": [
    "model_specs, data_specs2 = load_seg_model_data(\"/Users/rebeccakrall/Data/MoViNet Models After Jan 2025/Models/scratch_120624\")"
   ]
  },
  {
   "cell_type": "code",
   "execution_count": 173,
   "metadata": {},
   "outputs": [],
   "source": [
    "model_specs['checkpoint_dir'] = 'Models/scratch_120624'"
   ]
  },
  {
   "cell_type": "code",
   "execution_count": 168,
   "metadata": {},
   "outputs": [
    {
     "data": {
      "text/plain": [
       "{'num_frames': 30, 'frame_step': 1, 'buffer': 300, 'output_size': (172, 172)}"
      ]
     },
     "execution_count": 168,
     "metadata": {},
     "output_type": "execute_result"
    }
   ],
   "source": [
    "data_specs2"
   ]
  },
  {
   "cell_type": "code",
   "execution_count": 174,
   "metadata": {},
   "outputs": [
    {
     "name": "stdout",
     "output_type": "stream",
     "text": [
      "Running on single GPU  /device:GPU:0\n",
      "Number of accelerators:  1\n",
      "WARNING:tensorflow:Detecting that an object or model or tf.train.Checkpoint is being deleted with unrestored values. See the following logs for the specific values in question. To silence these warnings, use `status.expect_partial()`. See https://www.tensorflow.org/api_docs/python/tf/train/Checkpoint#restorefor details about the status object returned by the restore function.\n",
      "WARNING:tensorflow:Value in checkpoint could not be found in the restored object: (root).optimizer.iter\n",
      "WARNING:tensorflow:Value in checkpoint could not be found in the restored object: (root).optimizer.beta_1\n",
      "WARNING:tensorflow:Value in checkpoint could not be found in the restored object: (root).optimizer.beta_2\n",
      "WARNING:tensorflow:Value in checkpoint could not be found in the restored object: (root).optimizer.decay\n",
      "WARNING:tensorflow:Value in checkpoint could not be found in the restored object: (root).optimizer.learning_rate\n",
      "WARNING:tensorflow:Value in checkpoint could not be found in the restored object: (root).optimizer's state 'm' for (root).layer_with_weights-0.layer_with_weights-0._stem._batch_norm.gamma\n",
      "WARNING:tensorflow:Value in checkpoint could not be found in the restored object: (root).optimizer's state 'm' for (root).layer_with_weights-0.layer_with_weights-0._stem._batch_norm.beta\n",
      "WARNING:tensorflow:Value in checkpoint could not be found in the restored object: (root).optimizer's state 'm' for (root).layer_with_weights-0.layer_with_weights-1._expansion._batch_norm.gamma\n",
      "WARNING:tensorflow:Value in checkpoint could not be found in the restored object: (root).optimizer's state 'm' for (root).layer_with_weights-0.layer_with_weights-1._expansion._batch_norm.beta\n",
      "WARNING:tensorflow:Value in checkpoint could not be found in the restored object: (root).optimizer's state 'm' for (root).layer_with_weights-0.layer_with_weights-1._feature._batch_norm.gamma\n",
      "WARNING:tensorflow:Value in checkpoint could not be found in the restored object: (root).optimizer's state 'm' for (root).layer_with_weights-0.layer_with_weights-1._feature._batch_norm.beta\n",
      "WARNING:tensorflow:Value in checkpoint could not be found in the restored object: (root).optimizer's state 'm' for (root).layer_with_weights-0.layer_with_weights-1._projection._batch_norm.gamma\n",
      "WARNING:tensorflow:Value in checkpoint could not be found in the restored object: (root).optimizer's state 'm' for (root).layer_with_weights-0.layer_with_weights-1._projection._batch_norm.beta\n",
      "WARNING:tensorflow:Value in checkpoint could not be found in the restored object: (root).optimizer's state 'm' for (root).layer_with_weights-0.layer_with_weights-1._mobile_bottleneck._rezero.scale\n",
      "WARNING:tensorflow:Value in checkpoint could not be found in the restored object: (root).optimizer's state 'm' for (root).layer_with_weights-0.layer_with_weights-2._expansion._batch_norm.gamma\n",
      "WARNING:tensorflow:Value in checkpoint could not be found in the restored object: (root).optimizer's state 'm' for (root).layer_with_weights-0.layer_with_weights-2._expansion._batch_norm.beta\n",
      "WARNING:tensorflow:Value in checkpoint could not be found in the restored object: (root).optimizer's state 'm' for (root).layer_with_weights-0.layer_with_weights-2._feature._batch_norm.gamma\n",
      "WARNING:tensorflow:Value in checkpoint could not be found in the restored object: (root).optimizer's state 'm' for (root).layer_with_weights-0.layer_with_weights-2._feature._batch_norm.beta\n",
      "WARNING:tensorflow:Value in checkpoint could not be found in the restored object: (root).optimizer's state 'm' for (root).layer_with_weights-0.layer_with_weights-2._feature._batch_norm_temporal.gamma\n",
      "WARNING:tensorflow:Value in checkpoint could not be found in the restored object: (root).optimizer's state 'm' for (root).layer_with_weights-0.layer_with_weights-2._feature._batch_norm_temporal.beta\n",
      "WARNING:tensorflow:Value in checkpoint could not be found in the restored object: (root).optimizer's state 'm' for (root).layer_with_weights-0.layer_with_weights-2._projection._batch_norm.gamma\n",
      "WARNING:tensorflow:Value in checkpoint could not be found in the restored object: (root).optimizer's state 'm' for (root).layer_with_weights-0.layer_with_weights-2._projection._batch_norm.beta\n",
      "WARNING:tensorflow:Value in checkpoint could not be found in the restored object: (root).optimizer's state 'm' for (root).layer_with_weights-0.layer_with_weights-2._mobile_bottleneck._rezero.scale\n",
      "WARNING:tensorflow:Value in checkpoint could not be found in the restored object: (root).optimizer's state 'm' for (root).layer_with_weights-0.layer_with_weights-3._expansion._batch_norm.gamma\n",
      "WARNING:tensorflow:Value in checkpoint could not be found in the restored object: (root).optimizer's state 'm' for (root).layer_with_weights-0.layer_with_weights-3._expansion._batch_norm.beta\n",
      "WARNING:tensorflow:Value in checkpoint could not be found in the restored object: (root).optimizer's state 'm' for (root).layer_with_weights-0.layer_with_weights-3._feature._batch_norm.gamma\n",
      "WARNING:tensorflow:Value in checkpoint could not be found in the restored object: (root).optimizer's state 'm' for (root).layer_with_weights-0.layer_with_weights-3._feature._batch_norm.beta\n",
      "WARNING:tensorflow:Value in checkpoint could not be found in the restored object: (root).optimizer's state 'm' for (root).layer_with_weights-0.layer_with_weights-3._feature._batch_norm_temporal.gamma\n",
      "WARNING:tensorflow:Value in checkpoint could not be found in the restored object: (root).optimizer's state 'm' for (root).layer_with_weights-0.layer_with_weights-3._feature._batch_norm_temporal.beta\n",
      "WARNING:tensorflow:Value in checkpoint could not be found in the restored object: (root).optimizer's state 'm' for (root).layer_with_weights-0.layer_with_weights-3._projection._batch_norm.gamma\n",
      "WARNING:tensorflow:Value in checkpoint could not be found in the restored object: (root).optimizer's state 'm' for (root).layer_with_weights-0.layer_with_weights-3._projection._batch_norm.beta\n",
      "WARNING:tensorflow:Value in checkpoint could not be found in the restored object: (root).optimizer's state 'm' for (root).layer_with_weights-0.layer_with_weights-3._mobile_bottleneck._rezero.scale\n",
      "WARNING:tensorflow:Value in checkpoint could not be found in the restored object: (root).optimizer's state 'm' for (root).layer_with_weights-0.layer_with_weights-4._expansion._batch_norm.gamma\n",
      "WARNING:tensorflow:Value in checkpoint could not be found in the restored object: (root).optimizer's state 'm' for (root).layer_with_weights-0.layer_with_weights-4._expansion._batch_norm.beta\n",
      "WARNING:tensorflow:Value in checkpoint could not be found in the restored object: (root).optimizer's state 'm' for (root).layer_with_weights-0.layer_with_weights-4._feature._batch_norm.gamma\n",
      "WARNING:tensorflow:Value in checkpoint could not be found in the restored object: (root).optimizer's state 'm' for (root).layer_with_weights-0.layer_with_weights-4._feature._batch_norm.beta\n",
      "WARNING:tensorflow:Value in checkpoint could not be found in the restored object: (root).optimizer's state 'm' for (root).layer_with_weights-0.layer_with_weights-4._feature._batch_norm_temporal.gamma\n",
      "WARNING:tensorflow:Value in checkpoint could not be found in the restored object: (root).optimizer's state 'm' for (root).layer_with_weights-0.layer_with_weights-4._feature._batch_norm_temporal.beta\n",
      "WARNING:tensorflow:Value in checkpoint could not be found in the restored object: (root).optimizer's state 'm' for (root).layer_with_weights-0.layer_with_weights-4._projection._batch_norm.gamma\n",
      "WARNING:tensorflow:Value in checkpoint could not be found in the restored object: (root).optimizer's state 'm' for (root).layer_with_weights-0.layer_with_weights-4._projection._batch_norm.beta\n",
      "WARNING:tensorflow:Value in checkpoint could not be found in the restored object: (root).optimizer's state 'm' for (root).layer_with_weights-0.layer_with_weights-4._mobile_bottleneck._rezero.scale\n",
      "WARNING:tensorflow:Value in checkpoint could not be found in the restored object: (root).optimizer's state 'm' for (root).layer_with_weights-0.layer_with_weights-5._expansion._batch_norm.gamma\n",
      "WARNING:tensorflow:Value in checkpoint could not be found in the restored object: (root).optimizer's state 'm' for (root).layer_with_weights-0.layer_with_weights-5._expansion._batch_norm.beta\n",
      "WARNING:tensorflow:Value in checkpoint could not be found in the restored object: (root).optimizer's state 'm' for (root).layer_with_weights-0.layer_with_weights-5._feature._batch_norm.gamma\n",
      "WARNING:tensorflow:Value in checkpoint could not be found in the restored object: (root).optimizer's state 'm' for (root).layer_with_weights-0.layer_with_weights-5._feature._batch_norm.beta\n",
      "WARNING:tensorflow:Value in checkpoint could not be found in the restored object: (root).optimizer's state 'm' for (root).layer_with_weights-0.layer_with_weights-5._feature._batch_norm_temporal.gamma\n",
      "WARNING:tensorflow:Value in checkpoint could not be found in the restored object: (root).optimizer's state 'm' for (root).layer_with_weights-0.layer_with_weights-5._feature._batch_norm_temporal.beta\n",
      "WARNING:tensorflow:Value in checkpoint could not be found in the restored object: (root).optimizer's state 'm' for (root).layer_with_weights-0.layer_with_weights-5._projection._batch_norm.gamma\n",
      "WARNING:tensorflow:Value in checkpoint could not be found in the restored object: (root).optimizer's state 'm' for (root).layer_with_weights-0.layer_with_weights-5._projection._batch_norm.beta\n",
      "WARNING:tensorflow:Value in checkpoint could not be found in the restored object: (root).optimizer's state 'm' for (root).layer_with_weights-0.layer_with_weights-5._mobile_bottleneck._rezero.scale\n",
      "WARNING:tensorflow:Value in checkpoint could not be found in the restored object: (root).optimizer's state 'm' for (root).layer_with_weights-0.layer_with_weights-6._expansion._batch_norm.gamma\n",
      "WARNING:tensorflow:Value in checkpoint could not be found in the restored object: (root).optimizer's state 'm' for (root).layer_with_weights-0.layer_with_weights-6._expansion._batch_norm.beta\n",
      "WARNING:tensorflow:Value in checkpoint could not be found in the restored object: (root).optimizer's state 'm' for (root).layer_with_weights-0.layer_with_weights-6._feature._batch_norm.gamma\n",
      "WARNING:tensorflow:Value in checkpoint could not be found in the restored object: (root).optimizer's state 'm' for (root).layer_with_weights-0.layer_with_weights-6._feature._batch_norm.beta\n",
      "WARNING:tensorflow:Value in checkpoint could not be found in the restored object: (root).optimizer's state 'm' for (root).layer_with_weights-0.layer_with_weights-6._feature._batch_norm_temporal.gamma\n",
      "WARNING:tensorflow:Value in checkpoint could not be found in the restored object: (root).optimizer's state 'm' for (root).layer_with_weights-0.layer_with_weights-6._feature._batch_norm_temporal.beta\n",
      "WARNING:tensorflow:Value in checkpoint could not be found in the restored object: (root).optimizer's state 'm' for (root).layer_with_weights-0.layer_with_weights-6._projection._batch_norm.gamma\n",
      "WARNING:tensorflow:Value in checkpoint could not be found in the restored object: (root).optimizer's state 'm' for (root).layer_with_weights-0.layer_with_weights-6._projection._batch_norm.beta\n",
      "WARNING:tensorflow:Value in checkpoint could not be found in the restored object: (root).optimizer's state 'm' for (root).layer_with_weights-0.layer_with_weights-6._mobile_bottleneck._rezero.scale\n",
      "WARNING:tensorflow:Value in checkpoint could not be found in the restored object: (root).optimizer's state 'm' for (root).layer_with_weights-0.layer_with_weights-7._expansion._batch_norm.gamma\n",
      "WARNING:tensorflow:Value in checkpoint could not be found in the restored object: (root).optimizer's state 'm' for (root).layer_with_weights-0.layer_with_weights-7._expansion._batch_norm.beta\n",
      "WARNING:tensorflow:Value in checkpoint could not be found in the restored object: (root).optimizer's state 'm' for (root).layer_with_weights-0.layer_with_weights-7._feature._batch_norm.gamma\n",
      "WARNING:tensorflow:Value in checkpoint could not be found in the restored object: (root).optimizer's state 'm' for (root).layer_with_weights-0.layer_with_weights-7._feature._batch_norm.beta\n",
      "WARNING:tensorflow:Value in checkpoint could not be found in the restored object: (root).optimizer's state 'm' for (root).layer_with_weights-0.layer_with_weights-7._feature._batch_norm_temporal.gamma\n",
      "WARNING:tensorflow:Value in checkpoint could not be found in the restored object: (root).optimizer's state 'm' for (root).layer_with_weights-0.layer_with_weights-7._feature._batch_norm_temporal.beta\n",
      "WARNING:tensorflow:Value in checkpoint could not be found in the restored object: (root).optimizer's state 'm' for (root).layer_with_weights-0.layer_with_weights-7._projection._batch_norm.gamma\n",
      "WARNING:tensorflow:Value in checkpoint could not be found in the restored object: (root).optimizer's state 'm' for (root).layer_with_weights-0.layer_with_weights-7._projection._batch_norm.beta\n",
      "WARNING:tensorflow:Value in checkpoint could not be found in the restored object: (root).optimizer's state 'm' for (root).layer_with_weights-0.layer_with_weights-7._mobile_bottleneck._rezero.scale\n",
      "WARNING:tensorflow:Value in checkpoint could not be found in the restored object: (root).optimizer's state 'm' for (root).layer_with_weights-0.layer_with_weights-8._expansion._batch_norm.gamma\n",
      "WARNING:tensorflow:Value in checkpoint could not be found in the restored object: (root).optimizer's state 'm' for (root).layer_with_weights-0.layer_with_weights-8._expansion._batch_norm.beta\n",
      "WARNING:tensorflow:Value in checkpoint could not be found in the restored object: (root).optimizer's state 'm' for (root).layer_with_weights-0.layer_with_weights-8._feature._batch_norm.gamma\n",
      "WARNING:tensorflow:Value in checkpoint could not be found in the restored object: (root).optimizer's state 'm' for (root).layer_with_weights-0.layer_with_weights-8._feature._batch_norm.beta\n",
      "WARNING:tensorflow:Value in checkpoint could not be found in the restored object: (root).optimizer's state 'm' for (root).layer_with_weights-0.layer_with_weights-8._feature._batch_norm_temporal.gamma\n",
      "WARNING:tensorflow:Value in checkpoint could not be found in the restored object: (root).optimizer's state 'm' for (root).layer_with_weights-0.layer_with_weights-8._feature._batch_norm_temporal.beta\n",
      "WARNING:tensorflow:Value in checkpoint could not be found in the restored object: (root).optimizer's state 'm' for (root).layer_with_weights-0.layer_with_weights-8._projection._batch_norm.gamma\n",
      "WARNING:tensorflow:Value in checkpoint could not be found in the restored object: (root).optimizer's state 'm' for (root).layer_with_weights-0.layer_with_weights-8._projection._batch_norm.beta\n",
      "WARNING:tensorflow:Value in checkpoint could not be found in the restored object: (root).optimizer's state 'm' for (root).layer_with_weights-0.layer_with_weights-8._mobile_bottleneck._rezero.scale\n",
      "WARNING:tensorflow:Value in checkpoint could not be found in the restored object: (root).optimizer's state 'm' for (root).layer_with_weights-0.layer_with_weights-9._expansion._batch_norm.gamma\n",
      "WARNING:tensorflow:Value in checkpoint could not be found in the restored object: (root).optimizer's state 'm' for (root).layer_with_weights-0.layer_with_weights-9._expansion._batch_norm.beta\n",
      "WARNING:tensorflow:Value in checkpoint could not be found in the restored object: (root).optimizer's state 'm' for (root).layer_with_weights-0.layer_with_weights-9._feature._batch_norm.gamma\n",
      "WARNING:tensorflow:Value in checkpoint could not be found in the restored object: (root).optimizer's state 'm' for (root).layer_with_weights-0.layer_with_weights-9._feature._batch_norm.beta\n",
      "WARNING:tensorflow:Value in checkpoint could not be found in the restored object: (root).optimizer's state 'm' for (root).layer_with_weights-0.layer_with_weights-9._feature._batch_norm_temporal.gamma\n",
      "WARNING:tensorflow:Value in checkpoint could not be found in the restored object: (root).optimizer's state 'm' for (root).layer_with_weights-0.layer_with_weights-9._feature._batch_norm_temporal.beta\n",
      "WARNING:tensorflow:Value in checkpoint could not be found in the restored object: (root).optimizer's state 'm' for (root).layer_with_weights-0.layer_with_weights-9._projection._batch_norm.gamma\n",
      "WARNING:tensorflow:Value in checkpoint could not be found in the restored object: (root).optimizer's state 'm' for (root).layer_with_weights-0.layer_with_weights-9._projection._batch_norm.beta\n",
      "WARNING:tensorflow:Value in checkpoint could not be found in the restored object: (root).optimizer's state 'm' for (root).layer_with_weights-0.layer_with_weights-9._mobile_bottleneck._rezero.scale\n",
      "WARNING:tensorflow:Value in checkpoint could not be found in the restored object: (root).optimizer's state 'm' for (root).layer_with_weights-0.layer_with_weights-10._expansion._batch_norm.gamma\n",
      "WARNING:tensorflow:Value in checkpoint could not be found in the restored object: (root).optimizer's state 'm' for (root).layer_with_weights-0.layer_with_weights-10._expansion._batch_norm.beta\n",
      "WARNING:tensorflow:Value in checkpoint could not be found in the restored object: (root).optimizer's state 'm' for (root).layer_with_weights-0.layer_with_weights-10._feature._batch_norm.gamma\n",
      "WARNING:tensorflow:Value in checkpoint could not be found in the restored object: (root).optimizer's state 'm' for (root).layer_with_weights-0.layer_with_weights-10._feature._batch_norm.beta\n",
      "WARNING:tensorflow:Value in checkpoint could not be found in the restored object: (root).optimizer's state 'm' for (root).layer_with_weights-0.layer_with_weights-10._feature._batch_norm_temporal.gamma\n",
      "WARNING:tensorflow:Value in checkpoint could not be found in the restored object: (root).optimizer's state 'm' for (root).layer_with_weights-0.layer_with_weights-10._feature._batch_norm_temporal.beta\n",
      "WARNING:tensorflow:Value in checkpoint could not be found in the restored object: (root).optimizer's state 'm' for (root).layer_with_weights-0.layer_with_weights-10._projection._batch_norm.gamma\n",
      "WARNING:tensorflow:Value in checkpoint could not be found in the restored object: (root).optimizer's state 'm' for (root).layer_with_weights-0.layer_with_weights-10._projection._batch_norm.beta\n",
      "WARNING:tensorflow:Value in checkpoint could not be found in the restored object: (root).optimizer's state 'm' for (root).layer_with_weights-0.layer_with_weights-10._mobile_bottleneck._rezero.scale\n",
      "WARNING:tensorflow:Value in checkpoint could not be found in the restored object: (root).optimizer's state 'm' for (root).layer_with_weights-0.layer_with_weights-11._expansion._batch_norm.gamma\n",
      "WARNING:tensorflow:Value in checkpoint could not be found in the restored object: (root).optimizer's state 'm' for (root).layer_with_weights-0.layer_with_weights-11._expansion._batch_norm.beta\n",
      "WARNING:tensorflow:Value in checkpoint could not be found in the restored object: (root).optimizer's state 'm' for (root).layer_with_weights-0.layer_with_weights-11._feature._batch_norm.gamma\n",
      "WARNING:tensorflow:Value in checkpoint could not be found in the restored object: (root).optimizer's state 'm' for (root).layer_with_weights-0.layer_with_weights-11._feature._batch_norm.beta\n",
      "WARNING:tensorflow:Value in checkpoint could not be found in the restored object: (root).optimizer's state 'm' for (root).layer_with_weights-0.layer_with_weights-11._feature._batch_norm_temporal.gamma\n",
      "WARNING:tensorflow:Value in checkpoint could not be found in the restored object: (root).optimizer's state 'm' for (root).layer_with_weights-0.layer_with_weights-11._feature._batch_norm_temporal.beta\n",
      "WARNING:tensorflow:Value in checkpoint could not be found in the restored object: (root).optimizer's state 'm' for (root).layer_with_weights-0.layer_with_weights-11._projection._batch_norm.gamma\n",
      "WARNING:tensorflow:Value in checkpoint could not be found in the restored object: (root).optimizer's state 'm' for (root).layer_with_weights-0.layer_with_weights-11._projection._batch_norm.beta\n",
      "WARNING:tensorflow:Value in checkpoint could not be found in the restored object: (root).optimizer's state 'm' for (root).layer_with_weights-0.layer_with_weights-11._mobile_bottleneck._rezero.scale\n",
      "WARNING:tensorflow:Value in checkpoint could not be found in the restored object: (root).optimizer's state 'm' for (root).layer_with_weights-0.layer_with_weights-12._expansion._batch_norm.gamma\n",
      "WARNING:tensorflow:Value in checkpoint could not be found in the restored object: (root).optimizer's state 'm' for (root).layer_with_weights-0.layer_with_weights-12._expansion._batch_norm.beta\n",
      "WARNING:tensorflow:Value in checkpoint could not be found in the restored object: (root).optimizer's state 'm' for (root).layer_with_weights-0.layer_with_weights-12._feature._batch_norm.gamma\n",
      "WARNING:tensorflow:Value in checkpoint could not be found in the restored object: (root).optimizer's state 'm' for (root).layer_with_weights-0.layer_with_weights-12._feature._batch_norm.beta\n",
      "WARNING:tensorflow:Value in checkpoint could not be found in the restored object: (root).optimizer's state 'm' for (root).layer_with_weights-0.layer_with_weights-12._feature._batch_norm_temporal.gamma\n",
      "WARNING:tensorflow:Value in checkpoint could not be found in the restored object: (root).optimizer's state 'm' for (root).layer_with_weights-0.layer_with_weights-12._feature._batch_norm_temporal.beta\n",
      "WARNING:tensorflow:Value in checkpoint could not be found in the restored object: (root).optimizer's state 'm' for (root).layer_with_weights-0.layer_with_weights-12._projection._batch_norm.gamma\n",
      "WARNING:tensorflow:Value in checkpoint could not be found in the restored object: (root).optimizer's state 'm' for (root).layer_with_weights-0.layer_with_weights-12._projection._batch_norm.beta\n",
      "WARNING:tensorflow:Value in checkpoint could not be found in the restored object: (root).optimizer's state 'm' for (root).layer_with_weights-0.layer_with_weights-12._mobile_bottleneck._rezero.scale\n",
      "WARNING:tensorflow:Value in checkpoint could not be found in the restored object: (root).optimizer's state 'm' for (root).layer_with_weights-0.layer_with_weights-13._expansion._batch_norm.gamma\n",
      "WARNING:tensorflow:Value in checkpoint could not be found in the restored object: (root).optimizer's state 'm' for (root).layer_with_weights-0.layer_with_weights-13._expansion._batch_norm.beta\n",
      "WARNING:tensorflow:Value in checkpoint could not be found in the restored object: (root).optimizer's state 'm' for (root).layer_with_weights-0.layer_with_weights-13._feature._batch_norm.gamma\n",
      "WARNING:tensorflow:Value in checkpoint could not be found in the restored object: (root).optimizer's state 'm' for (root).layer_with_weights-0.layer_with_weights-13._feature._batch_norm.beta\n",
      "WARNING:tensorflow:Value in checkpoint could not be found in the restored object: (root).optimizer's state 'm' for (root).layer_with_weights-0.layer_with_weights-13._projection._batch_norm.gamma\n",
      "WARNING:tensorflow:Value in checkpoint could not be found in the restored object: (root).optimizer's state 'm' for (root).layer_with_weights-0.layer_with_weights-13._projection._batch_norm.beta\n",
      "WARNING:tensorflow:Value in checkpoint could not be found in the restored object: (root).optimizer's state 'm' for (root).layer_with_weights-0.layer_with_weights-13._mobile_bottleneck._rezero.scale\n",
      "WARNING:tensorflow:Value in checkpoint could not be found in the restored object: (root).optimizer's state 'm' for (root).layer_with_weights-0.layer_with_weights-14._expansion._batch_norm.gamma\n",
      "WARNING:tensorflow:Value in checkpoint could not be found in the restored object: (root).optimizer's state 'm' for (root).layer_with_weights-0.layer_with_weights-14._expansion._batch_norm.beta\n",
      "WARNING:tensorflow:Value in checkpoint could not be found in the restored object: (root).optimizer's state 'm' for (root).layer_with_weights-0.layer_with_weights-14._feature._batch_norm.gamma\n",
      "WARNING:tensorflow:Value in checkpoint could not be found in the restored object: (root).optimizer's state 'm' for (root).layer_with_weights-0.layer_with_weights-14._feature._batch_norm.beta\n",
      "WARNING:tensorflow:Value in checkpoint could not be found in the restored object: (root).optimizer's state 'm' for (root).layer_with_weights-0.layer_with_weights-14._projection._batch_norm.gamma\n",
      "WARNING:tensorflow:Value in checkpoint could not be found in the restored object: (root).optimizer's state 'm' for (root).layer_with_weights-0.layer_with_weights-14._projection._batch_norm.beta\n",
      "WARNING:tensorflow:Value in checkpoint could not be found in the restored object: (root).optimizer's state 'm' for (root).layer_with_weights-0.layer_with_weights-14._mobile_bottleneck._rezero.scale\n",
      "WARNING:tensorflow:Value in checkpoint could not be found in the restored object: (root).optimizer's state 'm' for (root).layer_with_weights-0.layer_with_weights-15._expansion._batch_norm.gamma\n",
      "WARNING:tensorflow:Value in checkpoint could not be found in the restored object: (root).optimizer's state 'm' for (root).layer_with_weights-0.layer_with_weights-15._expansion._batch_norm.beta\n",
      "WARNING:tensorflow:Value in checkpoint could not be found in the restored object: (root).optimizer's state 'm' for (root).layer_with_weights-0.layer_with_weights-15._feature._batch_norm.gamma\n",
      "WARNING:tensorflow:Value in checkpoint could not be found in the restored object: (root).optimizer's state 'm' for (root).layer_with_weights-0.layer_with_weights-15._feature._batch_norm.beta\n",
      "WARNING:tensorflow:Value in checkpoint could not be found in the restored object: (root).optimizer's state 'm' for (root).layer_with_weights-0.layer_with_weights-15._projection._batch_norm.gamma\n",
      "WARNING:tensorflow:Value in checkpoint could not be found in the restored object: (root).optimizer's state 'm' for (root).layer_with_weights-0.layer_with_weights-15._projection._batch_norm.beta\n",
      "WARNING:tensorflow:Value in checkpoint could not be found in the restored object: (root).optimizer's state 'm' for (root).layer_with_weights-0.layer_with_weights-15._mobile_bottleneck._rezero.scale\n",
      "WARNING:tensorflow:Value in checkpoint could not be found in the restored object: (root).optimizer's state 'm' for (root).layer_with_weights-0.layer_with_weights-16._project._batch_norm.gamma\n",
      "WARNING:tensorflow:Value in checkpoint could not be found in the restored object: (root).optimizer's state 'm' for (root).layer_with_weights-0.layer_with_weights-16._project._batch_norm.beta\n",
      "WARNING:tensorflow:Value in checkpoint could not be found in the restored object: (root).optimizer's state 'm' for (root).layer_with_weights-1._head._conv._conv.kernel\n",
      "WARNING:tensorflow:Value in checkpoint could not be found in the restored object: (root).optimizer's state 'm' for (root).layer_with_weights-1._head._conv._conv.bias\n",
      "WARNING:tensorflow:Value in checkpoint could not be found in the restored object: (root).optimizer's state 'm' for (root).layer_with_weights-1._classifier._conv._conv.kernel\n",
      "WARNING:tensorflow:Value in checkpoint could not be found in the restored object: (root).optimizer's state 'm' for (root).layer_with_weights-1._classifier._conv._conv.bias\n",
      "WARNING:tensorflow:Value in checkpoint could not be found in the restored object: (root).optimizer's state 'm' for (root).layer_with_weights-0.layer_with_weights-0._stem._conv._conv.kernel\n",
      "WARNING:tensorflow:Value in checkpoint could not be found in the restored object: (root).optimizer's state 'm' for (root).layer_with_weights-0.layer_with_weights-1._expansion._conv._conv.kernel\n",
      "WARNING:tensorflow:Value in checkpoint could not be found in the restored object: (root).optimizer's state 'm' for (root).layer_with_weights-0.layer_with_weights-1._feature._conv._conv.depthwise_kernel\n",
      "WARNING:tensorflow:Value in checkpoint could not be found in the restored object: (root).optimizer's state 'm' for (root).layer_with_weights-0.layer_with_weights-1._projection._conv._conv.kernel\n",
      "WARNING:tensorflow:Value in checkpoint could not be found in the restored object: (root).optimizer's state 'm' for (root).layer_with_weights-0.layer_with_weights-1._skip._projection._batch_norm.gamma\n",
      "WARNING:tensorflow:Value in checkpoint could not be found in the restored object: (root).optimizer's state 'm' for (root).layer_with_weights-0.layer_with_weights-1._skip._projection._batch_norm.beta\n",
      "WARNING:tensorflow:Value in checkpoint could not be found in the restored object: (root).optimizer's state 'm' for (root).layer_with_weights-0.layer_with_weights-2._expansion._conv._conv.kernel\n",
      "WARNING:tensorflow:Value in checkpoint could not be found in the restored object: (root).optimizer's state 'm' for (root).layer_with_weights-0.layer_with_weights-2._feature._conv._conv.depthwise_kernel\n",
      "WARNING:tensorflow:Value in checkpoint could not be found in the restored object: (root).optimizer's state 'm' for (root).layer_with_weights-0.layer_with_weights-2._feature._conv_temporal._conv.depthwise_kernel\n",
      "WARNING:tensorflow:Value in checkpoint could not be found in the restored object: (root).optimizer's state 'm' for (root).layer_with_weights-0.layer_with_weights-2._projection._conv._conv.kernel\n",
      "WARNING:tensorflow:Value in checkpoint could not be found in the restored object: (root).optimizer's state 'm' for (root).layer_with_weights-0.layer_with_weights-2._skip._projection._batch_norm.gamma\n",
      "WARNING:tensorflow:Value in checkpoint could not be found in the restored object: (root).optimizer's state 'm' for (root).layer_with_weights-0.layer_with_weights-2._skip._projection._batch_norm.beta\n",
      "WARNING:tensorflow:Value in checkpoint could not be found in the restored object: (root).optimizer's state 'm' for (root).layer_with_weights-0.layer_with_weights-3._expansion._conv._conv.kernel\n",
      "WARNING:tensorflow:Value in checkpoint could not be found in the restored object: (root).optimizer's state 'm' for (root).layer_with_weights-0.layer_with_weights-3._feature._conv._conv.depthwise_kernel\n",
      "WARNING:tensorflow:Value in checkpoint could not be found in the restored object: (root).optimizer's state 'm' for (root).layer_with_weights-0.layer_with_weights-3._feature._conv_temporal._conv.depthwise_kernel\n",
      "WARNING:tensorflow:Value in checkpoint could not be found in the restored object: (root).optimizer's state 'm' for (root).layer_with_weights-0.layer_with_weights-3._projection._conv._conv.kernel\n",
      "WARNING:tensorflow:Value in checkpoint could not be found in the restored object: (root).optimizer's state 'm' for (root).layer_with_weights-0.layer_with_weights-4._expansion._conv._conv.kernel\n",
      "WARNING:tensorflow:Value in checkpoint could not be found in the restored object: (root).optimizer's state 'm' for (root).layer_with_weights-0.layer_with_weights-4._feature._conv._conv.depthwise_kernel\n",
      "WARNING:tensorflow:Value in checkpoint could not be found in the restored object: (root).optimizer's state 'm' for (root).layer_with_weights-0.layer_with_weights-4._feature._conv_temporal._conv.depthwise_kernel\n",
      "WARNING:tensorflow:Value in checkpoint could not be found in the restored object: (root).optimizer's state 'm' for (root).layer_with_weights-0.layer_with_weights-4._projection._conv._conv.kernel\n",
      "WARNING:tensorflow:Value in checkpoint could not be found in the restored object: (root).optimizer's state 'm' for (root).layer_with_weights-0.layer_with_weights-5._expansion._conv._conv.kernel\n",
      "WARNING:tensorflow:Value in checkpoint could not be found in the restored object: (root).optimizer's state 'm' for (root).layer_with_weights-0.layer_with_weights-5._feature._conv._conv.depthwise_kernel\n",
      "WARNING:tensorflow:Value in checkpoint could not be found in the restored object: (root).optimizer's state 'm' for (root).layer_with_weights-0.layer_with_weights-5._feature._conv_temporal._conv.depthwise_kernel\n",
      "WARNING:tensorflow:Value in checkpoint could not be found in the restored object: (root).optimizer's state 'm' for (root).layer_with_weights-0.layer_with_weights-5._projection._conv._conv.kernel\n",
      "WARNING:tensorflow:Value in checkpoint could not be found in the restored object: (root).optimizer's state 'm' for (root).layer_with_weights-0.layer_with_weights-5._skip._projection._batch_norm.gamma\n",
      "WARNING:tensorflow:Value in checkpoint could not be found in the restored object: (root).optimizer's state 'm' for (root).layer_with_weights-0.layer_with_weights-5._skip._projection._batch_norm.beta\n",
      "WARNING:tensorflow:Value in checkpoint could not be found in the restored object: (root).optimizer's state 'm' for (root).layer_with_weights-0.layer_with_weights-6._expansion._conv._conv.kernel\n",
      "WARNING:tensorflow:Value in checkpoint could not be found in the restored object: (root).optimizer's state 'm' for (root).layer_with_weights-0.layer_with_weights-6._feature._conv._conv.depthwise_kernel\n",
      "WARNING:tensorflow:Value in checkpoint could not be found in the restored object: (root).optimizer's state 'm' for (root).layer_with_weights-0.layer_with_weights-6._feature._conv_temporal._conv.depthwise_kernel\n",
      "WARNING:tensorflow:Value in checkpoint could not be found in the restored object: (root).optimizer's state 'm' for (root).layer_with_weights-0.layer_with_weights-6._projection._conv._conv.kernel\n",
      "WARNING:tensorflow:Value in checkpoint could not be found in the restored object: (root).optimizer's state 'm' for (root).layer_with_weights-0.layer_with_weights-7._expansion._conv._conv.kernel\n",
      "WARNING:tensorflow:Value in checkpoint could not be found in the restored object: (root).optimizer's state 'm' for (root).layer_with_weights-0.layer_with_weights-7._feature._conv._conv.depthwise_kernel\n",
      "WARNING:tensorflow:Value in checkpoint could not be found in the restored object: (root).optimizer's state 'm' for (root).layer_with_weights-0.layer_with_weights-7._feature._conv_temporal._conv.depthwise_kernel\n",
      "WARNING:tensorflow:Value in checkpoint could not be found in the restored object: (root).optimizer's state 'm' for (root).layer_with_weights-0.layer_with_weights-7._projection._conv._conv.kernel\n",
      "WARNING:tensorflow:Value in checkpoint could not be found in the restored object: (root).optimizer's state 'm' for (root).layer_with_weights-0.layer_with_weights-8._expansion._conv._conv.kernel\n",
      "WARNING:tensorflow:Value in checkpoint could not be found in the restored object: (root).optimizer's state 'm' for (root).layer_with_weights-0.layer_with_weights-8._feature._conv._conv.depthwise_kernel\n",
      "WARNING:tensorflow:Value in checkpoint could not be found in the restored object: (root).optimizer's state 'm' for (root).layer_with_weights-0.layer_with_weights-8._feature._conv_temporal._conv.depthwise_kernel\n",
      "WARNING:tensorflow:Value in checkpoint could not be found in the restored object: (root).optimizer's state 'm' for (root).layer_with_weights-0.layer_with_weights-8._projection._conv._conv.kernel\n",
      "WARNING:tensorflow:Value in checkpoint could not be found in the restored object: (root).optimizer's state 'm' for (root).layer_with_weights-0.layer_with_weights-9._expansion._conv._conv.kernel\n",
      "WARNING:tensorflow:Value in checkpoint could not be found in the restored object: (root).optimizer's state 'm' for (root).layer_with_weights-0.layer_with_weights-9._feature._conv._conv.depthwise_kernel\n",
      "WARNING:tensorflow:Value in checkpoint could not be found in the restored object: (root).optimizer's state 'm' for (root).layer_with_weights-0.layer_with_weights-9._feature._conv_temporal._conv.depthwise_kernel\n",
      "WARNING:tensorflow:Value in checkpoint could not be found in the restored object: (root).optimizer's state 'm' for (root).layer_with_weights-0.layer_with_weights-9._projection._conv._conv.kernel\n",
      "WARNING:tensorflow:Value in checkpoint could not be found in the restored object: (root).optimizer's state 'm' for (root).layer_with_weights-0.layer_with_weights-10._expansion._conv._conv.kernel\n",
      "WARNING:tensorflow:Value in checkpoint could not be found in the restored object: (root).optimizer's state 'm' for (root).layer_with_weights-0.layer_with_weights-10._feature._conv._conv.depthwise_kernel\n",
      "WARNING:tensorflow:Value in checkpoint could not be found in the restored object: (root).optimizer's state 'm' for (root).layer_with_weights-0.layer_with_weights-10._feature._conv_temporal._conv.depthwise_kernel\n",
      "WARNING:tensorflow:Value in checkpoint could not be found in the restored object: (root).optimizer's state 'm' for (root).layer_with_weights-0.layer_with_weights-10._projection._conv._conv.kernel\n",
      "WARNING:tensorflow:Value in checkpoint could not be found in the restored object: (root).optimizer's state 'm' for (root).layer_with_weights-0.layer_with_weights-11._expansion._conv._conv.kernel\n",
      "WARNING:tensorflow:Value in checkpoint could not be found in the restored object: (root).optimizer's state 'm' for (root).layer_with_weights-0.layer_with_weights-11._feature._conv._conv.depthwise_kernel\n",
      "WARNING:tensorflow:Value in checkpoint could not be found in the restored object: (root).optimizer's state 'm' for (root).layer_with_weights-0.layer_with_weights-11._feature._conv_temporal._conv.depthwise_kernel\n",
      "WARNING:tensorflow:Value in checkpoint could not be found in the restored object: (root).optimizer's state 'm' for (root).layer_with_weights-0.layer_with_weights-11._projection._conv._conv.kernel\n",
      "WARNING:tensorflow:Value in checkpoint could not be found in the restored object: (root).optimizer's state 'm' for (root).layer_with_weights-0.layer_with_weights-12._expansion._conv._conv.kernel\n",
      "WARNING:tensorflow:Value in checkpoint could not be found in the restored object: (root).optimizer's state 'm' for (root).layer_with_weights-0.layer_with_weights-12._feature._conv._conv.depthwise_kernel\n",
      "WARNING:tensorflow:Value in checkpoint could not be found in the restored object: (root).optimizer's state 'm' for (root).layer_with_weights-0.layer_with_weights-12._feature._conv_temporal._conv.depthwise_kernel\n",
      "WARNING:tensorflow:Value in checkpoint could not be found in the restored object: (root).optimizer's state 'm' for (root).layer_with_weights-0.layer_with_weights-12._projection._conv._conv.kernel\n",
      "WARNING:tensorflow:Value in checkpoint could not be found in the restored object: (root).optimizer's state 'm' for (root).layer_with_weights-0.layer_with_weights-12._skip._projection._batch_norm.gamma\n",
      "WARNING:tensorflow:Value in checkpoint could not be found in the restored object: (root).optimizer's state 'm' for (root).layer_with_weights-0.layer_with_weights-12._skip._projection._batch_norm.beta\n",
      "WARNING:tensorflow:Value in checkpoint could not be found in the restored object: (root).optimizer's state 'm' for (root).layer_with_weights-0.layer_with_weights-13._expansion._conv._conv.kernel\n",
      "WARNING:tensorflow:Value in checkpoint could not be found in the restored object: (root).optimizer's state 'm' for (root).layer_with_weights-0.layer_with_weights-13._feature._conv._conv.depthwise_kernel\n",
      "WARNING:tensorflow:Value in checkpoint could not be found in the restored object: (root).optimizer's state 'm' for (root).layer_with_weights-0.layer_with_weights-13._projection._conv._conv.kernel\n",
      "WARNING:tensorflow:Value in checkpoint could not be found in the restored object: (root).optimizer's state 'm' for (root).layer_with_weights-0.layer_with_weights-14._expansion._conv._conv.kernel\n",
      "WARNING:tensorflow:Value in checkpoint could not be found in the restored object: (root).optimizer's state 'm' for (root).layer_with_weights-0.layer_with_weights-14._feature._conv._conv.depthwise_kernel\n",
      "WARNING:tensorflow:Value in checkpoint could not be found in the restored object: (root).optimizer's state 'm' for (root).layer_with_weights-0.layer_with_weights-14._projection._conv._conv.kernel\n",
      "WARNING:tensorflow:Value in checkpoint could not be found in the restored object: (root).optimizer's state 'm' for (root).layer_with_weights-0.layer_with_weights-15._expansion._conv._conv.kernel\n",
      "WARNING:tensorflow:Value in checkpoint could not be found in the restored object: (root).optimizer's state 'm' for (root).layer_with_weights-0.layer_with_weights-15._feature._conv._conv.depthwise_kernel\n",
      "WARNING:tensorflow:Value in checkpoint could not be found in the restored object: (root).optimizer's state 'm' for (root).layer_with_weights-0.layer_with_weights-15._projection._conv._conv.kernel\n",
      "WARNING:tensorflow:Value in checkpoint could not be found in the restored object: (root).optimizer's state 'm' for (root).layer_with_weights-0.layer_with_weights-16._project._conv._conv.kernel\n",
      "WARNING:tensorflow:Value in checkpoint could not be found in the restored object: (root).optimizer's state 'm' for (root).layer_with_weights-0.layer_with_weights-1._attention._se_reduce._conv._conv.kernel\n",
      "WARNING:tensorflow:Value in checkpoint could not be found in the restored object: (root).optimizer's state 'm' for (root).layer_with_weights-0.layer_with_weights-1._attention._se_reduce._conv._conv.bias\n",
      "WARNING:tensorflow:Value in checkpoint could not be found in the restored object: (root).optimizer's state 'm' for (root).layer_with_weights-0.layer_with_weights-1._attention._se_expand._conv._conv.kernel\n",
      "WARNING:tensorflow:Value in checkpoint could not be found in the restored object: (root).optimizer's state 'm' for (root).layer_with_weights-0.layer_with_weights-1._attention._se_expand._conv._conv.bias\n",
      "WARNING:tensorflow:Value in checkpoint could not be found in the restored object: (root).optimizer's state 'm' for (root).layer_with_weights-0.layer_with_weights-1._skip._projection._conv._conv.kernel\n",
      "WARNING:tensorflow:Value in checkpoint could not be found in the restored object: (root).optimizer's state 'm' for (root).layer_with_weights-0.layer_with_weights-2._attention._se_reduce._conv._conv.kernel\n",
      "WARNING:tensorflow:Value in checkpoint could not be found in the restored object: (root).optimizer's state 'm' for (root).layer_with_weights-0.layer_with_weights-2._attention._se_reduce._conv._conv.bias\n",
      "WARNING:tensorflow:Value in checkpoint could not be found in the restored object: (root).optimizer's state 'm' for (root).layer_with_weights-0.layer_with_weights-2._attention._se_expand._conv._conv.kernel\n",
      "WARNING:tensorflow:Value in checkpoint could not be found in the restored object: (root).optimizer's state 'm' for (root).layer_with_weights-0.layer_with_weights-2._attention._se_expand._conv._conv.bias\n",
      "WARNING:tensorflow:Value in checkpoint could not be found in the restored object: (root).optimizer's state 'm' for (root).layer_with_weights-0.layer_with_weights-2._skip._projection._conv._conv.kernel\n",
      "WARNING:tensorflow:Value in checkpoint could not be found in the restored object: (root).optimizer's state 'm' for (root).layer_with_weights-0.layer_with_weights-3._attention._se_reduce._conv._conv.kernel\n",
      "WARNING:tensorflow:Value in checkpoint could not be found in the restored object: (root).optimizer's state 'm' for (root).layer_with_weights-0.layer_with_weights-3._attention._se_reduce._conv._conv.bias\n",
      "WARNING:tensorflow:Value in checkpoint could not be found in the restored object: (root).optimizer's state 'm' for (root).layer_with_weights-0.layer_with_weights-3._attention._se_expand._conv._conv.kernel\n",
      "WARNING:tensorflow:Value in checkpoint could not be found in the restored object: (root).optimizer's state 'm' for (root).layer_with_weights-0.layer_with_weights-3._attention._se_expand._conv._conv.bias\n",
      "WARNING:tensorflow:Value in checkpoint could not be found in the restored object: (root).optimizer's state 'm' for (root).layer_with_weights-0.layer_with_weights-4._attention._se_reduce._conv._conv.kernel\n",
      "WARNING:tensorflow:Value in checkpoint could not be found in the restored object: (root).optimizer's state 'm' for (root).layer_with_weights-0.layer_with_weights-4._attention._se_reduce._conv._conv.bias\n",
      "WARNING:tensorflow:Value in checkpoint could not be found in the restored object: (root).optimizer's state 'm' for (root).layer_with_weights-0.layer_with_weights-4._attention._se_expand._conv._conv.kernel\n",
      "WARNING:tensorflow:Value in checkpoint could not be found in the restored object: (root).optimizer's state 'm' for (root).layer_with_weights-0.layer_with_weights-4._attention._se_expand._conv._conv.bias\n",
      "WARNING:tensorflow:Value in checkpoint could not be found in the restored object: (root).optimizer's state 'm' for (root).layer_with_weights-0.layer_with_weights-5._attention._se_reduce._conv._conv.kernel\n",
      "WARNING:tensorflow:Value in checkpoint could not be found in the restored object: (root).optimizer's state 'm' for (root).layer_with_weights-0.layer_with_weights-5._attention._se_reduce._conv._conv.bias\n",
      "WARNING:tensorflow:Value in checkpoint could not be found in the restored object: (root).optimizer's state 'm' for (root).layer_with_weights-0.layer_with_weights-5._attention._se_expand._conv._conv.kernel\n",
      "WARNING:tensorflow:Value in checkpoint could not be found in the restored object: (root).optimizer's state 'm' for (root).layer_with_weights-0.layer_with_weights-5._attention._se_expand._conv._conv.bias\n",
      "WARNING:tensorflow:Value in checkpoint could not be found in the restored object: (root).optimizer's state 'm' for (root).layer_with_weights-0.layer_with_weights-5._skip._projection._conv._conv.kernel\n",
      "WARNING:tensorflow:Value in checkpoint could not be found in the restored object: (root).optimizer's state 'm' for (root).layer_with_weights-0.layer_with_weights-6._attention._se_reduce._conv._conv.kernel\n",
      "WARNING:tensorflow:Value in checkpoint could not be found in the restored object: (root).optimizer's state 'm' for (root).layer_with_weights-0.layer_with_weights-6._attention._se_reduce._conv._conv.bias\n",
      "WARNING:tensorflow:Value in checkpoint could not be found in the restored object: (root).optimizer's state 'm' for (root).layer_with_weights-0.layer_with_weights-6._attention._se_expand._conv._conv.kernel\n",
      "WARNING:tensorflow:Value in checkpoint could not be found in the restored object: (root).optimizer's state 'm' for (root).layer_with_weights-0.layer_with_weights-6._attention._se_expand._conv._conv.bias\n",
      "WARNING:tensorflow:Value in checkpoint could not be found in the restored object: (root).optimizer's state 'm' for (root).layer_with_weights-0.layer_with_weights-7._attention._se_reduce._conv._conv.kernel\n",
      "WARNING:tensorflow:Value in checkpoint could not be found in the restored object: (root).optimizer's state 'm' for (root).layer_with_weights-0.layer_with_weights-7._attention._se_reduce._conv._conv.bias\n",
      "WARNING:tensorflow:Value in checkpoint could not be found in the restored object: (root).optimizer's state 'm' for (root).layer_with_weights-0.layer_with_weights-7._attention._se_expand._conv._conv.kernel\n",
      "WARNING:tensorflow:Value in checkpoint could not be found in the restored object: (root).optimizer's state 'm' for (root).layer_with_weights-0.layer_with_weights-7._attention._se_expand._conv._conv.bias\n",
      "WARNING:tensorflow:Value in checkpoint could not be found in the restored object: (root).optimizer's state 'm' for (root).layer_with_weights-0.layer_with_weights-8._attention._se_reduce._conv._conv.kernel\n",
      "WARNING:tensorflow:Value in checkpoint could not be found in the restored object: (root).optimizer's state 'm' for (root).layer_with_weights-0.layer_with_weights-8._attention._se_reduce._conv._conv.bias\n",
      "WARNING:tensorflow:Value in checkpoint could not be found in the restored object: (root).optimizer's state 'm' for (root).layer_with_weights-0.layer_with_weights-8._attention._se_expand._conv._conv.kernel\n",
      "WARNING:tensorflow:Value in checkpoint could not be found in the restored object: (root).optimizer's state 'm' for (root).layer_with_weights-0.layer_with_weights-8._attention._se_expand._conv._conv.bias\n",
      "WARNING:tensorflow:Value in checkpoint could not be found in the restored object: (root).optimizer's state 'm' for (root).layer_with_weights-0.layer_with_weights-9._attention._se_reduce._conv._conv.kernel\n",
      "WARNING:tensorflow:Value in checkpoint could not be found in the restored object: (root).optimizer's state 'm' for (root).layer_with_weights-0.layer_with_weights-9._attention._se_reduce._conv._conv.bias\n",
      "WARNING:tensorflow:Value in checkpoint could not be found in the restored object: (root).optimizer's state 'm' for (root).layer_with_weights-0.layer_with_weights-9._attention._se_expand._conv._conv.kernel\n",
      "WARNING:tensorflow:Value in checkpoint could not be found in the restored object: (root).optimizer's state 'm' for (root).layer_with_weights-0.layer_with_weights-9._attention._se_expand._conv._conv.bias\n",
      "WARNING:tensorflow:Value in checkpoint could not be found in the restored object: (root).optimizer's state 'm' for (root).layer_with_weights-0.layer_with_weights-10._attention._se_reduce._conv._conv.kernel\n",
      "WARNING:tensorflow:Value in checkpoint could not be found in the restored object: (root).optimizer's state 'm' for (root).layer_with_weights-0.layer_with_weights-10._attention._se_reduce._conv._conv.bias\n",
      "WARNING:tensorflow:Value in checkpoint could not be found in the restored object: (root).optimizer's state 'm' for (root).layer_with_weights-0.layer_with_weights-10._attention._se_expand._conv._conv.kernel\n",
      "WARNING:tensorflow:Value in checkpoint could not be found in the restored object: (root).optimizer's state 'm' for (root).layer_with_weights-0.layer_with_weights-10._attention._se_expand._conv._conv.bias\n",
      "WARNING:tensorflow:Value in checkpoint could not be found in the restored object: (root).optimizer's state 'm' for (root).layer_with_weights-0.layer_with_weights-11._attention._se_reduce._conv._conv.kernel\n",
      "WARNING:tensorflow:Value in checkpoint could not be found in the restored object: (root).optimizer's state 'm' for (root).layer_with_weights-0.layer_with_weights-11._attention._se_reduce._conv._conv.bias\n",
      "WARNING:tensorflow:Value in checkpoint could not be found in the restored object: (root).optimizer's state 'm' for (root).layer_with_weights-0.layer_with_weights-11._attention._se_expand._conv._conv.kernel\n",
      "WARNING:tensorflow:Value in checkpoint could not be found in the restored object: (root).optimizer's state 'm' for (root).layer_with_weights-0.layer_with_weights-11._attention._se_expand._conv._conv.bias\n",
      "WARNING:tensorflow:Value in checkpoint could not be found in the restored object: (root).optimizer's state 'm' for (root).layer_with_weights-0.layer_with_weights-12._attention._se_reduce._conv._conv.kernel\n",
      "WARNING:tensorflow:Value in checkpoint could not be found in the restored object: (root).optimizer's state 'm' for (root).layer_with_weights-0.layer_with_weights-12._attention._se_reduce._conv._conv.bias\n",
      "WARNING:tensorflow:Value in checkpoint could not be found in the restored object: (root).optimizer's state 'm' for (root).layer_with_weights-0.layer_with_weights-12._attention._se_expand._conv._conv.kernel\n",
      "WARNING:tensorflow:Value in checkpoint could not be found in the restored object: (root).optimizer's state 'm' for (root).layer_with_weights-0.layer_with_weights-12._attention._se_expand._conv._conv.bias\n",
      "WARNING:tensorflow:Value in checkpoint could not be found in the restored object: (root).optimizer's state 'm' for (root).layer_with_weights-0.layer_with_weights-12._skip._projection._conv._conv.kernel\n",
      "WARNING:tensorflow:Value in checkpoint could not be found in the restored object: (root).optimizer's state 'm' for (root).layer_with_weights-0.layer_with_weights-13._attention._se_reduce._conv._conv.kernel\n",
      "WARNING:tensorflow:Value in checkpoint could not be found in the restored object: (root).optimizer's state 'm' for (root).layer_with_weights-0.layer_with_weights-13._attention._se_reduce._conv._conv.bias\n",
      "WARNING:tensorflow:Value in checkpoint could not be found in the restored object: (root).optimizer's state 'm' for (root).layer_with_weights-0.layer_with_weights-13._attention._se_expand._conv._conv.kernel\n",
      "WARNING:tensorflow:Value in checkpoint could not be found in the restored object: (root).optimizer's state 'm' for (root).layer_with_weights-0.layer_with_weights-13._attention._se_expand._conv._conv.bias\n",
      "WARNING:tensorflow:Value in checkpoint could not be found in the restored object: (root).optimizer's state 'm' for (root).layer_with_weights-0.layer_with_weights-14._attention._se_reduce._conv._conv.kernel\n",
      "WARNING:tensorflow:Value in checkpoint could not be found in the restored object: (root).optimizer's state 'm' for (root).layer_with_weights-0.layer_with_weights-14._attention._se_reduce._conv._conv.bias\n",
      "WARNING:tensorflow:Value in checkpoint could not be found in the restored object: (root).optimizer's state 'm' for (root).layer_with_weights-0.layer_with_weights-14._attention._se_expand._conv._conv.kernel\n",
      "WARNING:tensorflow:Value in checkpoint could not be found in the restored object: (root).optimizer's state 'm' for (root).layer_with_weights-0.layer_with_weights-14._attention._se_expand._conv._conv.bias\n",
      "WARNING:tensorflow:Value in checkpoint could not be found in the restored object: (root).optimizer's state 'm' for (root).layer_with_weights-0.layer_with_weights-15._attention._se_reduce._conv._conv.kernel\n",
      "WARNING:tensorflow:Value in checkpoint could not be found in the restored object: (root).optimizer's state 'm' for (root).layer_with_weights-0.layer_with_weights-15._attention._se_reduce._conv._conv.bias\n",
      "WARNING:tensorflow:Value in checkpoint could not be found in the restored object: (root).optimizer's state 'm' for (root).layer_with_weights-0.layer_with_weights-15._attention._se_expand._conv._conv.kernel\n",
      "WARNING:tensorflow:Value in checkpoint could not be found in the restored object: (root).optimizer's state 'm' for (root).layer_with_weights-0.layer_with_weights-15._attention._se_expand._conv._conv.bias\n",
      "WARNING:tensorflow:Value in checkpoint could not be found in the restored object: (root).optimizer's state 'v' for (root).layer_with_weights-0.layer_with_weights-0._stem._batch_norm.gamma\n",
      "WARNING:tensorflow:Value in checkpoint could not be found in the restored object: (root).optimizer's state 'v' for (root).layer_with_weights-0.layer_with_weights-0._stem._batch_norm.beta\n",
      "WARNING:tensorflow:Value in checkpoint could not be found in the restored object: (root).optimizer's state 'v' for (root).layer_with_weights-0.layer_with_weights-1._expansion._batch_norm.gamma\n",
      "WARNING:tensorflow:Value in checkpoint could not be found in the restored object: (root).optimizer's state 'v' for (root).layer_with_weights-0.layer_with_weights-1._expansion._batch_norm.beta\n",
      "WARNING:tensorflow:Value in checkpoint could not be found in the restored object: (root).optimizer's state 'v' for (root).layer_with_weights-0.layer_with_weights-1._feature._batch_norm.gamma\n",
      "WARNING:tensorflow:Value in checkpoint could not be found in the restored object: (root).optimizer's state 'v' for (root).layer_with_weights-0.layer_with_weights-1._feature._batch_norm.beta\n",
      "WARNING:tensorflow:Value in checkpoint could not be found in the restored object: (root).optimizer's state 'v' for (root).layer_with_weights-0.layer_with_weights-1._projection._batch_norm.gamma\n",
      "WARNING:tensorflow:Value in checkpoint could not be found in the restored object: (root).optimizer's state 'v' for (root).layer_with_weights-0.layer_with_weights-1._projection._batch_norm.beta\n",
      "WARNING:tensorflow:Value in checkpoint could not be found in the restored object: (root).optimizer's state 'v' for (root).layer_with_weights-0.layer_with_weights-1._mobile_bottleneck._rezero.scale\n",
      "WARNING:tensorflow:Value in checkpoint could not be found in the restored object: (root).optimizer's state 'v' for (root).layer_with_weights-0.layer_with_weights-2._expansion._batch_norm.gamma\n",
      "WARNING:tensorflow:Value in checkpoint could not be found in the restored object: (root).optimizer's state 'v' for (root).layer_with_weights-0.layer_with_weights-2._expansion._batch_norm.beta\n",
      "WARNING:tensorflow:Value in checkpoint could not be found in the restored object: (root).optimizer's state 'v' for (root).layer_with_weights-0.layer_with_weights-2._feature._batch_norm.gamma\n",
      "WARNING:tensorflow:Value in checkpoint could not be found in the restored object: (root).optimizer's state 'v' for (root).layer_with_weights-0.layer_with_weights-2._feature._batch_norm.beta\n",
      "WARNING:tensorflow:Value in checkpoint could not be found in the restored object: (root).optimizer's state 'v' for (root).layer_with_weights-0.layer_with_weights-2._feature._batch_norm_temporal.gamma\n",
      "WARNING:tensorflow:Value in checkpoint could not be found in the restored object: (root).optimizer's state 'v' for (root).layer_with_weights-0.layer_with_weights-2._feature._batch_norm_temporal.beta\n",
      "WARNING:tensorflow:Value in checkpoint could not be found in the restored object: (root).optimizer's state 'v' for (root).layer_with_weights-0.layer_with_weights-2._projection._batch_norm.gamma\n",
      "WARNING:tensorflow:Value in checkpoint could not be found in the restored object: (root).optimizer's state 'v' for (root).layer_with_weights-0.layer_with_weights-2._projection._batch_norm.beta\n",
      "WARNING:tensorflow:Value in checkpoint could not be found in the restored object: (root).optimizer's state 'v' for (root).layer_with_weights-0.layer_with_weights-2._mobile_bottleneck._rezero.scale\n",
      "WARNING:tensorflow:Value in checkpoint could not be found in the restored object: (root).optimizer's state 'v' for (root).layer_with_weights-0.layer_with_weights-3._expansion._batch_norm.gamma\n",
      "WARNING:tensorflow:Value in checkpoint could not be found in the restored object: (root).optimizer's state 'v' for (root).layer_with_weights-0.layer_with_weights-3._expansion._batch_norm.beta\n",
      "WARNING:tensorflow:Value in checkpoint could not be found in the restored object: (root).optimizer's state 'v' for (root).layer_with_weights-0.layer_with_weights-3._feature._batch_norm.gamma\n",
      "WARNING:tensorflow:Value in checkpoint could not be found in the restored object: (root).optimizer's state 'v' for (root).layer_with_weights-0.layer_with_weights-3._feature._batch_norm.beta\n",
      "WARNING:tensorflow:Value in checkpoint could not be found in the restored object: (root).optimizer's state 'v' for (root).layer_with_weights-0.layer_with_weights-3._feature._batch_norm_temporal.gamma\n",
      "WARNING:tensorflow:Value in checkpoint could not be found in the restored object: (root).optimizer's state 'v' for (root).layer_with_weights-0.layer_with_weights-3._feature._batch_norm_temporal.beta\n",
      "WARNING:tensorflow:Value in checkpoint could not be found in the restored object: (root).optimizer's state 'v' for (root).layer_with_weights-0.layer_with_weights-3._projection._batch_norm.gamma\n",
      "WARNING:tensorflow:Value in checkpoint could not be found in the restored object: (root).optimizer's state 'v' for (root).layer_with_weights-0.layer_with_weights-3._projection._batch_norm.beta\n",
      "WARNING:tensorflow:Value in checkpoint could not be found in the restored object: (root).optimizer's state 'v' for (root).layer_with_weights-0.layer_with_weights-3._mobile_bottleneck._rezero.scale\n",
      "WARNING:tensorflow:Value in checkpoint could not be found in the restored object: (root).optimizer's state 'v' for (root).layer_with_weights-0.layer_with_weights-4._expansion._batch_norm.gamma\n",
      "WARNING:tensorflow:Value in checkpoint could not be found in the restored object: (root).optimizer's state 'v' for (root).layer_with_weights-0.layer_with_weights-4._expansion._batch_norm.beta\n",
      "WARNING:tensorflow:Value in checkpoint could not be found in the restored object: (root).optimizer's state 'v' for (root).layer_with_weights-0.layer_with_weights-4._feature._batch_norm.gamma\n",
      "WARNING:tensorflow:Value in checkpoint could not be found in the restored object: (root).optimizer's state 'v' for (root).layer_with_weights-0.layer_with_weights-4._feature._batch_norm.beta\n",
      "WARNING:tensorflow:Value in checkpoint could not be found in the restored object: (root).optimizer's state 'v' for (root).layer_with_weights-0.layer_with_weights-4._feature._batch_norm_temporal.gamma\n",
      "WARNING:tensorflow:Value in checkpoint could not be found in the restored object: (root).optimizer's state 'v' for (root).layer_with_weights-0.layer_with_weights-4._feature._batch_norm_temporal.beta\n",
      "WARNING:tensorflow:Value in checkpoint could not be found in the restored object: (root).optimizer's state 'v' for (root).layer_with_weights-0.layer_with_weights-4._projection._batch_norm.gamma\n",
      "WARNING:tensorflow:Value in checkpoint could not be found in the restored object: (root).optimizer's state 'v' for (root).layer_with_weights-0.layer_with_weights-4._projection._batch_norm.beta\n",
      "WARNING:tensorflow:Value in checkpoint could not be found in the restored object: (root).optimizer's state 'v' for (root).layer_with_weights-0.layer_with_weights-4._mobile_bottleneck._rezero.scale\n",
      "WARNING:tensorflow:Value in checkpoint could not be found in the restored object: (root).optimizer's state 'v' for (root).layer_with_weights-0.layer_with_weights-5._expansion._batch_norm.gamma\n",
      "WARNING:tensorflow:Value in checkpoint could not be found in the restored object: (root).optimizer's state 'v' for (root).layer_with_weights-0.layer_with_weights-5._expansion._batch_norm.beta\n",
      "WARNING:tensorflow:Value in checkpoint could not be found in the restored object: (root).optimizer's state 'v' for (root).layer_with_weights-0.layer_with_weights-5._feature._batch_norm.gamma\n",
      "WARNING:tensorflow:Value in checkpoint could not be found in the restored object: (root).optimizer's state 'v' for (root).layer_with_weights-0.layer_with_weights-5._feature._batch_norm.beta\n",
      "WARNING:tensorflow:Value in checkpoint could not be found in the restored object: (root).optimizer's state 'v' for (root).layer_with_weights-0.layer_with_weights-5._feature._batch_norm_temporal.gamma\n",
      "WARNING:tensorflow:Value in checkpoint could not be found in the restored object: (root).optimizer's state 'v' for (root).layer_with_weights-0.layer_with_weights-5._feature._batch_norm_temporal.beta\n",
      "WARNING:tensorflow:Value in checkpoint could not be found in the restored object: (root).optimizer's state 'v' for (root).layer_with_weights-0.layer_with_weights-5._projection._batch_norm.gamma\n",
      "WARNING:tensorflow:Value in checkpoint could not be found in the restored object: (root).optimizer's state 'v' for (root).layer_with_weights-0.layer_with_weights-5._projection._batch_norm.beta\n",
      "WARNING:tensorflow:Value in checkpoint could not be found in the restored object: (root).optimizer's state 'v' for (root).layer_with_weights-0.layer_with_weights-5._mobile_bottleneck._rezero.scale\n",
      "WARNING:tensorflow:Value in checkpoint could not be found in the restored object: (root).optimizer's state 'v' for (root).layer_with_weights-0.layer_with_weights-6._expansion._batch_norm.gamma\n",
      "WARNING:tensorflow:Value in checkpoint could not be found in the restored object: (root).optimizer's state 'v' for (root).layer_with_weights-0.layer_with_weights-6._expansion._batch_norm.beta\n",
      "WARNING:tensorflow:Value in checkpoint could not be found in the restored object: (root).optimizer's state 'v' for (root).layer_with_weights-0.layer_with_weights-6._feature._batch_norm.gamma\n",
      "WARNING:tensorflow:Value in checkpoint could not be found in the restored object: (root).optimizer's state 'v' for (root).layer_with_weights-0.layer_with_weights-6._feature._batch_norm.beta\n",
      "WARNING:tensorflow:Value in checkpoint could not be found in the restored object: (root).optimizer's state 'v' for (root).layer_with_weights-0.layer_with_weights-6._feature._batch_norm_temporal.gamma\n",
      "WARNING:tensorflow:Value in checkpoint could not be found in the restored object: (root).optimizer's state 'v' for (root).layer_with_weights-0.layer_with_weights-6._feature._batch_norm_temporal.beta\n",
      "WARNING:tensorflow:Value in checkpoint could not be found in the restored object: (root).optimizer's state 'v' for (root).layer_with_weights-0.layer_with_weights-6._projection._batch_norm.gamma\n",
      "WARNING:tensorflow:Value in checkpoint could not be found in the restored object: (root).optimizer's state 'v' for (root).layer_with_weights-0.layer_with_weights-6._projection._batch_norm.beta\n",
      "WARNING:tensorflow:Value in checkpoint could not be found in the restored object: (root).optimizer's state 'v' for (root).layer_with_weights-0.layer_with_weights-6._mobile_bottleneck._rezero.scale\n",
      "WARNING:tensorflow:Value in checkpoint could not be found in the restored object: (root).optimizer's state 'v' for (root).layer_with_weights-0.layer_with_weights-7._expansion._batch_norm.gamma\n",
      "WARNING:tensorflow:Value in checkpoint could not be found in the restored object: (root).optimizer's state 'v' for (root).layer_with_weights-0.layer_with_weights-7._expansion._batch_norm.beta\n",
      "WARNING:tensorflow:Value in checkpoint could not be found in the restored object: (root).optimizer's state 'v' for (root).layer_with_weights-0.layer_with_weights-7._feature._batch_norm.gamma\n",
      "WARNING:tensorflow:Value in checkpoint could not be found in the restored object: (root).optimizer's state 'v' for (root).layer_with_weights-0.layer_with_weights-7._feature._batch_norm.beta\n",
      "WARNING:tensorflow:Value in checkpoint could not be found in the restored object: (root).optimizer's state 'v' for (root).layer_with_weights-0.layer_with_weights-7._feature._batch_norm_temporal.gamma\n",
      "WARNING:tensorflow:Value in checkpoint could not be found in the restored object: (root).optimizer's state 'v' for (root).layer_with_weights-0.layer_with_weights-7._feature._batch_norm_temporal.beta\n",
      "WARNING:tensorflow:Value in checkpoint could not be found in the restored object: (root).optimizer's state 'v' for (root).layer_with_weights-0.layer_with_weights-7._projection._batch_norm.gamma\n",
      "WARNING:tensorflow:Value in checkpoint could not be found in the restored object: (root).optimizer's state 'v' for (root).layer_with_weights-0.layer_with_weights-7._projection._batch_norm.beta\n",
      "WARNING:tensorflow:Value in checkpoint could not be found in the restored object: (root).optimizer's state 'v' for (root).layer_with_weights-0.layer_with_weights-7._mobile_bottleneck._rezero.scale\n",
      "WARNING:tensorflow:Value in checkpoint could not be found in the restored object: (root).optimizer's state 'v' for (root).layer_with_weights-0.layer_with_weights-8._expansion._batch_norm.gamma\n",
      "WARNING:tensorflow:Value in checkpoint could not be found in the restored object: (root).optimizer's state 'v' for (root).layer_with_weights-0.layer_with_weights-8._expansion._batch_norm.beta\n",
      "WARNING:tensorflow:Value in checkpoint could not be found in the restored object: (root).optimizer's state 'v' for (root).layer_with_weights-0.layer_with_weights-8._feature._batch_norm.gamma\n",
      "WARNING:tensorflow:Value in checkpoint could not be found in the restored object: (root).optimizer's state 'v' for (root).layer_with_weights-0.layer_with_weights-8._feature._batch_norm.beta\n",
      "WARNING:tensorflow:Value in checkpoint could not be found in the restored object: (root).optimizer's state 'v' for (root).layer_with_weights-0.layer_with_weights-8._feature._batch_norm_temporal.gamma\n",
      "WARNING:tensorflow:Value in checkpoint could not be found in the restored object: (root).optimizer's state 'v' for (root).layer_with_weights-0.layer_with_weights-8._feature._batch_norm_temporal.beta\n",
      "WARNING:tensorflow:Value in checkpoint could not be found in the restored object: (root).optimizer's state 'v' for (root).layer_with_weights-0.layer_with_weights-8._projection._batch_norm.gamma\n",
      "WARNING:tensorflow:Value in checkpoint could not be found in the restored object: (root).optimizer's state 'v' for (root).layer_with_weights-0.layer_with_weights-8._projection._batch_norm.beta\n",
      "WARNING:tensorflow:Value in checkpoint could not be found in the restored object: (root).optimizer's state 'v' for (root).layer_with_weights-0.layer_with_weights-8._mobile_bottleneck._rezero.scale\n",
      "WARNING:tensorflow:Value in checkpoint could not be found in the restored object: (root).optimizer's state 'v' for (root).layer_with_weights-0.layer_with_weights-9._expansion._batch_norm.gamma\n",
      "WARNING:tensorflow:Value in checkpoint could not be found in the restored object: (root).optimizer's state 'v' for (root).layer_with_weights-0.layer_with_weights-9._expansion._batch_norm.beta\n",
      "WARNING:tensorflow:Value in checkpoint could not be found in the restored object: (root).optimizer's state 'v' for (root).layer_with_weights-0.layer_with_weights-9._feature._batch_norm.gamma\n",
      "WARNING:tensorflow:Value in checkpoint could not be found in the restored object: (root).optimizer's state 'v' for (root).layer_with_weights-0.layer_with_weights-9._feature._batch_norm.beta\n",
      "WARNING:tensorflow:Value in checkpoint could not be found in the restored object: (root).optimizer's state 'v' for (root).layer_with_weights-0.layer_with_weights-9._feature._batch_norm_temporal.gamma\n",
      "WARNING:tensorflow:Value in checkpoint could not be found in the restored object: (root).optimizer's state 'v' for (root).layer_with_weights-0.layer_with_weights-9._feature._batch_norm_temporal.beta\n",
      "WARNING:tensorflow:Value in checkpoint could not be found in the restored object: (root).optimizer's state 'v' for (root).layer_with_weights-0.layer_with_weights-9._projection._batch_norm.gamma\n",
      "WARNING:tensorflow:Value in checkpoint could not be found in the restored object: (root).optimizer's state 'v' for (root).layer_with_weights-0.layer_with_weights-9._projection._batch_norm.beta\n",
      "WARNING:tensorflow:Value in checkpoint could not be found in the restored object: (root).optimizer's state 'v' for (root).layer_with_weights-0.layer_with_weights-9._mobile_bottleneck._rezero.scale\n",
      "WARNING:tensorflow:Value in checkpoint could not be found in the restored object: (root).optimizer's state 'v' for (root).layer_with_weights-0.layer_with_weights-10._expansion._batch_norm.gamma\n",
      "WARNING:tensorflow:Value in checkpoint could not be found in the restored object: (root).optimizer's state 'v' for (root).layer_with_weights-0.layer_with_weights-10._expansion._batch_norm.beta\n",
      "WARNING:tensorflow:Value in checkpoint could not be found in the restored object: (root).optimizer's state 'v' for (root).layer_with_weights-0.layer_with_weights-10._feature._batch_norm.gamma\n",
      "WARNING:tensorflow:Value in checkpoint could not be found in the restored object: (root).optimizer's state 'v' for (root).layer_with_weights-0.layer_with_weights-10._feature._batch_norm.beta\n",
      "WARNING:tensorflow:Value in checkpoint could not be found in the restored object: (root).optimizer's state 'v' for (root).layer_with_weights-0.layer_with_weights-10._feature._batch_norm_temporal.gamma\n",
      "WARNING:tensorflow:Value in checkpoint could not be found in the restored object: (root).optimizer's state 'v' for (root).layer_with_weights-0.layer_with_weights-10._feature._batch_norm_temporal.beta\n",
      "WARNING:tensorflow:Value in checkpoint could not be found in the restored object: (root).optimizer's state 'v' for (root).layer_with_weights-0.layer_with_weights-10._projection._batch_norm.gamma\n",
      "WARNING:tensorflow:Value in checkpoint could not be found in the restored object: (root).optimizer's state 'v' for (root).layer_with_weights-0.layer_with_weights-10._projection._batch_norm.beta\n",
      "WARNING:tensorflow:Value in checkpoint could not be found in the restored object: (root).optimizer's state 'v' for (root).layer_with_weights-0.layer_with_weights-10._mobile_bottleneck._rezero.scale\n",
      "WARNING:tensorflow:Value in checkpoint could not be found in the restored object: (root).optimizer's state 'v' for (root).layer_with_weights-0.layer_with_weights-11._expansion._batch_norm.gamma\n",
      "WARNING:tensorflow:Value in checkpoint could not be found in the restored object: (root).optimizer's state 'v' for (root).layer_with_weights-0.layer_with_weights-11._expansion._batch_norm.beta\n",
      "WARNING:tensorflow:Value in checkpoint could not be found in the restored object: (root).optimizer's state 'v' for (root).layer_with_weights-0.layer_with_weights-11._feature._batch_norm.gamma\n",
      "WARNING:tensorflow:Value in checkpoint could not be found in the restored object: (root).optimizer's state 'v' for (root).layer_with_weights-0.layer_with_weights-11._feature._batch_norm.beta\n",
      "WARNING:tensorflow:Value in checkpoint could not be found in the restored object: (root).optimizer's state 'v' for (root).layer_with_weights-0.layer_with_weights-11._feature._batch_norm_temporal.gamma\n",
      "WARNING:tensorflow:Value in checkpoint could not be found in the restored object: (root).optimizer's state 'v' for (root).layer_with_weights-0.layer_with_weights-11._feature._batch_norm_temporal.beta\n",
      "WARNING:tensorflow:Value in checkpoint could not be found in the restored object: (root).optimizer's state 'v' for (root).layer_with_weights-0.layer_with_weights-11._projection._batch_norm.gamma\n",
      "WARNING:tensorflow:Value in checkpoint could not be found in the restored object: (root).optimizer's state 'v' for (root).layer_with_weights-0.layer_with_weights-11._projection._batch_norm.beta\n",
      "WARNING:tensorflow:Value in checkpoint could not be found in the restored object: (root).optimizer's state 'v' for (root).layer_with_weights-0.layer_with_weights-11._mobile_bottleneck._rezero.scale\n",
      "WARNING:tensorflow:Value in checkpoint could not be found in the restored object: (root).optimizer's state 'v' for (root).layer_with_weights-0.layer_with_weights-12._expansion._batch_norm.gamma\n",
      "WARNING:tensorflow:Value in checkpoint could not be found in the restored object: (root).optimizer's state 'v' for (root).layer_with_weights-0.layer_with_weights-12._expansion._batch_norm.beta\n",
      "WARNING:tensorflow:Value in checkpoint could not be found in the restored object: (root).optimizer's state 'v' for (root).layer_with_weights-0.layer_with_weights-12._feature._batch_norm.gamma\n",
      "WARNING:tensorflow:Value in checkpoint could not be found in the restored object: (root).optimizer's state 'v' for (root).layer_with_weights-0.layer_with_weights-12._feature._batch_norm.beta\n",
      "WARNING:tensorflow:Value in checkpoint could not be found in the restored object: (root).optimizer's state 'v' for (root).layer_with_weights-0.layer_with_weights-12._feature._batch_norm_temporal.gamma\n",
      "WARNING:tensorflow:Value in checkpoint could not be found in the restored object: (root).optimizer's state 'v' for (root).layer_with_weights-0.layer_with_weights-12._feature._batch_norm_temporal.beta\n",
      "WARNING:tensorflow:Value in checkpoint could not be found in the restored object: (root).optimizer's state 'v' for (root).layer_with_weights-0.layer_with_weights-12._projection._batch_norm.gamma\n",
      "WARNING:tensorflow:Value in checkpoint could not be found in the restored object: (root).optimizer's state 'v' for (root).layer_with_weights-0.layer_with_weights-12._projection._batch_norm.beta\n",
      "WARNING:tensorflow:Value in checkpoint could not be found in the restored object: (root).optimizer's state 'v' for (root).layer_with_weights-0.layer_with_weights-12._mobile_bottleneck._rezero.scale\n",
      "WARNING:tensorflow:Value in checkpoint could not be found in the restored object: (root).optimizer's state 'v' for (root).layer_with_weights-0.layer_with_weights-13._expansion._batch_norm.gamma\n",
      "WARNING:tensorflow:Value in checkpoint could not be found in the restored object: (root).optimizer's state 'v' for (root).layer_with_weights-0.layer_with_weights-13._expansion._batch_norm.beta\n",
      "WARNING:tensorflow:Value in checkpoint could not be found in the restored object: (root).optimizer's state 'v' for (root).layer_with_weights-0.layer_with_weights-13._feature._batch_norm.gamma\n",
      "WARNING:tensorflow:Value in checkpoint could not be found in the restored object: (root).optimizer's state 'v' for (root).layer_with_weights-0.layer_with_weights-13._feature._batch_norm.beta\n",
      "WARNING:tensorflow:Value in checkpoint could not be found in the restored object: (root).optimizer's state 'v' for (root).layer_with_weights-0.layer_with_weights-13._projection._batch_norm.gamma\n",
      "WARNING:tensorflow:Value in checkpoint could not be found in the restored object: (root).optimizer's state 'v' for (root).layer_with_weights-0.layer_with_weights-13._projection._batch_norm.beta\n",
      "WARNING:tensorflow:Value in checkpoint could not be found in the restored object: (root).optimizer's state 'v' for (root).layer_with_weights-0.layer_with_weights-13._mobile_bottleneck._rezero.scale\n",
      "WARNING:tensorflow:Value in checkpoint could not be found in the restored object: (root).optimizer's state 'v' for (root).layer_with_weights-0.layer_with_weights-14._expansion._batch_norm.gamma\n",
      "WARNING:tensorflow:Value in checkpoint could not be found in the restored object: (root).optimizer's state 'v' for (root).layer_with_weights-0.layer_with_weights-14._expansion._batch_norm.beta\n",
      "WARNING:tensorflow:Value in checkpoint could not be found in the restored object: (root).optimizer's state 'v' for (root).layer_with_weights-0.layer_with_weights-14._feature._batch_norm.gamma\n",
      "WARNING:tensorflow:Value in checkpoint could not be found in the restored object: (root).optimizer's state 'v' for (root).layer_with_weights-0.layer_with_weights-14._feature._batch_norm.beta\n",
      "WARNING:tensorflow:Value in checkpoint could not be found in the restored object: (root).optimizer's state 'v' for (root).layer_with_weights-0.layer_with_weights-14._projection._batch_norm.gamma\n",
      "WARNING:tensorflow:Value in checkpoint could not be found in the restored object: (root).optimizer's state 'v' for (root).layer_with_weights-0.layer_with_weights-14._projection._batch_norm.beta\n",
      "WARNING:tensorflow:Value in checkpoint could not be found in the restored object: (root).optimizer's state 'v' for (root).layer_with_weights-0.layer_with_weights-14._mobile_bottleneck._rezero.scale\n",
      "WARNING:tensorflow:Value in checkpoint could not be found in the restored object: (root).optimizer's state 'v' for (root).layer_with_weights-0.layer_with_weights-15._expansion._batch_norm.gamma\n",
      "WARNING:tensorflow:Value in checkpoint could not be found in the restored object: (root).optimizer's state 'v' for (root).layer_with_weights-0.layer_with_weights-15._expansion._batch_norm.beta\n",
      "WARNING:tensorflow:Value in checkpoint could not be found in the restored object: (root).optimizer's state 'v' for (root).layer_with_weights-0.layer_with_weights-15._feature._batch_norm.gamma\n",
      "WARNING:tensorflow:Value in checkpoint could not be found in the restored object: (root).optimizer's state 'v' for (root).layer_with_weights-0.layer_with_weights-15._feature._batch_norm.beta\n",
      "WARNING:tensorflow:Value in checkpoint could not be found in the restored object: (root).optimizer's state 'v' for (root).layer_with_weights-0.layer_with_weights-15._projection._batch_norm.gamma\n",
      "WARNING:tensorflow:Value in checkpoint could not be found in the restored object: (root).optimizer's state 'v' for (root).layer_with_weights-0.layer_with_weights-15._projection._batch_norm.beta\n",
      "WARNING:tensorflow:Value in checkpoint could not be found in the restored object: (root).optimizer's state 'v' for (root).layer_with_weights-0.layer_with_weights-15._mobile_bottleneck._rezero.scale\n",
      "WARNING:tensorflow:Value in checkpoint could not be found in the restored object: (root).optimizer's state 'v' for (root).layer_with_weights-0.layer_with_weights-16._project._batch_norm.gamma\n",
      "WARNING:tensorflow:Value in checkpoint could not be found in the restored object: (root).optimizer's state 'v' for (root).layer_with_weights-0.layer_with_weights-16._project._batch_norm.beta\n",
      "WARNING:tensorflow:Value in checkpoint could not be found in the restored object: (root).optimizer's state 'v' for (root).layer_with_weights-1._head._conv._conv.kernel\n",
      "WARNING:tensorflow:Value in checkpoint could not be found in the restored object: (root).optimizer's state 'v' for (root).layer_with_weights-1._head._conv._conv.bias\n",
      "WARNING:tensorflow:Value in checkpoint could not be found in the restored object: (root).optimizer's state 'v' for (root).layer_with_weights-1._classifier._conv._conv.kernel\n",
      "WARNING:tensorflow:Value in checkpoint could not be found in the restored object: (root).optimizer's state 'v' for (root).layer_with_weights-1._classifier._conv._conv.bias\n",
      "WARNING:tensorflow:Value in checkpoint could not be found in the restored object: (root).optimizer's state 'v' for (root).layer_with_weights-0.layer_with_weights-0._stem._conv._conv.kernel\n",
      "WARNING:tensorflow:Value in checkpoint could not be found in the restored object: (root).optimizer's state 'v' for (root).layer_with_weights-0.layer_with_weights-1._expansion._conv._conv.kernel\n",
      "WARNING:tensorflow:Value in checkpoint could not be found in the restored object: (root).optimizer's state 'v' for (root).layer_with_weights-0.layer_with_weights-1._feature._conv._conv.depthwise_kernel\n",
      "WARNING:tensorflow:Value in checkpoint could not be found in the restored object: (root).optimizer's state 'v' for (root).layer_with_weights-0.layer_with_weights-1._projection._conv._conv.kernel\n",
      "WARNING:tensorflow:Value in checkpoint could not be found in the restored object: (root).optimizer's state 'v' for (root).layer_with_weights-0.layer_with_weights-1._skip._projection._batch_norm.gamma\n",
      "WARNING:tensorflow:Value in checkpoint could not be found in the restored object: (root).optimizer's state 'v' for (root).layer_with_weights-0.layer_with_weights-1._skip._projection._batch_norm.beta\n",
      "WARNING:tensorflow:Value in checkpoint could not be found in the restored object: (root).optimizer's state 'v' for (root).layer_with_weights-0.layer_with_weights-2._expansion._conv._conv.kernel\n",
      "WARNING:tensorflow:Value in checkpoint could not be found in the restored object: (root).optimizer's state 'v' for (root).layer_with_weights-0.layer_with_weights-2._feature._conv._conv.depthwise_kernel\n",
      "WARNING:tensorflow:Value in checkpoint could not be found in the restored object: (root).optimizer's state 'v' for (root).layer_with_weights-0.layer_with_weights-2._feature._conv_temporal._conv.depthwise_kernel\n",
      "WARNING:tensorflow:Value in checkpoint could not be found in the restored object: (root).optimizer's state 'v' for (root).layer_with_weights-0.layer_with_weights-2._projection._conv._conv.kernel\n",
      "WARNING:tensorflow:Value in checkpoint could not be found in the restored object: (root).optimizer's state 'v' for (root).layer_with_weights-0.layer_with_weights-2._skip._projection._batch_norm.gamma\n",
      "WARNING:tensorflow:Value in checkpoint could not be found in the restored object: (root).optimizer's state 'v' for (root).layer_with_weights-0.layer_with_weights-2._skip._projection._batch_norm.beta\n",
      "WARNING:tensorflow:Value in checkpoint could not be found in the restored object: (root).optimizer's state 'v' for (root).layer_with_weights-0.layer_with_weights-3._expansion._conv._conv.kernel\n",
      "WARNING:tensorflow:Value in checkpoint could not be found in the restored object: (root).optimizer's state 'v' for (root).layer_with_weights-0.layer_with_weights-3._feature._conv._conv.depthwise_kernel\n",
      "WARNING:tensorflow:Value in checkpoint could not be found in the restored object: (root).optimizer's state 'v' for (root).layer_with_weights-0.layer_with_weights-3._feature._conv_temporal._conv.depthwise_kernel\n",
      "WARNING:tensorflow:Value in checkpoint could not be found in the restored object: (root).optimizer's state 'v' for (root).layer_with_weights-0.layer_with_weights-3._projection._conv._conv.kernel\n",
      "WARNING:tensorflow:Value in checkpoint could not be found in the restored object: (root).optimizer's state 'v' for (root).layer_with_weights-0.layer_with_weights-4._expansion._conv._conv.kernel\n",
      "WARNING:tensorflow:Value in checkpoint could not be found in the restored object: (root).optimizer's state 'v' for (root).layer_with_weights-0.layer_with_weights-4._feature._conv._conv.depthwise_kernel\n",
      "WARNING:tensorflow:Value in checkpoint could not be found in the restored object: (root).optimizer's state 'v' for (root).layer_with_weights-0.layer_with_weights-4._feature._conv_temporal._conv.depthwise_kernel\n",
      "WARNING:tensorflow:Value in checkpoint could not be found in the restored object: (root).optimizer's state 'v' for (root).layer_with_weights-0.layer_with_weights-4._projection._conv._conv.kernel\n",
      "WARNING:tensorflow:Value in checkpoint could not be found in the restored object: (root).optimizer's state 'v' for (root).layer_with_weights-0.layer_with_weights-5._expansion._conv._conv.kernel\n",
      "WARNING:tensorflow:Value in checkpoint could not be found in the restored object: (root).optimizer's state 'v' for (root).layer_with_weights-0.layer_with_weights-5._feature._conv._conv.depthwise_kernel\n",
      "WARNING:tensorflow:Value in checkpoint could not be found in the restored object: (root).optimizer's state 'v' for (root).layer_with_weights-0.layer_with_weights-5._feature._conv_temporal._conv.depthwise_kernel\n",
      "WARNING:tensorflow:Value in checkpoint could not be found in the restored object: (root).optimizer's state 'v' for (root).layer_with_weights-0.layer_with_weights-5._projection._conv._conv.kernel\n",
      "WARNING:tensorflow:Value in checkpoint could not be found in the restored object: (root).optimizer's state 'v' for (root).layer_with_weights-0.layer_with_weights-5._skip._projection._batch_norm.gamma\n",
      "WARNING:tensorflow:Value in checkpoint could not be found in the restored object: (root).optimizer's state 'v' for (root).layer_with_weights-0.layer_with_weights-5._skip._projection._batch_norm.beta\n",
      "WARNING:tensorflow:Value in checkpoint could not be found in the restored object: (root).optimizer's state 'v' for (root).layer_with_weights-0.layer_with_weights-6._expansion._conv._conv.kernel\n",
      "WARNING:tensorflow:Value in checkpoint could not be found in the restored object: (root).optimizer's state 'v' for (root).layer_with_weights-0.layer_with_weights-6._feature._conv._conv.depthwise_kernel\n",
      "WARNING:tensorflow:Value in checkpoint could not be found in the restored object: (root).optimizer's state 'v' for (root).layer_with_weights-0.layer_with_weights-6._feature._conv_temporal._conv.depthwise_kernel\n",
      "WARNING:tensorflow:Value in checkpoint could not be found in the restored object: (root).optimizer's state 'v' for (root).layer_with_weights-0.layer_with_weights-6._projection._conv._conv.kernel\n",
      "WARNING:tensorflow:Value in checkpoint could not be found in the restored object: (root).optimizer's state 'v' for (root).layer_with_weights-0.layer_with_weights-7._expansion._conv._conv.kernel\n",
      "WARNING:tensorflow:Value in checkpoint could not be found in the restored object: (root).optimizer's state 'v' for (root).layer_with_weights-0.layer_with_weights-7._feature._conv._conv.depthwise_kernel\n",
      "WARNING:tensorflow:Value in checkpoint could not be found in the restored object: (root).optimizer's state 'v' for (root).layer_with_weights-0.layer_with_weights-7._feature._conv_temporal._conv.depthwise_kernel\n",
      "WARNING:tensorflow:Value in checkpoint could not be found in the restored object: (root).optimizer's state 'v' for (root).layer_with_weights-0.layer_with_weights-7._projection._conv._conv.kernel\n",
      "WARNING:tensorflow:Value in checkpoint could not be found in the restored object: (root).optimizer's state 'v' for (root).layer_with_weights-0.layer_with_weights-8._expansion._conv._conv.kernel\n",
      "WARNING:tensorflow:Value in checkpoint could not be found in the restored object: (root).optimizer's state 'v' for (root).layer_with_weights-0.layer_with_weights-8._feature._conv._conv.depthwise_kernel\n",
      "WARNING:tensorflow:Value in checkpoint could not be found in the restored object: (root).optimizer's state 'v' for (root).layer_with_weights-0.layer_with_weights-8._feature._conv_temporal._conv.depthwise_kernel\n",
      "WARNING:tensorflow:Value in checkpoint could not be found in the restored object: (root).optimizer's state 'v' for (root).layer_with_weights-0.layer_with_weights-8._projection._conv._conv.kernel\n",
      "WARNING:tensorflow:Value in checkpoint could not be found in the restored object: (root).optimizer's state 'v' for (root).layer_with_weights-0.layer_with_weights-9._expansion._conv._conv.kernel\n",
      "WARNING:tensorflow:Value in checkpoint could not be found in the restored object: (root).optimizer's state 'v' for (root).layer_with_weights-0.layer_with_weights-9._feature._conv._conv.depthwise_kernel\n",
      "WARNING:tensorflow:Value in checkpoint could not be found in the restored object: (root).optimizer's state 'v' for (root).layer_with_weights-0.layer_with_weights-9._feature._conv_temporal._conv.depthwise_kernel\n",
      "WARNING:tensorflow:Value in checkpoint could not be found in the restored object: (root).optimizer's state 'v' for (root).layer_with_weights-0.layer_with_weights-9._projection._conv._conv.kernel\n",
      "WARNING:tensorflow:Value in checkpoint could not be found in the restored object: (root).optimizer's state 'v' for (root).layer_with_weights-0.layer_with_weights-10._expansion._conv._conv.kernel\n",
      "WARNING:tensorflow:Value in checkpoint could not be found in the restored object: (root).optimizer's state 'v' for (root).layer_with_weights-0.layer_with_weights-10._feature._conv._conv.depthwise_kernel\n",
      "WARNING:tensorflow:Value in checkpoint could not be found in the restored object: (root).optimizer's state 'v' for (root).layer_with_weights-0.layer_with_weights-10._feature._conv_temporal._conv.depthwise_kernel\n",
      "WARNING:tensorflow:Value in checkpoint could not be found in the restored object: (root).optimizer's state 'v' for (root).layer_with_weights-0.layer_with_weights-10._projection._conv._conv.kernel\n",
      "WARNING:tensorflow:Value in checkpoint could not be found in the restored object: (root).optimizer's state 'v' for (root).layer_with_weights-0.layer_with_weights-11._expansion._conv._conv.kernel\n",
      "WARNING:tensorflow:Value in checkpoint could not be found in the restored object: (root).optimizer's state 'v' for (root).layer_with_weights-0.layer_with_weights-11._feature._conv._conv.depthwise_kernel\n",
      "WARNING:tensorflow:Value in checkpoint could not be found in the restored object: (root).optimizer's state 'v' for (root).layer_with_weights-0.layer_with_weights-11._feature._conv_temporal._conv.depthwise_kernel\n",
      "WARNING:tensorflow:Value in checkpoint could not be found in the restored object: (root).optimizer's state 'v' for (root).layer_with_weights-0.layer_with_weights-11._projection._conv._conv.kernel\n",
      "WARNING:tensorflow:Value in checkpoint could not be found in the restored object: (root).optimizer's state 'v' for (root).layer_with_weights-0.layer_with_weights-12._expansion._conv._conv.kernel\n",
      "WARNING:tensorflow:Value in checkpoint could not be found in the restored object: (root).optimizer's state 'v' for (root).layer_with_weights-0.layer_with_weights-12._feature._conv._conv.depthwise_kernel\n",
      "WARNING:tensorflow:Value in checkpoint could not be found in the restored object: (root).optimizer's state 'v' for (root).layer_with_weights-0.layer_with_weights-12._feature._conv_temporal._conv.depthwise_kernel\n",
      "WARNING:tensorflow:Value in checkpoint could not be found in the restored object: (root).optimizer's state 'v' for (root).layer_with_weights-0.layer_with_weights-12._projection._conv._conv.kernel\n",
      "WARNING:tensorflow:Value in checkpoint could not be found in the restored object: (root).optimizer's state 'v' for (root).layer_with_weights-0.layer_with_weights-12._skip._projection._batch_norm.gamma\n",
      "WARNING:tensorflow:Value in checkpoint could not be found in the restored object: (root).optimizer's state 'v' for (root).layer_with_weights-0.layer_with_weights-12._skip._projection._batch_norm.beta\n",
      "WARNING:tensorflow:Value in checkpoint could not be found in the restored object: (root).optimizer's state 'v' for (root).layer_with_weights-0.layer_with_weights-13._expansion._conv._conv.kernel\n",
      "WARNING:tensorflow:Value in checkpoint could not be found in the restored object: (root).optimizer's state 'v' for (root).layer_with_weights-0.layer_with_weights-13._feature._conv._conv.depthwise_kernel\n",
      "WARNING:tensorflow:Value in checkpoint could not be found in the restored object: (root).optimizer's state 'v' for (root).layer_with_weights-0.layer_with_weights-13._projection._conv._conv.kernel\n",
      "WARNING:tensorflow:Value in checkpoint could not be found in the restored object: (root).optimizer's state 'v' for (root).layer_with_weights-0.layer_with_weights-14._expansion._conv._conv.kernel\n",
      "WARNING:tensorflow:Value in checkpoint could not be found in the restored object: (root).optimizer's state 'v' for (root).layer_with_weights-0.layer_with_weights-14._feature._conv._conv.depthwise_kernel\n",
      "WARNING:tensorflow:Value in checkpoint could not be found in the restored object: (root).optimizer's state 'v' for (root).layer_with_weights-0.layer_with_weights-14._projection._conv._conv.kernel\n",
      "WARNING:tensorflow:Value in checkpoint could not be found in the restored object: (root).optimizer's state 'v' for (root).layer_with_weights-0.layer_with_weights-15._expansion._conv._conv.kernel\n",
      "WARNING:tensorflow:Value in checkpoint could not be found in the restored object: (root).optimizer's state 'v' for (root).layer_with_weights-0.layer_with_weights-15._feature._conv._conv.depthwise_kernel\n",
      "WARNING:tensorflow:Value in checkpoint could not be found in the restored object: (root).optimizer's state 'v' for (root).layer_with_weights-0.layer_with_weights-15._projection._conv._conv.kernel\n",
      "WARNING:tensorflow:Value in checkpoint could not be found in the restored object: (root).optimizer's state 'v' for (root).layer_with_weights-0.layer_with_weights-16._project._conv._conv.kernel\n",
      "WARNING:tensorflow:Value in checkpoint could not be found in the restored object: (root).optimizer's state 'v' for (root).layer_with_weights-0.layer_with_weights-1._attention._se_reduce._conv._conv.kernel\n",
      "WARNING:tensorflow:Value in checkpoint could not be found in the restored object: (root).optimizer's state 'v' for (root).layer_with_weights-0.layer_with_weights-1._attention._se_reduce._conv._conv.bias\n",
      "WARNING:tensorflow:Value in checkpoint could not be found in the restored object: (root).optimizer's state 'v' for (root).layer_with_weights-0.layer_with_weights-1._attention._se_expand._conv._conv.kernel\n",
      "WARNING:tensorflow:Value in checkpoint could not be found in the restored object: (root).optimizer's state 'v' for (root).layer_with_weights-0.layer_with_weights-1._attention._se_expand._conv._conv.bias\n",
      "WARNING:tensorflow:Value in checkpoint could not be found in the restored object: (root).optimizer's state 'v' for (root).layer_with_weights-0.layer_with_weights-1._skip._projection._conv._conv.kernel\n",
      "WARNING:tensorflow:Value in checkpoint could not be found in the restored object: (root).optimizer's state 'v' for (root).layer_with_weights-0.layer_with_weights-2._attention._se_reduce._conv._conv.kernel\n",
      "WARNING:tensorflow:Value in checkpoint could not be found in the restored object: (root).optimizer's state 'v' for (root).layer_with_weights-0.layer_with_weights-2._attention._se_reduce._conv._conv.bias\n",
      "WARNING:tensorflow:Value in checkpoint could not be found in the restored object: (root).optimizer's state 'v' for (root).layer_with_weights-0.layer_with_weights-2._attention._se_expand._conv._conv.kernel\n",
      "WARNING:tensorflow:Value in checkpoint could not be found in the restored object: (root).optimizer's state 'v' for (root).layer_with_weights-0.layer_with_weights-2._attention._se_expand._conv._conv.bias\n",
      "WARNING:tensorflow:Value in checkpoint could not be found in the restored object: (root).optimizer's state 'v' for (root).layer_with_weights-0.layer_with_weights-2._skip._projection._conv._conv.kernel\n",
      "WARNING:tensorflow:Value in checkpoint could not be found in the restored object: (root).optimizer's state 'v' for (root).layer_with_weights-0.layer_with_weights-3._attention._se_reduce._conv._conv.kernel\n",
      "WARNING:tensorflow:Value in checkpoint could not be found in the restored object: (root).optimizer's state 'v' for (root).layer_with_weights-0.layer_with_weights-3._attention._se_reduce._conv._conv.bias\n",
      "WARNING:tensorflow:Value in checkpoint could not be found in the restored object: (root).optimizer's state 'v' for (root).layer_with_weights-0.layer_with_weights-3._attention._se_expand._conv._conv.kernel\n",
      "WARNING:tensorflow:Value in checkpoint could not be found in the restored object: (root).optimizer's state 'v' for (root).layer_with_weights-0.layer_with_weights-3._attention._se_expand._conv._conv.bias\n",
      "WARNING:tensorflow:Value in checkpoint could not be found in the restored object: (root).optimizer's state 'v' for (root).layer_with_weights-0.layer_with_weights-4._attention._se_reduce._conv._conv.kernel\n",
      "WARNING:tensorflow:Value in checkpoint could not be found in the restored object: (root).optimizer's state 'v' for (root).layer_with_weights-0.layer_with_weights-4._attention._se_reduce._conv._conv.bias\n",
      "WARNING:tensorflow:Value in checkpoint could not be found in the restored object: (root).optimizer's state 'v' for (root).layer_with_weights-0.layer_with_weights-4._attention._se_expand._conv._conv.kernel\n",
      "WARNING:tensorflow:Value in checkpoint could not be found in the restored object: (root).optimizer's state 'v' for (root).layer_with_weights-0.layer_with_weights-4._attention._se_expand._conv._conv.bias\n",
      "WARNING:tensorflow:Value in checkpoint could not be found in the restored object: (root).optimizer's state 'v' for (root).layer_with_weights-0.layer_with_weights-5._attention._se_reduce._conv._conv.kernel\n",
      "WARNING:tensorflow:Value in checkpoint could not be found in the restored object: (root).optimizer's state 'v' for (root).layer_with_weights-0.layer_with_weights-5._attention._se_reduce._conv._conv.bias\n",
      "WARNING:tensorflow:Value in checkpoint could not be found in the restored object: (root).optimizer's state 'v' for (root).layer_with_weights-0.layer_with_weights-5._attention._se_expand._conv._conv.kernel\n",
      "WARNING:tensorflow:Value in checkpoint could not be found in the restored object: (root).optimizer's state 'v' for (root).layer_with_weights-0.layer_with_weights-5._attention._se_expand._conv._conv.bias\n",
      "WARNING:tensorflow:Value in checkpoint could not be found in the restored object: (root).optimizer's state 'v' for (root).layer_with_weights-0.layer_with_weights-5._skip._projection._conv._conv.kernel\n",
      "WARNING:tensorflow:Value in checkpoint could not be found in the restored object: (root).optimizer's state 'v' for (root).layer_with_weights-0.layer_with_weights-6._attention._se_reduce._conv._conv.kernel\n",
      "WARNING:tensorflow:Value in checkpoint could not be found in the restored object: (root).optimizer's state 'v' for (root).layer_with_weights-0.layer_with_weights-6._attention._se_reduce._conv._conv.bias\n",
      "WARNING:tensorflow:Value in checkpoint could not be found in the restored object: (root).optimizer's state 'v' for (root).layer_with_weights-0.layer_with_weights-6._attention._se_expand._conv._conv.kernel\n",
      "WARNING:tensorflow:Value in checkpoint could not be found in the restored object: (root).optimizer's state 'v' for (root).layer_with_weights-0.layer_with_weights-6._attention._se_expand._conv._conv.bias\n",
      "WARNING:tensorflow:Value in checkpoint could not be found in the restored object: (root).optimizer's state 'v' for (root).layer_with_weights-0.layer_with_weights-7._attention._se_reduce._conv._conv.kernel\n",
      "WARNING:tensorflow:Value in checkpoint could not be found in the restored object: (root).optimizer's state 'v' for (root).layer_with_weights-0.layer_with_weights-7._attention._se_reduce._conv._conv.bias\n",
      "WARNING:tensorflow:Value in checkpoint could not be found in the restored object: (root).optimizer's state 'v' for (root).layer_with_weights-0.layer_with_weights-7._attention._se_expand._conv._conv.kernel\n",
      "WARNING:tensorflow:Value in checkpoint could not be found in the restored object: (root).optimizer's state 'v' for (root).layer_with_weights-0.layer_with_weights-7._attention._se_expand._conv._conv.bias\n",
      "WARNING:tensorflow:Value in checkpoint could not be found in the restored object: (root).optimizer's state 'v' for (root).layer_with_weights-0.layer_with_weights-8._attention._se_reduce._conv._conv.kernel\n",
      "WARNING:tensorflow:Value in checkpoint could not be found in the restored object: (root).optimizer's state 'v' for (root).layer_with_weights-0.layer_with_weights-8._attention._se_reduce._conv._conv.bias\n",
      "WARNING:tensorflow:Value in checkpoint could not be found in the restored object: (root).optimizer's state 'v' for (root).layer_with_weights-0.layer_with_weights-8._attention._se_expand._conv._conv.kernel\n",
      "WARNING:tensorflow:Value in checkpoint could not be found in the restored object: (root).optimizer's state 'v' for (root).layer_with_weights-0.layer_with_weights-8._attention._se_expand._conv._conv.bias\n",
      "WARNING:tensorflow:Value in checkpoint could not be found in the restored object: (root).optimizer's state 'v' for (root).layer_with_weights-0.layer_with_weights-9._attention._se_reduce._conv._conv.kernel\n",
      "WARNING:tensorflow:Value in checkpoint could not be found in the restored object: (root).optimizer's state 'v' for (root).layer_with_weights-0.layer_with_weights-9._attention._se_reduce._conv._conv.bias\n",
      "WARNING:tensorflow:Value in checkpoint could not be found in the restored object: (root).optimizer's state 'v' for (root).layer_with_weights-0.layer_with_weights-9._attention._se_expand._conv._conv.kernel\n",
      "WARNING:tensorflow:Value in checkpoint could not be found in the restored object: (root).optimizer's state 'v' for (root).layer_with_weights-0.layer_with_weights-9._attention._se_expand._conv._conv.bias\n",
      "WARNING:tensorflow:Value in checkpoint could not be found in the restored object: (root).optimizer's state 'v' for (root).layer_with_weights-0.layer_with_weights-10._attention._se_reduce._conv._conv.kernel\n",
      "WARNING:tensorflow:Value in checkpoint could not be found in the restored object: (root).optimizer's state 'v' for (root).layer_with_weights-0.layer_with_weights-10._attention._se_reduce._conv._conv.bias\n",
      "WARNING:tensorflow:Value in checkpoint could not be found in the restored object: (root).optimizer's state 'v' for (root).layer_with_weights-0.layer_with_weights-10._attention._se_expand._conv._conv.kernel\n",
      "WARNING:tensorflow:Value in checkpoint could not be found in the restored object: (root).optimizer's state 'v' for (root).layer_with_weights-0.layer_with_weights-10._attention._se_expand._conv._conv.bias\n",
      "WARNING:tensorflow:Value in checkpoint could not be found in the restored object: (root).optimizer's state 'v' for (root).layer_with_weights-0.layer_with_weights-11._attention._se_reduce._conv._conv.kernel\n",
      "WARNING:tensorflow:Value in checkpoint could not be found in the restored object: (root).optimizer's state 'v' for (root).layer_with_weights-0.layer_with_weights-11._attention._se_reduce._conv._conv.bias\n",
      "WARNING:tensorflow:Value in checkpoint could not be found in the restored object: (root).optimizer's state 'v' for (root).layer_with_weights-0.layer_with_weights-11._attention._se_expand._conv._conv.kernel\n",
      "WARNING:tensorflow:Value in checkpoint could not be found in the restored object: (root).optimizer's state 'v' for (root).layer_with_weights-0.layer_with_weights-11._attention._se_expand._conv._conv.bias\n",
      "WARNING:tensorflow:Value in checkpoint could not be found in the restored object: (root).optimizer's state 'v' for (root).layer_with_weights-0.layer_with_weights-12._attention._se_reduce._conv._conv.kernel\n",
      "WARNING:tensorflow:Value in checkpoint could not be found in the restored object: (root).optimizer's state 'v' for (root).layer_with_weights-0.layer_with_weights-12._attention._se_reduce._conv._conv.bias\n",
      "WARNING:tensorflow:Value in checkpoint could not be found in the restored object: (root).optimizer's state 'v' for (root).layer_with_weights-0.layer_with_weights-12._attention._se_expand._conv._conv.kernel\n",
      "WARNING:tensorflow:Value in checkpoint could not be found in the restored object: (root).optimizer's state 'v' for (root).layer_with_weights-0.layer_with_weights-12._attention._se_expand._conv._conv.bias\n",
      "WARNING:tensorflow:Value in checkpoint could not be found in the restored object: (root).optimizer's state 'v' for (root).layer_with_weights-0.layer_with_weights-12._skip._projection._conv._conv.kernel\n",
      "WARNING:tensorflow:Value in checkpoint could not be found in the restored object: (root).optimizer's state 'v' for (root).layer_with_weights-0.layer_with_weights-13._attention._se_reduce._conv._conv.kernel\n",
      "WARNING:tensorflow:Value in checkpoint could not be found in the restored object: (root).optimizer's state 'v' for (root).layer_with_weights-0.layer_with_weights-13._attention._se_reduce._conv._conv.bias\n",
      "WARNING:tensorflow:Value in checkpoint could not be found in the restored object: (root).optimizer's state 'v' for (root).layer_with_weights-0.layer_with_weights-13._attention._se_expand._conv._conv.kernel\n",
      "WARNING:tensorflow:Value in checkpoint could not be found in the restored object: (root).optimizer's state 'v' for (root).layer_with_weights-0.layer_with_weights-13._attention._se_expand._conv._conv.bias\n",
      "WARNING:tensorflow:Value in checkpoint could not be found in the restored object: (root).optimizer's state 'v' for (root).layer_with_weights-0.layer_with_weights-14._attention._se_reduce._conv._conv.kernel\n",
      "WARNING:tensorflow:Value in checkpoint could not be found in the restored object: (root).optimizer's state 'v' for (root).layer_with_weights-0.layer_with_weights-14._attention._se_reduce._conv._conv.bias\n",
      "WARNING:tensorflow:Value in checkpoint could not be found in the restored object: (root).optimizer's state 'v' for (root).layer_with_weights-0.layer_with_weights-14._attention._se_expand._conv._conv.kernel\n",
      "WARNING:tensorflow:Value in checkpoint could not be found in the restored object: (root).optimizer's state 'v' for (root).layer_with_weights-0.layer_with_weights-14._attention._se_expand._conv._conv.bias\n",
      "WARNING:tensorflow:Value in checkpoint could not be found in the restored object: (root).optimizer's state 'v' for (root).layer_with_weights-0.layer_with_weights-15._attention._se_reduce._conv._conv.kernel\n",
      "WARNING:tensorflow:Value in checkpoint could not be found in the restored object: (root).optimizer's state 'v' for (root).layer_with_weights-0.layer_with_weights-15._attention._se_reduce._conv._conv.bias\n",
      "WARNING:tensorflow:Value in checkpoint could not be found in the restored object: (root).optimizer's state 'v' for (root).layer_with_weights-0.layer_with_weights-15._attention._se_expand._conv._conv.kernel\n",
      "WARNING:tensorflow:Value in checkpoint could not be found in the restored object: (root).optimizer's state 'v' for (root).layer_with_weights-0.layer_with_weights-15._attention._se_expand._conv._conv.bias\n"
     ]
    }
   ],
   "source": [
    "model2 = load_seg_model_weights(model_specs)"
   ]
  },
  {
   "cell_type": "code",
   "execution_count": 171,
   "metadata": {},
   "outputs": [
    {
     "name": "stdout",
     "output_type": "stream",
     "text": [
      "None\n"
     ]
    }
   ],
   "source": [
    "print(tf.train.latest_checkpoint(model_specs['checkpoint_dir']))"
   ]
  },
  {
   "cell_type": "code",
   "execution_count": 172,
   "metadata": {},
   "outputs": [
    {
     "data": {
      "text/plain": [
       "'Model/scratch_120624'"
      ]
     },
     "execution_count": 172,
     "metadata": {},
     "output_type": "execute_result"
    }
   ],
   "source": [
    "model_specs['checkpoint_dir']"
   ]
  },
  {
   "cell_type": "code",
   "execution_count": 240,
   "metadata": {},
   "outputs": [],
   "source": [
    "first = time.time() "
   ]
  },
  {
   "cell_type": "code",
   "execution_count": 293,
   "metadata": {},
   "outputs": [],
   "source": [
    "del max"
   ]
  },
  {
   "cell_type": "code",
   "execution_count": 316,
   "metadata": {},
   "outputs": [],
   "source": [
    "scored = pd.read_csv(\"/Users/rebeccakrall/Desktop/PRX_03_Validation_Sheet_not_in_training_set.csv\")\n",
    "scored = scored.iloc[:, :31]"
   ]
  },
  {
   "cell_type": "code",
   "execution_count": 330,
   "metadata": {},
   "outputs": [],
   "source": [
    "def calculate_validation_csv_metrics(scored):\n",
    "\n",
    "    scores = {}\n",
    "    num_bins = max([int(x.split('Bin ')[-1]) for x in scored.columns if ': Bin' in x])\n",
    "    for x in range(num_bins):\n",
    "        scored['dif '+str(x+1)] = scored['bin '+str(x+1)] - scored['Duration: Bin '+str(x+1)]\n",
    "\n",
    "    scores['avg'] = scored.filter(like ='dif').mean(axis = None)\n",
    "    scored['abs sum'] = scored.filter(like = 'dif').abs().sum(axis = 1)\n",
    "    scores['abs_sum_mean'] = scored['abs sum'].mean()\n",
    "    scores['top'] = scored.filter(like = 'dif').max(axis = None)\n",
    "    scores['bottom'] = scored.filter(like = 'dif').min(axis = None)\n",
    "    scores['mean'] = scored.filter(like = 'dif').mean(axis = None)\n",
    "    scores['median'] = top = scored.filter(like = 'dif').median(axis = None)\n",
    "    scores['worst_vid'] = scored['File Name'].iloc[scored['abs sum'].argmax()]\n",
    "    scores['FP bin'] = (scored.filter(like = 'dif') < 0).sum().sum() \n",
    "    scores['FN bin'] = (scored.filter(like = 'dif') > 0).sum().sum() \n",
    "\n",
    "    if \"Elapsed Minutes\" in scored.columns:\n",
    "        scores['mean_time'] = scored['Elapsed Minutes'].mean()\n",
    "    else:\n",
    "        scores['mean_time'] = None\n",
    "\n",
    "    return scored, scores"
   ]
  },
  {
   "cell_type": "code",
   "execution_count": 331,
   "metadata": {},
   "outputs": [],
   "source": [
    "scored, scores = calculate_validation_csv_metrics(scored)"
   ]
  },
  {
   "cell_type": "code",
   "execution_count": 332,
   "metadata": {},
   "outputs": [
    {
     "data": {
      "text/plain": [
       "{'avg': -5.395370525267544,\n",
       " 'abs_sum_mean': 46.21784164323684,\n",
       " 'top': 44.70482305,\n",
       " 'bottom': -54.489108890000004,\n",
       " 'mean': -5.395370525267544,\n",
       " 'median': -2.771955975000001,\n",
       " 'worst_vid': 'PRX-03_Run_3_Computer_1_D8_Males_12DEC22.mp4',\n",
       " 'FP bin': 152,\n",
       " 'FN bin': 36,\n",
       " 'mean_time': None}"
      ]
     },
     "execution_count": 332,
     "metadata": {},
     "output_type": "execute_result"
    }
   ],
   "source": [
    "scores"
   ]
  },
  {
   "cell_type": "code",
   "execution_count": 257,
   "metadata": {},
   "outputs": [],
   "source": [
    "num_bins = max([int(x.split('Bin ')[-1]) for x in scored.columns if ': Bin' in x])"
   ]
  },
  {
   "cell_type": "code",
   "execution_count": 258,
   "metadata": {},
   "outputs": [],
   "source": [
    "for x in range(num_bins):\n",
    "    scored['dif '+str(x+1)] = scored['bin '+str(x+1)] - scored['Duration: Bin '+str(x+1)]\n"
   ]
  },
  {
   "cell_type": "code",
   "execution_count": 275,
   "metadata": {},
   "outputs": [],
   "source": [
    "avg = scored.filter(like ='dif').mean(axis = 1)\n",
    "abs_sum = scored.filter(like = 'dif').abs().sum(axis = 1)\n",
    "max = scored.filter(like = 'dif').max(axis = None)\n",
    "min = scored.filter(like = 'dif').min(axis = None)\n",
    "mean = scored.filter(like = 'dif').mean(axis = None)"
   ]
  },
  {
   "cell_type": "code",
   "execution_count": 321,
   "metadata": {},
   "outputs": [
    {
     "data": {
      "text/plain": [
       "152"
      ]
     },
     "execution_count": 321,
     "metadata": {},
     "output_type": "execute_result"
    }
   ],
   "source": [
    "(scored.filter(like = 'dif') < 0).sum().sum()"
   ]
  },
  {
   "cell_type": "code",
   "execution_count": 278,
   "metadata": {},
   "outputs": [
    {
     "data": {
      "text/plain": [
       "-5.395370525267544"
      ]
     },
     "execution_count": 278,
     "metadata": {},
     "output_type": "execute_result"
    }
   ],
   "source": [
    "scored.filter(like ='dif').mean(axis = None)"
   ]
  },
  {
   "cell_type": "code",
   "execution_count": 280,
   "metadata": {},
   "outputs": [
    {
     "data": {
      "text/plain": [
       "20.775000000000002"
      ]
     },
     "execution_count": 280,
     "metadata": {},
     "output_type": "execute_result"
    }
   ],
   "source": [
    "scored['bin 1'].mean()"
   ]
  },
  {
   "cell_type": "code",
   "execution_count": 308,
   "metadata": {},
   "outputs": [
    {
     "data": {
      "text/plain": [
       "152"
      ]
     },
     "execution_count": 308,
     "metadata": {},
     "output_type": "execute_result"
    }
   ],
   "source": []
  },
  {
   "cell_type": "code",
   "execution_count": 284,
   "metadata": {},
   "outputs": [
    {
     "data": {
      "text/plain": [
       "0"
      ]
     },
     "execution_count": 284,
     "metadata": {},
     "output_type": "execute_result"
    }
   ],
   "source": [
    "a.argmax()"
   ]
  },
  {
   "cell_type": "code",
   "execution_count": 285,
   "metadata": {},
   "outputs": [
    {
     "data": {
      "text/plain": [
       "'PRX-03_Run_3_Computer_1_D8_Males_12DEC22.mp4'"
      ]
     },
     "execution_count": 285,
     "metadata": {},
     "output_type": "execute_result"
    }
   ],
   "source": [
    "scored['File Name'].iloc[a.argmax()]"
   ]
  },
  {
   "cell_type": "code",
   "execution_count": 335,
   "metadata": {},
   "outputs": [],
   "source": [
    "from ast import literal_eval\n",
    "def bool_from_annotations(filename, frames, fps = 30, skiprows = 9):\n",
    "    \"\"\"Generates boolean numpy vector\n",
    "\n",
    "    Args:\n",
    "        filename (str): path to annotation csv\n",
    "        frames (int): number of frames to extrapolate annotations to\n",
    "        fps (int, optional): frame rate of video. Defaults to 30.\n",
    "        skiprows (int, optional): number of rows to ignore in annotation csv. Defaults to 9.\n",
    "\n",
    "    Returns:\n",
    "        dict: dictionary of booleans for each animal\n",
    "    \"\"\"\n",
    "\n",
    "    via_output = pd.read_csv(filename, skiprows = skiprows)\n",
    "    tc = via_output['temporal_coordinates']\n",
    "    tp = np.array([np.round(np.array(literal_eval(a)) * fps ).astype(int) for a in tc])\n",
    "   \n",
    "    animal_ids = ['m1', 'm2', 'm3', 'm4', 'm5', 'm6']\n",
    "    y_data = {}\n",
    "\n",
    "    for i in animal_ids:\n",
    "  \n",
    "        d = tp[via_output['metadata'].str.contains(i),:]\n",
    "        scratch = np.zeros(frames)\n",
    "        for j in d:\n",
    "            scratch[j[0]:j[1]] = [1] * (j[1] - j[0])\n",
    "        y_data[i] = scratch\n",
    "\n",
    "    return y_data"
   ]
  },
  {
   "cell_type": "code",
   "execution_count": 363,
   "metadata": {},
   "outputs": [],
   "source": [
    "filename = \"/Users/rebeccakrall/Desktop/Validated_PRX-03_Run_3_Computer_1_D8_Males_12DEC22.mp4_26.csv\""
   ]
  },
  {
   "cell_type": "code",
   "execution_count": 364,
   "metadata": {},
   "outputs": [],
   "source": [
    "via_output = pd.read_csv(filename, skiprows = 9)\n",
    "tc = via_output['temporal_coordinates']\n"
   ]
  },
  {
   "cell_type": "code",
   "execution_count": 448,
   "metadata": {},
   "outputs": [],
   "source": [
    "row = {'Scoring Start': 2, 'Folder Path': \"/Users/rebeccakrall/Data/Video Processing and Prediction/Scratching_Projects/PRX_03/PRX_03_Videos\",\n",
    "       'File Name': \"PRX-03_Run_3_Computer_1_D8_Males_12DEC22.mp4\"}"
   ]
  },
  {
   "cell_type": "code",
   "execution_count": 449,
   "metadata": {},
   "outputs": [],
   "source": [
    "start_time = row['Scoring Start'] * 60\n",
    "circles, frames, fps, _ = get_params_from_vid(os.path.join(row['Folder Path'], row['File Name']))"
   ]
  },
  {
   "cell_type": "code",
   "execution_count": 450,
   "metadata": {},
   "outputs": [],
   "source": [
    "tc2 = np.array([(np.array(literal_eval(a)) ) for a in tc])- start_time"
   ]
  },
  {
   "cell_type": "code",
   "execution_count": 451,
   "metadata": {},
   "outputs": [],
   "source": [
    "# tc2 \n",
    "tp = np.array([np.round(a * fps ).astype(int) for a in tc2])"
   ]
  },
  {
   "cell_type": "code",
   "execution_count": 452,
   "metadata": {},
   "outputs": [],
   "source": [
    "frames = int(fps * 60 * 30)"
   ]
  },
  {
   "cell_type": "code",
   "execution_count": 453,
   "metadata": {},
   "outputs": [
    {
     "data": {
      "text/plain": [
       "53981"
      ]
     },
     "execution_count": 453,
     "metadata": {},
     "output_type": "execute_result"
    }
   ],
   "source": [
    "frames"
   ]
  },
  {
   "cell_type": "code",
   "execution_count": 454,
   "metadata": {},
   "outputs": [],
   "source": [
    "animal_ids = [ 'm3']\n",
    "y_data = {}\n",
    "\n",
    "for i in animal_ids:\n",
    "\n",
    "    d = tp[via_output['metadata'].str.contains(i),:]\n",
    "    scratch = np.zeros(frames)\n",
    "    for j in d:\n",
    "        # print(j)\n",
    "        scratch[j[0]:j[1]] = [1] * (j[1] - j[0])\n",
    "    y_data[i] = scratch\n"
   ]
  },
  {
   "cell_type": "code",
   "execution_count": 455,
   "metadata": {},
   "outputs": [
    {
     "data": {
      "text/plain": [
       "[<matplotlib.lines.Line2D at 0x77439c890>]"
      ]
     },
     "execution_count": 455,
     "metadata": {},
     "output_type": "execute_result"
    },
    {
     "data": {
      "image/png": "[encoded data removed]",
      "text/plain": [
       "<Figure size 640x480 with 1 Axes>"
      ]
     },
     "metadata": {},
     "output_type": "display_data"
    }
   ],
   "source": [
    "y_data['m3']\n",
    "plt.plot(y_data['m3'])"
   ]
  },
  {
   "cell_type": "code",
   "execution_count": 461,
   "metadata": {},
   "outputs": [],
   "source": [
    "with open(\"/Users/rebeccakrall/Data/MoViNet Models After Jan 2025/Model and Training Set Development/scratch_120624_predictions/predictions/PRX-03_Run_3_Computer_1_D8_Males_12DEC22.mp4_26.pkl\", 'rb') as f:\n",
    "    prediction = pickle.load(f)"
   ]
  },
  {
   "cell_type": "code",
   "execution_count": 495,
   "metadata": {},
   "outputs": [
    {
     "data": {
      "text/plain": [
       "53970"
      ]
     },
     "execution_count": 495,
     "metadata": {},
     "output_type": "execute_result"
    }
   ],
   "source": [
    "len(prediction) * 30"
   ]
  },
  {
   "cell_type": "code",
   "execution_count": 463,
   "metadata": {},
   "outputs": [],
   "source": [
    "resh = np.reshape(y_data['m3'][:53970], (-1, 30))\n",
    "ann_bin = np.mean(resh, 1)"
   ]
  },
  {
   "cell_type": "code",
   "execution_count": 464,
   "metadata": {},
   "outputs": [
    {
     "data": {
      "text/plain": [
       "[<matplotlib.lines.Line2D at 0x7745e5410>]"
      ]
     },
     "execution_count": 464,
     "metadata": {},
     "output_type": "execute_result"
    },
    {
     "data": {
      "image/png": "[encoded data removed]",
      "text/plain": [
       "<Figure size 640x480 with 1 Axes>"
      ]
     },
     "metadata": {},
     "output_type": "display_data"
    }
   ],
   "source": [
    "plt.plot((np.squeeze(prediction) - ann_bin))"
   ]
  },
  {
   "cell_type": "code",
   "execution_count": 465,
   "metadata": {},
   "outputs": [
    {
     "data": {
      "text/plain": [
       "(1799, 1)"
      ]
     },
     "execution_count": 465,
     "metadata": {},
     "output_type": "execute_result"
    }
   ],
   "source": [
    "prediction.shape"
   ]
  },
  {
   "cell_type": "code",
   "execution_count": 473,
   "metadata": {},
   "outputs": [
    {
     "data": {
      "text/plain": [
       "[<matplotlib.lines.Line2D at 0x776a96790>]"
      ]
     },
     "execution_count": 473,
     "metadata": {},
     "output_type": "execute_result"
    },
    {
     "data": {
      "image/png": "[encoded data removed]",
      "text/plain": [
       "<Figure size 640x480 with 1 Axes>"
      ]
     },
     "metadata": {},
     "output_type": "display_data"
    }
   ],
   "source": [
    "plt.plot((np.squeeze(prediction) < 0)[:800])\n",
    "plt.plot(ann_bin[:800] > 0.3)"
   ]
  },
  {
   "cell_type": "code",
   "execution_count": 482,
   "metadata": {},
   "outputs": [
    {
     "data": {
      "text/plain": [
       "122"
      ]
     },
     "execution_count": 482,
     "metadata": {},
     "output_type": "execute_result"
    }
   ],
   "source": [
    "((np.squeeze(prediction) <0).astype(int) != (ann_bin >0.3).astype(int)).sum()"
   ]
  },
  {
   "cell_type": "code",
   "execution_count": 485,
   "metadata": {},
   "outputs": [],
   "source": [
    "pred = np.squeeze(prediction) < 0\n",
    "ann = ann_bin > 0.3"
   ]
  },
  {
   "cell_type": "code",
   "execution_count": null,
   "metadata": {},
   "outputs": [],
   "source": [
    "difference = pred[pred != ann]\n",
    "fp = difference.sum()\n",
    "fn = len(difference) - fp"
   ]
  },
  {
   "cell_type": "code",
   "execution_count": 498,
   "metadata": {},
   "outputs": [
    {
     "data": {
      "text/plain": [
       "0.06614785992217899"
      ]
     },
     "execution_count": 498,
     "metadata": {},
     "output_type": "execute_result"
    }
   ],
   "source": [
    "fp/len(pred)"
   ]
  },
  {
   "cell_type": "code",
   "execution_count": 490,
   "metadata": {},
   "outputs": [
    {
     "data": {
      "text/plain": [
       "3"
      ]
     },
     "execution_count": 490,
     "metadata": {},
     "output_type": "execute_result"
    }
   ],
   "source": [
    "fn"
   ]
  },
  {
   "cell_type": "code",
   "execution_count": 491,
   "metadata": {},
   "outputs": [],
   "source": [
    "scratch = np.zeros(frames)\n",
    "for j in tp:\n",
    "    # print(j)\n",
    "    scratch[j[0]:j[1]] = [1] * (j[1] - j[0])\n",
    "    "
   ]
  },
  {
   "cell_type": "code",
   "execution_count": 493,
   "metadata": {},
   "outputs": [
    {
     "data": {
      "text/plain": [
       "True"
      ]
     },
     "execution_count": 493,
     "metadata": {},
     "output_type": "execute_result"
    }
   ],
   "source": [
    "(scratch == y_data['m3']).all()"
   ]
  },
  {
   "cell_type": "code",
   "execution_count": 496,
   "metadata": {},
   "outputs": [
    {
     "data": {
      "text/plain": [
       "{'num_frames': 30, 'frame_step': 1, 'buffer': 300, 'output_size': (172, 172)}"
      ]
     },
     "execution_count": 496,
     "metadata": {},
     "output_type": "execute_result"
    }
   ],
   "source": [
    "data_specs"
   ]
  },
  {
   "cell_type": "code",
   "execution_count": 497,
   "metadata": {},
   "outputs": [
    {
     "data": {
      "text/plain": [
       "{'checkpoint_dir': '/Users/rebeccakrall/Data/MoViNet Models After Jan 2025/Models/scratch_120624/scratch_120624_checkpoints',\n",
       " 'checkpoint_path': None,\n",
       " 'model_id': 'a0',\n",
       " 'resolution': 172,\n",
       " 'batch_size': 8,\n",
       " 'num_frames': 30,\n",
       " 'num_classes': 1,\n",
       " 'loss_name': None,\n",
       " 'learning_rate': 0.0001,\n",
       " 'class_labels': {'Not Scratch': 1, 'Scratch': 0}}"
      ]
     },
     "execution_count": 497,
     "metadata": {},
     "output_type": "execute_result"
    }
   ],
   "source": [
    "model_data"
   ]
  },
  {
   "cell_type": "code",
   "execution_count": 507,
   "metadata": {},
   "outputs": [],
   "source": [
    "def calculate_validation_ann_csv(csv_filename, validation_folder, save_folder, num_frames, save = False):\n",
    "    df, meta = load_experiment_table(csv_filename)\n",
    "\n",
    "    prediction_folder = os.path.join(save_folder, 'predictions')\n",
    "    ann_scores = []\n",
    "    for ind, row in df.iterrows():\n",
    "\n",
    "        ann_file = os.path.join(validation_folder, 'Validated_' + row['File Name'] + '_' + str(row['Subject #']) + '.csv')\n",
    "        pred_file = os.path.join(prediction_folder, row['File Name'] + '_' + str(row['Subject #']) + '.pkl')\n",
    "        with open(pred_file, 'rb') as f:\n",
    "            prediction = pickle.load(f)\n",
    "\n",
    "        via_output = pd.read_csv(ann_file, skiprows = 9)\n",
    "        tc = via_output['temporal_coordinates']\n",
    "        start_time = row['Scoring Start (min)'] * 60\n",
    "        _, _, fps, _ = get_params_from_vid(os.path.join(row['Folder Path'], row['File Name']))\n",
    "        tc2 = np.array([(np.array(literal_eval(a)) ) for a in tc])- start_time\n",
    "        tp = np.array([np.round(a * fps ).astype(int) for a in tc2])\n",
    "        clip_length = row['Scoring End (min)'] - row['Scoring Start (min)']\n",
    "        frames = int(fps * 60 * clip_length)\n",
    "        scratch = np.zeros(frames)\n",
    "        for j in tp:\n",
    "            scratch[j[0]:j[1]] = [1] * (j[1] - j[0])\n",
    "        \n",
    "        max_frame = len(prediction) * num_frames\n",
    "        ann_bin = np.mean(np.reshape(scratch[:max_frame], (-1, num_frames)), 1)\n",
    "\n",
    "        pred = np.squeeze(prediction) < 0\n",
    "        ann = ann_bin > 0.3\n",
    "        difference = pred[pred != ann]\n",
    "        fp = difference.sum()\n",
    "        fn = len(difference) - fp\n",
    "        ann_scores.append({'File Name': row['File Name'], 'Subject #': row['Subject #'], \n",
    "                           'fp count': fp, 'fp percent': (fp/len(pred))*100, 'fn count': fn, \n",
    "                           'fn percent': (fn/len(pred))*100})\n",
    "    \n",
    "    \n",
    "    scored_df = pd.DataFrame(ann_scores)\n",
    "    if save:\n",
    "        output_file = os.path.join(save_folder, 'scored_' + os.path.basename(csv_filename))\n",
    "        scored_df.write_csv(output_file)\n",
    "\n",
    "    return scored_df\n"
   ]
  },
  {
   "cell_type": "code",
   "execution_count": 508,
   "metadata": {},
   "outputs": [],
   "source": [
    "csv_filename = \"/Users/rebeccakrall/Data/MoViNet Models After Jan 2025/PRX_03_Validation_Sheet_Full_Ann.csv\"\n",
    "save_folder = \"/Users/rebeccakrall/Data/MoViNet Models After Jan 2025/Model and Training Set Development/scratch_120624_predictions\"\n",
    "validation_folder = \"/Users/rebeccakrall/Desktop\"\n",
    "num_frames = 30"
   ]
  },
  {
   "cell_type": "code",
   "execution_count": 599,
   "metadata": {},
   "outputs": [],
   "source": [
    "ann_file = \"/Users/rebeccakrall/Data/MoViNet Models After Jan 2025/Validation/Validated_PRX-03_Run_3_Computer_1_D8_Males_12DEC22.mp4_26.csv\"        \n",
    "via_output = pd.read_csv(ann_file, skiprows = 9)\n",
    "tc = via_output['temporal_coordinates']\n",
    "tc2 = np.array([(np.array(literal_eval(a)) ) for a in tc])- (120)"
   ]
  },
  {
   "cell_type": "code",
   "execution_count": 600,
   "metadata": {},
   "outputs": [
    {
     "data": {
      "text/plain": [
       "([22.349197423142215,\n",
       "  27.59145860223157,\n",
       "  57.41326169054889,\n",
       "  4.863309999999956,\n",
       "  65.04832399382576,\n",
       "  10.084052194400329],\n",
       " [8, 10, 19, 2, 12, 2])"
      ]
     },
     "execution_count": 600,
     "metadata": {},
     "output_type": "execute_result"
    }
   ],
   "source": [
    "bin_annotations(tc2)"
   ]
  },
  {
   "cell_type": "code",
   "execution_count": 509,
   "metadata": {},
   "outputs": [
    {
     "name": "stderr",
     "output_type": "stream",
     "text": [
      "/Users/rebeccakrall/Code/Multiclass_Behavioral_Classification/prediction.py:239: FutureWarning: Setting an item of incompatible dtype is deprecated and will raise an error in a future version of pandas. Value '/Users/rebeccakrall/Data/Video Processing and Prediction/Scratching_Projects/PRX_03/PRX_03_Videos' has dtype incompatible with float64, please explicitly cast to a compatible dtype first.\n",
      "  tbl.loc[tbl['Folder Path'].isna(),'Folder Path'] = metadata['Folder Path']\n"
     ]
    }
   ],
   "source": [
    "scored_df = calculate_validation_ann_csv(csv_filename, validation_folder, save_folder, num_frames, save = False)"
   ]
  },
  {
   "cell_type": "code",
   "execution_count": 505,
   "metadata": {},
   "outputs": [
    {
     "name": "stderr",
     "output_type": "stream",
     "text": [
      "/Users/rebeccakrall/Code/Multiclass_Behavioral_Classification/prediction.py:239: FutureWarning: Setting an item of incompatible dtype is deprecated and will raise an error in a future version of pandas. Value '/Users/rebeccakrall/Data/Video Processing and Prediction/Scratching_Projects/PRX_03/PRX_03_Videos' has dtype incompatible with float64, please explicitly cast to a compatible dtype first.\n",
      "  tbl.loc[tbl['Folder Path'].isna(),'Folder Path'] = metadata['Folder Path']\n"
     ]
    }
   ],
   "source": [
    "df, meta = load_experiment_table(csv_filename)"
   ]
  },
  {
   "cell_type": "code",
   "execution_count": 581,
   "metadata": {},
   "outputs": [
    {
     "data": {
      "text/html": [
       "<div>\n",
       "<style scoped>\n",
       "    .dataframe tbody tr th:only-of-type {\n",
       "        vertical-align: middle;\n",
       "    }\n",
       "\n",
       "    .dataframe tbody tr th {\n",
       "        vertical-align: top;\n",
       "    }\n",
       "\n",
       "    .dataframe thead th {\n",
       "        text-align: right;\n",
       "    }\n",
       "</style>\n",
       "<table border=\"1\" class=\"dataframe\">\n",
       "  <thead>\n",
       "    <tr style=\"text-align: right;\">\n",
       "      <th></th>\n",
       "      <th>File Name</th>\n",
       "      <th>Subject #</th>\n",
       "      <th>fp count</th>\n",
       "      <th>fp percent</th>\n",
       "      <th>fn count</th>\n",
       "      <th>fn percent</th>\n",
       "    </tr>\n",
       "  </thead>\n",
       "  <tbody>\n",
       "    <tr>\n",
       "      <th>0</th>\n",
       "      <td>PRX-03_Run_3_Computer_1_D8_Males_12DEC22.mp4</td>\n",
       "      <td>26</td>\n",
       "      <td>119</td>\n",
       "      <td>6.614786</td>\n",
       "      <td>3</td>\n",
       "      <td>0.166759</td>\n",
       "    </tr>\n",
       "    <tr>\n",
       "      <th>1</th>\n",
       "      <td>PRX_03_Run_3_Computer_2_D12_Males_16DEC22.mp4</td>\n",
       "      <td>31</td>\n",
       "      <td>15</td>\n",
       "      <td>0.833797</td>\n",
       "      <td>1</td>\n",
       "      <td>0.055586</td>\n",
       "    </tr>\n",
       "    <tr>\n",
       "      <th>2</th>\n",
       "      <td>PRX_03_Run_3_Computer_2_D12_Males_16DEC22.mp4</td>\n",
       "      <td>33</td>\n",
       "      <td>92</td>\n",
       "      <td>5.113952</td>\n",
       "      <td>1</td>\n",
       "      <td>0.055586</td>\n",
       "    </tr>\n",
       "  </tbody>\n",
       "</table>\n",
       "</div>"
      ],
      "text/plain": [
       "                                       File Name  Subject #  fp count  \\\n",
       "0   PRX-03_Run_3_Computer_1_D8_Males_12DEC22.mp4         26       119   \n",
       "1  PRX_03_Run_3_Computer_2_D12_Males_16DEC22.mp4         31        15   \n",
       "2  PRX_03_Run_3_Computer_2_D12_Males_16DEC22.mp4         33        92   \n",
       "\n",
       "   fp percent  fn count  fn percent  \n",
       "0    6.614786         3    0.166759  \n",
       "1    0.833797         1    0.055586  \n",
       "2    5.113952         1    0.055586  "
      ]
     },
     "execution_count": 581,
     "metadata": {},
     "output_type": "execute_result"
    }
   ],
   "source": [
    "scored_df"
   ]
  },
  {
   "cell_type": "code",
   "execution_count": 583,
   "metadata": {},
   "outputs": [
    {
     "data": {
      "text/plain": [
       "119.04156316757306"
      ]
     },
     "execution_count": 583,
     "metadata": {},
     "output_type": "execute_result"
    }
   ],
   "source": [
    "(119 * 30)/fps"
   ]
  },
  {
   "cell_type": "code",
   "execution_count": 511,
   "metadata": {},
   "outputs": [
    {
     "data": {
      "text/html": [
       "<div>\n",
       "<style scoped>\n",
       "    .dataframe tbody tr th:only-of-type {\n",
       "        vertical-align: middle;\n",
       "    }\n",
       "\n",
       "    .dataframe tbody tr th {\n",
       "        vertical-align: top;\n",
       "    }\n",
       "\n",
       "    .dataframe thead th {\n",
       "        text-align: right;\n",
       "    }\n",
       "</style>\n",
       "<table border=\"1\" class=\"dataframe\">\n",
       "  <thead>\n",
       "    <tr style=\"text-align: right;\">\n",
       "      <th></th>\n",
       "      <th>File Name</th>\n",
       "      <th>Subject #</th>\n",
       "      <th>fp count</th>\n",
       "      <th>fp percent</th>\n",
       "      <th>fn count</th>\n",
       "      <th>fn percent</th>\n",
       "    </tr>\n",
       "  </thead>\n",
       "  <tbody>\n",
       "    <tr>\n",
       "      <th>0</th>\n",
       "      <td>PRX-03_Run_3_Computer_1_D8_Males_12DEC22.mp4</td>\n",
       "      <td>26</td>\n",
       "      <td>119</td>\n",
       "      <td>6.614786</td>\n",
       "      <td>3</td>\n",
       "      <td>0.166759</td>\n",
       "    </tr>\n",
       "    <tr>\n",
       "      <th>1</th>\n",
       "      <td>PRX_03_Run_3_Computer_2_D12_Males_16DEC22.mp4</td>\n",
       "      <td>31</td>\n",
       "      <td>15</td>\n",
       "      <td>0.833797</td>\n",
       "      <td>1</td>\n",
       "      <td>0.055586</td>\n",
       "    </tr>\n",
       "    <tr>\n",
       "      <th>2</th>\n",
       "      <td>PRX_03_Run_3_Computer_2_D12_Males_16DEC22.mp4</td>\n",
       "      <td>33</td>\n",
       "      <td>92</td>\n",
       "      <td>5.113952</td>\n",
       "      <td>1</td>\n",
       "      <td>0.055586</td>\n",
       "    </tr>\n",
       "    <tr>\n",
       "      <th>0</th>\n",
       "      <td>PRX-03_Run_3_Computer_1_D8_Males_12DEC22.mp4</td>\n",
       "      <td>26</td>\n",
       "      <td>119</td>\n",
       "      <td>6.614786</td>\n",
       "      <td>3</td>\n",
       "      <td>0.166759</td>\n",
       "    </tr>\n",
       "    <tr>\n",
       "      <th>1</th>\n",
       "      <td>PRX_03_Run_3_Computer_2_D12_Males_16DEC22.mp4</td>\n",
       "      <td>31</td>\n",
       "      <td>15</td>\n",
       "      <td>0.833797</td>\n",
       "      <td>1</td>\n",
       "      <td>0.055586</td>\n",
       "    </tr>\n",
       "    <tr>\n",
       "      <th>2</th>\n",
       "      <td>PRX_03_Run_3_Computer_2_D12_Males_16DEC22.mp4</td>\n",
       "      <td>33</td>\n",
       "      <td>92</td>\n",
       "      <td>5.113952</td>\n",
       "      <td>1</td>\n",
       "      <td>0.055586</td>\n",
       "    </tr>\n",
       "  </tbody>\n",
       "</table>\n",
       "</div>"
      ],
      "text/plain": [
       "                                       File Name  Subject #  fp count  \\\n",
       "0   PRX-03_Run_3_Computer_1_D8_Males_12DEC22.mp4         26       119   \n",
       "1  PRX_03_Run_3_Computer_2_D12_Males_16DEC22.mp4         31        15   \n",
       "2  PRX_03_Run_3_Computer_2_D12_Males_16DEC22.mp4         33        92   \n",
       "0   PRX-03_Run_3_Computer_1_D8_Males_12DEC22.mp4         26       119   \n",
       "1  PRX_03_Run_3_Computer_2_D12_Males_16DEC22.mp4         31        15   \n",
       "2  PRX_03_Run_3_Computer_2_D12_Males_16DEC22.mp4         33        92   \n",
       "\n",
       "   fp percent  fn count  fn percent  \n",
       "0    6.614786         3    0.166759  \n",
       "1    0.833797         1    0.055586  \n",
       "2    5.113952         1    0.055586  \n",
       "0    6.614786         3    0.166759  \n",
       "1    0.833797         1    0.055586  \n",
       "2    5.113952         1    0.055586  "
      ]
     },
     "execution_count": 511,
     "metadata": {},
     "output_type": "execute_result"
    }
   ],
   "source": [
    "pd.concat([scored_df, scored_df])"
   ]
  },
  {
   "cell_type": "code",
   "execution_count": 577,
   "metadata": {},
   "outputs": [],
   "source": [
    "def calculate_validation_csv_metrics(scored):\n",
    "\n",
    "    scores = {}\n",
    "    num_bins = max([int(x.split('Bin ')[-1]) for x in scored.columns if ': Bin' in x])\n",
    "    for x in range(num_bins):\n",
    "        scored['dif '+str(x+1)] = scored['bin '+str(x+1)] - scored['Duration: Bin '+str(x+1)]\n",
    "\n",
    "    \n",
    "    difs = scored.filter(like = 'dif')\n",
    "\n",
    "    \n",
    "    scored['abs sum'] = difs.abs().sum(axis = 1)\n",
    "    scores['Full Video: Abs difference mean'] = scored['abs sum'].mean()\n",
    "    scores['Full Video: Abs difference median'] = scored['abs sum'].median()\n",
    "    scores['Full Video: Abs difference top'] = scored['abs sum'].max()\n",
    "    scores['Worst Video'] = scored['File Name'].iloc[scored['abs sum'].argmax()]+ '_' + str(scored['Subject #'].iloc[scored['abs sum'].argmax()])\n",
    "    scores['Bin: Max Difference'] = difs.max(axis = None)\n",
    "    scores['Bin: Min Difference'] = difs.min(axis = None)\n",
    "    scores['Bin: Mean Difference'] = difs.mean(axis = None)\n",
    "    scores['Bin: Median Difference'] = difs.median(axis = None)\n",
    "    scores['Bin: FP count'] = (difs < 0).sum().sum() \n",
    "    scores['Bin: FN count'] = (difs > 0).sum().sum() \n",
    "    scores['Bin: FP percent'] =  (scores['Bin: FP count'] /difs.count().sum()) * 100\n",
    "    scores['Bin: FN percent'] =  (scores['Bin: FN count'] /difs.count().sum()) * 100\n",
    "\n",
    "    dif_array = np.array(difs)\n",
    "    scores['Bin: FP average'] =np.mean(dif_array[dif_array < 0])\n",
    "    scores['Bin: FP median'] = np.median(dif_array[dif_array < 0])\n",
    "\n",
    "    scores['Bin: FN average'] =np.mean(dif_array[dif_array > 0])\n",
    "    scores['Bin: FN median'] = np.median(dif_array[dif_array > 0])\n",
    "\n",
    "    if \"Elapsed Minutes\" in scored.columns:\n",
    "        scores['mean run time'] = scored['Elapsed Minutes'].mean()\n",
    "    else:\n",
    "        scores['mean run time'] = None\n",
    "\n",
    "    return scored, scores"
   ]
  },
  {
   "cell_type": "code",
   "execution_count": 578,
   "metadata": {},
   "outputs": [],
   "source": [
    "df = pd.read_csv(\"/Users/rebeccakrall/Data/MoViNet Models After Jan 2025/Model and Training Set Development/scratch_120624_predictions/fixed_scored_PRX_03_Validation_Sheet.csv\")\n",
    "scored, scores = calculate_validation_csv_metrics(df)"
   ]
  },
  {
   "cell_type": "code",
   "execution_count": 602,
   "metadata": {},
   "outputs": [],
   "source": [
    "scores['checkpoint'] = 'cp_02.ckpt'"
   ]
  },
  {
   "cell_type": "code",
   "execution_count": 603,
   "metadata": {},
   "outputs": [],
   "source": [
    "scores['date'] = '020425'"
   ]
  },
  {
   "cell_type": "code",
   "execution_count": 608,
   "metadata": {},
   "outputs": [
    {
     "ename": "ValueError",
     "evalue": "If using all scalar values, you must pass an index",
     "output_type": "error",
     "traceback": [
      "\u001b[0;31m---------------------------------------------------------------------------\u001b[0m",
      "\u001b[0;31mValueError\u001b[0m                                Traceback (most recent call last)",
      "Cell \u001b[0;32mIn[608], line 1\u001b[0m\n\u001b[0;32m----> 1\u001b[0m s \u001b[38;5;241m=\u001b[39m \u001b[43mpd\u001b[49m\u001b[38;5;241;43m.\u001b[39;49m\u001b[43mDataFrame\u001b[49m\u001b[43m(\u001b[49m\u001b[43mscores\u001b[49m\u001b[43m)\u001b[49m\n\u001b[1;32m      2\u001b[0m s\u001b[38;5;241m.\u001b[39mto_csv(\u001b[38;5;124m\"\u001b[39m\u001b[38;5;124m/Users/rebeccakrall/Data/MoViNet Models After Jan 2025/Models/scratch_120624/scratch_120624_validations/scratch_120624_validation_020425/manual_scores.csv\u001b[39m\u001b[38;5;124m\"\u001b[39m)\n",
      "File \u001b[0;32m~/miniconda3/envs/tf/lib/python3.11/site-packages/pandas/core/frame.py:778\u001b[0m, in \u001b[0;36mDataFrame.__init__\u001b[0;34m(self, data, index, columns, dtype, copy)\u001b[0m\n\u001b[1;32m    772\u001b[0m     mgr \u001b[38;5;241m=\u001b[39m \u001b[38;5;28mself\u001b[39m\u001b[38;5;241m.\u001b[39m_init_mgr(\n\u001b[1;32m    773\u001b[0m         data, axes\u001b[38;5;241m=\u001b[39m{\u001b[38;5;124m\"\u001b[39m\u001b[38;5;124mindex\u001b[39m\u001b[38;5;124m\"\u001b[39m: index, \u001b[38;5;124m\"\u001b[39m\u001b[38;5;124mcolumns\u001b[39m\u001b[38;5;124m\"\u001b[39m: columns}, dtype\u001b[38;5;241m=\u001b[39mdtype, copy\u001b[38;5;241m=\u001b[39mcopy\n\u001b[1;32m    774\u001b[0m     )\n\u001b[1;32m    776\u001b[0m \u001b[38;5;28;01melif\u001b[39;00m \u001b[38;5;28misinstance\u001b[39m(data, \u001b[38;5;28mdict\u001b[39m):\n\u001b[1;32m    777\u001b[0m     \u001b[38;5;66;03m# GH#38939 de facto copy defaults to False only in non-dict cases\u001b[39;00m\n\u001b[0;32m--> 778\u001b[0m     mgr \u001b[38;5;241m=\u001b[39m \u001b[43mdict_to_mgr\u001b[49m\u001b[43m(\u001b[49m\u001b[43mdata\u001b[49m\u001b[43m,\u001b[49m\u001b[43m \u001b[49m\u001b[43mindex\u001b[49m\u001b[43m,\u001b[49m\u001b[43m \u001b[49m\u001b[43mcolumns\u001b[49m\u001b[43m,\u001b[49m\u001b[43m \u001b[49m\u001b[43mdtype\u001b[49m\u001b[38;5;241;43m=\u001b[39;49m\u001b[43mdtype\u001b[49m\u001b[43m,\u001b[49m\u001b[43m \u001b[49m\u001b[43mcopy\u001b[49m\u001b[38;5;241;43m=\u001b[39;49m\u001b[43mcopy\u001b[49m\u001b[43m,\u001b[49m\u001b[43m \u001b[49m\u001b[43mtyp\u001b[49m\u001b[38;5;241;43m=\u001b[39;49m\u001b[43mmanager\u001b[49m\u001b[43m)\u001b[49m\n\u001b[1;32m    779\u001b[0m \u001b[38;5;28;01melif\u001b[39;00m \u001b[38;5;28misinstance\u001b[39m(data, ma\u001b[38;5;241m.\u001b[39mMaskedArray):\n\u001b[1;32m    780\u001b[0m     \u001b[38;5;28;01mfrom\u001b[39;00m \u001b[38;5;21;01mnumpy\u001b[39;00m\u001b[38;5;21;01m.\u001b[39;00m\u001b[38;5;21;01mma\u001b[39;00m \u001b[38;5;28;01mimport\u001b[39;00m mrecords\n",
      "File \u001b[0;32m~/miniconda3/envs/tf/lib/python3.11/site-packages/pandas/core/internals/construction.py:503\u001b[0m, in \u001b[0;36mdict_to_mgr\u001b[0;34m(data, index, columns, dtype, typ, copy)\u001b[0m\n\u001b[1;32m    499\u001b[0m     \u001b[38;5;28;01melse\u001b[39;00m:\n\u001b[1;32m    500\u001b[0m         \u001b[38;5;66;03m# dtype check to exclude e.g. range objects, scalars\u001b[39;00m\n\u001b[1;32m    501\u001b[0m         arrays \u001b[38;5;241m=\u001b[39m [x\u001b[38;5;241m.\u001b[39mcopy() \u001b[38;5;28;01mif\u001b[39;00m \u001b[38;5;28mhasattr\u001b[39m(x, \u001b[38;5;124m\"\u001b[39m\u001b[38;5;124mdtype\u001b[39m\u001b[38;5;124m\"\u001b[39m) \u001b[38;5;28;01melse\u001b[39;00m x \u001b[38;5;28;01mfor\u001b[39;00m x \u001b[38;5;129;01min\u001b[39;00m arrays]\n\u001b[0;32m--> 503\u001b[0m \u001b[38;5;28;01mreturn\u001b[39;00m \u001b[43marrays_to_mgr\u001b[49m\u001b[43m(\u001b[49m\u001b[43marrays\u001b[49m\u001b[43m,\u001b[49m\u001b[43m \u001b[49m\u001b[43mcolumns\u001b[49m\u001b[43m,\u001b[49m\u001b[43m \u001b[49m\u001b[43mindex\u001b[49m\u001b[43m,\u001b[49m\u001b[43m \u001b[49m\u001b[43mdtype\u001b[49m\u001b[38;5;241;43m=\u001b[39;49m\u001b[43mdtype\u001b[49m\u001b[43m,\u001b[49m\u001b[43m \u001b[49m\u001b[43mtyp\u001b[49m\u001b[38;5;241;43m=\u001b[39;49m\u001b[43mtyp\u001b[49m\u001b[43m,\u001b[49m\u001b[43m \u001b[49m\u001b[43mconsolidate\u001b[49m\u001b[38;5;241;43m=\u001b[39;49m\u001b[43mcopy\u001b[49m\u001b[43m)\u001b[49m\n",
      "File \u001b[0;32m~/miniconda3/envs/tf/lib/python3.11/site-packages/pandas/core/internals/construction.py:114\u001b[0m, in \u001b[0;36marrays_to_mgr\u001b[0;34m(arrays, columns, index, dtype, verify_integrity, typ, consolidate)\u001b[0m\n\u001b[1;32m    111\u001b[0m \u001b[38;5;28;01mif\u001b[39;00m verify_integrity:\n\u001b[1;32m    112\u001b[0m     \u001b[38;5;66;03m# figure out the index, if necessary\u001b[39;00m\n\u001b[1;32m    113\u001b[0m     \u001b[38;5;28;01mif\u001b[39;00m index \u001b[38;5;129;01mis\u001b[39;00m \u001b[38;5;28;01mNone\u001b[39;00m:\n\u001b[0;32m--> 114\u001b[0m         index \u001b[38;5;241m=\u001b[39m \u001b[43m_extract_index\u001b[49m\u001b[43m(\u001b[49m\u001b[43marrays\u001b[49m\u001b[43m)\u001b[49m\n\u001b[1;32m    115\u001b[0m     \u001b[38;5;28;01melse\u001b[39;00m:\n\u001b[1;32m    116\u001b[0m         index \u001b[38;5;241m=\u001b[39m ensure_index(index)\n",
      "File \u001b[0;32m~/miniconda3/envs/tf/lib/python3.11/site-packages/pandas/core/internals/construction.py:667\u001b[0m, in \u001b[0;36m_extract_index\u001b[0;34m(data)\u001b[0m\n\u001b[1;32m    664\u001b[0m         \u001b[38;5;28;01mraise\u001b[39;00m \u001b[38;5;167;01mValueError\u001b[39;00m(\u001b[38;5;124m\"\u001b[39m\u001b[38;5;124mPer-column arrays must each be 1-dimensional\u001b[39m\u001b[38;5;124m\"\u001b[39m)\n\u001b[1;32m    666\u001b[0m \u001b[38;5;28;01mif\u001b[39;00m \u001b[38;5;129;01mnot\u001b[39;00m indexes \u001b[38;5;129;01mand\u001b[39;00m \u001b[38;5;129;01mnot\u001b[39;00m raw_lengths:\n\u001b[0;32m--> 667\u001b[0m     \u001b[38;5;28;01mraise\u001b[39;00m \u001b[38;5;167;01mValueError\u001b[39;00m(\u001b[38;5;124m\"\u001b[39m\u001b[38;5;124mIf using all scalar values, you must pass an index\u001b[39m\u001b[38;5;124m\"\u001b[39m)\n\u001b[1;32m    669\u001b[0m \u001b[38;5;28;01mif\u001b[39;00m have_series:\n\u001b[1;32m    670\u001b[0m     index \u001b[38;5;241m=\u001b[39m union_indexes(indexes)\n",
      "\u001b[0;31mValueError\u001b[0m: If using all scalar values, you must pass an index"
     ]
    }
   ],
   "source": [
    "s = pd.DataFrame(scores)\n",
    "s.to_csv(\"/Users/rebeccakrall/Data/MoViNet Models After Jan 2025/Models/scratch_120624/scratch_120624_validations/scratch_120624_validation_020425/manual_scores.csv\")"
   ]
  },
  {
   "cell_type": "code",
   "execution_count": 615,
   "metadata": {},
   "outputs": [],
   "source": [
    "pd.DataFrame(scores, index = [0]).to_csv(\"/Users/rebeccakrall/Data/MoViNet Models After Jan 2025/Models/scratch_120624/scratch_120624_validations/scratch_120624_validation_020425/manual_scores.csv\")"
   ]
  },
  {
   "cell_type": "code",
   "execution_count": 617,
   "metadata": {},
   "outputs": [],
   "source": [
    "scored_df['checkpoint'] = 'cp_02.ckpt'\n",
    "scored_df['date'] = '020425'"
   ]
  },
  {
   "cell_type": "code",
   "execution_count": 619,
   "metadata": {},
   "outputs": [],
   "source": [
    "scored_df.to_csv(\"/Users/rebeccakrall/Data/MoViNet Models After Jan 2025/Models/scratch_120624/scratch_120624_validations/scratch_120624_validation_020425/ann_scores.csv\")"
   ]
  },
  {
   "cell_type": "code",
   "execution_count": null,
   "metadata": {},
   "outputs": [],
   "source": []
  }
 ],
 "metadata": {
  "kernelspec": {
   "display_name": "tf",
   "language": "python",
   "name": "python3"
  },
  "language_info": {
   "codemirror_mode": {
    "name": "ipython",
    "version": 3
   },
   "file_extension": ".py",
   "mimetype": "text/x-python",
   "name": "python",
   "nbconvert_exporter": "python",
   "pygments_lexer": "ipython3",
   "version": "3.11.4"
  }
 },
 "nbformat": 4,
 "nbformat_minor": 2
}
