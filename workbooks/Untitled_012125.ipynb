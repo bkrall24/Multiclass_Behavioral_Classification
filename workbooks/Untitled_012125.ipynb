{
 "cells": [
  {
   "cell_type": "code",
   "execution_count": 1,
   "metadata": {},
   "outputs": [
    {
     "name": "stderr",
     "output_type": "stream",
     "text": [
      "/Users/rebeccakrall/miniconda3/envs/tf/lib/python3.11/site-packages/tqdm/auto.py:21: TqdmWarning: IProgress not found. Please update jupyter and ipywidgets. See https://ipywidgets.readthedocs.io/en/stable/user_install.html\n",
      "  from .autonotebook import tqdm as notebook_tqdm\n"
     ]
    }
   ],
   "source": [
    "# testing new modules\n",
    "\n",
    "from prediction import *"
   ]
  },
  {
   "cell_type": "code",
   "execution_count": 3,
   "metadata": {},
   "outputs": [],
   "source": [
    "save_path = \"/Users/rebeccakrall/Desktop/Model Saving Test/\"\n",
    "model_specs = {'checkpoint_dir' : \"/Users/rebeccakrall/Code/Multiclass_Behavioral_Classification/Models/scratch_120624\", 'checkpoint_path': None,\n",
    "               'model_id': 'a0', 'resolution': 172, 'batch_size': 8, 'num_frames': 20, 'num_classes' : 1, 'loss_name': None,\n",
    "               'learning_rate': 0.0001}\n",
    "\n",
    "data_specs = {'num_frames': 30, 'frame_step': 1, 'buffer': 300, 'output_size': (172,172)}\n",
    "\n",
    "accuracy = None\n",
    "loss = None\n",
    "test_train_split = None\n",
    "\n",
    "save_segmentation_model(save_path=save_path, model_specs=model_specs, data_specs=data_specs, accuracy=accuracy,\n",
    "                        loss=loss, test_train_split=test_train_split)"
   ]
  },
  {
   "cell_type": "code",
   "execution_count": 6,
   "metadata": {},
   "outputs": [
    {
     "ename": "TypeError",
     "evalue": "descriptor 'date' for 'datetime.datetime' objects doesn't apply to a 'str' object",
     "output_type": "error",
     "traceback": [
      "\u001b[0;31m---------------------------------------------------------------------------\u001b[0m",
      "\u001b[0;31mTypeError\u001b[0m                                 Traceback (most recent call last)",
      "Cell \u001b[0;32mIn[6], line 1\u001b[0m\n\u001b[0;32m----> 1\u001b[0m \u001b[43mdatetime\u001b[49m\u001b[38;5;241;43m.\u001b[39;49m\u001b[43mdate\u001b[49m\u001b[43m(\u001b[49m\u001b[38;5;124;43m'\u001b[39;49m\u001b[38;5;124;43mtoday\u001b[39;49m\u001b[38;5;124;43m'\u001b[39;49m\u001b[43m)\u001b[49m\u001b[38;5;241m.\u001b[39mstrftime(\u001b[38;5;124m'\u001b[39m\u001b[38;5;124m%\u001b[39m\u001b[38;5;124mm\u001b[39m\u001b[38;5;132;01m%d\u001b[39;00m\u001b[38;5;124m%\u001b[39m\u001b[38;5;124my\u001b[39m\u001b[38;5;124m'\u001b[39m)\n",
      "\u001b[0;31mTypeError\u001b[0m: descriptor 'date' for 'datetime.datetime' objects doesn't apply to a 'str' object"
     ]
    }
   ],
   "source": [
    "datetime.date('today').strftime('%m%d%y')"
   ]
  },
  {
   "cell_type": "code",
   "execution_count": null,
   "metadata": {},
   "outputs": [],
   "source": [
    "model_folder = \"/Users/rebeccakrall/Desktop/Model Saving Test/\"\n",
    "\n",
    "model, model_specs, data_specs = load_seg_model(model_folder)"
   ]
  },
  {
   "cell_type": "code",
   "execution_count": null,
   "metadata": {},
   "outputs": [],
   "source": [
    "model_specs['checkpoint_dir']"
   ]
  },
  {
   "cell_type": "code",
   "execution_count": 6,
   "metadata": {},
   "outputs": [],
   "source": [
    "crop_specs = {'dp':  0.5, 'minDist': 400, 'animals': ['m1','m2','m3','m4','m5','m6']}\n",
    "video_path = \"/Users/rebeccakrall/Data/Video Processing and Prediction/Scratching_Projects/PRX_03/PRX_03_Videos/PRX_03_Run_1_Computer_1_D12_Males_16DEC22clip_2.mp4\"\n"
   ]
  },
  {
   "cell_type": "code",
   "execution_count": 7,
   "metadata": {},
   "outputs": [],
   "source": [
    "data_specs = {'num_frames': 20, 'frame_step': 1, 'buffer': 300, 'output_size': (172,172)}\n"
   ]
  },
  {
   "cell_type": "code",
   "execution_count": null,
   "metadata": {},
   "outputs": [],
   "source": [
    "predictions, fps = predict_video(model, data_specs, video_path, crop_specs, 'm3', 0, 1)"
   ]
  },
  {
   "cell_type": "code",
   "execution_count": 9,
   "metadata": {},
   "outputs": [],
   "source": [
    "%matplotlib inline\n",
    "import matplotlib.pyplot as plt"
   ]
  },
  {
   "cell_type": "code",
   "execution_count": null,
   "metadata": {},
   "outputs": [],
   "source": [
    "plt.plot(predictions)"
   ]
  },
  {
   "cell_type": "code",
   "execution_count": 11,
   "metadata": {},
   "outputs": [],
   "source": [
    "test = boolean_to_annotations(np.array(predictions<0).astype(int), 20, fps)\n",
    "ann_dict = {'m3': np.array(test)}"
   ]
  },
  {
   "cell_type": "code",
   "execution_count": null,
   "metadata": {},
   "outputs": [],
   "source": [
    "data_specs"
   ]
  },
  {
   "cell_type": "code",
   "execution_count": 13,
   "metadata": {},
   "outputs": [],
   "source": [
    "durations, bouts = bin_annotations(np.array(test), 0, 1, 0.5)"
   ]
  },
  {
   "cell_type": "code",
   "execution_count": 147,
   "metadata": {},
   "outputs": [],
   "source": [
    "for ind, row in tbl.iterrows():\n",
    "    a= dict(row)"
   ]
  },
  {
   "cell_type": "code",
   "execution_count": 148,
   "metadata": {},
   "outputs": [],
   "source": [
    "a['fdjsklfs'] = 3"
   ]
  },
  {
   "cell_type": "code",
   "execution_count": 153,
   "metadata": {},
   "outputs": [],
   "source": [
    "for ind, (d,b) in enumerate(zip(durations, bouts)):\n",
    "    a['duration bin '+str(ind)] = d"
   ]
  },
  {
   "cell_type": "code",
   "execution_count": null,
   "metadata": {},
   "outputs": [],
   "source": [
    "sum(durations)"
   ]
  },
  {
   "cell_type": "code",
   "execution_count": 3,
   "metadata": {},
   "outputs": [],
   "source": [
    "table_file = \"/Users/rebeccakrall/Desktop/Video_processing_template.xlsx\""
   ]
  },
  {
   "cell_type": "code",
   "execution_count": null,
   "metadata": {},
   "outputs": [],
   "source": [
    "scores, predictions = predict_from_table(table_file, model_folder)"
   ]
  },
  {
   "cell_type": "code",
   "execution_count": null,
   "metadata": {},
   "outputs": [],
   "source": [
    "tbl,metadata = load_experiment_table(table_file)"
   ]
  },
  {
   "cell_type": "code",
   "execution_count": null,
   "metadata": {},
   "outputs": [],
   "source": [
    "for ind, row in tbl.iterrows():\n",
    "    print(row['Folder Path'])"
   ]
  },
  {
   "cell_type": "code",
   "execution_count": null,
   "metadata": {},
   "outputs": [],
   "source": []
  },
  {
   "cell_type": "code",
   "execution_count": null,
   "metadata": {},
   "outputs": [],
   "source": [
    "%matplotlib inline\n",
    "import matplotlib.pyplot as plt\n",
    "plt.plot(np.array(predictions[0] < 0).astype(int))"
   ]
  },
  {
   "cell_type": "code",
   "execution_count": null,
   "metadata": {},
   "outputs": [],
   "source": [
    "boolean_to_annotations(np.array(predictions[0] < 0).astype(int), data_specs['num_frames'], 24)"
   ]
  },
  {
   "cell_type": "code",
   "execution_count": null,
   "metadata": {},
   "outputs": [],
   "source": []
  },
  {
   "cell_type": "code",
   "execution_count": null,
   "metadata": {},
   "outputs": [],
   "source": [
    "new_model.predict()"
   ]
  },
  {
   "cell_type": "code",
   "execution_count": null,
   "metadata": {},
   "outputs": [],
   "source": [
    "model_specs"
   ]
  },
  {
   "cell_type": "code",
   "execution_count": null,
   "metadata": {},
   "outputs": [],
   "source": [
    "data_specs"
   ]
  },
  {
   "cell_type": "code",
   "execution_count": 11,
   "metadata": {},
   "outputs": [
    {
     "data": {
      "text/plain": [
       "1"
      ]
     },
     "execution_count": 11,
     "metadata": {},
     "output_type": "execute_result"
    }
   ],
   "source": [
    "acc = [0.9, 1.1, 1.1]\n",
    "acc.index(max(acc))"
   ]
  },
  {
   "cell_type": "code",
   "execution_count": 12,
   "metadata": {},
   "outputs": [
    {
     "name": "stdout",
     "output_type": "stream",
     "text": [
      "save_path = \"/Users/rebeccakrall/Desktop/Model Saving Test/\"\n",
      "model_specs = {'checkpoint_dir' : \"/Users/rebeccakrall/Code/Multiclass_Behavioral_Classification/Models/scratch_120624\", 'model_id': 'a0',\n",
      "               'resolution': 172, 'batch_size': 8, 'num_frames': 20, 'num_classes' : 1, 'loss_name': None,\n",
      "               'learning_rate': 0.0001}\n",
      "\n",
      "data_specs = {'num_frames': 30, 'frame_step': 1, 'buffer': 300, 'output_size': (172,172)}\n",
      "\n",
      "accuracy = None\n",
      "loss = None\n",
      "test_train_split = None\n",
      "\n",
      "save_segmentation_model(save_path=save_path, model_specs=model_specs, data_specs=data_specs, accuracy=accuracy,\n",
      "                        loss=loss, test_train_split=test_train_split)\n",
      "# testing new modules\n",
      "\n",
      "from prediction import *\n",
      "save_path = \"/Users/rebeccakrall/Desktop/Model Saving Test/\"\n",
      "model_specs = {'checkpoint_dir' : \"/Users/rebeccakrall/Code/Multiclass_Behavioral_Classification/Models/scratch_120624\", 'model_id': 'a0',\n",
      "               'resolution': 172, 'batch_size': 8, 'num_frames': 20, 'num_classes' : 1, 'loss_name': None,\n",
      "               'learning_rate': 0.0001}\n",
      "\n",
      "data_specs = {'num_frames': 30, 'frame_step': 1, 'buffer': 300, 'output_size': (172,172)}\n",
      "\n",
      "accuracy = None\n",
      "loss = None\n",
      "test_train_split = None\n",
      "\n",
      "save_segmentation_model(save_path=save_path, model_specs=model_specs, data_specs=data_specs, accuracy=accuracy,\n",
      "                        loss=loss, test_train_split=test_train_split)\n",
      "[0.9, 1, 1]\n",
      "max([0.9, 1, 1])\n",
      "acc = [0.9, 1, 1]\n",
      "index(max(acc))\n",
      "acc = [0.9, 1, 1]\n",
      "acc.index(1)\n",
      "acc = [0.9, 1, 1]\n",
      "acc.index(1)\n",
      "acc = [0.9, 1, 1.1]\n",
      "acc.index(1)\n",
      "acc = [0.9, 1, 1.1]\n",
      "acc.index(max(acc))\n",
      "acc = [0.9, 1.1, 1.1]\n",
      "acc.index(max(acc))\n",
      "history\n"
     ]
    }
   ],
   "source": [
    "history"
   ]
  },
  {
   "cell_type": "code",
   "execution_count": null,
   "metadata": {},
   "outputs": [],
   "source": []
  },
  {
   "cell_type": "markdown",
   "metadata": {},
   "source": []
  }
 ],
 "metadata": {
  "kernelspec": {
   "display_name": "tf",
   "language": "python",
   "name": "python3"
  },
  "language_info": {
   "codemirror_mode": {
    "name": "ipython",
    "version": 3
   },
   "file_extension": ".py",
   "mimetype": "text/x-python",
   "name": "python",
   "nbconvert_exporter": "python",
   "pygments_lexer": "ipython3",
   "version": "3.11.4"
  }
 },
 "nbformat": 4,
 "nbformat_minor": 2
}
