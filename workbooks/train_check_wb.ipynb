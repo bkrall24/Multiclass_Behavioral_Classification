{
 "cells": [
  {
   "cell_type": "code",
   "execution_count": 1,
   "metadata": {},
   "outputs": [
    {
     "name": "stderr",
     "output_type": "stream",
     "text": [
      "/Users/rebeccakrall/miniconda3/envs/tf/lib/python3.11/site-packages/tqdm/auto.py:21: TqdmWarning: IProgress not found. Please update jupyter and ipywidgets. See https://ipywidgets.readthedocs.io/en/stable/user_install.html\n",
      "  from .autonotebook import tqdm as notebook_tqdm\n"
     ]
    }
   ],
   "source": [
    "from training_models import *\n",
    "from model_loading import *"
   ]
  },
  {
   "cell_type": "code",
   "execution_count": 2,
   "metadata": {},
   "outputs": [],
   "source": [
    "loaded_model_path = \"/Users/rebeccakrall/Data/MoViNet Models After Jan 2025/Models/scratch_120624\"\n",
    "model_specs, data_specs = load_seg_model_data(loaded_model_path)"
   ]
  },
  {
   "cell_type": "code",
   "execution_count": 3,
   "metadata": {},
   "outputs": [
    {
     "name": "stderr",
     "output_type": "stream",
     "text": [
      "2025-02-13 11:34:09.342876: I metal_plugin/src/device/metal_device.cc:1154] Metal device set to: Apple M2 Pro\n",
      "2025-02-13 11:34:09.342898: I metal_plugin/src/device/metal_device.cc:296] systemMemory: 16.00 GB\n",
      "2025-02-13 11:34:09.342903: I metal_plugin/src/device/metal_device.cc:313] maxCacheSize: 5.33 GB\n",
      "2025-02-13 11:34:09.342919: I tensorflow/core/common_runtime/pluggable_device/pluggable_device_factory.cc:305] Could not identify NUMA node of platform GPU ID 0, defaulting to 0. Your kernel may not have been built with NUMA support.\n",
      "2025-02-13 11:34:09.342932: I tensorflow/core/common_runtime/pluggable_device/pluggable_device_factory.cc:271] Created TensorFlow device (/job:localhost/replica:0/task:0/device:GPU:0 with 0 MB memory) -> physical PluggableDevice (device: 0, name: METAL, pci bus id: <undefined>)\n"
     ]
    },
    {
     "name": "stdout",
     "output_type": "stream",
     "text": [
      "Running on single GPU  /device:GPU:0\n",
      "Number of accelerators:  1\n"
     ]
    }
   ],
   "source": [
    "loaded_model = load_seg_model_weights(model_specs)"
   ]
  },
  {
   "cell_type": "code",
   "execution_count": 4,
   "metadata": {},
   "outputs": [],
   "source": [
    "data_clips = \"/Users/rebeccakrall/Desktop/Behavior Clips\""
   ]
  },
  {
   "cell_type": "code",
   "execution_count": 5,
   "metadata": {},
   "outputs": [],
   "source": [
    "classes = {'Scratch':['Right Foot Scratch', 'Left Foot Scratch'],'Not Scratch': ['Face Grooming', 'Body Groom Left', 'Body Groom Right', 'Walking', \n",
    "                                                                                 'Turn Left', 'Turn Right', 'Rearing', 'Rear On Wall', 'Dog Shake', \n",
    "                                                                                 'Sleep', 'Not Scratch', 'not_scratch']}\n",
    "scratch_files = len([name for x in classes['Scratch'] for name in os.listdir(os.path.join(data_clips, x)) ])\n",
    "nonscratch_files = len([name for x in classes['Not Scratch'] for name in os.listdir(os.path.join(data_clips, x)) ])\n"
   ]
  },
  {
   "cell_type": "code",
   "execution_count": 6,
   "metadata": {},
   "outputs": [],
   "source": [
    "splits = {'test': 500, 'train': 6000, 'val': 100}\n",
    "checkpoint_path = tf.train.latest_checkpoint(model_specs['checkpoint_dir'])"
   ]
  },
  {
   "cell_type": "code",
   "execution_count": 7,
   "metadata": {},
   "outputs": [
    {
     "name": "stdout",
     "output_type": "stream",
     "text": [
      "Epoch 1/3\n"
     ]
    },
    {
     "name": "stderr",
     "output_type": "stream",
     "text": [
      "2025-02-13 11:38:06.310387: I tensorflow/core/grappler/optimizers/custom_graph_optimizer_registry.cc:117] Plugin optimizer for device_type GPU is enabled.\n"
     ]
    },
    {
     "name": "stdout",
     "output_type": "stream",
     "text": [
      "   1500/Unknown - 21817s 14s/step - loss: 0.0243 - accuracy: 0.9921"
     ]
    },
    {
     "name": "stderr",
     "output_type": "stream",
     "text": [
      "2025-02-13 17:41:12.670696: W tensorflow/core/framework/local_rendezvous.cc:404] Local rendezvous is aborting with status: OUT_OF_RANGE: End of sequence\n",
      "\t [[{{node IteratorGetNext}}]]\n",
      "2025-02-13 17:41:12.671000: I tensorflow/core/framework/local_rendezvous.cc:422] Local rendezvous recv item cancelled. Key hash: 13891581876157826102\n",
      "2025-02-13 17:41:12.671235: W tensorflow/core/framework/local_rendezvous.cc:404] Local rendezvous is aborting with status: OUT_OF_RANGE: End of sequence\n",
      "\t [[{{node IteratorGetNext}}]]\n",
      "\t [[movinet_classifier/movinet/block0_layer0/bneck/se/global_average_pool3d/Cumsum/_24]]\n",
      "2025-02-13 17:41:12.671245: I tensorflow/core/framework/local_rendezvous.cc:422] Local rendezvous recv item cancelled. Key hash: 9136990448529399759\n",
      "2025-02-13 17:41:12.671252: I tensorflow/core/framework/local_rendezvous.cc:422] Local rendezvous recv item cancelled. Key hash: 9508611657951002883\n",
      "2025-02-13 17:41:12.671254: I tensorflow/core/framework/local_rendezvous.cc:422] Local rendezvous recv item cancelled. Key hash: 11232876278435964600\n",
      "2025-02-13 17:41:12.671264: I tensorflow/core/framework/local_rendezvous.cc:422] Local rendezvous recv item cancelled. Key hash: 3021905710012818037\n",
      "2025-02-13 17:41:12.671270: I tensorflow/core/framework/local_rendezvous.cc:422] Local rendezvous recv item cancelled. Key hash: 13683944209680237519\n",
      "2025-02-13 17:41:12.671277: I tensorflow/core/framework/local_rendezvous.cc:422] Local rendezvous recv item cancelled. Key hash: 3085027017629034023\n",
      "2025-02-13 17:41:12.671280: I tensorflow/core/framework/local_rendezvous.cc:422] Local rendezvous recv item cancelled. Key hash: 7967655650742028464\n",
      "2025-02-13 17:41:12.671285: I tensorflow/core/framework/local_rendezvous.cc:422] Local rendezvous recv item cancelled. Key hash: 17489697713795900965\n",
      "2025-02-13 17:41:12.671287: I tensorflow/core/framework/local_rendezvous.cc:422] Local rendezvous recv item cancelled. Key hash: 13343615370003147716\n",
      "2025-02-13 17:41:12.671290: I tensorflow/core/framework/local_rendezvous.cc:422] Local rendezvous recv item cancelled. Key hash: 16007624941179455619\n",
      "2025-02-13 17:41:12.671295: I tensorflow/core/framework/local_rendezvous.cc:422] Local rendezvous recv item cancelled. Key hash: 15592684714737077558\n",
      "2025-02-13 17:41:12.671300: I tensorflow/core/framework/local_rendezvous.cc:422] Local rendezvous recv item cancelled. Key hash: 3562040612248168865\n",
      "2025-02-13 17:41:12.671301: I tensorflow/core/framework/local_rendezvous.cc:422] Local rendezvous recv item cancelled. Key hash: 5837807637494107402\n",
      "2025-02-13 17:41:12.671304: I tensorflow/core/framework/local_rendezvous.cc:422] Local rendezvous recv item cancelled. Key hash: 10544590816245673723\n",
      "2025-02-13 17:41:12.671306: I tensorflow/core/framework/local_rendezvous.cc:422] Local rendezvous recv item cancelled. Key hash: 15156540074973818952\n",
      "2025-02-13 17:41:12.671308: I tensorflow/core/framework/local_rendezvous.cc:422] Local rendezvous recv item cancelled. Key hash: 8878318867573690299\n",
      "2025-02-13 17:41:12.671313: I tensorflow/core/framework/local_rendezvous.cc:422] Local rendezvous recv item cancelled. Key hash: 7270585132814439394\n",
      "2025-02-13 17:41:12.671317: I tensorflow/core/framework/local_rendezvous.cc:422] Local rendezvous recv item cancelled. Key hash: 7623580567773795410\n",
      "2025-02-13 17:41:12.671322: I tensorflow/core/framework/local_rendezvous.cc:422] Local rendezvous recv item cancelled. Key hash: 7462638902722506583\n",
      "2025-02-13 17:41:12.671326: I tensorflow/core/framework/local_rendezvous.cc:422] Local rendezvous recv item cancelled. Key hash: 12482469584248526519\n",
      "2025-02-13 17:41:12.671330: I tensorflow/core/framework/local_rendezvous.cc:422] Local rendezvous recv item cancelled. Key hash: 6117488339097974813\n",
      "2025-02-13 17:41:12.671333: I tensorflow/core/framework/local_rendezvous.cc:422] Local rendezvous recv item cancelled. Key hash: 8360231624508144305\n",
      "2025-02-13 17:41:12.671337: I tensorflow/core/framework/local_rendezvous.cc:422] Local rendezvous recv item cancelled. Key hash: 14687659120822910025\n",
      "2025-02-13 17:41:12.671340: I tensorflow/core/framework/local_rendezvous.cc:422] Local rendezvous recv item cancelled. Key hash: 3105134198809230521\n",
      "2025-02-13 17:41:12.671344: I tensorflow/core/framework/local_rendezvous.cc:422] Local rendezvous recv item cancelled. Key hash: 7219906864959586095\n",
      "2025-02-13 17:41:12.671507: I tensorflow/core/framework/local_rendezvous.cc:422] Local rendezvous recv item cancelled. Key hash: 5641404314232329958\n",
      "2025-02-13 17:41:12.671511: I tensorflow/core/framework/local_rendezvous.cc:422] Local rendezvous recv item cancelled. Key hash: 11736230045973952450\n",
      "2025-02-13 17:41:12.671515: I tensorflow/core/framework/local_rendezvous.cc:422] Local rendezvous recv item cancelled. Key hash: 3175676526434048028\n",
      "2025-02-13 17:41:12.671519: I tensorflow/core/framework/local_rendezvous.cc:422] Local rendezvous recv item cancelled. Key hash: 9026794731211987464\n",
      "2025-02-13 17:41:12.671524: I tensorflow/core/framework/local_rendezvous.cc:422] Local rendezvous recv item cancelled. Key hash: 9266867168527752788\n",
      "2025-02-13 17:41:12.671538: I tensorflow/core/framework/local_rendezvous.cc:422] Local rendezvous recv item cancelled. Key hash: 13055048449452220174\n",
      "2025-02-13 17:46:14.452297: W tensorflow/core/framework/local_rendezvous.cc:404] Local rendezvous is aborting with status: OUT_OF_RANGE: End of sequence\n",
      "\t [[{{node IteratorGetNext}}]]\n",
      "2025-02-13 17:46:14.452321: I tensorflow/core/framework/local_rendezvous.cc:422] Local rendezvous recv item cancelled. Key hash: 6319200154394444932\n",
      "2025-02-13 17:46:14.452350: I tensorflow/core/framework/local_rendezvous.cc:422] Local rendezvous recv item cancelled. Key hash: 6192634284751529036\n",
      "2025-02-13 17:46:14.452359: I tensorflow/core/framework/local_rendezvous.cc:422] Local rendezvous recv item cancelled. Key hash: 12710414050207483440\n",
      "2025-02-13 17:46:14.452363: I tensorflow/core/framework/local_rendezvous.cc:422] Local rendezvous recv item cancelled. Key hash: 703651030171403312\n",
      "2025-02-13 17:46:14.452367: I tensorflow/core/framework/local_rendezvous.cc:422] Local rendezvous recv item cancelled. Key hash: 7445579177260624580\n",
      "2025-02-13 17:46:14.452371: I tensorflow/core/framework/local_rendezvous.cc:422] Local rendezvous recv item cancelled. Key hash: 13851609751815531052\n",
      "2025-02-13 17:46:14.452375: I tensorflow/core/framework/local_rendezvous.cc:422] Local rendezvous recv item cancelled. Key hash: 557121920877017732\n",
      "2025-02-13 17:46:14.452379: I tensorflow/core/framework/local_rendezvous.cc:422] Local rendezvous recv item cancelled. Key hash: 7394523056200887826\n",
      "2025-02-13 17:46:14.452384: I tensorflow/core/framework/local_rendezvous.cc:422] Local rendezvous recv item cancelled. Key hash: 9274600549738890345\n",
      "2025-02-13 17:46:14.452389: I tensorflow/core/framework/local_rendezvous.cc:422] Local rendezvous recv item cancelled. Key hash: 2397821495247078657\n",
      "2025-02-13 17:46:14.452393: I tensorflow/core/framework/local_rendezvous.cc:422] Local rendezvous recv item cancelled. Key hash: 1371126835427272265\n",
      "2025-02-13 17:46:14.452396: I tensorflow/core/framework/local_rendezvous.cc:422] Local rendezvous recv item cancelled. Key hash: 7474571134338046061\n",
      "2025-02-13 17:46:14.452399: I tensorflow/core/framework/local_rendezvous.cc:422] Local rendezvous recv item cancelled. Key hash: 12476352206457391489\n",
      "2025-02-13 17:46:14.452402: I tensorflow/core/framework/local_rendezvous.cc:422] Local rendezvous recv item cancelled. Key hash: 17608832114929216155\n",
      "2025-02-13 17:46:14.452405: I tensorflow/core/framework/local_rendezvous.cc:422] Local rendezvous recv item cancelled. Key hash: 13109531549121743763\n",
      "2025-02-13 17:46:14.452445: W tensorflow/core/framework/local_rendezvous.cc:404] Local rendezvous is aborting with status: OUT_OF_RANGE: End of sequence\n",
      "\t [[{{node IteratorGetNext}}]]\n",
      "\t [[IteratorGetNext/_2]]\n"
     ]
    },
    {
     "name": "stdout",
     "output_type": "stream",
     "text": [
      "\n",
      "Epoch 1: saving model to /Users/rebeccakrall/Data/MoViNet Models After Jan 2025/Models/scratch_120624/scratch_120624_checkpoints/cp_021325\n",
      "1500/1500 [==============================] - 22123s 15s/step - loss: 0.0243 - accuracy: 0.9921 - val_loss: 0.0047 - val_accuracy: 1.0000\n",
      "Epoch 2/3\n",
      "1500/1500 [==============================] - ETA: 0s - loss: 0.0073 - accuracy: 0.9977 \n",
      "Epoch 2: saving model to /Users/rebeccakrall/Data/MoViNet Models After Jan 2025/Models/scratch_120624/scratch_120624_checkpoints/cp_021325\n",
      "1500/1500 [==============================] - 20305s 14s/step - loss: 0.0073 - accuracy: 0.9977 - val_loss: 0.0068 - val_accuracy: 0.9950\n",
      "Epoch 3/3\n",
      "1500/1500 [==============================] - ETA: 0s - loss: 0.0138 - accuracy: 0.9958 \n",
      "Epoch 3: saving model to /Users/rebeccakrall/Data/MoViNet Models After Jan 2025/Models/scratch_120624/scratch_120624_checkpoints/cp_021325\n",
      "1500/1500 [==============================] - 20277s 14s/step - loss: 0.0138 - accuracy: 0.9958 - val_loss: 0.0077 - val_accuracy: 0.9950\n",
      "    125/Unknown - 1168s 9s/step - loss: 0.0054 - accuracy: 0.9980"
     ]
    },
    {
     "name": "stderr",
     "output_type": "stream",
     "text": [
      "2025-02-14 05:22:09.155106: W tensorflow/core/framework/local_rendezvous.cc:404] Local rendezvous is aborting with status: OUT_OF_RANGE: End of sequence\n",
      "\t [[{{node IteratorGetNext}}]]\n",
      "2025-02-14 05:22:09.155360: W tensorflow/core/framework/local_rendezvous.cc:404] Local rendezvous is aborting with status: OUT_OF_RANGE: End of sequence\n",
      "\t [[{{node IteratorGetNext}}]]\n",
      "\t [[IteratorGetNext/_2]]\n",
      "2025-02-14 05:22:09.155377: I tensorflow/core/framework/local_rendezvous.cc:422] Local rendezvous recv item cancelled. Key hash: 6319200154394444932\n",
      "2025-02-14 05:22:09.155386: I tensorflow/core/framework/local_rendezvous.cc:422] Local rendezvous recv item cancelled. Key hash: 6192634284751529036\n",
      "2025-02-14 05:22:09.155394: I tensorflow/core/framework/local_rendezvous.cc:422] Local rendezvous recv item cancelled. Key hash: 12710414050207483440\n",
      "2025-02-14 05:22:09.155399: I tensorflow/core/framework/local_rendezvous.cc:422] Local rendezvous recv item cancelled. Key hash: 9274600549738890345\n",
      "2025-02-14 05:22:09.155411: I tensorflow/core/framework/local_rendezvous.cc:422] Local rendezvous recv item cancelled. Key hash: 703651030171403312\n",
      "2025-02-14 05:22:09.155417: I tensorflow/core/framework/local_rendezvous.cc:422] Local rendezvous recv item cancelled. Key hash: 2397821495247078657\n",
      "2025-02-14 05:22:09.155422: I tensorflow/core/framework/local_rendezvous.cc:422] Local rendezvous recv item cancelled. Key hash: 557121920877017732\n",
      "2025-02-14 05:22:09.155425: I tensorflow/core/framework/local_rendezvous.cc:422] Local rendezvous recv item cancelled. Key hash: 1371126835427272265\n",
      "2025-02-14 05:22:09.155430: I tensorflow/core/framework/local_rendezvous.cc:422] Local rendezvous recv item cancelled. Key hash: 7445579177260624580\n",
      "2025-02-14 05:22:09.155435: I tensorflow/core/framework/local_rendezvous.cc:422] Local rendezvous recv item cancelled. Key hash: 7474571134338046061\n",
      "2025-02-14 05:22:09.155439: I tensorflow/core/framework/local_rendezvous.cc:422] Local rendezvous recv item cancelled. Key hash: 13851609751815531052\n",
      "2025-02-14 05:22:09.155443: I tensorflow/core/framework/local_rendezvous.cc:422] Local rendezvous recv item cancelled. Key hash: 12476352206457391489\n",
      "2025-02-14 05:22:09.155446: I tensorflow/core/framework/local_rendezvous.cc:422] Local rendezvous recv item cancelled. Key hash: 7394523056200887826\n",
      "2025-02-14 05:22:09.155448: I tensorflow/core/framework/local_rendezvous.cc:422] Local rendezvous recv item cancelled. Key hash: 17608832114929216155\n",
      "2025-02-14 05:22:09.155452: I tensorflow/core/framework/local_rendezvous.cc:422] Local rendezvous recv item cancelled. Key hash: 13109531549121743763\n"
     ]
    },
    {
     "name": "stdout",
     "output_type": "stream",
     "text": [
      "125/125 [==============================] - 1171s 9s/step - loss: 0.0054 - accuracy: 0.9980\n"
     ]
    }
   ],
   "source": [
    "model, model_specs, data_specs, accuracy, loss, all_clips = train_seg_model(loaded_model, model_specs, data_specs, data_clips, classes, splits, checkpoint_path, save_weights_only = True, save_best_only = False,\n",
    "                    monitor = 'val_accuracy', mode = 'max', epochs = 3, verbose = 1)"
   ]
  },
  {
   "cell_type": "code",
   "execution_count": 8,
   "metadata": {},
   "outputs": [
    {
     "data": {
      "text/plain": [
       "{'train': 0.9957500100135803,\n",
       " 'test': 0.9980000257492065,\n",
       " 'val': 0.9950000047683716}"
      ]
     },
     "execution_count": 8,
     "metadata": {},
     "output_type": "execute_result"
    }
   ],
   "source": [
    "accuracy"
   ]
  },
  {
   "cell_type": "code",
   "execution_count": 9,
   "metadata": {},
   "outputs": [],
   "source": [
    "model_specs['checkpoint_path'] = tf.train.latest_checkpoint(model_specs['checkpoint_dir'])\n",
    "save_segmentation_model(loaded_model_path, model_specs, data_specs, accuracy, loss, all_clips)"
   ]
  },
  {
   "cell_type": "code",
   "execution_count": 10,
   "metadata": {},
   "outputs": [],
   "source": [
    "from model_validation import *"
   ]
  },
  {
   "cell_type": "code",
   "execution_count": 3,
   "metadata": {},
   "outputs": [
    {
     "name": "stderr",
     "output_type": "stream",
     "text": [
      "2025-02-11 14:12:54.925196: I metal_plugin/src/device/metal_device.cc:1154] Metal device set to: Apple M2 Pro\n",
      "2025-02-11 14:12:54.925220: I metal_plugin/src/device/metal_device.cc:296] systemMemory: 16.00 GB\n",
      "2025-02-11 14:12:54.925229: I metal_plugin/src/device/metal_device.cc:313] maxCacheSize: 5.33 GB\n",
      "2025-02-11 14:12:54.925248: I tensorflow/core/common_runtime/pluggable_device/pluggable_device_factory.cc:305] Could not identify NUMA node of platform GPU ID 0, defaulting to 0. Your kernel may not have been built with NUMA support.\n",
      "2025-02-11 14:12:54.925259: I tensorflow/core/common_runtime/pluggable_device/pluggable_device_factory.cc:271] Created TensorFlow device (/job:localhost/replica:0/task:0/device:GPU:0 with 0 MB memory) -> physical PluggableDevice (device: 0, name: METAL, pci bus id: <undefined>)\n"
     ]
    },
    {
     "name": "stdout",
     "output_type": "stream",
     "text": [
      "Running on single GPU  /device:GPU:0\n",
      "Number of accelerators:  1\n"
     ]
    }
   ],
   "source": [
    "loaded_model_path = \"/Users/rebeccakrall/Data/MoViNet Models After Jan 2025/Models/scratch_120624\"\n",
    "model_specs, data_specs = load_seg_model_data(loaded_model_path)\n",
    "\n",
    "model = load_seg_model_weights(model_specs)"
   ]
  },
  {
   "cell_type": "code",
   "execution_count": 11,
   "metadata": {},
   "outputs": [
    {
     "data": {
      "text/plain": [
       "{'checkpoint_dir': '/Users/rebeccakrall/Data/MoViNet Models After Jan 2025/Models/scratch_120624/scratch_120624_checkpoints',\n",
       " 'checkpoint_path': '/Users/rebeccakrall/Data/MoViNet Models After Jan 2025/Models/scratch_120624/scratch_120624_checkpoints/cp_021325',\n",
       " 'model_id': 'a0',\n",
       " 'resolution': 172,\n",
       " 'batch_size': 8,\n",
       " 'num_frames': 30,\n",
       " 'num_classes': 1,\n",
       " 'loss_name': None,\n",
       " 'learning_rate': 0.0001,\n",
       " 'class_labels': {'Not Scratch': 1, 'Scratch': 0}}"
      ]
     },
     "execution_count": 11,
     "metadata": {},
     "output_type": "execute_result"
    }
   ],
   "source": [
    "model_specs"
   ]
  },
  {
   "cell_type": "code",
   "execution_count": 12,
   "metadata": {},
   "outputs": [],
   "source": [
    "validation_folder = \"/Users/rebeccakrall/Data/MoViNet Models After Jan 2025/Validation\"\n",
    "save_folder = \"/Users/rebeccakrall/Data/MoViNet Models After Jan 2025/Models/scratch_120624/scratch_120624_validations/scratch_120624_validation_021125\""
   ]
  },
  {
   "cell_type": "code",
   "execution_count": 14,
   "metadata": {},
   "outputs": [
    {
     "data": {
      "text/plain": [
       "['PRX_03_Validation_Sheet.csv']"
      ]
     },
     "execution_count": 14,
     "metadata": {},
     "output_type": "execute_result"
    }
   ],
   "source": [
    "csvs = [x for x in os.listdir(validation_folder) if 'ann' not in x.lower() and '.DS' not in x and 'Validated' not in x]\n",
    "csvs"
   ]
  },
  {
   "cell_type": "code",
   "execution_count": null,
   "metadata": {},
   "outputs": [],
   "source": [
    "csvs = [x for x in os.listdir(validation_folder) if 'ann' not in x.lower() and '.DS' not in x and 'Validated' not in x]\n",
    "all_scores = []\n",
    "for c in csvs:\n",
    "    output = predict_from_table(os.path.join(validation_folder, c), model, model_specs, data_specs, save_folder, timed = True)\n",
    "    scored = pd.read_csv(output)\n",
    "    scored, scores = calculate_validation_csv_metrics(scored)\n",
    "    scored.to_csv(output)\n",
    "    all_scores.append(scores)\n",
    "\n"
   ]
  },
  {
   "cell_type": "code",
   "execution_count": 15,
   "metadata": {},
   "outputs": [
    {
     "name": "stderr",
     "output_type": "stream",
     "text": [
      "/Users/rebeccakrall/Code/Multiclass_Behavioral_Classification/prediction.py:239: FutureWarning: Setting an item of incompatible dtype is deprecated and will raise an error in a future version of pandas. Value '/Users/rebeccakrall/Data/Video Processing and Prediction/Scratching_Projects/PRX_03/PRX_03_Videos' has dtype incompatible with float64, please explicitly cast to a compatible dtype first.\n",
      "  tbl.loc[tbl['Folder Path'].isna(),'Folder Path'] = metadata['Folder Path']\n"
     ]
    }
   ],
   "source": [
    "ann = [x for x in os.listdir(validation_folder) if 'ann' in x.lower() and '.DS' not in x and 'Validated' not in x]\n",
    "all_ann_scores = []\n",
    "for a in ann:\n",
    "    ann_score  = calculate_validation_ann_csv(os.path.join(validation_folder, a), validation_folder, save_folder, data_specs['num_frames'])\n",
    "    all_ann_scores.append(ann_score)\n",
    "\n",
    "final_ann_scores = pd.concat(all_ann_scores)\n",
    "final_manual_scores = pd.DataFrame(all_scores)"
   ]
  },
  {
   "cell_type": "code",
   "execution_count": 16,
   "metadata": {},
   "outputs": [],
   "source": [
    "final_ann_scores['checkpoint'] = os.path.basename(model_specs['checkpoint_path'])\n",
    "final_ann_scores['date'] = '021425'\n",
    "\n",
    "final_manual_scores['checkpoint']= os.path.basename(model_specs['checkpoint_path'])\n",
    "final_manual_scores['date'] = '021425'"
   ]
  },
  {
   "cell_type": "code",
   "execution_count": 18,
   "metadata": {},
   "outputs": [],
   "source": [
    "final_manual_scores.to_csv(\"/Users/rebeccakrall/Data/MoViNet Models After Jan 2025/Models/scratch_120624/scratch_120624_validations/scratch_120624_validation_021425/manual_scores.csv\")\n",
    "final_ann_scores.to_csv(\"/Users/rebeccakrall/Data/MoViNet Models After Jan 2025/Models/scratch_120624/scratch_120624_validations/scratch_120624_validation_021425/ann_scores.csv\")"
   ]
  },
  {
   "cell_type": "code",
   "execution_count": 19,
   "metadata": {},
   "outputs": [
    {
     "data": {
      "text/plain": [
       "{'Full Video: Abs difference mean': 78.71610325249621,\n",
       " 'Full Video: Abs difference median': 73.74668399501044,\n",
       " 'Full Video: Abs difference top': 172.43595413840416,\n",
       " 'Worst Video': 'PRX-03_Run_3_Computer_1_D8_Males_12DEC22.mp4_26',\n",
       " 'Bin: Max Difference': 61.948528777601226,\n",
       " 'Bin: Min Difference': -6.893697824860352,\n",
       " 'Bin: Mean Difference': 13.05878854552703,\n",
       " 'Bin: Median Difference': 8.979089458389108,\n",
       " 'Bin: FP count': 2,\n",
       " 'Bin: FN count': 172,\n",
       " 'Bin: FP percent': 0.8771929824561403,\n",
       " 'Bin: FN percent': 75.43859649122807,\n",
       " 'Bin: FP average': -3.4520338036731886,\n",
       " 'Bin: FP median': -3.4520338036731886,\n",
       " 'Bin: FN average': 17.350627069694823,\n",
       " 'Bin: FN median': 16.09372064115172,\n",
       " 'mean run time': 46.5120803962674}"
      ]
     },
     "execution_count": 19,
     "metadata": {},
     "output_type": "execute_result"
    }
   ],
   "source": [
    "scores"
   ]
  },
  {
   "cell_type": "code",
   "execution_count": 38,
   "metadata": {},
   "outputs": [],
   "source": [
    "checkpoint_path = \"/Users/rebeccakrall/Data/MoViNet Models After Jan 2025/Models/scratch_120624/scratch_120624_checkpoints\""
   ]
  },
  {
   "cell_type": "code",
   "execution_count": 39,
   "metadata": {},
   "outputs": [
    {
     "data": {
      "text/plain": [
       "'/Users/rebeccakrall/Data/MoViNet Models After Jan 2025/Models/scratch_120624/cp_021325'"
      ]
     },
     "execution_count": 39,
     "metadata": {},
     "output_type": "execute_result"
    }
   ],
   "source": [
    "checkpoint_dir = os.path.dirname(checkpoint_path)\n",
    "os.path.join(checkpoint_dir, 'cp_'+date.today().strftime(\"%m%d%y\"))"
   ]
  },
  {
   "cell_type": "code",
   "execution_count": null,
   "metadata": {},
   "outputs": [],
   "source": []
  }
 ],
 "metadata": {
  "kernelspec": {
   "display_name": "tf",
   "language": "python",
   "name": "python3"
  },
  "language_info": {
   "codemirror_mode": {
    "name": "ipython",
    "version": 3
   },
   "file_extension": ".py",
   "mimetype": "text/x-python",
   "name": "python",
   "nbconvert_exporter": "python",
   "pygments_lexer": "ipython3",
   "version": "3.11.4"
  }
 },
 "nbformat": 4,
 "nbformat_minor": 2
}
