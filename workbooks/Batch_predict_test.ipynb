{
 "cells": [
  {
   "cell_type": "code",
   "execution_count": 105,
   "metadata": {},
   "outputs": [],
   "source": [
    "from predict import *\n",
    "\n",
    "from tf_keras.losses import SparseCategoricalCrossentropy, BinaryCrossentropy"
   ]
  },
  {
   "cell_type": "code",
   "execution_count": 106,
   "metadata": {},
   "outputs": [],
   "source": [
    "def bool_to_annotations(y, fps =30):\n",
    "    \"\"\"Generates start and stop time in seconds for a boolean array\n",
    "\n",
    "    Args:\n",
    "        y (numpy.ndarray): boolean array indicating frames with scratching\n",
    "        fps (int, optional): frame rate\n",
    "\n",
    "    Returns:\n",
    "        list: list of starts, stops for each bout of scratching in boolean array\n",
    "    \"\"\"\n",
    "    y = np.insert(y, 0,0)\n",
    "    starts = np.where(np.diff(y) == 1)[0] \n",
    "    stops = np.where(np.diff(y)== -1)[0] \n",
    "\n",
    "    seconds = np.linspace(0, len(y)/fps, len(y))\n",
    "    st = seconds[starts]\n",
    "    sto = seconds[stops]\n",
    "    tc2 = [[s1, s2] for s1,s2 in zip(st,sto)]\n",
    "    return tc2"
   ]
  },
  {
   "cell_type": "code",
   "execution_count": 107,
   "metadata": {},
   "outputs": [],
   "source": [
    "def format_annotations(anns, start = 0, length = 30, bin_size = 5):\n",
    "    \n",
    "    n_bins = int(length/bin_size)\n",
    "    all_bouts = []\n",
    "    all_durations = []\n",
    "    for s in range(n_bins):\n",
    "        start_sec = (s * bin_size * 60) + (start * 60)\n",
    "        end_sec = start_sec + (bin_size * 60)\n",
    "\n",
    "        for a in anns:\n",
    "            duration = 0\n",
    "            bouts = 0\n",
    "            for a in anns:\n",
    "                b = (a >= start_sec) & (a <= end_sec)\n",
    "                if b[0] & b[1]:\n",
    "                    duration = duration + (a[1] - a[0])\n",
    "                    bouts = bouts + 1\n",
    "                if b[1] & ~b[0]:\n",
    "                    duration = duration +(a[1] - start_sec)\n",
    "                    bouts = bouts + 1\n",
    "                if b[0] & ~b[1]:\n",
    "                    duration = duration +(end_sec - a[0])\n",
    "                    bouts = bouts + 1\n",
    "        \n",
    "        all_bouts.append(bouts)\n",
    "        all_durations.append(duration)\n",
    "\n",
    "    return all_durations, all_bouts"
   ]
  },
  {
   "cell_type": "code",
   "execution_count": 4,
   "metadata": {},
   "outputs": [],
   "source": [
    "# model = load_movinet_model(checkpoint_path=\"/Users/rebeccakrall/Code/Multiclass_Behavioral_Classification/Models/scratch_101724/cp_00.ckpt\" )"
   ]
  },
  {
   "cell_type": "code",
   "execution_count": 108,
   "metadata": {},
   "outputs": [
    {
     "name": "stderr",
     "output_type": "stream",
     "text": [
      "2025-01-15 13:11:50.075565: I metal_plugin/src/device/metal_device.cc:1154] Metal device set to: Apple M2 Pro\n",
      "2025-01-15 13:11:50.075877: I metal_plugin/src/device/metal_device.cc:296] systemMemory: 16.00 GB\n",
      "2025-01-15 13:11:50.075896: I metal_plugin/src/device/metal_device.cc:313] maxCacheSize: 5.33 GB\n",
      "2025-01-15 13:11:50.076366: I tensorflow/core/common_runtime/pluggable_device/pluggable_device_factory.cc:305] Could not identify NUMA node of platform GPU ID 0, defaulting to 0. Your kernel may not have been built with NUMA support.\n",
      "2025-01-15 13:11:50.076544: I tensorflow/core/common_runtime/pluggable_device/pluggable_device_factory.cc:271] Created TensorFlow device (/job:localhost/replica:0/task:0/device:GPU:0 with 0 MB memory) -> physical PluggableDevice (device: 0, name: METAL, pci bus id: <undefined>)\n"
     ]
    },
    {
     "name": "stdout",
     "output_type": "stream",
     "text": [
      "Running on single GPU  /device:GPU:0\n",
      "Number of accelerators:  1\n"
     ]
    },
    {
     "data": {
      "text/plain": [
       "<tensorflow.python.checkpoint.checkpoint.CheckpointLoadStatus at 0x2e518ba50>"
      ]
     },
     "execution_count": 108,
     "metadata": {},
     "output_type": "execute_result"
    }
   ],
   "source": [
    "model_id = 'a0'\n",
    "use_positional_encoding = model_id in {'a3', 'a4', 'a5'}\n",
    "resolution = 172\n",
    "\n",
    "backbone = movinet.Movinet(\n",
    "    model_id=model_id,\n",
    "    causal=True,\n",
    "    conv_type='2plus1d',\n",
    "    se_type='2plus3d',\n",
    "    activation='hard_swish',\n",
    "    gating_activation='hard_sigmoid',\n",
    "    use_positional_encoding=use_positional_encoding,\n",
    "    use_external_states=False,\n",
    ")\n",
    "\n",
    "# model = movinet_model.MovinetClassifier(\n",
    "#     backbone,\n",
    "#     num_classes=1,\n",
    "#     output_states=True)\n",
    "\n",
    "# # Create your example input here.\n",
    "# # Refer to the paper for recommended input shapes.\n",
    "# inputs = tf.ones([8, 30, 172, 172, 3]) #(8, 8, 224, 224, 3)\n",
    "\n",
    "# # [Optional] Build the model and load a pretrained checkpoint.\n",
    "# model.build(inputs.shape)\n",
    "\n",
    "\n",
    "\n",
    "\n",
    "\n",
    "# load previous checkpoing\n",
    "# checkpoint_dir = 'binary_model'\n",
    "# checkpoint_path = tf.train.latest_checkpoint(checkpoint_dir)\n",
    "# checkpoint = tf.train.Checkpoint(model=model)\n",
    "# status = checkpoint.restore(checkpoint_path)\n",
    "# status.assert_existing_objects_matched()\n",
    "\n",
    "# Detect hardware\n",
    "try:\n",
    "  tpu_resolver = tf.distribute.cluster_resolver.TPUClusterResolver() # TPU detection\n",
    "except ValueError:\n",
    "  tpu_resolver = None\n",
    "  gpus = tf.config.experimental.list_logical_devices(\"GPU\")\n",
    "\n",
    "# Select appropriate distribution strategy\n",
    "if tpu_resolver:\n",
    "  tf.config.experimental_connect_to_cluster(tpu_resolver)\n",
    "  tf.tpu.experimental.initialize_tpu_system(tpu_resolver)\n",
    "  distribution_strategy = tf.distribute.experimental.TPUStrategy(tpu_resolver)\n",
    "  print('Running on TPU ', tpu_resolver.cluster_spec().as_dict()['worker'])\n",
    "elif len(gpus) > 1:\n",
    "  distribution_strategy = tf.distribute.MirroredStrategy([gpu.name for gpu in gpus])\n",
    "  print('Running on multiple GPUs ', [gpu.name for gpu in gpus])\n",
    "elif len(gpus) == 1:\n",
    "  distribution_strategy = tf.distribute.get_strategy() # default strategy that works on CPU and single GPU\n",
    "  print('Running on single GPU ', gpus[0].name)\n",
    "else:\n",
    "  distribution_strategy = tf.distribute.get_strategy() # default strategy that works on CPU and single GPU\n",
    "  print('Running on CPU')\n",
    "\n",
    "print(\"Number of accelerators: \", distribution_strategy.num_replicas_in_sync)\n",
    "\n",
    "\n",
    "def build_classifier(batch_size, num_frames, resolution, backbone, num_classes):\n",
    "  \"\"\"Builds a classifier on top of a backbone model.\"\"\"\n",
    "  model = movinet_model.MovinetClassifier(\n",
    "      backbone=backbone,\n",
    "      num_classes=num_classes)\n",
    "  model.build([batch_size, num_frames, resolution, resolution, 3])\n",
    "\n",
    "  return model\n",
    "\n",
    "\n",
    "batch_size = 8\n",
    "num_frames = 30\n",
    "# Construct loss, optimizer and compile the model\n",
    "with distribution_strategy.scope():\n",
    "  model = build_classifier(batch_size, num_frames, resolution, backbone, 1)\n",
    "  loss_obj =  BinaryCrossentropy(from_logits=True)\n",
    "  optimizer = tf_keras.optimizers.legacy.Adam(learning_rate = 0.001)\n",
    "  model.compile(loss=loss_obj, optimizer=optimizer, metrics=['accuracy'])\n",
    "\n",
    "checkpoint_dir = \"/Users/rebeccakrall/Code/Multiclass_Behavioral_Classification/Models/scratch_121824\"\n",
    "model.load_weights(tf.train.latest_checkpoint(checkpoint_dir))"
   ]
  },
  {
   "cell_type": "code",
   "execution_count": 6,
   "metadata": {},
   "outputs": [],
   "source": [
    "# video_path = \"/Users/rebeccakrall/Data/Video Processing and Prediction/Scratching_Projects/PRX_03/PRX_03_Videos/PRX-03_Run_3_Computer_1_D8_Males_12DEC22.mp4\"\n",
    "# "
   ]
  },
  {
   "cell_type": "code",
   "execution_count": 10,
   "metadata": {},
   "outputs": [
    {
     "name": "stderr",
     "output_type": "stream",
     "text": [
      "/Users/rebeccakrall/Code/Multiclass_Behavioral_Classification/video_preprocessing.py:233: RuntimeWarning: Mean of empty slice\n",
      "  dis = np.nanmean(x_displace[start::3])\n"
     ]
    }
   ],
   "source": [
    "video_path = \"/Users/rebeccakrall/Data/Video Processing and Prediction/Scratching_Projects/PRX_03/PRX_03_Videos/PRX_03_Run_1_Computer_1_D12_Males_16DEC22clip_2.mp4\"\n",
    "\n",
    "output_signature = (tf.TensorSpec(shape = (None, None, None, None, 3), dtype = tf.float32))\n",
    "\n",
    "\n",
    "predict_ds = tf.data.Dataset.from_generator(VidGenerator(video_path, n_frames = 20, frame_step = 1, buffer = 300, output_size = (172,172), animal_choice = 'm6', \n",
    "                                                         start = 0, stop = 1800),\n",
    "                                            output_signature = output_signature)\n",
    "\n",
    "# predict_ds = predict_ds.batch(8)\n",
    "\n"
   ]
  },
  {
   "cell_type": "code",
   "execution_count": 11,
   "metadata": {},
   "outputs": [
    {
     "name": "stdout",
     "output_type": "stream",
     "text": [
      "opened cap\n",
      "     90/Unknown - 113s 965ms/step"
     ]
    },
    {
     "name": "stderr",
     "output_type": "stream",
     "text": [
      "2025-01-07 15:45:46.375812: W tensorflow/core/framework/local_rendezvous.cc:404] Local rendezvous is aborting with status: OUT_OF_RANGE: End of sequence\n",
      "\t [[{{node IteratorGetNext}}]]\n",
      "\t [[IteratorGetNext/_4]]\n",
      "2025-01-07 15:45:46.375844: W tensorflow/core/framework/local_rendezvous.cc:404] Local rendezvous is aborting with status: OUT_OF_RANGE: End of sequence\n",
      "\t [[{{node IteratorGetNext}}]]\n",
      "2025-01-07 15:45:46.375861: I tensorflow/core/framework/local_rendezvous.cc:422] Local rendezvous recv item cancelled. Key hash: 16106587468826726925\n",
      "2025-01-07 15:45:46.375866: I tensorflow/core/framework/local_rendezvous.cc:422] Local rendezvous recv item cancelled. Key hash: 2201015744223834791\n",
      "2025-01-07 15:45:46.375870: I tensorflow/core/framework/local_rendezvous.cc:422] Local rendezvous recv item cancelled. Key hash: 11892870399051756232\n",
      "2025-01-07 15:45:46.375877: I tensorflow/core/framework/local_rendezvous.cc:422] Local rendezvous recv item cancelled. Key hash: 8386689478797288257\n",
      "2025-01-07 15:45:46.375879: I tensorflow/core/framework/local_rendezvous.cc:422] Local rendezvous recv item cancelled. Key hash: 14535057031604331348\n",
      "2025-01-07 15:45:46.375883: I tensorflow/core/framework/local_rendezvous.cc:422] Local rendezvous recv item cancelled. Key hash: 1944937586111997394\n",
      "2025-01-07 15:45:46.375887: I tensorflow/core/framework/local_rendezvous.cc:422] Local rendezvous recv item cancelled. Key hash: 5306172210739357339\n",
      "2025-01-07 15:45:46.375891: I tensorflow/core/framework/local_rendezvous.cc:422] Local rendezvous recv item cancelled. Key hash: 13910783369030899236\n",
      "2025-01-07 15:45:46.375895: I tensorflow/core/framework/local_rendezvous.cc:422] Local rendezvous recv item cancelled. Key hash: 5385089132060055541\n",
      "2025-01-07 15:45:46.375897: I tensorflow/core/framework/local_rendezvous.cc:422] Local rendezvous recv item cancelled. Key hash: 4259207352874055786\n",
      "2025-01-07 15:45:46.375901: I tensorflow/core/framework/local_rendezvous.cc:422] Local rendezvous recv item cancelled. Key hash: 13344529383436613605\n",
      "2025-01-07 15:45:46.375906: I tensorflow/core/framework/local_rendezvous.cc:422] Local rendezvous recv item cancelled. Key hash: 9299378640796622159\n",
      "2025-01-07 15:45:46.375910: I tensorflow/core/framework/local_rendezvous.cc:422] Local rendezvous recv item cancelled. Key hash: 10095877137913620760\n",
      "2025-01-07 15:45:46.375916: I tensorflow/core/framework/local_rendezvous.cc:422] Local rendezvous recv item cancelled. Key hash: 6791836009956535893\n",
      "2025-01-07 15:45:46.375920: I tensorflow/core/framework/local_rendezvous.cc:422] Local rendezvous recv item cancelled. Key hash: 2765941672892410398\n",
      "2025-01-07 15:45:46.375924: I tensorflow/core/framework/local_rendezvous.cc:422] Local rendezvous recv item cancelled. Key hash: 1017166650493164150\n"
     ]
    },
    {
     "name": "stdout",
     "output_type": "stream",
     "text": [
      "90/90 [==============================] - 114s 979ms/step\n"
     ]
    }
   ],
   "source": [
    "a = model.predict(predict_ds, batch_size = 256)"
   ]
  },
  {
   "cell_type": "code",
   "execution_count": 70,
   "metadata": {},
   "outputs": [
    {
     "data": {
      "text/plain": [
       "[[0.0, 3.3703703703703702], [45.162962962962965, 47.85925925925926]]"
      ]
     },
     "execution_count": 70,
     "metadata": {},
     "output_type": "execute_result"
    }
   ],
   "source": [
    "bool_to_annotations(np.array(a < 0).astype(int), fps = 1.5)"
   ]
  },
  {
   "cell_type": "code",
   "execution_count": 110,
   "metadata": {},
   "outputs": [],
   "source": [
    "import pandas as pd"
   ]
  },
  {
   "cell_type": "code",
   "execution_count": 189,
   "metadata": {},
   "outputs": [],
   "source": [
    "ref = pd.read_csv(\"/Users/rebeccakrall/Desktop/MoviNet Scratch Model Tests/some_manual_scores_prx03.csv\")"
   ]
  },
  {
   "cell_type": "code",
   "execution_count": 112,
   "metadata": {},
   "outputs": [],
   "source": [
    "vid_directory = \"/Users/rebeccakrall/Data/Video Processing and Prediction/Scratching_Projects/PRX_03/PRX_03_Videos\"\n",
    "ref = pd.read_csv(\"/Users/rebeccakrall/Desktop/MoviNet Scratch Model Tests/some_manual_scores_prx03.csv\")\n",
    "\n",
    "output_signature = (tf.TensorSpec(shape = (None, None, None, None, 3), dtype = tf.float32))\n",
    "fps =  30\n"
   ]
  },
  {
   "cell_type": "code",
   "execution_count": 119,
   "metadata": {},
   "outputs": [
    {
     "name": "stdout",
     "output_type": "stream",
     "text": [
      "opened cap\n",
      "    450/Unknown - 468s 1s/step"
     ]
    },
    {
     "name": "stderr",
     "output_type": "stream",
     "text": [
      "2025-01-15 13:30:58.802907: W tensorflow/core/framework/local_rendezvous.cc:404] Local rendezvous is aborting with status: OUT_OF_RANGE: End of sequence\n",
      "\t [[{{node IteratorGetNext}}]]\n",
      "2025-01-15 13:30:58.802929: W tensorflow/core/framework/local_rendezvous.cc:404] Local rendezvous is aborting with status: OUT_OF_RANGE: End of sequence\n",
      "\t [[{{node IteratorGetNext}}]]\n",
      "\t [[movinet_classifier/movinet/block4_layer2/bneck/se/global_average_pool3d_13/Cumsum/_114]]\n",
      "2025-01-15 13:30:58.802935: I tensorflow/core/framework/local_rendezvous.cc:422] Local rendezvous recv item cancelled. Key hash: 4082223203863552271\n",
      "2025-01-15 13:30:58.802939: I tensorflow/core/framework/local_rendezvous.cc:422] Local rendezvous recv item cancelled. Key hash: 3094463015911572063\n",
      "2025-01-15 13:30:58.802943: I tensorflow/core/framework/local_rendezvous.cc:422] Local rendezvous recv item cancelled. Key hash: 7116168882887140051\n",
      "2025-01-15 13:30:58.802946: I tensorflow/core/framework/local_rendezvous.cc:422] Local rendezvous recv item cancelled. Key hash: 16062630352102710869\n",
      "2025-01-15 13:30:58.802950: I tensorflow/core/framework/local_rendezvous.cc:422] Local rendezvous recv item cancelled. Key hash: 5476278867600328173\n",
      "2025-01-15 13:30:58.802954: I tensorflow/core/framework/local_rendezvous.cc:422] Local rendezvous recv item cancelled. Key hash: 7206555579794859617\n",
      "2025-01-15 13:30:58.802957: I tensorflow/core/framework/local_rendezvous.cc:422] Local rendezvous recv item cancelled. Key hash: 13951455408492816647\n",
      "2025-01-15 13:30:58.802960: I tensorflow/core/framework/local_rendezvous.cc:422] Local rendezvous recv item cancelled. Key hash: 3019375244131166587\n",
      "2025-01-15 13:30:58.802964: I tensorflow/core/framework/local_rendezvous.cc:422] Local rendezvous recv item cancelled. Key hash: 7704057874684488217\n",
      "2025-01-15 13:30:58.802976: I tensorflow/core/framework/local_rendezvous.cc:422] Local rendezvous recv item cancelled. Key hash: 7485754172286479419\n",
      "2025-01-15 13:30:58.802979: I tensorflow/core/framework/local_rendezvous.cc:422] Local rendezvous recv item cancelled. Key hash: 12639083311411112847\n",
      "2025-01-15 13:30:58.802982: I tensorflow/core/framework/local_rendezvous.cc:422] Local rendezvous recv item cancelled. Key hash: 13060312373163354397\n",
      "2025-01-15 13:30:58.802985: I tensorflow/core/framework/local_rendezvous.cc:422] Local rendezvous recv item cancelled. Key hash: 7848292962661716025\n",
      "2025-01-15 13:30:58.802989: I tensorflow/core/framework/local_rendezvous.cc:422] Local rendezvous recv item cancelled. Key hash: 5939643285437214579\n",
      "2025-01-15 13:30:58.802992: I tensorflow/core/framework/local_rendezvous.cc:422] Local rendezvous recv item cancelled. Key hash: 12944805144186910127\n",
      "2025-01-15 13:30:58.802995: I tensorflow/core/framework/local_rendezvous.cc:422] Local rendezvous recv item cancelled. Key hash: 10454054872368027279\n",
      "2025-01-15 13:30:58.802999: I tensorflow/core/framework/local_rendezvous.cc:422] Local rendezvous recv item cancelled. Key hash: 14298508788680112265\n",
      "2025-01-15 13:30:58.803002: I tensorflow/core/framework/local_rendezvous.cc:422] Local rendezvous recv item cancelled. Key hash: 11552275524110458495\n",
      "2025-01-15 13:30:58.803005: I tensorflow/core/framework/local_rendezvous.cc:422] Local rendezvous recv item cancelled. Key hash: 17332453746031091333\n",
      "2025-01-15 13:30:58.803041: I tensorflow/core/framework/local_rendezvous.cc:422] Local rendezvous recv item cancelled. Key hash: 6676908403184903850\n",
      "2025-01-15 13:30:58.803044: I tensorflow/core/framework/local_rendezvous.cc:422] Local rendezvous recv item cancelled. Key hash: 9577611416431527992\n",
      "2025-01-15 13:30:58.803048: I tensorflow/core/framework/local_rendezvous.cc:422] Local rendezvous recv item cancelled. Key hash: 15472843535198489024\n",
      "2025-01-15 13:30:58.803051: I tensorflow/core/framework/local_rendezvous.cc:422] Local rendezvous recv item cancelled. Key hash: 17748478088887667306\n",
      "2025-01-15 13:30:58.803055: I tensorflow/core/framework/local_rendezvous.cc:422] Local rendezvous recv item cancelled. Key hash: 48098439451527952\n",
      "2025-01-15 13:30:58.803057: I tensorflow/core/framework/local_rendezvous.cc:422] Local rendezvous recv item cancelled. Key hash: 14664058997090897298\n",
      "2025-01-15 13:30:58.803061: I tensorflow/core/framework/local_rendezvous.cc:422] Local rendezvous recv item cancelled. Key hash: 1455566742718410674\n",
      "2025-01-15 13:30:58.803064: I tensorflow/core/framework/local_rendezvous.cc:422] Local rendezvous recv item cancelled. Key hash: 12390065237917184640\n",
      "2025-01-15 13:30:58.803067: I tensorflow/core/framework/local_rendezvous.cc:422] Local rendezvous recv item cancelled. Key hash: 7726055053424227298\n",
      "2025-01-15 13:30:58.803072: I tensorflow/core/framework/local_rendezvous.cc:422] Local rendezvous recv item cancelled. Key hash: 17922666948142750078\n",
      "2025-01-15 13:30:58.803075: I tensorflow/core/framework/local_rendezvous.cc:422] Local rendezvous recv item cancelled. Key hash: 2513280695774288728\n",
      "2025-01-15 13:30:58.803078: I tensorflow/core/framework/local_rendezvous.cc:422] Local rendezvous recv item cancelled. Key hash: 17361859726114585798\n",
      "2025-01-15 13:30:58.803081: I tensorflow/core/framework/local_rendezvous.cc:422] Local rendezvous recv item cancelled. Key hash: 8522499393285094334\n"
     ]
    },
    {
     "name": "stdout",
     "output_type": "stream",
     "text": [
      "450/450 [==============================] - 468s 1s/step\n"
     ]
    }
   ],
   "source": [
    "# single vid test\n",
    "ind = 7\n",
    "mouse_id = ref.loc[ind, 'mouse id']\n",
    "fp = os.path.join(vid_directory, ref.loc[ind, 'filepath'])\n",
    "# start_ind = ref.loc[ind, 'Video Start Time'] * 60 * fps\n",
    "# end_ind = ref.loc[ind, 'Video End Time'] * 60 * fps\n",
    "start_ind = 0 * 60 * fps\n",
    "end_ind= 5 * 60 * fps\n",
    "\n",
    "predict_ds = tf.data.Dataset.from_generator(VidGenerator(fp, n_frames = 20, frame_step = 1, buffer = 300, output_size = (172,172), animal_choice = mouse_id, \n",
    "                                                         start = start_ind, stop = end_ind),\n",
    "                                            output_signature = output_signature)\n",
    "\n",
    "a = model.predict(predict_ds, batch_size = 256)\n"
   ]
  },
  {
   "cell_type": "code",
   "execution_count": 134,
   "metadata": {},
   "outputs": [],
   "source": [
    "ann = bool_to_annotations(np.array(a < 0).astype(int), fps = 2/3)\n",
    "# tot = sum((a < 0))"
   ]
  },
  {
   "cell_type": "code",
   "execution_count": 124,
   "metadata": {},
   "outputs": [
    {
     "data": {
      "text/plain": [
       "[[1.3362962962962963, 2.6725925925925926],\n",
       " [114.25333333333333, 114.92148148148148],\n",
       " [118.93037037037037, 119.59851851851852],\n",
       " [120.93481481481481, 124.27555555555556],\n",
       " [130.2888888888889, 132.29333333333332],\n",
       " [168.37333333333333, 169.0414814814815],\n",
       " [174.38666666666666, 178.39555555555555],\n",
       " [179.73185185185184, 180.4],\n",
       " [181.7362962962963, 182.40444444444444],\n",
       " [184.4088888888889, 185.07703703703703],\n",
       " [185.7451851851852, 188.4177777777778],\n",
       " [218.48444444444445, 220.48888888888888],\n",
       " [242.5377777777778, 247.21481481481482],\n",
       " [256.56888888888886, 257.9051851851852],\n",
       " [261.91407407407405, 265.25481481481484],\n",
       " [287.97185185185185, 290.64444444444445],\n",
       " [296.65777777777777, 297.32592592592596]]"
      ]
     },
     "execution_count": 124,
     "metadata": {},
     "output_type": "execute_result"
    }
   ],
   "source": [
    "ann"
   ]
  },
  {
   "cell_type": "code",
   "execution_count": 125,
   "metadata": {},
   "outputs": [
    {
     "data": {
      "text/plain": [
       "4.95"
      ]
     },
     "execution_count": 125,
     "metadata": {},
     "output_type": "execute_result"
    }
   ],
   "source": [
    "297/60"
   ]
  },
  {
   "cell_type": "code",
   "execution_count": 13,
   "metadata": {},
   "outputs": [],
   "source": [
    "duration, bouts =  format_annotations(np.array(ann))"
   ]
  },
  {
   "cell_type": "code",
   "execution_count": 14,
   "metadata": {},
   "outputs": [
    {
     "data": {
      "text/plain": [
       "[42.68246913580237,\n",
       " 27.121234567901126,\n",
       " 27.565679012345754,\n",
       " 22.67506172839512,\n",
       " 18.00666666666666,\n",
       " 2.6676543209875945]"
      ]
     },
     "execution_count": 14,
     "metadata": {},
     "output_type": "execute_result"
    }
   ],
   "source": [
    "duration"
   ]
  },
  {
   "cell_type": "code",
   "execution_count": null,
   "metadata": {},
   "outputs": [],
   "source": [
    "logits = {}\n",
    "anns = {}\n",
    "for ind, row in ref.iterrows():\n",
    "    print(f\"analyzing {row['filepath']}\")\n",
    "    mouse_id = row['mouse id']\n",
    "    fp = os.path.join(vid_directory, row['filepath'])\n",
    "    start_ind = row['Video Start Time'] * 60 * fps\n",
    "    end_ind = row['Video End Time'] * 60 * fps\n",
    "    predict_ds = tf.data.Dataset.from_generator(VidGenerator(fp, n_frames = 30, frame_step = 1, buffer = 300, output_size = (172,172), animal_choice = mouse_id, \n",
    "                                                         start = start_ind, stop = end_ind),\n",
    "                                            output_signature = output_signature)\n",
    "    \n",
    "    a = model.predict(predict_ds, batch_size = 256)\n",
    "    ann = bool_to_annotations(np.array(a < 0).astype(int), fps = 1.5)\n",
    "\n",
    "    logits[ind] = a\n",
    "    anns[ind] = ann"
   ]
  },
  {
   "cell_type": "code",
   "execution_count": 190,
   "metadata": {},
   "outputs": [],
   "source": [
    "with open(\"/Users/rebeccakrall/Desktop/MoviNet Scratch Model Tests/Fourth round/logits5.pkl\", 'rb') as file:\n",
    "    logits = pickle.load(file)"
   ]
  },
  {
   "cell_type": "code",
   "execution_count": 191,
   "metadata": {},
   "outputs": [],
   "source": [
    "anns = {}\n",
    "for k,v in logits.items():\n",
    "    logs = np.array([[x] * 20 for x in np.array(v < 0).astype(int)]).flatten()\n",
    "    ann = bool_to_annotations(logs, fps = 24)\n",
    "    anns[k] = ann"
   ]
  },
  {
   "cell_type": "code",
   "execution_count": 15,
   "metadata": {},
   "outputs": [],
   "source": [
    "with open(\"/Users/rebeccakrall/Desktop/anns5.pkl\", \"wb\") as file:\n",
    "    pickle.dump(anns, file)"
   ]
  },
  {
   "cell_type": "code",
   "execution_count": 192,
   "metadata": {},
   "outputs": [],
   "source": [
    "total = {}\n",
    "for k,v in logits.items():\n",
    "    total[k] = sum((v < 0) * (2/3))\n"
   ]
  },
  {
   "cell_type": "code",
   "execution_count": 193,
   "metadata": {},
   "outputs": [],
   "source": [
    "ref['model_count'] = [x[0] for x  in total.values()]"
   ]
  },
  {
   "cell_type": "code",
   "execution_count": 194,
   "metadata": {},
   "outputs": [],
   "source": [
    "ref['dif'] = ref['model_count'] - ref['Total Time']"
   ]
  },
  {
   "cell_type": "code",
   "execution_count": 195,
   "metadata": {},
   "outputs": [
    {
     "data": {
      "text/html": [
       "<div>\n",
       "<style scoped>\n",
       "    .dataframe tbody tr th:only-of-type {\n",
       "        vertical-align: middle;\n",
       "    }\n",
       "\n",
       "    .dataframe tbody tr th {\n",
       "        vertical-align: top;\n",
       "    }\n",
       "\n",
       "    .dataframe thead th {\n",
       "        text-align: right;\n",
       "    }\n",
       "</style>\n",
       "<table border=\"1\" class=\"dataframe\">\n",
       "  <thead>\n",
       "    <tr style=\"text-align: right;\">\n",
       "      <th></th>\n",
       "      <th>Unnamed: 0</th>\n",
       "      <th>filepath</th>\n",
       "      <th>mouse id</th>\n",
       "      <th>Video</th>\n",
       "      <th>Subject #</th>\n",
       "      <th>Scorer</th>\n",
       "      <th>Video Start Time</th>\n",
       "      <th>Video End Time</th>\n",
       "      <th>0-5</th>\n",
       "      <th>10-May</th>\n",
       "      <th>15-Oct</th>\n",
       "      <th>15-20</th>\n",
       "      <th>20-25</th>\n",
       "      <th>25-30</th>\n",
       "      <th>Total Time</th>\n",
       "      <th>model_count</th>\n",
       "      <th>dif</th>\n",
       "    </tr>\n",
       "  </thead>\n",
       "  <tbody>\n",
       "    <tr>\n",
       "      <th>60</th>\n",
       "      <td>60</td>\n",
       "      <td>PRX_03_Run_4_Computer_1_D12_females_19DEC22.mp4</td>\n",
       "      <td>m1</td>\n",
       "      <td>D12_Female_Run 4_Comp 1 (F85-90)</td>\n",
       "      <td>89</td>\n",
       "      <td>Jonathan</td>\n",
       "      <td>8</td>\n",
       "      <td>38</td>\n",
       "      <td>15.48</td>\n",
       "      <td>14.76</td>\n",
       "      <td>17.02</td>\n",
       "      <td>9.47</td>\n",
       "      <td>11.53</td>\n",
       "      <td>74.94</td>\n",
       "      <td>143.20</td>\n",
       "      <td>96.000000</td>\n",
       "      <td>-47.200000</td>\n",
       "    </tr>\n",
       "    <tr>\n",
       "      <th>20</th>\n",
       "      <td>20</td>\n",
       "      <td>PRX_03_Run_3_Computer_1_D12_Males_16DEC22.mp4</td>\n",
       "      <td>m4</td>\n",
       "      <td>D12_Male_Run 3_Comp 1 (m25-30)</td>\n",
       "      <td>30</td>\n",
       "      <td>Josh</td>\n",
       "      <td>10</td>\n",
       "      <td>40</td>\n",
       "      <td>29.59</td>\n",
       "      <td>54.94</td>\n",
       "      <td>57.19</td>\n",
       "      <td>66.33</td>\n",
       "      <td>33.88</td>\n",
       "      <td>11.94</td>\n",
       "      <td>253.87</td>\n",
       "      <td>222.000000</td>\n",
       "      <td>-31.870000</td>\n",
       "    </tr>\n",
       "    <tr>\n",
       "      <th>5</th>\n",
       "      <td>5</td>\n",
       "      <td>PRX_03_Run_3_Computer_2_D8_Males_12DEC22.mp4</td>\n",
       "      <td>m3</td>\n",
       "      <td>D8_Male_Run 3_Comp 2 (m31-36)</td>\n",
       "      <td>31</td>\n",
       "      <td>Bob</td>\n",
       "      <td>0</td>\n",
       "      <td>30</td>\n",
       "      <td>18.68</td>\n",
       "      <td>20.94</td>\n",
       "      <td>39.89</td>\n",
       "      <td>59.28</td>\n",
       "      <td>26.26</td>\n",
       "      <td>0.00</td>\n",
       "      <td>165.05</td>\n",
       "      <td>138.000000</td>\n",
       "      <td>-27.050000</td>\n",
       "    </tr>\n",
       "    <tr>\n",
       "      <th>56</th>\n",
       "      <td>56</td>\n",
       "      <td>PRX_03_Run_3_Computer_2_D12_females_19DEC22.mp4</td>\n",
       "      <td>m2</td>\n",
       "      <td>D12_Female_Run 3_Comp 2 (F79-84)</td>\n",
       "      <td>81</td>\n",
       "      <td>Jonathan</td>\n",
       "      <td>4</td>\n",
       "      <td>34</td>\n",
       "      <td>0.00</td>\n",
       "      <td>0.00</td>\n",
       "      <td>37.48</td>\n",
       "      <td>0.00</td>\n",
       "      <td>0.00</td>\n",
       "      <td>0.00</td>\n",
       "      <td>37.48</td>\n",
       "      <td>24.000000</td>\n",
       "      <td>-13.480000</td>\n",
       "    </tr>\n",
       "    <tr>\n",
       "      <th>27</th>\n",
       "      <td>27</td>\n",
       "      <td>PRX_03_Run_4_Computer_2_D12_Males_16DEC22.mp4</td>\n",
       "      <td>m6</td>\n",
       "      <td>D12_Male_Run 4_Comp 2 (m43-48)</td>\n",
       "      <td>44</td>\n",
       "      <td>Faizan</td>\n",
       "      <td>2</td>\n",
       "      <td>32</td>\n",
       "      <td>31.78</td>\n",
       "      <td>25.03</td>\n",
       "      <td>50.09</td>\n",
       "      <td>0.00</td>\n",
       "      <td>0.00</td>\n",
       "      <td>0.00</td>\n",
       "      <td>106.90</td>\n",
       "      <td>95.333333</td>\n",
       "      <td>-11.566667</td>\n",
       "    </tr>\n",
       "    <tr>\n",
       "      <th>...</th>\n",
       "      <td>...</td>\n",
       "      <td>...</td>\n",
       "      <td>...</td>\n",
       "      <td>...</td>\n",
       "      <td>...</td>\n",
       "      <td>...</td>\n",
       "      <td>...</td>\n",
       "      <td>...</td>\n",
       "      <td>...</td>\n",
       "      <td>...</td>\n",
       "      <td>...</td>\n",
       "      <td>...</td>\n",
       "      <td>...</td>\n",
       "      <td>...</td>\n",
       "      <td>...</td>\n",
       "      <td>...</td>\n",
       "      <td>...</td>\n",
       "    </tr>\n",
       "    <tr>\n",
       "      <th>2</th>\n",
       "      <td>2</td>\n",
       "      <td>PRX-03_Run_3_Computer_1_D8_Males_12DEC22.mp4</td>\n",
       "      <td>m5</td>\n",
       "      <td>D8_Male_Run 3_Comp 1 (m25-30)</td>\n",
       "      <td>28</td>\n",
       "      <td>Bob</td>\n",
       "      <td>6</td>\n",
       "      <td>36</td>\n",
       "      <td>42.98</td>\n",
       "      <td>12.94</td>\n",
       "      <td>25.65</td>\n",
       "      <td>1.85</td>\n",
       "      <td>12.53</td>\n",
       "      <td>55.99</td>\n",
       "      <td>151.94</td>\n",
       "      <td>226.000000</td>\n",
       "      <td>74.060000</td>\n",
       "    </tr>\n",
       "    <tr>\n",
       "      <th>17</th>\n",
       "      <td>17</td>\n",
       "      <td>PRX_03_Run_3_Computer_1_D12_Males_16DEC22.mp4</td>\n",
       "      <td>m6</td>\n",
       "      <td>D12_Male_Run 3_Comp 1 (m25-30)</td>\n",
       "      <td>26</td>\n",
       "      <td>Bob</td>\n",
       "      <td>2</td>\n",
       "      <td>32</td>\n",
       "      <td>23.30</td>\n",
       "      <td>21.04</td>\n",
       "      <td>35.92</td>\n",
       "      <td>33.04</td>\n",
       "      <td>0.00</td>\n",
       "      <td>17.40</td>\n",
       "      <td>130.70</td>\n",
       "      <td>209.333333</td>\n",
       "      <td>78.633333</td>\n",
       "    </tr>\n",
       "    <tr>\n",
       "      <th>7</th>\n",
       "      <td>7</td>\n",
       "      <td>PRX_03_Run_3_Computer_2_D8_Males_12DEC22.mp4</td>\n",
       "      <td>m2</td>\n",
       "      <td>D8_Male_Run 3_Comp 2 (m31-36)</td>\n",
       "      <td>33</td>\n",
       "      <td>Bob</td>\n",
       "      <td>4</td>\n",
       "      <td>34</td>\n",
       "      <td>25.06</td>\n",
       "      <td>23.62</td>\n",
       "      <td>24.54</td>\n",
       "      <td>0.75</td>\n",
       "      <td>40.11</td>\n",
       "      <td>74.18</td>\n",
       "      <td>188.26</td>\n",
       "      <td>272.666667</td>\n",
       "      <td>84.406667</td>\n",
       "    </tr>\n",
       "    <tr>\n",
       "      <th>23</th>\n",
       "      <td>23</td>\n",
       "      <td>PRX_03_Run_3_Computer_2_D12_Males_16DEC22.mp4</td>\n",
       "      <td>m2</td>\n",
       "      <td>D12_Male_Run 3_Comp 2 (m31-36)</td>\n",
       "      <td>33</td>\n",
       "      <td>Richard</td>\n",
       "      <td>4</td>\n",
       "      <td>34</td>\n",
       "      <td>34.43</td>\n",
       "      <td>36.76</td>\n",
       "      <td>6.03</td>\n",
       "      <td>29.17</td>\n",
       "      <td>2.53</td>\n",
       "      <td>9.63</td>\n",
       "      <td>118.55</td>\n",
       "      <td>204.000000</td>\n",
       "      <td>85.450000</td>\n",
       "    </tr>\n",
       "    <tr>\n",
       "      <th>1</th>\n",
       "      <td>1</td>\n",
       "      <td>PRX-03_Run_3_Computer_1_D8_Males_12DEC22.mp4</td>\n",
       "      <td>m6</td>\n",
       "      <td>D8_Male_Run 3_Comp 1 (m25-30)</td>\n",
       "      <td>26</td>\n",
       "      <td>Bob</td>\n",
       "      <td>2</td>\n",
       "      <td>32</td>\n",
       "      <td>22.13</td>\n",
       "      <td>26.32</td>\n",
       "      <td>55.03</td>\n",
       "      <td>4.50</td>\n",
       "      <td>65.95</td>\n",
       "      <td>9.51</td>\n",
       "      <td>183.44</td>\n",
       "      <td>310.666667</td>\n",
       "      <td>127.226667</td>\n",
       "    </tr>\n",
       "  </tbody>\n",
       "</table>\n",
       "<p>64 rows × 17 columns</p>\n",
       "</div>"
      ],
      "text/plain": [
       "    Unnamed: 0                                         filepath mouse id  \\\n",
       "60          60  PRX_03_Run_4_Computer_1_D12_females_19DEC22.mp4       m1   \n",
       "20          20    PRX_03_Run_3_Computer_1_D12_Males_16DEC22.mp4       m4   \n",
       "5            5     PRX_03_Run_3_Computer_2_D8_Males_12DEC22.mp4       m3   \n",
       "56          56  PRX_03_Run_3_Computer_2_D12_females_19DEC22.mp4       m2   \n",
       "27          27    PRX_03_Run_4_Computer_2_D12_Males_16DEC22.mp4       m6   \n",
       "..         ...                                              ...      ...   \n",
       "2            2     PRX-03_Run_3_Computer_1_D8_Males_12DEC22.mp4       m5   \n",
       "17          17    PRX_03_Run_3_Computer_1_D12_Males_16DEC22.mp4       m6   \n",
       "7            7     PRX_03_Run_3_Computer_2_D8_Males_12DEC22.mp4       m2   \n",
       "23          23    PRX_03_Run_3_Computer_2_D12_Males_16DEC22.mp4       m2   \n",
       "1            1     PRX-03_Run_3_Computer_1_D8_Males_12DEC22.mp4       m6   \n",
       "\n",
       "                               Video  Subject #   Scorer   Video Start Time  \\\n",
       "60  D12_Female_Run 4_Comp 1 (F85-90)         89  Jonathan                 8   \n",
       "20    D12_Male_Run 3_Comp 1 (m25-30)         30      Josh                10   \n",
       "5      D8_Male_Run 3_Comp 2 (m31-36)         31       Bob                 0   \n",
       "56  D12_Female_Run 3_Comp 2 (F79-84)         81  Jonathan                 4   \n",
       "27    D12_Male_Run 4_Comp 2 (m43-48)         44    Faizan                 2   \n",
       "..                               ...        ...       ...               ...   \n",
       "2      D8_Male_Run 3_Comp 1 (m25-30)         28       Bob                 6   \n",
       "17    D12_Male_Run 3_Comp 1 (m25-30)         26       Bob                 2   \n",
       "7      D8_Male_Run 3_Comp 2 (m31-36)         33       Bob                 4   \n",
       "23    D12_Male_Run 3_Comp 2 (m31-36)         33   Richard                 4   \n",
       "1      D8_Male_Run 3_Comp 1 (m25-30)         26       Bob                 2   \n",
       "\n",
       "    Video End Time    0-5  10-May  15-Oct  15-20  20-25  25-30  Total Time  \\\n",
       "60              38  15.48   14.76   17.02   9.47  11.53  74.94      143.20   \n",
       "20              40  29.59   54.94   57.19  66.33  33.88  11.94      253.87   \n",
       "5               30  18.68   20.94   39.89  59.28  26.26   0.00      165.05   \n",
       "56              34   0.00    0.00   37.48   0.00   0.00   0.00       37.48   \n",
       "27              32  31.78   25.03   50.09   0.00   0.00   0.00      106.90   \n",
       "..             ...    ...     ...     ...    ...    ...    ...         ...   \n",
       "2               36  42.98   12.94   25.65   1.85  12.53  55.99      151.94   \n",
       "17              32  23.30   21.04   35.92  33.04   0.00  17.40      130.70   \n",
       "7               34  25.06   23.62   24.54   0.75  40.11  74.18      188.26   \n",
       "23              34  34.43   36.76    6.03  29.17   2.53   9.63      118.55   \n",
       "1               32  22.13   26.32   55.03   4.50  65.95   9.51      183.44   \n",
       "\n",
       "    model_count         dif  \n",
       "60    96.000000  -47.200000  \n",
       "20   222.000000  -31.870000  \n",
       "5    138.000000  -27.050000  \n",
       "56    24.000000  -13.480000  \n",
       "27    95.333333  -11.566667  \n",
       "..          ...         ...  \n",
       "2    226.000000   74.060000  \n",
       "17   209.333333   78.633333  \n",
       "7    272.666667   84.406667  \n",
       "23   204.000000   85.450000  \n",
       "1    310.666667  127.226667  \n",
       "\n",
       "[64 rows x 17 columns]"
      ]
     },
     "execution_count": 195,
     "metadata": {},
     "output_type": "execute_result"
    }
   ],
   "source": [
    "ref.sort_values(by = 'dif')"
   ]
  },
  {
   "cell_type": "code",
   "execution_count": 196,
   "metadata": {},
   "outputs": [],
   "source": [
    "format_ann = [f'{int(x//60)}:{int(x%60)}, {int(y//60)}:{int(y%60)} ' for x, y in np.array(anns[60]) + (8*60)]"
   ]
  },
  {
   "cell_type": "code",
   "execution_count": 168,
   "metadata": {},
   "outputs": [],
   "source": [
    "kernel_size = 5\n",
    "kernel = np.ones(kernel_size) / kernel_size\n",
    "smoo = np.convolve(np.squeeze(logits[60]), kernel, mode='same')"
   ]
  },
  {
   "cell_type": "code",
   "execution_count": 11,
   "metadata": {},
   "outputs": [
    {
     "data": {
      "image/png": "[encoded data removed]",
      "text/plain": [
       "<Figure size 640x480 with 1 Axes>"
      ]
     },
     "metadata": {},
     "output_type": "display_data"
    }
   ],
   "source": [
    "%matplotlib inline\n",
    "import matplotlib.pyplot as plt\n",
    "# plt.plot(logits[60][0:])\n",
    "# plt.plot(smoo)\n",
    "plt.hlines(0, 0, len(logits[0]))\n",
    "plt.show()"
   ]
  },
  {
   "cell_type": "code",
   "execution_count": 12,
   "metadata": {},
   "outputs": [],
   "source": [
    "def format_annotations(anns, start = 0, length = 30, bin_size = 5):\n",
    "    \n",
    "    n_bins = int(length/bin_size)\n",
    "    all_bouts = []\n",
    "    all_durations = []\n",
    "    for s in range(n_bins):\n",
    "        start_sec = (s * bin_size * 60) + (start * 60)\n",
    "        end_sec = start_sec + (bin_size * 60)\n",
    "\n",
    "        \n",
    "        duration = 0\n",
    "        bouts = 0\n",
    "        for a in anns:\n",
    "            b = (a >= start_sec) & (a <= end_sec)\n",
    "            if b[0] & b[1]:\n",
    "                duration = duration + (a[1] - a[0])\n",
    "                bouts = bouts + 1\n",
    "            if b[1] & ~b[0]:\n",
    "                duration = duration +(a[1] - start_sec)\n",
    "                bouts = bouts + 1\n",
    "            if b[0] & ~b[1]:\n",
    "                duration = duration +(end_sec - a[0])\n",
    "                bouts = bouts + 1\n",
    "        \n",
    "        all_bouts.append(bouts)\n",
    "        all_durations.append(duration)\n",
    "\n",
    "    return all_durations, all_bouts"
   ]
  },
  {
   "cell_type": "code",
   "execution_count": 197,
   "metadata": {},
   "outputs": [],
   "source": [
    "all_dur = []\n",
    "for k,v in anns.items():\n",
    "    duration, bouts =  format_annotations(np.array(v))\n",
    "    all_dur.append(duration)\n",
    "\n",
    "ad = np.array(all_dur)"
   ]
  },
  {
   "cell_type": "code",
   "execution_count": 91,
   "metadata": {},
   "outputs": [
    {
     "data": {
      "text/plain": [
       "([16.017777777777788,\n",
       "  14.01555555555558,\n",
       "  8.008888888888805,\n",
       "  2.0022222222221444,\n",
       "  0,\n",
       "  8.008888888888805],\n",
       " [3, 1, 3, 1, 0, 3])"
      ]
     },
     "execution_count": 91,
     "metadata": {},
     "output_type": "execute_result"
    }
   ],
   "source": [
    "ann = bool_to_annotations(np.array(a < 0).astype(int), fps = 0.5)\n",
    "format_annotations(np.array(ann))"
   ]
  },
  {
   "cell_type": "code",
   "execution_count": 90,
   "metadata": {},
   "outputs": [
    {
     "data": {
      "text/plain": [
       "900"
      ]
     },
     "execution_count": 90,
     "metadata": {},
     "output_type": "execute_result"
    }
   ],
   "source": [
    "len(a)"
   ]
  },
  {
   "cell_type": "code",
   "execution_count": 92,
   "metadata": {},
   "outputs": [
    {
     "data": {
      "image/png": "[encoded data removed]",
      "text/plain": [
       "<Figure size 640x480 with 1 Axes>"
      ]
     },
     "metadata": {},
     "output_type": "display_data"
    }
   ],
   "source": [
    "%matplotlib inline\n",
    "import matplotlib.pyplot as plt\n",
    "plt.plot(a[700:])\n",
    "plt.show()"
   ]
  },
  {
   "cell_type": "code",
   "execution_count": 198,
   "metadata": {},
   "outputs": [],
   "source": [
    "ref['first_bin'] = ad[:,0]\n",
    "ref['second_bin'] = ad[:,1]\n",
    "ref['third_bin'] = ad[:,2]\n",
    "ref['fourth_bin'] = ad[:,3]\n",
    "ref['fifth_bin'] = ad[:,4]\n",
    "ref['sixth_bin'] = ad[:,5]"
   ]
  },
  {
   "cell_type": "code",
   "execution_count": 199,
   "metadata": {},
   "outputs": [],
   "source": [
    "ref['dif_first'] = ref['0-5'] - ref['first_bin']\n",
    "ref['dif_second'] = ref['10-May'] - ref['second_bin']\n",
    "ref['dif_third'] = ref['15-Oct'] - ref['third_bin']\n",
    "ref['dif_fourth'] = ref['15-20'] - ref['fourth_bin']\n",
    "ref['dif_fifth'] = ref['20-25'] - ref['fifth_bin']\n",
    "ref['dif_sixth'] = ref['25-30'] - ref['sixth_bin']"
   ]
  },
  {
   "cell_type": "code",
   "execution_count": 200,
   "metadata": {},
   "outputs": [],
   "source": [
    "ref.to_csv(\"/Users/rebeccakrall/Desktop/scratch_120624_cp03_manual_scores_prx03_redo.csv\")"
   ]
  },
  {
   "cell_type": "code",
   "execution_count": 199,
   "metadata": {},
   "outputs": [
    {
     "data": {
      "text/plain": [
       "['8:16, 8:16 ',\n",
       " '8:24, 8:25 ',\n",
       " '8:28, 8:28 ',\n",
       " '8:29, 8:30 ',\n",
       " '8:43, 8:44 ',\n",
       " '8:50, 8:50 ',\n",
       " '8:52, 8:54 ',\n",
       " '8:55, 8:58 ',\n",
       " '9:1, 9:8 ',\n",
       " '10:13, 10:14 ',\n",
       " '10:15, 10:16 ',\n",
       " '10:34, 10:34 ',\n",
       " '10:43, 10:44 ',\n",
       " '10:46, 10:47 ',\n",
       " '10:52, 10:52 ',\n",
       " '10:55, 10:56 ',\n",
       " '11:8, 11:9 ',\n",
       " '11:13, 11:14 ',\n",
       " '11:18, 11:19 ',\n",
       " '11:20, 11:21 ',\n",
       " '11:38, 11:38 ',\n",
       " '11:47, 11:48 ',\n",
       " '11:50, 11:52 ',\n",
       " '11:54, 11:54 ',\n",
       " '11:56, 11:56 ',\n",
       " '11:58, 12:0 ',\n",
       " '12:1, 12:2 ',\n",
       " '12:7, 12:9 ',\n",
       " '12:15, 12:16 ',\n",
       " '12:26, 12:28 ',\n",
       " '12:34, 12:35 ',\n",
       " '13:2, 13:3 ',\n",
       " '13:14, 13:15 ',\n",
       " '13:28, 13:32 ',\n",
       " '13:33, 13:34 ',\n",
       " '13:35, 13:38 ',\n",
       " '13:39, 13:43 ',\n",
       " '14:6, 14:7 ',\n",
       " '14:11, 14:12 ',\n",
       " '14:14, 14:15 ',\n",
       " '14:35, 14:36 ',\n",
       " '17:9, 17:10 ',\n",
       " '18:12, 18:14 ',\n",
       " '18:14, 18:17 ',\n",
       " '18:18, 18:20 ',\n",
       " '18:24, 18:24 ',\n",
       " '18:27, 18:28 ',\n",
       " '18:34, 18:40 ',\n",
       " '18:40, 18:41 ',\n",
       " '18:42, 18:44 ',\n",
       " '19:24, 19:24 ',\n",
       " '19:40, 19:41 ',\n",
       " '19:53, 19:54 ',\n",
       " '20:36, 20:37 ',\n",
       " '20:38, 20:38 ',\n",
       " '20:53, 20:54 ',\n",
       " '22:31, 22:32 ',\n",
       " '22:42, 22:42 ',\n",
       " '22:44, 22:45 ',\n",
       " '23:0, 23:1 ',\n",
       " '23:3, 23:4 ',\n",
       " '23:8, 23:9 ',\n",
       " '23:27, 23:27 ',\n",
       " '23:37, 23:38 ',\n",
       " '23:51, 23:52 ',\n",
       " '24:39, 24:40 ',\n",
       " '25:36, 25:37 ',\n",
       " '25:40, 25:41 ',\n",
       " '25:50, 25:52 ',\n",
       " '25:53, 25:53 ',\n",
       " '26:35, 26:36 ',\n",
       " '26:47, 26:48 ',\n",
       " '27:29, 27:30 ',\n",
       " '27:31, 27:33 ',\n",
       " '27:48, 27:49 ',\n",
       " '27:50, 27:51 ',\n",
       " '27:53, 27:55 ',\n",
       " '27:57, 27:59 ',\n",
       " '28:1, 28:3 ',\n",
       " '28:13, 28:13 ',\n",
       " '28:14, 28:15 ',\n",
       " '28:33, 28:33 ',\n",
       " '28:34, 28:35 ',\n",
       " '28:42, 28:43 ',\n",
       " '30:1, 30:1 ',\n",
       " '30:4, 30:5 ',\n",
       " '30:9, 30:10 ',\n",
       " '30:28, 30:29 ',\n",
       " '31:34, 31:35 ',\n",
       " '31:47, 31:49 ',\n",
       " '31:50, 31:51 ',\n",
       " '31:51, 31:53 ',\n",
       " '31:55, 31:56 ',\n",
       " '31:57, 31:58 ',\n",
       " '33:55, 33:56 ',\n",
       " '33:57, 33:57 ',\n",
       " '34:1, 34:1 ',\n",
       " '34:2, 34:3 ',\n",
       " '34:3, 34:5 ',\n",
       " '34:5, 34:6 ',\n",
       " '34:7, 34:8 ',\n",
       " '34:9, 34:12 ',\n",
       " '34:13, 34:14 ',\n",
       " '34:15, 34:16 ',\n",
       " '34:17, 34:17 ',\n",
       " '34:18, 34:19 ',\n",
       " '34:27, 34:29 ',\n",
       " '34:29, 34:30 ',\n",
       " '34:31, 34:31 ',\n",
       " '34:32, 34:33 ',\n",
       " '34:34, 34:39 ',\n",
       " '35:57, 36:0 ',\n",
       " '36:9, 36:11 ',\n",
       " '36:12, 36:13 ',\n",
       " '36:14, 36:18 ',\n",
       " '36:19, 36:19 ',\n",
       " '36:42, 36:44 ',\n",
       " '36:45, 36:46 ',\n",
       " '36:47, 36:48 ',\n",
       " '36:49, 36:51 ',\n",
       " '36:52, 36:53 ',\n",
       " '36:58, 36:59 ',\n",
       " '36:59, 37:0 ',\n",
       " '37:1, 37:3 ',\n",
       " '37:3, 37:5 ',\n",
       " '37:6, 37:8 ',\n",
       " '37:21, 37:23 ']"
      ]
     },
     "execution_count": 199,
     "metadata": {},
     "output_type": "execute_result"
    }
   ],
   "source": [
    "format_ann = [f'{int(x//60)}:{int(x%60)}, {int(y//60)}:{int(y%60)} ' for x, y in np.array(ann2) + (8*60)]\n",
    "format_ann"
   ]
  },
  {
   "cell_type": "code",
   "execution_count": 263,
   "metadata": {},
   "outputs": [],
   "source": [
    "fps = 30 \n",
    "clip_length = 60\n",
    "total_frames = 9000\n",
    "\n",
    "clip_starts = [100, 4623]"
   ]
  },
  {
   "cell_type": "code",
   "execution_count": 264,
   "metadata": {},
   "outputs": [],
   "source": [
    "new_start = random.randint(0, total_frames - (fps*clip_length))"
   ]
  },
  {
   "cell_type": "code",
   "execution_count": 269,
   "metadata": {},
   "outputs": [],
   "source": [
    "upper = new_start \n",
    "end1 = new_start + (fps*clip_length)"
   ]
  },
  {
   "cell_type": "code",
   "execution_count": 274,
   "metadata": {},
   "outputs": [
    {
     "data": {
      "text/plain": [
       "True"
      ]
     },
     "execution_count": 274,
     "metadata": {},
     "output_type": "execute_result"
    }
   ],
   "source": [
    "any([ ((new_start + (fps*clip_length)) <= x) or ((x + (fps*clip_length)) <= new_start) for x in clip_starts])"
   ]
  },
  {
   "cell_type": "code",
   "execution_count": 275,
   "metadata": {},
   "outputs": [
    {
     "data": {
      "text/plain": [
       "6299"
      ]
     },
     "execution_count": 275,
     "metadata": {},
     "output_type": "execute_result"
    }
   ],
   "source": [
    "new_start"
   ]
  },
  {
   "cell_type": "code",
   "execution_count": 276,
   "metadata": {},
   "outputs": [
    {
     "data": {
      "text/plain": [
       "6723"
      ]
     },
     "execution_count": 276,
     "metadata": {},
     "output_type": "execute_result"
    }
   ],
   "source": [
    "4923 + (fps*clip_length)"
   ]
  },
  {
   "cell_type": "code",
   "execution_count": 1,
   "metadata": {},
   "outputs": [],
   "source": [
    "import pickle"
   ]
  },
  {
   "cell_type": "code",
   "execution_count": 5,
   "metadata": {},
   "outputs": [],
   "source": [
    "# with open(\"/Users/rebeccakrall/Desktop/anns5.pkl\", \"wb\") as file:\n",
    "with open(\"/Users/rebeccakrall/Desktop/MoviNet Scratch Model Tests/Fourth round/anns4.pkl\", 'rb') as file:\n",
    "    anns = pickle.load(file)"
   ]
  },
  {
   "cell_type": "code",
   "execution_count": 4,
   "metadata": {},
   "outputs": [
    {
     "data": {
      "text/plain": [
       "{0: array([[ 9.929771],\n",
       "        [ 9.839922],\n",
       "        [11.059437],\n",
       "        ...,\n",
       "        [ 8.266785],\n",
       "        [ 8.340082],\n",
       "        [ 8.388367]], dtype=float32),\n",
       " 1: array([[8.918767],\n",
       "        [7.220192],\n",
       "        [7.695982],\n",
       "        ...,\n",
       "        [8.034771],\n",
       "        [7.075947],\n",
       "        [7.560656]], dtype=float32),\n",
       " 2: array([[ 9.555346],\n",
       "        [10.525412],\n",
       "        [ 7.850837],\n",
       "        ...,\n",
       "        [ 9.095936],\n",
       "        [ 8.343999],\n",
       "        [ 8.139435]], dtype=float32),\n",
       " 3: array([[5.7866592],\n",
       "        [4.425534 ],\n",
       "        [6.0927076],\n",
       "        ...,\n",
       "        [7.5547466],\n",
       "        [7.448777 ],\n",
       "        [7.6165338]], dtype=float32),\n",
       " 4: array([[7.847735 ],\n",
       "        [7.852504 ],\n",
       "        [4.8374047],\n",
       "        ...,\n",
       "        [8.314879 ],\n",
       "        [8.401192 ],\n",
       "        [8.409657 ]], dtype=float32),\n",
       " 5: array([[3.2453787],\n",
       "        [1.9582444],\n",
       "        [7.812329 ],\n",
       "        ...,\n",
       "        [7.6916566],\n",
       "        [7.6329336],\n",
       "        [7.6498957]], dtype=float32),\n",
       " 6: array([[ 0.7706895],\n",
       "        [ 1.104684 ],\n",
       "        [ 1.8458453],\n",
       "        ...,\n",
       "        [12.107801 ],\n",
       "        [10.5939245],\n",
       "        [11.188359 ]], dtype=float32),\n",
       " 7: array([[7.0879135],\n",
       "        [6.9669304],\n",
       "        [5.5795355],\n",
       "        ...,\n",
       "        [6.6109486],\n",
       "        [5.6960173],\n",
       "        [6.7292147]], dtype=float32),\n",
       " 8: array([[ 9.068967 ],\n",
       "        [10.066238 ],\n",
       "        [-5.0094047],\n",
       "        ...,\n",
       "        [10.194164 ],\n",
       "        [10.243697 ],\n",
       "        [10.272748 ]], dtype=float32),\n",
       " 9: array([[10.412312 ],\n",
       "        [11.509281 ],\n",
       "        [10.845896 ],\n",
       "        ...,\n",
       "        [ 9.2082615],\n",
       "        [ 9.171268 ],\n",
       "        [ 9.182684 ]], dtype=float32),\n",
       " 10: array([[ 7.7448044],\n",
       "        [-8.088598 ],\n",
       "        [ 9.605211 ],\n",
       "        ...,\n",
       "        [ 9.004248 ],\n",
       "        [ 9.004675 ],\n",
       "        [ 9.051635 ]], dtype=float32),\n",
       " 11: array([[9.623346],\n",
       "        [9.903025],\n",
       "        [9.914566],\n",
       "        ...,\n",
       "        [8.622572],\n",
       "        [9.134544],\n",
       "        [8.736527]], dtype=float32),\n",
       " 12: array([[ 9.461897 ],\n",
       "        [10.505818 ],\n",
       "        [ 9.843405 ],\n",
       "        ...,\n",
       "        [10.617734 ],\n",
       "        [10.4835205],\n",
       "        [10.25254  ]], dtype=float32),\n",
       " 13: array([[ 6.624504 ],\n",
       "        [ 7.2484183],\n",
       "        [ 7.457203 ],\n",
       "        ...,\n",
       "        [10.611073 ],\n",
       "        [10.834486 ],\n",
       "        [ 6.8068933]], dtype=float32),\n",
       " 14: array([[-5.567483  ],\n",
       "        [-0.56287754],\n",
       "        [ 5.901207  ],\n",
       "        ...,\n",
       "        [ 8.3616    ],\n",
       "        [ 8.272354  ],\n",
       "        [ 8.198984  ]], dtype=float32),\n",
       " 15: array([[9.440201],\n",
       "        [8.610457],\n",
       "        [9.093948],\n",
       "        ...,\n",
       "        [9.585753],\n",
       "        [9.581692],\n",
       "        [9.612806]], dtype=float32),\n",
       " 16: array([[9.287334 ],\n",
       "        [6.7541647],\n",
       "        [5.391251 ],\n",
       "        ...,\n",
       "        [9.170109 ],\n",
       "        [9.1573715],\n",
       "        [9.178753 ]], dtype=float32),\n",
       " 17: array([[13.040705],\n",
       "        [10.454927],\n",
       "        [10.951108],\n",
       "        ...,\n",
       "        [12.161034],\n",
       "        [10.417673],\n",
       "        [10.383678]], dtype=float32),\n",
       " 18: array([[ 5.369648 ],\n",
       "        [ 0.5860946],\n",
       "        [-6.107195 ],\n",
       "        ...,\n",
       "        [10.001624 ],\n",
       "        [10.0036955],\n",
       "        [10.0287285]], dtype=float32),\n",
       " 19: array([[9.562292 ],\n",
       "        [8.589027 ],\n",
       "        [8.5600195],\n",
       "        ...,\n",
       "        [9.388542 ],\n",
       "        [9.392    ],\n",
       "        [9.389502 ]], dtype=float32),\n",
       " 20: array([[8.355131 ],\n",
       "        [8.446821 ],\n",
       "        [3.3656936],\n",
       "        ...,\n",
       "        [9.253775 ],\n",
       "        [9.29447  ],\n",
       "        [9.3146105]], dtype=float32),\n",
       " 21: array([[6.8213716],\n",
       "        [6.8059473],\n",
       "        [6.760623 ],\n",
       "        ...,\n",
       "        [5.74624  ],\n",
       "        [5.565769 ],\n",
       "        [5.541502 ]], dtype=float32),\n",
       " 22: array([[7.3353577],\n",
       "        [7.166088 ],\n",
       "        [9.510507 ],\n",
       "        ...,\n",
       "        [6.6124353],\n",
       "        [8.351236 ],\n",
       "        [8.645586 ]], dtype=float32),\n",
       " 23: array([[7.001699 ],\n",
       "        [1.9137639],\n",
       "        [2.6449163],\n",
       "        ...,\n",
       "        [4.9782553],\n",
       "        [4.601057 ],\n",
       "        [4.2405624]], dtype=float32),\n",
       " 24: array([[ 8.528411 ],\n",
       "        [ 9.809957 ],\n",
       "        [10.846121 ],\n",
       "        ...,\n",
       "        [10.079012 ],\n",
       "        [ 9.798433 ],\n",
       "        [10.4356575]], dtype=float32),\n",
       " 25: array([[6.4367127],\n",
       "        [6.5713625],\n",
       "        [6.7625914],\n",
       "        ...,\n",
       "        [7.3250823],\n",
       "        [7.3043013],\n",
       "        [7.3326883]], dtype=float32),\n",
       " 26: array([[8.85367 ],\n",
       "        [8.148896],\n",
       "        [9.115233],\n",
       "        ...,\n",
       "        [9.956917],\n",
       "        [9.958746],\n",
       "        [9.906219]], dtype=float32),\n",
       " 27: array([[ 9.51059 ],\n",
       "        [ 8.890196],\n",
       "        [ 8.013095],\n",
       "        ...,\n",
       "        [10.557341],\n",
       "        [10.483101],\n",
       "        [10.547379]], dtype=float32),\n",
       " 28: array([[10.026296],\n",
       "        [10.324533],\n",
       "        [ 7.90389 ],\n",
       "        ...,\n",
       "        [ 9.962487],\n",
       "        [ 9.944477],\n",
       "        [ 9.403143]], dtype=float32),\n",
       " 29: array([[5.2709103],\n",
       "        [7.9459543],\n",
       "        [3.5695152],\n",
       "        ...,\n",
       "        [9.022863 ],\n",
       "        [8.763625 ],\n",
       "        [8.252681 ]], dtype=float32),\n",
       " 30: array([[6.667986 ],\n",
       "        [6.327957 ],\n",
       "        [6.4430394],\n",
       "        ...,\n",
       "        [7.094858 ],\n",
       "        [7.0393004],\n",
       "        [7.0978594]], dtype=float32),\n",
       " 31: array([[8.833397 ],\n",
       "        [9.336901 ],\n",
       "        [9.9282875],\n",
       "        ...,\n",
       "        [9.403044 ],\n",
       "        [9.37977  ],\n",
       "        [9.520672 ]], dtype=float32),\n",
       " 32: array([[ 7.2105284],\n",
       "        [ 8.369244 ],\n",
       "        [ 9.599354 ],\n",
       "        ...,\n",
       "        [ 8.763954 ],\n",
       "        [-5.342362 ],\n",
       "        [-9.334145 ]], dtype=float32),\n",
       " 33: array([[7.061631 ],\n",
       "        [8.882893 ],\n",
       "        [5.8295565],\n",
       "        ...,\n",
       "        [7.680749 ],\n",
       "        [7.9669824],\n",
       "        [7.9138165]], dtype=float32),\n",
       " 34: array([[8.119279 ],\n",
       "        [8.310598 ],\n",
       "        [8.381264 ],\n",
       "        ...,\n",
       "        [6.027673 ],\n",
       "        [7.6640353],\n",
       "        [5.128766 ]], dtype=float32),\n",
       " 35: array([[6.931878 ],\n",
       "        [9.343974 ],\n",
       "        [9.763346 ],\n",
       "        ...,\n",
       "        [9.306956 ],\n",
       "        [8.938168 ],\n",
       "        [7.9240603]], dtype=float32),\n",
       " 36: array([[8.939548 ],\n",
       "        [8.40206  ],\n",
       "        [9.2201805],\n",
       "        ...,\n",
       "        [5.8138056],\n",
       "        [7.271512 ],\n",
       "        [6.7445445]], dtype=float32),\n",
       " 37: array([[ 6.2233343],\n",
       "        [-7.5790477],\n",
       "        [-6.542045 ],\n",
       "        ...,\n",
       "        [ 9.214833 ],\n",
       "        [10.241883 ],\n",
       "        [ 9.191123 ]], dtype=float32),\n",
       " 38: array([[10.018457],\n",
       "        [ 9.44784 ],\n",
       "        [ 9.010349],\n",
       "        ...,\n",
       "        [ 8.246953],\n",
       "        [ 9.118026],\n",
       "        [ 9.790645]], dtype=float32),\n",
       " 39: array([[6.9129267],\n",
       "        [7.7825775],\n",
       "        [8.211395 ],\n",
       "        ...,\n",
       "        [8.40887  ],\n",
       "        [7.811354 ],\n",
       "        [8.494484 ]], dtype=float32),\n",
       " 40: array([[11.026625],\n",
       "        [10.988147],\n",
       "        [11.485634],\n",
       "        ...,\n",
       "        [10.734291],\n",
       "        [10.954647],\n",
       "        [11.08126 ]], dtype=float32),\n",
       " 41: array([[ 7.3613844],\n",
       "        [ 3.8424716],\n",
       "        [ 3.8237457],\n",
       "        ...,\n",
       "        [10.032976 ],\n",
       "        [ 9.9726095],\n",
       "        [10.002111 ]], dtype=float32),\n",
       " 42: array([[  0.12634417],\n",
       "        [ -5.682764  ],\n",
       "        [-12.004177  ],\n",
       "        ...,\n",
       "        [  8.822285  ],\n",
       "        [  8.634233  ],\n",
       "        [  8.93288   ]], dtype=float32),\n",
       " 43: array([[-8.013673 ],\n",
       "        [ 6.434043 ],\n",
       "        [ 9.917309 ],\n",
       "        ...,\n",
       "        [ 9.729679 ],\n",
       "        [ 9.296221 ],\n",
       "        [ 8.5415535]], dtype=float32),\n",
       " 44: array([[ 6.43521  ],\n",
       "        [ 5.952279 ],\n",
       "        [ 7.246786 ],\n",
       "        ...,\n",
       "        [ 5.489127 ],\n",
       "        [ 9.824135 ],\n",
       "        [-5.9847965]], dtype=float32),\n",
       " 45: array([[9.318974 ],\n",
       "        [8.955478 ],\n",
       "        [8.375217 ],\n",
       "        ...,\n",
       "        [6.608723 ],\n",
       "        [6.9459243],\n",
       "        [7.4147425]], dtype=float32),\n",
       " 46: array([[10.821347],\n",
       "        [10.040417],\n",
       "        [10.06589 ],\n",
       "        ...,\n",
       "        [10.237898],\n",
       "        [ 9.879308],\n",
       "        [10.280317]], dtype=float32),\n",
       " 47: array([[8.973003],\n",
       "        [9.620727],\n",
       "        [9.205571],\n",
       "        ...,\n",
       "        [9.181723],\n",
       "        [9.283687],\n",
       "        [9.315952]], dtype=float32),\n",
       " 48: array([[6.1947403],\n",
       "        [8.373664 ],\n",
       "        [1.4040855],\n",
       "        ...,\n",
       "        [7.4865103],\n",
       "        [8.44747  ],\n",
       "        [5.8604918]], dtype=float32),\n",
       " 49: array([[7.39829  ],\n",
       "        [7.6435175],\n",
       "        [6.2556233],\n",
       "        ...,\n",
       "        [7.753532 ],\n",
       "        [7.7460365],\n",
       "        [7.82831  ]], dtype=float32),\n",
       " 50: array([[11.514423 ],\n",
       "        [10.582317 ],\n",
       "        [11.781466 ],\n",
       "        ...,\n",
       "        [-7.1799526],\n",
       "        [-5.3982124],\n",
       "        [-5.659153 ]], dtype=float32),\n",
       " 51: array([[-6.66892 ],\n",
       "        [ 9.396244],\n",
       "        [ 8.811338],\n",
       "        ...,\n",
       "        [10.312724],\n",
       "        [10.326116],\n",
       "        [10.291538]], dtype=float32),\n",
       " 52: array([[ 6.87755  ],\n",
       "        [ 8.09413  ],\n",
       "        [11.04411  ],\n",
       "        ...,\n",
       "        [ 6.699288 ],\n",
       "        [ 6.907797 ],\n",
       "        [ 7.7336264]], dtype=float32),\n",
       " 53: array([[ 6.0305643],\n",
       "        [ 7.9435797],\n",
       "        [ 6.317293 ],\n",
       "        ...,\n",
       "        [ 4.0041437],\n",
       "        [-8.126307 ],\n",
       "        [-7.5616302]], dtype=float32),\n",
       " 54: array([[-9.065244 ],\n",
       "        [-7.024134 ],\n",
       "        [-6.443083 ],\n",
       "        ...,\n",
       "        [ 6.9296684],\n",
       "        [-9.029204 ],\n",
       "        [-9.94083  ]], dtype=float32),\n",
       " 55: array([[10.262133],\n",
       "        [10.123524],\n",
       "        [ 9.874668],\n",
       "        ...,\n",
       "        [10.366262],\n",
       "        [10.387179],\n",
       "        [10.380845]], dtype=float32),\n",
       " 56: array([[9.575544],\n",
       "        [9.365556],\n",
       "        [9.494123],\n",
       "        ...,\n",
       "        [8.746901],\n",
       "        [8.782511],\n",
       "        [8.716114]], dtype=float32),\n",
       " 57: array([[ 4.2654743],\n",
       "        [ 5.2400336],\n",
       "        [ 5.0451317],\n",
       "        ...,\n",
       "        [10.6116295],\n",
       "        [10.566587 ],\n",
       "        [10.598957 ]], dtype=float32),\n",
       " 58: array([[4.351369 ],\n",
       "        [3.3132052],\n",
       "        [6.919575 ],\n",
       "        ...,\n",
       "        [8.043471 ],\n",
       "        [9.555313 ],\n",
       "        [9.304462 ]], dtype=float32),\n",
       " 59: array([[8.187674 ],\n",
       "        [8.23576  ],\n",
       "        [6.1909647],\n",
       "        ...,\n",
       "        [8.6181755],\n",
       "        [6.584351 ],\n",
       "        [7.876645 ]], dtype=float32),\n",
       " 60: array([[9.176494],\n",
       "        [9.443237],\n",
       "        [8.817207],\n",
       "        ...,\n",
       "        [9.331831],\n",
       "        [9.356687],\n",
       "        [9.379076]], dtype=float32),\n",
       " 61: array([[ 8.360467 ],\n",
       "        [ 9.316244 ],\n",
       "        [ 9.713863 ],\n",
       "        ...,\n",
       "        [-9.086623 ],\n",
       "        [-7.7003517],\n",
       "        [-6.828893 ]], dtype=float32),\n",
       " 62: array([[10.304695],\n",
       "        [10.485245],\n",
       "        [10.150855],\n",
       "        ...,\n",
       "        [ 8.62244 ],\n",
       "        [ 5.376906],\n",
       "        [ 9.635231]], dtype=float32),\n",
       " 63: array([[ 7.0604267],\n",
       "        [10.656847 ],\n",
       "        [12.344494 ],\n",
       "        ...,\n",
       "        [ 7.4260874],\n",
       "        [ 7.333853 ],\n",
       "        [ 7.401718 ]], dtype=float32)}"
      ]
     },
     "execution_count": 4,
     "metadata": {},
     "output_type": "execute_result"
    }
   ],
   "source": [
    "logits"
   ]
  },
  {
   "cell_type": "code",
   "execution_count": 66,
   "metadata": {},
   "outputs": [
    {
     "data": {
      "text/plain": [
       "([30.01111111111109,\n",
       "  17.784444444444432,\n",
       "  38.23629629629647,\n",
       "  4.001481481481392,\n",
       "  2.000740740740639,\n",
       "  55.020370370370074],\n",
       " [8, 5, 15, 3, 2, 22])"
      ]
     },
     "execution_count": 66,
     "metadata": {},
     "output_type": "execute_result"
    }
   ],
   "source": [
    "import numpy as np\n",
    "ann = bool_to_annotations(np.array(logits[7] < 0).astype(int), fps = 1)\n",
    "format_annotations(np.array(ann))"
   ]
  },
  {
   "cell_type": "code",
   "execution_count": 186,
   "metadata": {},
   "outputs": [],
   "source": [
    "ann_dict = {'m2':np.array(ann)}"
   ]
  },
  {
   "cell_type": "code",
   "execution_count": 187,
   "metadata": {},
   "outputs": [],
   "source": [
    "import string\n",
    "import json\n",
    "import time\n",
    "import random\n",
    "\n",
    "def generate_random_key(exceptions =[]):\n",
    "\n",
    "    characters = string.ascii_letters + string.digits\n",
    "    unique = False\n",
    "\n",
    "    while not unique:\n",
    "        gen_string = ''.join(random.choice(characters) for _ in range(8))\n",
    "        unique = gen_string not in exceptions\n",
    "\n",
    "    return gen_string\n",
    "\n",
    "def format_via_annotation(ann_dict):\n",
    "\n",
    "    exceptions = []\n",
    "    metadata = {}\n",
    "    for animal in ann_dict:\n",
    "        for a in ann_dict[animal]:\n",
    "            next_key = generate_random_key(exceptions)\n",
    "            exceptions.append(next_key)\n",
    "            full_key = \"1_\"+next_key\n",
    "            metadata[full_key] =  {'vid': '1',\n",
    "                'flg': 0,\n",
    "                'z': a.tolist(),\n",
    "                'xy': [],\n",
    "                'av': {'1': animal}}\n",
    "    \n",
    "    return metadata\n",
    "\n",
    "\n",
    "def build_json_dict(fn, ann_dict, save_file):\n",
    "\n",
    "    project = {'pid': '__VIA_PROJECT_ID__',\n",
    "        'rev': '__VIA_PROJECT_REV_ID__',\n",
    "        'rev_timestamp': '__VIA_PROJECT_REV_TIMESTAMP__',\n",
    "        'pname': 'Unnamed VIA Project',\n",
    "        'creator': 'VGG Image Annotator (http://www.robots.ox.ac.uk/~vgg/software/via)',\n",
    "        'created': int(time.time() *1000),\n",
    "        'vid_list': ['1']}\n",
    "    \n",
    "    config = {'file': {'loc_prefix': {'1': '', '2': '', '3': '', '4': ''}},\n",
    "        'ui': {'file_content_align': 'center',\n",
    "        'file_metadata_editor_visible': True,\n",
    "        'spatial_metadata_editor_visible': True,\n",
    "        'temporal_segment_metadata_editor_visible': True,\n",
    "        'spatial_region_label_attribute_id': '',\n",
    "        'gtimeline_visible_row_count': '4'}}\n",
    "    \n",
    "\n",
    "    attribute = {'1': {'aname': 'TEMPORAL-SEGMENTS',\n",
    "        'anchor_id': 'FILE1_Z2_XY0',\n",
    "        'type': 4,\n",
    "        'desc': 'Temporal segment attribute added by default',\n",
    "        'options': {'default': 'Default'},\n",
    "        'default_option_id': ''}}\n",
    "    \n",
    "    file = {'1': {'fid': '1',\n",
    "        'fname': fn,\n",
    "        'type': 4,\n",
    "        'loc': 1,\n",
    "        'src': ''}}\n",
    "    \n",
    "    metadata = format_via_annotation(ann_dict)\n",
    "\n",
    "    view = {'1': {'fid_list': ['1']}}\n",
    "\n",
    "    json_dict = {'project':project, 'config':config, 'attribute':attribute, 'file':file, 'metadata':metadata, 'view': view}\n",
    "\n",
    "\n",
    "    with open(save_file, \"w\") as outfile: \n",
    "        json.dump(json_dict, outfile)\n",
    "\n",
    "    return json_dict"
   ]
  },
  {
   "cell_type": "code",
   "execution_count": 188,
   "metadata": {},
   "outputs": [],
   "source": [
    "fn = \"/Users/rebeccakrall/Data/Video Processing and Prediction/Scratching_Projects/PRX_03/PRX_03_Videos/PRX_03_Run_3_Computer_2_D8_Males_12DEC22.mp4\"\n",
    "json_dict = build_json_dict(fn, ann_dict, \"/Users/rebeccakrall/Desktop/011425/PRX_03_Run_3_Computer_2_D8_Males_12DEC22_m2_new.json\")"
   ]
  },
  {
   "cell_type": "code",
   "execution_count": 26,
   "metadata": {},
   "outputs": [
    {
     "name": "stderr",
     "output_type": "stream",
     "text": [
      "/Users/rebeccakrall/miniconda3/envs/tf/lib/python3.11/site-packages/tqdm/auto.py:21: TqdmWarning: IProgress not found. Please update jupyter and ipywidgets. See https://ipywidgets.readthedocs.io/en/stable/user_install.html\n",
      "  from .autonotebook import tqdm as notebook_tqdm\n"
     ]
    }
   ],
   "source": [
    "from predict import *"
   ]
  },
  {
   "cell_type": "code",
   "execution_count": 180,
   "metadata": {},
   "outputs": [
    {
     "name": "stdout",
     "output_type": "stream",
     "text": [
      "opened cap\n"
     ]
    },
    {
     "name": "stderr",
     "output_type": "stream",
     "text": [
      "OpenCV: FFMPEG: tag 0x34363248/'H264' is not supported with codec id 27 and format 'mp4 / MP4 (MPEG-4 Part 14)'\n",
      "OpenCV: FFMPEG: fallback to use tag 0x31637661/'avc1'\n"
     ]
    }
   ],
   "source": [
    "\n",
    "\n",
    "video_path = fn\n",
    "output_video_path = \"/Users/rebeccakrall/Desktop/011425/PRX_03_Run_2_Computer_2_D8_Males_12DEC22_m2_retry.mp4\"\n",
    "\n",
    "circles, vid_frames, fps, _ = get_params_from_vid(video_path)\n",
    "start = 4 * 60 * fps\n",
    "stop = 34 * 60 * fps\n",
    "batch_size = 20\n",
    "\n",
    "cap = cv2.VideoCapture(str(video_path))\n",
    "cap.set(cv2.CAP_PROP_POS_FRAMES, start)\n",
    "print('opened cap')\n",
    "\n",
    "# cv2.VideoWriter_fourcc(*'H264')\n",
    "result = []\n",
    "out = cv2.VideoWriter(output_video_path, cv2.VideoWriter_fourcc(*'H264'), fps, (600, 600))\n",
    "\n",
    "        \n",
    "for _ in range(int((stop-start))):\n",
    "    \n",
    "    # for i in range(self.batch_size):\n",
    "    ret, frame = cap.read()\n",
    "    center = circles['m2']\n",
    "\n",
    "    cc, center = frame_crop(center[0], center[1], buffer = 300, shape = frame.shape[:2])\n",
    "    pc = padcrop_image(frame, 300, cc, center)\n",
    "    # result.append(pc)\n",
    "    out.write(pc)\n",
    "            # center = self.circles # test the output of get_params_from_vide\n",
    "            # frame = padcrop_image(frame, self.buffer, center[:2])\n",
    "            # result.append(format_frames(frame, self.output_size))\n",
    "    \n",
    "    # result = np.array(result)\n",
    "\n",
    "    \n",
    "\n",
    "cap.release()\n",
    "out.release()"
   ]
  },
  {
   "cell_type": "code",
   "execution_count": null,
   "metadata": {},
   "outputs": [],
   "source": [
    "start = 4 * 60 * 30\n",
    "stop = 34 * 60 * 30\n",
    "batch_size = 20\n",
    "\n",
    "video_path = fn\n",
    "# output_video_path = \"/Users/rebeccakrall/Desktop/011425/PRX_03_Run_2_Computer_2_D8_Males_12DEC22_m2_4_34.mp4\"\n",
    "\n",
    "circles, vid_frames, fps, _ = get_params_from_vid(video_path)"
   ]
  },
  {
   "cell_type": "code",
   "execution_count": 181,
   "metadata": {},
   "outputs": [
    {
     "data": {
      "text/plain": [
       "23.998870034139077"
      ]
     },
     "execution_count": 181,
     "metadata": {},
     "output_type": "execute_result"
    }
   ],
   "source": [
    "fps"
   ]
  },
  {
   "cell_type": "code",
   "execution_count": 35,
   "metadata": {},
   "outputs": [
    {
     "data": {
      "text/plain": [
       "37.501765654788095"
      ]
     },
     "execution_count": 35,
     "metadata": {},
     "output_type": "execute_result"
    }
   ],
   "source": [
    "((stop - start)/fps)/60"
   ]
  },
  {
   "cell_type": "code",
   "execution_count": 78,
   "metadata": {},
   "outputs": [
    {
     "data": {
      "image/png": "[encoded data removed]",
      "text/plain": [
       "<Figure size 640x480 with 1 Axes>"
      ]
     },
     "metadata": {},
     "output_type": "display_data"
    }
   ],
   "source": [
    "%matplotlib inline\n",
    "plt.plot(np.array(logits[7] < 0).astype(int))\n",
    "plt.show()"
   ]
  },
  {
   "cell_type": "code",
   "execution_count": null,
   "metadata": {},
   "outputs": [],
   "source": [
    "logs = np.array([[x] * 25 for x in np.array(a < 0).astype(int)]).flatten()\n",
    "ann = bool_to_annotations(logs, fps = 30)"
   ]
  },
  {
   "cell_type": "code",
   "execution_count": 185,
   "metadata": {},
   "outputs": [
    {
     "data": {
      "text/plain": [
       "[[1.6668518518518518, 3.3337037037037036],\n",
       " [142.51583333333335, 143.34925925925927],\n",
       " [148.3498148148148, 149.18324074074073],\n",
       " [150.8500925925926, 155.01722222222222],\n",
       " [162.51805555555555, 165.01833333333335],\n",
       " [210.02333333333334, 210.85675925925926],\n",
       " [217.52416666666667, 222.52472222222224],\n",
       " [224.19157407407408, 225.025],\n",
       " [226.69185185185185, 227.52527777777777],\n",
       " [230.02555555555557, 230.8589814814815],\n",
       " [231.69240740740742, 235.0261111111111],\n",
       " [272.53027777777777, 275.03055555555557],\n",
       " [302.5336111111111, 308.3675925925926],\n",
       " [320.03555555555556, 321.7024074074074],\n",
       " [326.70296296296294, 330.8700925925926],\n",
       " [359.20657407407407, 362.54027777777776],\n",
       " [370.0411111111111, 370.87453703703704]]"
      ]
     },
     "execution_count": 185,
     "metadata": {},
     "output_type": "execute_result"
    }
   ],
   "source": [
    "ann"
   ]
  },
  {
   "cell_type": "code",
   "execution_count": 103,
   "metadata": {},
   "outputs": [
    {
     "data": {
      "text/plain": [
       "37.21666666666667"
      ]
     },
     "execution_count": 103,
     "metadata": {},
     "output_type": "execute_result"
    }
   ],
   "source": [
    "2233 / 60"
   ]
  },
  {
   "cell_type": "code",
   "execution_count": 206,
   "metadata": {},
   "outputs": [
    {
     "ename": "SyntaxError",
     "evalue": "invalid syntax (30395163.py, line 2)",
     "output_type": "error",
     "traceback": [
      "\u001b[0;36m  Cell \u001b[0;32mIn[206], line 2\u001b[0;36m\u001b[0m\n\u001b[0;31m    return **kwargs\u001b[0m\n\u001b[0m           ^\u001b[0m\n\u001b[0;31mSyntaxError\u001b[0m\u001b[0;31m:\u001b[0m invalid syntax\n"
     ]
    }
   ],
   "source": [
    "def fake_func(a = 'a', b = 'b'):\n",
    "    return **kwargs"
   ]
  },
  {
   "cell_type": "code",
   "execution_count": 205,
   "metadata": {},
   "outputs": [
    {
     "ename": "NameError",
     "evalue": "name 'kwargs' is not defined",
     "output_type": "error",
     "traceback": [
      "\u001b[0;31m---------------------------------------------------------------------------\u001b[0m",
      "\u001b[0;31mNameError\u001b[0m                                 Traceback (most recent call last)",
      "Cell \u001b[0;32mIn[205], line 1\u001b[0m\n\u001b[0;32m----> 1\u001b[0m \u001b[43mfake_func\u001b[49m\u001b[43m(\u001b[49m\u001b[43m)\u001b[49m\n",
      "Cell \u001b[0;32mIn[204], line 2\u001b[0m, in \u001b[0;36mfake_func\u001b[0;34m(a, b)\u001b[0m\n\u001b[1;32m      1\u001b[0m \u001b[38;5;28;01mdef\u001b[39;00m \u001b[38;5;21mfake_func\u001b[39m(a \u001b[38;5;241m=\u001b[39m \u001b[38;5;124m'\u001b[39m\u001b[38;5;124ma\u001b[39m\u001b[38;5;124m'\u001b[39m, b \u001b[38;5;241m=\u001b[39m \u001b[38;5;124m'\u001b[39m\u001b[38;5;124mb\u001b[39m\u001b[38;5;124m'\u001b[39m):\n\u001b[0;32m----> 2\u001b[0m     \u001b[38;5;28;01mreturn\u001b[39;00m \u001b[43mkwargs\u001b[49m\n",
      "\u001b[0;31mNameError\u001b[0m: name 'kwargs' is not defined"
     ]
    }
   ],
   "source": [
    "fake_func()"
   ]
  },
  {
   "cell_type": "code",
   "execution_count": 209,
   "metadata": {},
   "outputs": [],
   "source": [
    "model_name =os.path.basename(checkpoint_dir)"
   ]
  },
  {
   "cell_type": "code",
   "execution_count": null,
   "metadata": {},
   "outputs": [],
   "source": []
  },
  {
   "cell_type": "code",
   "execution_count": 212,
   "metadata": {},
   "outputs": [
    {
     "data": {
      "text/plain": [
       "'Fake/Path/scratch_121824_011725'"
      ]
     },
     "execution_count": 212,
     "metadata": {},
     "output_type": "execute_result"
    }
   ],
   "source": [
    "import datetime\n",
    "today = datetime.date.today().strftime('%m%d%y')\n",
    "os.path.join('Fake/Path', model_name + \"_\" + today)"
   ]
  },
  {
   "cell_type": "code",
   "execution_count": null,
   "metadata": {},
   "outputs": [],
   "source": []
  }
 ],
 "metadata": {
  "kernelspec": {
   "display_name": "tf",
   "language": "python",
   "name": "python3"
  },
  "language_info": {
   "codemirror_mode": {
    "name": "ipython",
    "version": 3
   },
   "file_extension": ".py",
   "mimetype": "text/x-python",
   "name": "python",
   "nbconvert_exporter": "python",
   "pygments_lexer": "ipython3",
   "version": "3.11.4"
  }
 },
 "nbformat": 4,
 "nbformat_minor": 2
}
