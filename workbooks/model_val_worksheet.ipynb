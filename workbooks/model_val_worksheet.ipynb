{
 "cells": [
  {
   "cell_type": "markdown",
   "metadata": {},
   "source": [
    "Goal: Create tool to validate model-based labels.\n",
    "Process: \n",
    "1. Take prediction for a given video, segment into clips of high and low confidence labels\n",
    "2. Display clips to user to validate in a input-dependent way such that evidence of poor labeling prompts user to validate more clips\n",
    "3. Generate a 'score' for each video to indicate if its likely under-, over-, or properly scored and when the improper scoring is occuring\n",
    "4. Have option to save clips that are definitely one or the other PARTICULARLY if they're incorrectly labeled\n",
    "\n",
    "Components: \n",
    "1. Prediction segmentation: Get average logit for both labels. Smooth logits "
   ]
  },
  {
   "cell_type": "code",
   "execution_count": 1,
   "metadata": {},
   "outputs": [],
   "source": [
    "import pickle\n",
    "import pandas as pd\n",
    "import numpy as np\n",
    "import matplotlib.pyplot as plt\n",
    "import os\n",
    "%matplotlib inline"
   ]
  },
  {
   "cell_type": "code",
   "execution_count": 2,
   "metadata": {},
   "outputs": [],
   "source": [
    "logit_file = \"/Users/rebeccakrall/Desktop/logits4.pkl\"\n",
    "anns_file = \"/Users/rebeccakrall/Desktop/anns4.pkl\"\n",
    "ref = pd.read_csv(\"/Users/rebeccakrall/Desktop/MoviNet Scratch Model Tests/some_manual_scores_prx03.csv\")\n",
    "vid_directory = \"/Users/rebeccakrall/Data/Video Processing and Prediction/Scratching_Projects/PRX_03/PRX_03_Videos\"\n",
    "\n",
    "with open(logit_file, 'rb') as file:\n",
    "    logits = pickle.load(file)"
   ]
  },
  {
   "cell_type": "code",
   "execution_count": 3,
   "metadata": {},
   "outputs": [
    {
     "ename": "KeyboardInterrupt",
     "evalue": "",
     "output_type": "error",
     "traceback": [
      "\u001b[0;31m---------------------------------------------------------------------------\u001b[0m",
      "\u001b[0;31mKeyboardInterrupt\u001b[0m                         Traceback (most recent call last)",
      "Cell \u001b[0;32mIn[3], line 1\u001b[0m\n\u001b[0;32m----> 1\u001b[0m \u001b[38;5;28;01mfrom\u001b[39;00m \u001b[38;5;21;01mscipy\u001b[39;00m \u001b[38;5;28;01mimport\u001b[39;00m signal\n\u001b[1;32m      2\u001b[0m \u001b[38;5;28;01mfrom\u001b[39;00m \u001b[38;5;21;01mscipy\u001b[39;00m\u001b[38;5;21;01m.\u001b[39;00m\u001b[38;5;21;01mndimage\u001b[39;00m \u001b[38;5;28;01mimport\u001b[39;00m uniform_filter1d\n",
      "File \u001b[0;32m<frozen importlib._bootstrap>:1229\u001b[0m, in \u001b[0;36m_handle_fromlist\u001b[0;34m(module, fromlist, import_, recursive)\u001b[0m\n",
      "File \u001b[0;32m~/miniconda3/envs/tf/lib/python3.11/site-packages/scipy/__init__.py:134\u001b[0m, in \u001b[0;36m__getattr__\u001b[0;34m(name)\u001b[0m\n\u001b[1;32m    132\u001b[0m \u001b[38;5;28;01mdef\u001b[39;00m \u001b[38;5;21m__getattr__\u001b[39m(name):\n\u001b[1;32m    133\u001b[0m     \u001b[38;5;28;01mif\u001b[39;00m name \u001b[38;5;129;01min\u001b[39;00m submodules:\n\u001b[0;32m--> 134\u001b[0m         \u001b[38;5;28;01mreturn\u001b[39;00m \u001b[43m_importlib\u001b[49m\u001b[38;5;241;43m.\u001b[39;49m\u001b[43mimport_module\u001b[49m\u001b[43m(\u001b[49m\u001b[38;5;124;43mf\u001b[39;49m\u001b[38;5;124;43m'\u001b[39;49m\u001b[38;5;124;43mscipy.\u001b[39;49m\u001b[38;5;132;43;01m{\u001b[39;49;00m\u001b[43mname\u001b[49m\u001b[38;5;132;43;01m}\u001b[39;49;00m\u001b[38;5;124;43m'\u001b[39;49m\u001b[43m)\u001b[49m\n\u001b[1;32m    135\u001b[0m     \u001b[38;5;28;01melse\u001b[39;00m:\n\u001b[1;32m    136\u001b[0m         \u001b[38;5;28;01mtry\u001b[39;00m:\n",
      "File \u001b[0;32m~/miniconda3/envs/tf/lib/python3.11/importlib/__init__.py:126\u001b[0m, in \u001b[0;36mimport_module\u001b[0;34m(name, package)\u001b[0m\n\u001b[1;32m    124\u001b[0m             \u001b[38;5;28;01mbreak\u001b[39;00m\n\u001b[1;32m    125\u001b[0m         level \u001b[38;5;241m+\u001b[39m\u001b[38;5;241m=\u001b[39m \u001b[38;5;241m1\u001b[39m\n\u001b[0;32m--> 126\u001b[0m \u001b[38;5;28;01mreturn\u001b[39;00m \u001b[43m_bootstrap\u001b[49m\u001b[38;5;241;43m.\u001b[39;49m\u001b[43m_gcd_import\u001b[49m\u001b[43m(\u001b[49m\u001b[43mname\u001b[49m\u001b[43m[\u001b[49m\u001b[43mlevel\u001b[49m\u001b[43m:\u001b[49m\u001b[43m]\u001b[49m\u001b[43m,\u001b[49m\u001b[43m \u001b[49m\u001b[43mpackage\u001b[49m\u001b[43m,\u001b[49m\u001b[43m \u001b[49m\u001b[43mlevel\u001b[49m\u001b[43m)\u001b[49m\n",
      "File \u001b[0;32m~/miniconda3/envs/tf/lib/python3.11/site-packages/scipy/signal/__init__.py:330\u001b[0m\n\u001b[1;32m    328\u001b[0m \u001b[38;5;28;01mfrom\u001b[39;00m \u001b[38;5;21;01m.\u001b[39;00m\u001b[38;5;21;01m_short_time_fft\u001b[39;00m \u001b[38;5;28;01mimport\u001b[39;00m \u001b[38;5;241m*\u001b[39m\n\u001b[1;32m    329\u001b[0m \u001b[38;5;28;01mfrom\u001b[39;00m \u001b[38;5;21;01m.\u001b[39;00m\u001b[38;5;21;01m_wavelets\u001b[39;00m \u001b[38;5;28;01mimport\u001b[39;00m \u001b[38;5;241m*\u001b[39m\n\u001b[0;32m--> 330\u001b[0m \u001b[38;5;28;01mfrom\u001b[39;00m \u001b[38;5;21;01m.\u001b[39;00m\u001b[38;5;21;01m_peak_finding\u001b[39;00m \u001b[38;5;28;01mimport\u001b[39;00m \u001b[38;5;241m*\u001b[39m\n\u001b[1;32m    331\u001b[0m \u001b[38;5;28;01mfrom\u001b[39;00m \u001b[38;5;21;01m.\u001b[39;00m\u001b[38;5;21;01m_czt\u001b[39;00m \u001b[38;5;28;01mimport\u001b[39;00m \u001b[38;5;241m*\u001b[39m\n\u001b[1;32m    332\u001b[0m \u001b[38;5;28;01mfrom\u001b[39;00m \u001b[38;5;21;01m.\u001b[39;00m\u001b[38;5;21;01mwindows\u001b[39;00m \u001b[38;5;28;01mimport\u001b[39;00m get_window  \u001b[38;5;66;03m# keep this one in signal namespace\u001b[39;00m\n",
      "File \u001b[0;32m~/miniconda3/envs/tf/lib/python3.11/site-packages/scipy/signal/_peak_finding.py:8\u001b[0m\n\u001b[1;32m      5\u001b[0m \u001b[38;5;28;01mimport\u001b[39;00m \u001b[38;5;21;01mnumpy\u001b[39;00m \u001b[38;5;28;01mas\u001b[39;00m \u001b[38;5;21;01mnp\u001b[39;00m\n\u001b[1;32m      7\u001b[0m \u001b[38;5;28;01mfrom\u001b[39;00m \u001b[38;5;21;01mscipy\u001b[39;00m\u001b[38;5;21;01m.\u001b[39;00m\u001b[38;5;21;01msignal\u001b[39;00m\u001b[38;5;21;01m.\u001b[39;00m\u001b[38;5;21;01m_wavelets\u001b[39;00m \u001b[38;5;28;01mimport\u001b[39;00m _cwt, _ricker\n\u001b[0;32m----> 8\u001b[0m \u001b[38;5;28;01mfrom\u001b[39;00m \u001b[38;5;21;01mscipy\u001b[39;00m\u001b[38;5;21;01m.\u001b[39;00m\u001b[38;5;21;01mstats\u001b[39;00m \u001b[38;5;28;01mimport\u001b[39;00m scoreatpercentile\n\u001b[1;32m     10\u001b[0m \u001b[38;5;28;01mfrom\u001b[39;00m \u001b[38;5;21;01m.\u001b[39;00m\u001b[38;5;21;01m_peak_finding_utils\u001b[39;00m \u001b[38;5;28;01mimport\u001b[39;00m (\n\u001b[1;32m     11\u001b[0m     _local_maxima_1d,\n\u001b[1;32m     12\u001b[0m     _select_by_peak_distance,\n\u001b[1;32m     13\u001b[0m     _peak_prominences,\n\u001b[1;32m     14\u001b[0m     _peak_widths\n\u001b[1;32m     15\u001b[0m )\n\u001b[1;32m     18\u001b[0m __all__ \u001b[38;5;241m=\u001b[39m [\u001b[38;5;124m'\u001b[39m\u001b[38;5;124margrelmin\u001b[39m\u001b[38;5;124m'\u001b[39m, \u001b[38;5;124m'\u001b[39m\u001b[38;5;124margrelmax\u001b[39m\u001b[38;5;124m'\u001b[39m, \u001b[38;5;124m'\u001b[39m\u001b[38;5;124margrelextrema\u001b[39m\u001b[38;5;124m'\u001b[39m, \u001b[38;5;124m'\u001b[39m\u001b[38;5;124mpeak_prominences\u001b[39m\u001b[38;5;124m'\u001b[39m,\n\u001b[1;32m     19\u001b[0m            \u001b[38;5;124m'\u001b[39m\u001b[38;5;124mpeak_widths\u001b[39m\u001b[38;5;124m'\u001b[39m, \u001b[38;5;124m'\u001b[39m\u001b[38;5;124mfind_peaks\u001b[39m\u001b[38;5;124m'\u001b[39m, \u001b[38;5;124m'\u001b[39m\u001b[38;5;124mfind_peaks_cwt\u001b[39m\u001b[38;5;124m'\u001b[39m]\n",
      "File \u001b[0;32m~/miniconda3/envs/tf/lib/python3.11/site-packages/scipy/stats/__init__.py:606\u001b[0m\n\u001b[1;32m      1\u001b[0m \u001b[38;5;124;03m\"\"\"\u001b[39;00m\n\u001b[1;32m      2\u001b[0m \u001b[38;5;124;03m.. _statsrefmanual:\u001b[39;00m\n\u001b[1;32m      3\u001b[0m \n\u001b[0;32m   (...)\u001b[0m\n\u001b[1;32m    601\u001b[0m \n\u001b[1;32m    602\u001b[0m \u001b[38;5;124;03m\"\"\"\u001b[39;00m  \u001b[38;5;66;03m# noqa: E501\u001b[39;00m\n\u001b[1;32m    604\u001b[0m \u001b[38;5;28;01mfrom\u001b[39;00m \u001b[38;5;21;01m.\u001b[39;00m\u001b[38;5;21;01m_warnings_errors\u001b[39;00m \u001b[38;5;28;01mimport\u001b[39;00m (ConstantInputWarning, NearConstantInputWarning,\n\u001b[1;32m    605\u001b[0m                                DegenerateDataWarning, FitError)\n\u001b[0;32m--> 606\u001b[0m \u001b[38;5;28;01mfrom\u001b[39;00m \u001b[38;5;21;01m.\u001b[39;00m\u001b[38;5;21;01m_stats_py\u001b[39;00m \u001b[38;5;28;01mimport\u001b[39;00m \u001b[38;5;241m*\u001b[39m\n\u001b[1;32m    607\u001b[0m \u001b[38;5;28;01mfrom\u001b[39;00m \u001b[38;5;21;01m.\u001b[39;00m\u001b[38;5;21;01m_variation\u001b[39;00m \u001b[38;5;28;01mimport\u001b[39;00m variation\n\u001b[1;32m    608\u001b[0m \u001b[38;5;28;01mfrom\u001b[39;00m \u001b[38;5;21;01m.\u001b[39;00m\u001b[38;5;21;01mdistributions\u001b[39;00m \u001b[38;5;28;01mimport\u001b[39;00m \u001b[38;5;241m*\u001b[39m\n",
      "File \u001b[0;32m~/miniconda3/envs/tf/lib/python3.11/site-packages/scipy/stats/_stats_py.py:49\u001b[0m\n\u001b[1;32m     47\u001b[0m \u001b[38;5;28;01mimport\u001b[39;00m \u001b[38;5;21;01mscipy\u001b[39;00m\u001b[38;5;21;01m.\u001b[39;00m\u001b[38;5;21;01mspecial\u001b[39;00m \u001b[38;5;28;01mas\u001b[39;00m \u001b[38;5;21;01mspecial\u001b[39;00m\n\u001b[1;32m     48\u001b[0m \u001b[38;5;28;01mfrom\u001b[39;00m \u001b[38;5;21;01mscipy\u001b[39;00m \u001b[38;5;28;01mimport\u001b[39;00m linalg\n\u001b[0;32m---> 49\u001b[0m \u001b[38;5;28;01mfrom\u001b[39;00m \u001b[38;5;21;01m.\u001b[39;00m \u001b[38;5;28;01mimport\u001b[39;00m distributions\n\u001b[1;32m     50\u001b[0m \u001b[38;5;28;01mfrom\u001b[39;00m \u001b[38;5;21;01m.\u001b[39;00m \u001b[38;5;28;01mimport\u001b[39;00m _mstats_basic \u001b[38;5;28;01mas\u001b[39;00m mstats_basic\n\u001b[1;32m     51\u001b[0m \u001b[38;5;28;01mfrom\u001b[39;00m \u001b[38;5;21;01m.\u001b[39;00m\u001b[38;5;21;01m_stats_mstats_common\u001b[39;00m \u001b[38;5;28;01mimport\u001b[39;00m (_find_repeats, linregress, theilslopes,\n\u001b[1;32m     52\u001b[0m                                    siegelslopes)\n",
      "File \u001b[0;32m~/miniconda3/envs/tf/lib/python3.11/site-packages/scipy/stats/distributions.py:10\u001b[0m\n\u001b[1;32m      1\u001b[0m \u001b[38;5;66;03m#\u001b[39;00m\n\u001b[1;32m      2\u001b[0m \u001b[38;5;66;03m# Author:  Travis Oliphant  2002-2011 with contributions from\u001b[39;00m\n\u001b[1;32m      3\u001b[0m \u001b[38;5;66;03m#          SciPy Developers 2004-2011\u001b[39;00m\n\u001b[0;32m   (...)\u001b[0m\n\u001b[1;32m      6\u001b[0m \u001b[38;5;66;03m#       instead of `git blame -Lxxx,+x`.\u001b[39;00m\n\u001b[1;32m      7\u001b[0m \u001b[38;5;66;03m#\u001b[39;00m\n\u001b[1;32m      8\u001b[0m \u001b[38;5;28;01mfrom\u001b[39;00m \u001b[38;5;21;01m.\u001b[39;00m\u001b[38;5;21;01m_distn_infrastructure\u001b[39;00m \u001b[38;5;28;01mimport\u001b[39;00m (rv_discrete, rv_continuous, rv_frozen)  \u001b[38;5;66;03m# noqa: F401\u001b[39;00m\n\u001b[0;32m---> 10\u001b[0m \u001b[38;5;28;01mfrom\u001b[39;00m \u001b[38;5;21;01m.\u001b[39;00m \u001b[38;5;28;01mimport\u001b[39;00m _continuous_distns\n\u001b[1;32m     11\u001b[0m \u001b[38;5;28;01mfrom\u001b[39;00m \u001b[38;5;21;01m.\u001b[39;00m \u001b[38;5;28;01mimport\u001b[39;00m _discrete_distns\n\u001b[1;32m     13\u001b[0m \u001b[38;5;28;01mfrom\u001b[39;00m \u001b[38;5;21;01m.\u001b[39;00m\u001b[38;5;21;01m_continuous_distns\u001b[39;00m \u001b[38;5;28;01mimport\u001b[39;00m \u001b[38;5;241m*\u001b[39m  \u001b[38;5;66;03m# noqa: F403\u001b[39;00m\n",
      "File \u001b[0;32m~/miniconda3/envs/tf/lib/python3.11/site-packages/scipy/stats/_continuous_distns.py:11015\u001b[0m\n\u001b[1;32m  11011\u001b[0m     \u001b[38;5;28;01mdef\u001b[39;00m \u001b[38;5;21m_entropy\u001b[39m(\u001b[38;5;28mself\u001b[39m, beta):\n\u001b[1;32m  11012\u001b[0m         \u001b[38;5;28;01mreturn\u001b[39;00m \u001b[38;5;241m1.0\u001b[39m\u001b[38;5;241m/\u001b[39mbeta \u001b[38;5;241m-\u001b[39m np\u001b[38;5;241m.\u001b[39mlog(beta) \u001b[38;5;241m+\u001b[39m sc\u001b[38;5;241m.\u001b[39mgammaln(\u001b[38;5;241m1.0\u001b[39m\u001b[38;5;241m/\u001b[39mbeta)\n\u001b[0;32m> 11015\u001b[0m halfgennorm \u001b[38;5;241m=\u001b[39m \u001b[43mhalfgennorm_gen\u001b[49m\u001b[43m(\u001b[49m\u001b[43ma\u001b[49m\u001b[38;5;241;43m=\u001b[39;49m\u001b[38;5;241;43m0\u001b[39;49m\u001b[43m,\u001b[49m\u001b[43m \u001b[49m\u001b[43mname\u001b[49m\u001b[38;5;241;43m=\u001b[39;49m\u001b[38;5;124;43m'\u001b[39;49m\u001b[38;5;124;43mhalfgennorm\u001b[39;49m\u001b[38;5;124;43m'\u001b[39;49m\u001b[43m)\u001b[49m\n\u001b[1;32m  11018\u001b[0m \u001b[38;5;28;01mclass\u001b[39;00m \u001b[38;5;21;01mcrystalball_gen\u001b[39;00m(rv_continuous):\n\u001b[1;32m  11019\u001b[0m \u001b[38;5;250m    \u001b[39m\u001b[38;5;124mr\u001b[39m\u001b[38;5;124;03m\"\"\"\u001b[39;00m\n\u001b[1;32m  11020\u001b[0m \u001b[38;5;124;03m    Crystalball distribution\u001b[39;00m\n\u001b[1;32m  11021\u001b[0m \n\u001b[0;32m   (...)\u001b[0m\n\u001b[1;32m  11052\u001b[0m \u001b[38;5;124;03m    %(example)s\u001b[39;00m\n\u001b[1;32m  11053\u001b[0m \u001b[38;5;124;03m    \"\"\"\u001b[39;00m\n",
      "File \u001b[0;32m~/miniconda3/envs/tf/lib/python3.11/site-packages/scipy/stats/_distn_infrastructure.py:1850\u001b[0m, in \u001b[0;36mrv_continuous.__init__\u001b[0;34m(self, momtype, a, b, xtol, badvalue, name, longname, shapes, seed)\u001b[0m\n\u001b[1;32m   1848\u001b[0m \u001b[38;5;28;01melse\u001b[39;00m:\n\u001b[1;32m   1849\u001b[0m     dct \u001b[38;5;241m=\u001b[39m \u001b[38;5;28mdict\u001b[39m(distcont)\n\u001b[0;32m-> 1850\u001b[0m     \u001b[38;5;28;43mself\u001b[39;49m\u001b[38;5;241;43m.\u001b[39;49m\u001b[43m_construct_doc\u001b[49m\u001b[43m(\u001b[49m\u001b[43mdocdict\u001b[49m\u001b[43m,\u001b[49m\u001b[43m \u001b[49m\u001b[43mdct\u001b[49m\u001b[38;5;241;43m.\u001b[39;49m\u001b[43mget\u001b[49m\u001b[43m(\u001b[49m\u001b[38;5;28;43mself\u001b[39;49m\u001b[38;5;241;43m.\u001b[39;49m\u001b[43mname\u001b[49m\u001b[43m)\u001b[49m\u001b[43m)\u001b[49m\n",
      "File \u001b[0;32m~/miniconda3/envs/tf/lib/python3.11/site-packages/scipy/stats/_distn_infrastructure.py:812\u001b[0m, in \u001b[0;36mrv_generic._construct_doc\u001b[0;34m(self, docdict, shapes_vals)\u001b[0m\n\u001b[1;32m    810\u001b[0m     \u001b[38;5;28mself\u001b[39m\u001b[38;5;241m.\u001b[39m\u001b[38;5;18m__doc__\u001b[39m \u001b[38;5;241m=\u001b[39m \u001b[38;5;28mself\u001b[39m\u001b[38;5;241m.\u001b[39m\u001b[38;5;18m__doc__\u001b[39m\u001b[38;5;241m.\u001b[39mreplace(\u001b[38;5;124m\"\u001b[39m\u001b[38;5;132;01m%(shapes)s\u001b[39;00m\u001b[38;5;124m, \u001b[39m\u001b[38;5;124m\"\u001b[39m, \u001b[38;5;124m\"\u001b[39m\u001b[38;5;124m\"\u001b[39m)\n\u001b[1;32m    811\u001b[0m \u001b[38;5;28;01mtry\u001b[39;00m:\n\u001b[0;32m--> 812\u001b[0m     \u001b[38;5;28mself\u001b[39m\u001b[38;5;241m.\u001b[39m\u001b[38;5;18m__doc__\u001b[39m \u001b[38;5;241m=\u001b[39m \u001b[43mdoccer\u001b[49m\u001b[38;5;241;43m.\u001b[39;49m\u001b[43mdocformat\u001b[49m\u001b[43m(\u001b[49m\u001b[38;5;28;43mself\u001b[39;49m\u001b[38;5;241;43m.\u001b[39;49m\u001b[38;5;18;43m__doc__\u001b[39;49m\u001b[43m,\u001b[49m\u001b[43m \u001b[49m\u001b[43mtempdict\u001b[49m\u001b[43m)\u001b[49m\n\u001b[1;32m    813\u001b[0m \u001b[38;5;28;01mexcept\u001b[39;00m \u001b[38;5;167;01mTypeError\u001b[39;00m \u001b[38;5;28;01mas\u001b[39;00m e:\n\u001b[1;32m    814\u001b[0m     \u001b[38;5;28;01mraise\u001b[39;00m \u001b[38;5;167;01mException\u001b[39;00m(\u001b[38;5;124m\"\u001b[39m\u001b[38;5;124mUnable to construct docstring for \u001b[39m\u001b[38;5;124m\"\u001b[39m\n\u001b[1;32m    815\u001b[0m                     \u001b[38;5;124mf\u001b[39m\u001b[38;5;124m\"\u001b[39m\u001b[38;5;124mdistribution \u001b[39m\u001b[38;5;130;01m\\\"\u001b[39;00m\u001b[38;5;132;01m{\u001b[39;00m\u001b[38;5;28mself\u001b[39m\u001b[38;5;241m.\u001b[39mname\u001b[38;5;132;01m}\u001b[39;00m\u001b[38;5;130;01m\\\"\u001b[39;00m\u001b[38;5;124m: \u001b[39m\u001b[38;5;132;01m{\u001b[39;00m\u001b[38;5;28mrepr\u001b[39m(e)\u001b[38;5;132;01m}\u001b[39;00m\u001b[38;5;124m\"\u001b[39m) \u001b[38;5;28;01mfrom\u001b[39;00m \u001b[38;5;21;01me\u001b[39;00m\n",
      "File \u001b[0;32m~/miniconda3/envs/tf/lib/python3.11/site-packages/scipy/_lib/doccer.py:56\u001b[0m, in \u001b[0;36mdocformat\u001b[0;34m(docstring, docdict)\u001b[0m\n\u001b[1;32m     54\u001b[0m     icount \u001b[38;5;241m=\u001b[39m \u001b[38;5;241m0\u001b[39m\n\u001b[1;32m     55\u001b[0m \u001b[38;5;28;01melse\u001b[39;00m:\n\u001b[0;32m---> 56\u001b[0m     icount \u001b[38;5;241m=\u001b[39m \u001b[43mindentcount_lines\u001b[49m\u001b[43m(\u001b[49m\u001b[43mlines\u001b[49m\u001b[43m[\u001b[49m\u001b[38;5;241;43m1\u001b[39;49m\u001b[43m:\u001b[49m\u001b[43m]\u001b[49m\u001b[43m)\u001b[49m\n\u001b[1;32m     57\u001b[0m indent \u001b[38;5;241m=\u001b[39m \u001b[38;5;124m'\u001b[39m\u001b[38;5;124m \u001b[39m\u001b[38;5;124m'\u001b[39m \u001b[38;5;241m*\u001b[39m icount\n\u001b[1;32m     58\u001b[0m \u001b[38;5;66;03m# Insert this indent to dictionary docstrings\u001b[39;00m\n",
      "File \u001b[0;32m~/miniconda3/envs/tf/lib/python3.11/site-packages/scipy/_lib/doccer.py:199\u001b[0m, in \u001b[0;36mindentcount_lines\u001b[0;34m(lines)\u001b[0m\n\u001b[1;32m    197\u001b[0m     stripped \u001b[38;5;241m=\u001b[39m line\u001b[38;5;241m.\u001b[39mlstrip()\n\u001b[1;32m    198\u001b[0m     \u001b[38;5;28;01mif\u001b[39;00m stripped:\n\u001b[0;32m--> 199\u001b[0m         indentno \u001b[38;5;241m=\u001b[39m \u001b[38;5;28;43mmin\u001b[39;49m\u001b[43m(\u001b[49m\u001b[43mindentno\u001b[49m\u001b[43m,\u001b[49m\u001b[43m \u001b[49m\u001b[38;5;28;43mlen\u001b[39;49m\u001b[43m(\u001b[49m\u001b[43mline\u001b[49m\u001b[43m)\u001b[49m\u001b[43m \u001b[49m\u001b[38;5;241;43m-\u001b[39;49m\u001b[43m \u001b[49m\u001b[38;5;28;43mlen\u001b[39;49m\u001b[43m(\u001b[49m\u001b[43mstripped\u001b[49m\u001b[43m)\u001b[49m\u001b[43m)\u001b[49m\n\u001b[1;32m    200\u001b[0m \u001b[38;5;28;01mif\u001b[39;00m indentno \u001b[38;5;241m==\u001b[39m sys\u001b[38;5;241m.\u001b[39mmaxsize:\n\u001b[1;32m    201\u001b[0m     \u001b[38;5;28;01mreturn\u001b[39;00m \u001b[38;5;241m0\u001b[39m\n",
      "\u001b[0;31mKeyboardInterrupt\u001b[0m: "
     ]
    }
   ],
   "source": [
    "from scipy import signal\n",
    "from scipy.ndimage import uniform_filter1d\n",
    "\n"
   ]
  },
  {
   "cell_type": "code",
   "execution_count": 9,
   "metadata": {},
   "outputs": [
    {
     "data": {
      "text/plain": [
       "[<matplotlib.lines.Line2D at 0x2c3003890>]"
      ]
     },
     "execution_count": 9,
     "metadata": {},
     "output_type": "execute_result"
    },
    {
     "data": {
      "image/png": "[encoded data removed]",
      "text/plain": [
       "<Figure size 640x480 with 1 Axes>"
      ]
     },
     "metadata": {},
     "output_type": "display_data"
    }
   ],
   "source": [
    "y = np.squeeze(np.array(logits[0]))\n",
    "y_smooth = signal.savgol_filter(y, 6, 3), # order of fitted polynomial\n",
    "y_filter = uniform_filter1d(y, size=5)\n",
    "\n",
    "epoch = 0\n",
    "plt.plot(y[epoch: epoch+200])\n",
    "# plt.plot(y_smooth[0][epoch: epoch+200])\n",
    "plt.plot(y[epoch: epoch+200] > 0 )\n",
    "plt.plot(y_filter[epoch:epoch+200])\n"
   ]
  },
  {
   "cell_type": "code",
   "execution_count": 10,
   "metadata": {},
   "outputs": [],
   "source": [
    "def rolling_analysis(data, window):\n",
    "    for i in range(len(data)- window):\n",
    "        avg = np.sum(data[i:i+window])/window\n",
    "        counts = np.sum(data[i:i+window] < 0)\n",
    "    "
   ]
  },
  {
   "cell_type": "code",
   "execution_count": 11,
   "metadata": {},
   "outputs": [],
   "source": [
    "data = y\n",
    "window = 5\n",
    "rolling_avg = np.array([np.sum(data[i:i+window])/window for i in range(len(data-window))])\n",
    "rolling_counts = np.array([np.sum(data[i:i+window] < 0)/window for i in range(len(data-window))])"
   ]
  },
  {
   "cell_type": "code",
   "execution_count": 12,
   "metadata": {},
   "outputs": [],
   "source": [
    "hc_non = np.where((rolling_avg > 5) & (rolling_counts == 0))\n",
    "lc_non = np.where((rolling_avg < 2) & (rolling_avg > -2) & (rolling_counts < 0.4))\n",
    "lc_on = np.where((rolling_avg < 2) & (rolling_avg > -2) & (rolling_counts > 0.6))\n",
    "hc_on = np.where((rolling_avg < 0) & (rolling_counts == 1))"
   ]
  },
  {
   "cell_type": "code",
   "execution_count": 13,
   "metadata": {},
   "outputs": [
    {
     "data": {
      "text/plain": [
       "[634, 2662, 609, 1376, 708, 561, 1525, 2026, 164, 2215]"
      ]
     },
     "execution_count": 13,
     "metadata": {},
     "output_type": "execute_result"
    }
   ],
   "source": [
    "import random\n",
    "random.sample(list(hc_non[0]), 10)"
   ]
  },
  {
   "cell_type": "code",
   "execution_count": 14,
   "metadata": {},
   "outputs": [],
   "source": [
    "# transform logit index into frame\n",
    "logit_index = 2588\n",
    "prediction_frames = 20\n",
    "fps = 30\n",
    "frame_start = (logit_index * prediction_frames)\n",
    "frame_end = (logit_index + window) * prediction_frames\n",
    "time_start = (frame_start/fps)/60"
   ]
  },
  {
   "cell_type": "code",
   "execution_count": 15,
   "metadata": {},
   "outputs": [
    {
     "data": {
      "text/plain": [
       "array([[    0,    20,    40, ..., 53880, 53900, 53920]])"
      ]
     },
     "execution_count": 15,
     "metadata": {},
     "output_type": "execute_result"
    }
   ],
   "source": [
    "np.array(hc_non) * 20"
   ]
  },
  {
   "cell_type": "code",
   "execution_count": 16,
   "metadata": {},
   "outputs": [],
   "source": [
    "from video_preprocessing import get_params_from_vid, padcrop_image, frame_crop\n",
    "import cv2"
   ]
  },
  {
   "cell_type": "code",
   "execution_count": 17,
   "metadata": {},
   "outputs": [
    {
     "data": {
      "text/plain": [
       "'m3'"
      ]
     },
     "execution_count": 17,
     "metadata": {},
     "output_type": "execute_result"
    }
   ],
   "source": [
    "ref.loc[0, 'mouse id']\n"
   ]
  },
  {
   "cell_type": "code",
   "execution_count": 18,
   "metadata": {},
   "outputs": [],
   "source": [
    "# input video, start & length of clips, labels\n",
    "starts = np.array(hc_non) * prediction_frames\n",
    "vid = os.path.join(vid_directory, ref.loc[0,'filepath'])\n",
    "frames = window * prediction_frames\n",
    "buffer = 300\n",
    "dp = 0.5\n",
    "minDist = 400\n",
    "animals = ['m1', 'm2', 'm3', 'm4', 'm5', 'm6']\n",
    "an = ref.loc[0, 'mouse id']\n",
    "\n"
   ]
  },
  {
   "cell_type": "code",
   "execution_count": 19,
   "metadata": {},
   "outputs": [],
   "source": [
    "class LabeledGenerator:\n",
    "    def __init__(self, save_path, starts, vid, anns, an, frames, window = 15, buffer = 300, dp = 0.5, minDist = 400):\n",
    "        \"\"\" Returns a set of frames with their associated label. \n",
    "\n",
    "        Args:\n",
    "            videos: list of filepaths \n",
    "            save_path: folder to save new clips\n",
    "            seconds: length of clip in seconds\n",
    "        \"\"\"\n",
    "        self.save_path = save_path\n",
    "        self.starts = starts\n",
    "        self.vid = vid\n",
    "        self.anns = anns\n",
    "        self.frames = frames\n",
    "        self.an = an\n",
    "        self.buffer = buffer\n",
    "        self.dp = dp\n",
    "        self.minDist = minDist\n",
    "\n",
    "        self.current_video = 0\n",
    "        self.current_animal = 0\n",
    "\n",
    "    def __iter__(self):\n",
    "\n",
    "        circles, vid_frames, fps, _ = get_params_from_vid(self.vid)\n",
    "\n",
    "        cap = cv2.VideoCapture(self.vid)\n",
    "        self.starts.sort()\n",
    "\n",
    "        filename = os.path.splitext(os.path.basename(self.vid))[0]\n",
    "\n",
    "        for s in self.starts:\n",
    "            print(s)\n",
    "            cap.set(cv2.CAP_PROP_POS_FRAMES, s)\n",
    "            print('opened cap')\n",
    "\n",
    "            result = []\n",
    "            for ind in range(int(self.frames)):\n",
    "                \n",
    "                ret, frame = cap.read()\n",
    "                center = circles[self.an]\n",
    "\n",
    "                cc, center = frame_crop(center[0], center[1], buffer = self.buffer, shape = frame.shape[:2])\n",
    "                pc = padcrop_image(frame, self.buffer, cc, center)\n",
    "\n",
    "                if self.anns[ind] < 0:\n",
    "                    cv2.putText(pc, \"scratching\", (50,50), cv2.FONT_HERSHEY_SIMPLEX, 1, (255,0,0), 2)\n",
    "\n",
    "                result.append(pc)\n",
    "                    \n",
    "            # result = np.array(result)\n",
    "            details = {'filename': filename, 'animal': self.an, 'frames': (s, int(s+(self.frames))), 'fps': fps, 'shape':frame.shape}\n",
    "            yield result, details\n",
    "        \n",
    "        cap.release()"
   ]
  },
  {
   "cell_type": "code",
   "execution_count": 3,
   "metadata": {},
   "outputs": [
    {
     "ename": "NameError",
     "evalue": "name 'ref' is not defined",
     "output_type": "error",
     "traceback": [
      "\u001b[0;31m---------------------------------------------------------------------------\u001b[0m",
      "\u001b[0;31mNameError\u001b[0m                                 Traceback (most recent call last)",
      "Cell \u001b[0;32mIn[3], line 1\u001b[0m\n\u001b[0;32m----> 1\u001b[0m \u001b[43mref\u001b[49m\u001b[38;5;241m.\u001b[39mloc[\u001b[38;5;241m0\u001b[39m,\u001b[38;5;124m'\u001b[39m\u001b[38;5;124mVideo Start Time\u001b[39m\u001b[38;5;124m'\u001b[39m]\n\u001b[1;32m      2\u001b[0m \u001b[38;5;66;03m# ref.columns\u001b[39;00m\n",
      "\u001b[0;31mNameError\u001b[0m: name 'ref' is not defined"
     ]
    }
   ],
   "source": [
    "ref.loc[0,'Video Start Time']\n",
    "# ref.columns"
   ]
  },
  {
   "cell_type": "code",
   "execution_count": 21,
   "metadata": {},
   "outputs": [
    {
     "ename": "KeyboardInterrupt",
     "evalue": "",
     "output_type": "error",
     "traceback": [
      "\u001b[0;31m---------------------------------------------------------------------------\u001b[0m",
      "\u001b[0;31mKeyboardInterrupt\u001b[0m                         Traceback (most recent call last)",
      "Cell \u001b[0;32mIn[21], line 7\u001b[0m\n\u001b[1;32m      5\u001b[0m labels \u001b[38;5;241m=\u001b[39m [\u001b[38;5;124m'\u001b[39m\u001b[38;5;124mNot scratching\u001b[39m\u001b[38;5;124m'\u001b[39m, \u001b[38;5;124m'\u001b[39m\u001b[38;5;124mscratching\u001b[39m\u001b[38;5;124m'\u001b[39m]\n\u001b[1;32m      6\u001b[0m validations \u001b[38;5;241m=\u001b[39m []\n\u001b[0;32m----> 7\u001b[0m \u001b[38;5;28;43;01mfor\u001b[39;49;00m\u001b[43m \u001b[49m\u001b[43mind\u001b[49m\u001b[43m,\u001b[49m\u001b[43m \u001b[49m\u001b[43m(\u001b[49m\u001b[43mv\u001b[49m\u001b[43m,\u001b[49m\u001b[43m \u001b[49m\u001b[43mdetails\u001b[49m\u001b[43m)\u001b[49m\u001b[43m \u001b[49m\u001b[38;5;129;43;01min\u001b[39;49;00m\u001b[43m \u001b[49m\u001b[38;5;28;43menumerate\u001b[39;49m\u001b[43m(\u001b[49m\u001b[43mvideo_clips\u001b[49m\u001b[43m)\u001b[49m\u001b[43m:\u001b[49m\n\u001b[1;32m      8\u001b[0m \u001b[43m    \u001b[49m\u001b[43mreplay\u001b[49m\u001b[43m \u001b[49m\u001b[38;5;241;43m=\u001b[39;49m\u001b[43m \u001b[49m\u001b[38;5;28;43;01mTrue\u001b[39;49;00m\n\u001b[1;32m      9\u001b[0m \u001b[43m    \u001b[49m\u001b[43mind_choice\u001b[49m\u001b[43m \u001b[49m\u001b[38;5;241;43m=\u001b[39;49m\u001b[43m \u001b[49m\u001b[38;5;28;43;01mNone\u001b[39;49;00m\n",
      "Cell \u001b[0;32mIn[19], line 25\u001b[0m, in \u001b[0;36mLabeledGenerator.__iter__\u001b[0;34m(self)\u001b[0m\n\u001b[1;32m     23\u001b[0m \u001b[38;5;28;01mdef\u001b[39;00m \u001b[38;5;21m__iter__\u001b[39m(\u001b[38;5;28mself\u001b[39m):\n\u001b[0;32m---> 25\u001b[0m     circles, vid_frames, fps, _ \u001b[38;5;241m=\u001b[39m \u001b[43mget_params_from_vid\u001b[49m\u001b[43m(\u001b[49m\u001b[38;5;28;43mself\u001b[39;49m\u001b[38;5;241;43m.\u001b[39;49m\u001b[43mvid\u001b[49m\u001b[43m)\u001b[49m\n\u001b[1;32m     27\u001b[0m     cap \u001b[38;5;241m=\u001b[39m cv2\u001b[38;5;241m.\u001b[39mVideoCapture(\u001b[38;5;28mself\u001b[39m\u001b[38;5;241m.\u001b[39mvid)\n\u001b[1;32m     28\u001b[0m     \u001b[38;5;28mself\u001b[39m\u001b[38;5;241m.\u001b[39mstarts\u001b[38;5;241m.\u001b[39msort()\n",
      "File \u001b[0;32m~/Code/Multiclass_Behavioral_Classification/video_preprocessing.py:162\u001b[0m, in \u001b[0;36mget_params_from_vid\u001b[0;34m(vid_path, animals, dp, minDist)\u001b[0m\n\u001b[1;32m    150\u001b[0m \u001b[38;5;28;01mdef\u001b[39;00m \u001b[38;5;21mget_params_from_vid\u001b[39m(vid_path, animals \u001b[38;5;241m=\u001b[39m [\u001b[38;5;124m'\u001b[39m\u001b[38;5;124mm1\u001b[39m\u001b[38;5;124m'\u001b[39m,\u001b[38;5;124m'\u001b[39m\u001b[38;5;124mm2\u001b[39m\u001b[38;5;124m'\u001b[39m,\u001b[38;5;124m'\u001b[39m\u001b[38;5;124mm3\u001b[39m\u001b[38;5;124m'\u001b[39m,\u001b[38;5;124m'\u001b[39m\u001b[38;5;124mm4\u001b[39m\u001b[38;5;124m'\u001b[39m,\u001b[38;5;124m'\u001b[39m\u001b[38;5;124mm5\u001b[39m\u001b[38;5;124m'\u001b[39m,\u001b[38;5;124m'\u001b[39m\u001b[38;5;124mm6\u001b[39m\u001b[38;5;124m'\u001b[39m], dp \u001b[38;5;241m=\u001b[39m \u001b[38;5;241m0.5\u001b[39m, minDist \u001b[38;5;241m=\u001b[39m \u001b[38;5;241m400\u001b[39m):\n\u001b[1;32m    151\u001b[0m \u001b[38;5;250m    \u001b[39m\u001b[38;5;124;03m\"\"\" Returns video details, finds the center of circular cylinders used to contain mice in videos to allow for cropping\u001b[39;00m\n\u001b[1;32m    152\u001b[0m \n\u001b[1;32m    153\u001b[0m \u001b[38;5;124;03m    Args:\u001b[39;00m\n\u001b[0;32m   (...)\u001b[0m\n\u001b[1;32m    160\u001b[0m \u001b[38;5;124;03m        _type_: _description_\u001b[39;00m\n\u001b[1;32m    161\u001b[0m \u001b[38;5;124;03m    \"\"\"\u001b[39;00m\n\u001b[0;32m--> 162\u001b[0m     src \u001b[38;5;241m=\u001b[39m \u001b[43mcv2\u001b[49m\u001b[38;5;241;43m.\u001b[39;49m\u001b[43mVideoCapture\u001b[49m\u001b[43m(\u001b[49m\u001b[38;5;28;43mstr\u001b[39;49m\u001b[43m(\u001b[49m\u001b[43mvid_path\u001b[49m\u001b[43m)\u001b[49m\u001b[43m)\u001b[49m\n\u001b[1;32m    163\u001b[0m     frames \u001b[38;5;241m=\u001b[39m src\u001b[38;5;241m.\u001b[39mget(cv2\u001b[38;5;241m.\u001b[39mCAP_PROP_FRAME_COUNT) \n\u001b[1;32m    164\u001b[0m     fps \u001b[38;5;241m=\u001b[39m src\u001b[38;5;241m.\u001b[39mget(cv2\u001b[38;5;241m.\u001b[39mCAP_PROP_FPS)\n",
      "\u001b[0;31mKeyboardInterrupt\u001b[0m: "
     ]
    }
   ],
   "source": [
    "save_path = \"/Users/rebeccakrall/Desktop/Model Validation 121024\"\n",
    "starts = random.sample(list(hc_on[0]), 5)\n",
    "\n",
    "video_clips = LabeledGenerator(save_path = None, starts = starts, vid = os.path.join(vid_directory, ref.loc[0,'filepath']),  anns = logits[0], an =  ref.loc[0, 'mouse id'], frames =window * prediction_frames)\n",
    "labels = ['Not scratching', 'scratching']\n",
    "validations = []\n",
    "for ind, (v, details) in enumerate(video_clips):\n",
    "    replay = True\n",
    "    ind_choice = None\n",
    "    while replay:\n",
    "        for frame in v:\n",
    "            cv2.imshow(f'Clip', frame)\n",
    "            key = cv2.waitKey(20) & 0xFF\n",
    "            if key == ord('q'):\n",
    "                replay = False\n",
    "            elif key == 32:\n",
    "                while ind_choice not in [str(i) for i in np.arange(0, len(labels))]:\n",
    "                    ind_choice = input([f'{ind}: {item}' for ind, item in enumerate(labels)])\n",
    "                choice = labels[int(ind_choice)]\n",
    "                print(f'Clip {ind} labeled as {choice}')\n",
    "                replay = False\n",
    "\n",
    "    validations.append(choice)    \n",
    "\n",
    "    # if ind_choice is not None:\n",
    "    #     output_video_path = os.path.join(save_path, labels[int(ind_choice)], f\"{details['filename']}_{details['animal']}_{details['frames'][0]}_{details['frames'][1]}.mp4\")\n",
    "    #     print(output_video_path)\n",
    "    #     out = cv2.VideoWriter(output_video_path, cv2.VideoWriter_fourcc(*'mp4v'), details['fps'], (video_clips.buffer*2, video_clips.buffer*2))\n",
    "    #     for frame in v:\n",
    "    #         out.write(frame)\n",
    "    #     out.release()\n",
    "\n",
    "\n",
    "\n",
    "    # label = None\n",
    "    # while label not in potential_behaviors:\n",
    "    #     label = input(f\"Enter label for clip {ind}, \\n {[potential_behaviors]}\")\n",
    "\n",
    "# cap.release()\n",
    "cv2.destroyAllWindows()\n",
    "cv2.waitKey(1)"
   ]
  },
  {
   "cell_type": "code",
   "execution_count": 219,
   "metadata": {},
   "outputs": [
    {
     "data": {
      "text/plain": [
       "array([[ 9.929771],\n",
       "       [ 9.839922],\n",
       "       [11.059437],\n",
       "       ...,\n",
       "       [ 8.266785],\n",
       "       [ 8.340082],\n",
       "       [ 8.388367]], dtype=float32)"
      ]
     },
     "execution_count": 219,
     "metadata": {},
     "output_type": "execute_result"
    }
   ],
   "source": [
    "logits[0]"
   ]
  },
  {
   "cell_type": "code",
   "execution_count": 231,
   "metadata": {},
   "outputs": [
    {
     "ename": "KeyboardInterrupt",
     "evalue": "",
     "output_type": "error",
     "traceback": [
      "\u001b[0;31m---------------------------------------------------------------------------\u001b[0m",
      "\u001b[0;31mKeyboardInterrupt\u001b[0m                         Traceback (most recent call last)",
      "Cell \u001b[0;32mIn[231], line 17\u001b[0m\n\u001b[1;32m     14\u001b[0m     cv2\u001b[38;5;241m.\u001b[39mputText(pc, \u001b[38;5;124m\"\u001b[39m\u001b[38;5;124mscratching\u001b[39m\u001b[38;5;124m\"\u001b[39m, (\u001b[38;5;241m50\u001b[39m,\u001b[38;5;241m50\u001b[39m), cv2\u001b[38;5;241m.\u001b[39mFONT_HERSHEY_SIMPLEX, \u001b[38;5;241m1\u001b[39m, (\u001b[38;5;241m255\u001b[39m,\u001b[38;5;241m0\u001b[39m,\u001b[38;5;241m0\u001b[39m), \u001b[38;5;241m2\u001b[39m)\n\u001b[1;32m     16\u001b[0m cv2\u001b[38;5;241m.\u001b[39mimshow(\u001b[38;5;124mf\u001b[39m\u001b[38;5;124m'\u001b[39m\u001b[38;5;124mClip\u001b[39m\u001b[38;5;124m'\u001b[39m, pc)\n\u001b[0;32m---> 17\u001b[0m key \u001b[38;5;241m=\u001b[39m \u001b[43mcv2\u001b[49m\u001b[38;5;241;43m.\u001b[39;49m\u001b[43mwaitKey\u001b[49m\u001b[43m(\u001b[49m\u001b[38;5;241;43m5\u001b[39;49m\u001b[43m)\u001b[49m \u001b[38;5;241m&\u001b[39m \u001b[38;5;241m0xFF\u001b[39m\n\u001b[1;32m     18\u001b[0m \u001b[38;5;28;01mif\u001b[39;00m key \u001b[38;5;241m==\u001b[39m \u001b[38;5;28mord\u001b[39m(\u001b[38;5;124m'\u001b[39m\u001b[38;5;124mq\u001b[39m\u001b[38;5;124m'\u001b[39m):\n\u001b[1;32m     19\u001b[0m     \u001b[38;5;28;01mbreak\u001b[39;00m\n",
      "\u001b[0;31mKeyboardInterrupt\u001b[0m: "
     ]
    }
   ],
   "source": [
    "vid = os.path.join(vid_directory, ref.loc[0,'filepath'])\n",
    "cap = cv2.VideoCapture(vid)\n",
    "circles, vid_frames, fps, _ = get_params_from_vid(vid)\n",
    "\n",
    "for logit in logits[0]:\n",
    "    for _ in range(20):\n",
    "        ret, frame = cap.read()\n",
    "        center = circles['m3']\n",
    "\n",
    "        cc, center = frame_crop(center[0], center[1], buffer = 300, shape = frame.shape[:2])\n",
    "        pc = padcrop_image(frame, 300, cc, center)\n",
    "\n",
    "        if logit < 0:\n",
    "            cv2.putText(pc, \"scratching\", (50,50), cv2.FONT_HERSHEY_SIMPLEX, 1, (255,0,0), 2)\n",
    "\n",
    "        cv2.imshow(f'Clip', pc)\n",
    "        key = cv2.waitKey(33) & 0xFF\n",
    "        if key == ord('q'):\n",
    "            break\n",
    "        #     replay = False\n",
    "        # elif key == 32:\n",
    "        #     while ind_choice not in [str(i) for i in np.arange(0, len(labels))]:\n",
    "        #         ind_choice = input([f'{ind}: {item}' for ind, item in enumerate(labels)])\n",
    "        #     choice = labels[int(ind_choice)]\n",
    "        #     print(f'Clip {ind} labeled as {choice}')\n",
    "        #     replay = False\n",
    "cv2.destroyAllWindows()\n",
    "cv2.waitKey(1)"
   ]
  },
  {
   "cell_type": "code",
   "execution_count": 2,
   "metadata": {},
   "outputs": [
    {
     "ename": "NameError",
     "evalue": "name 'pc' is not defined",
     "output_type": "error",
     "traceback": [
      "\u001b[0;31m---------------------------------------------------------------------------\u001b[0m",
      "\u001b[0;31mNameError\u001b[0m                                 Traceback (most recent call last)",
      "Cell \u001b[0;32mIn[2], line 1\u001b[0m\n\u001b[0;32m----> 1\u001b[0m \u001b[43mpc\u001b[49m\n",
      "\u001b[0;31mNameError\u001b[0m: name 'pc' is not defined"
     ]
    }
   ],
   "source": [
    "pc"
   ]
  },
  {
   "cell_type": "code",
   "execution_count": 225,
   "metadata": {},
   "outputs": [
    {
     "data": {
      "text/plain": [
       "54000"
      ]
     },
     "execution_count": 225,
     "metadata": {},
     "output_type": "execute_result"
    }
   ],
   "source": [
    "2700*20"
   ]
  },
  {
   "cell_type": "code",
   "execution_count": 230,
   "metadata": {},
   "outputs": [
    {
     "data": {
      "text/plain": [
       "(2700, 20, 1)"
      ]
     },
     "execution_count": 230,
     "metadata": {},
     "output_type": "execute_result"
    }
   ],
   "source": [
    "np.array([[x] * 20 for x in logits[0]])"
   ]
  },
  {
   "cell_type": "code",
   "execution_count": 10,
   "metadata": {},
   "outputs": [
    {
     "data": {
      "text/plain": [
       "-7.381026"
      ]
     },
     "execution_count": 10,
     "metadata": {},
     "output_type": "execute_result"
    }
   ],
   "source": [
    "np.mean(data[data <0])"
   ]
  },
  {
   "cell_type": "code",
   "execution_count": 1,
   "metadata": {},
   "outputs": [],
   "source": [
    "import pickle\n",
    "import pandas as pd\n",
    "import numpy as np\n",
    "import matplotlib.pyplot as plt\n",
    "import time\n",
    "import os\n",
    "%matplotlib inline"
   ]
  },
  {
   "cell_type": "code",
   "execution_count": 2,
   "metadata": {},
   "outputs": [],
   "source": [
    "from model_validation import *"
   ]
  },
  {
   "cell_type": "code",
   "execution_count": 3,
   "metadata": {},
   "outputs": [],
   "source": [
    "logit_file = \"/Users/rebeccakrall/Desktop/logits4.pkl\"\n",
    "anns_file = \"/Users/rebeccakrall/Desktop/anns4.pkl\"\n",
    "ref = pd.read_csv(\"/Users/rebeccakrall/Desktop/MoviNet Scratch Model Tests/some_manual_scores_prx03.csv\")\n",
    "vid_directory = \"/Users/rebeccakrall/Data/Video Processing and Prediction/Scratching_Projects/PRX_03/PRX_03_Videos\"\n",
    "\n",
    "with open(logit_file, 'rb') as file:\n",
    "    logits = pickle.load(file)"
   ]
  },
  {
   "cell_type": "code",
   "execution_count": 18,
   "metadata": {},
   "outputs": [
    {
     "name": "stdout",
     "output_type": "stream",
     "text": [
      "{'ind': 24, 'window': 2, 'num_clips': 5, 'iteration 0 incorect': 0.2279874213836478, 'iteration 0 time': 92.19598078727722, 'iteration 1 incorect': 0.37735849056603776, 'iteration 1 time': 71.98145508766174, 'iteration 2 incorect': 2.0518867924528306, 'iteration 2 time': 69.44509387016296}\n",
      "{'ind': 24, 'window': 2, 'num_clips': 10, 'iteration 0 incorect': 0.39308176100628933, 'iteration 0 time': 133.62062215805054, 'iteration 1 incorect': 0.39308176100628933, 'iteration 1 time': 140.89208602905273, 'iteration 2 incorect': 0.39308176100628933, 'iteration 2 time': 134.28884410858154}\n",
      "{'ind': 24, 'window': 2, 'num_clips': 15, 'iteration 0 incorect': 0.39308176100628933, 'iteration 0 time': 191.1626398563385, 'iteration 1 incorect': 0.9250524109014674, 'iteration 1 time': 180.00988388061523, 'iteration 2 incorect': 0.39308176100628933, 'iteration 2 time': 180.59615898132324}\n",
      "{'ind': 24, 'window': 3, 'num_clips': 5, 'iteration 0 incorect': 0.08183306055646482, 'iteration 0 time': 70.88914084434509, 'iteration 1 incorect': 0.08183306055646482, 'iteration 1 time': 64.26502513885498, 'iteration 2 incorect': 0.08183306055646482, 'iteration 2 time': 70.5778579711914}\n",
      "{'ind': 24, 'window': 3, 'num_clips': 10, 'iteration 0 incorect': 0.08183306055646482, 'iteration 0 time': 131.0053379535675, 'iteration 1 incorect': 0.08183306055646482, 'iteration 1 time': 115.93705797195435, 'iteration 2 incorect': 0.08183306055646482, 'iteration 2 time': 114.44101691246033}\n",
      "{'ind': 24, 'window': 3, 'num_clips': 15, 'iteration 0 incorect': 0.5482815057283142, 'iteration 0 time': 185.46908593177795, 'iteration 1 incorect': 0.08183306055646482, 'iteration 1 time': 159.9100160598755, 'iteration 2 incorect': 0.08183306055646482, 'iteration 2 time': 174.5080919265747}\n",
      "{'ind': 24, 'window': 4, 'num_clips': 5, 'iteration 0 incorect': 1.1346316680779, 'iteration 0 time': 65.44337797164917, 'iteration 1 incorect': 0.04233700254022015, 'iteration 1 time': 74.65830206871033, 'iteration 2 incorect': 0.04233700254022015, 'iteration 2 time': 69.04382705688477}\n",
      "{'ind': 24, 'window': 4, 'num_clips': 10, 'iteration 0 incorect': 0.04233700254022015, 'iteration 0 time': 132.7470600605011, 'iteration 1 incorect': 0.04233700254022015, 'iteration 1 time': 131.19699692726135, 'iteration 2 incorect': 0.04233700254022015, 'iteration 2 time': 108.57209396362305}\n",
      "{'ind': 24, 'window': 4, 'num_clips': 15, 'iteration 0 incorect': 0.04233700254022015, 'iteration 0 time': 176.31103801727295, 'iteration 1 incorect': 0.04233700254022015, 'iteration 1 time': 192.38688015937805, 'iteration 2 incorect': 0.04233700254022015, 'iteration 2 time': 191.98899102210999}\n"
     ]
    },
    {
     "ename": "KeyboardInterrupt",
     "evalue": "",
     "output_type": "error",
     "traceback": [
      "\u001b[0;31m---------------------------------------------------------------------------\u001b[0m",
      "\u001b[0;31mKeyboardInterrupt\u001b[0m                         Traceback (most recent call last)",
      "Cell \u001b[0;32mIn[18], line 19\u001b[0m\n\u001b[1;32m     17\u001b[0m delay_start \u001b[38;5;241m=\u001b[39m ref\u001b[38;5;241m.\u001b[39mloc[ind, \u001b[38;5;124m'\u001b[39m\u001b[38;5;124mVideo Start Time\u001b[39m\u001b[38;5;124m'\u001b[39m]\n\u001b[1;32m     18\u001b[0m start_time \u001b[38;5;241m=\u001b[39m time\u001b[38;5;241m.\u001b[39mtime()\n\u001b[0;32m---> 19\u001b[0m _, percent_incorrect \u001b[38;5;241m=\u001b[39m \u001b[43mvalidate_animal\u001b[49m\u001b[43m(\u001b[49m\u001b[43mvid\u001b[49m\u001b[43m,\u001b[49m\u001b[43m \u001b[49m\u001b[43man\u001b[49m\u001b[43m,\u001b[49m\u001b[43m \u001b[49m\u001b[43mlogit\u001b[49m\u001b[43m,\u001b[49m\u001b[43m \u001b[49m\u001b[43mprediction_frames\u001b[49m\u001b[43m,\u001b[49m\u001b[43m \u001b[49m\u001b[43mwindow\u001b[49m\u001b[43m,\u001b[49m\u001b[43m \u001b[49m\u001b[43mdelay_start\u001b[49m\u001b[43m \u001b[49m\u001b[38;5;241;43m=\u001b[39;49m\u001b[43m \u001b[49m\u001b[43mdelay_start\u001b[49m\u001b[43m,\u001b[49m\u001b[43m \u001b[49m\u001b[43mnum_clips\u001b[49m\u001b[43m \u001b[49m\u001b[38;5;241;43m=\u001b[39;49m\u001b[43m \u001b[49m\u001b[43mnum_clip\u001b[49m\u001b[43m,\u001b[49m\u001b[43m \u001b[49m\u001b[43mlabels\u001b[49m\u001b[43m \u001b[49m\u001b[38;5;241;43m=\u001b[39;49m\u001b[43m \u001b[49m\u001b[43m[\u001b[49m\u001b[38;5;124;43m'\u001b[39;49m\u001b[38;5;124;43mnot scratch\u001b[39;49m\u001b[38;5;124;43m'\u001b[39;49m\u001b[43m,\u001b[49m\u001b[43m \u001b[49m\u001b[38;5;124;43m'\u001b[39;49m\u001b[38;5;124;43mscratch\u001b[39;49m\u001b[38;5;124;43m'\u001b[39;49m\u001b[43m,\u001b[49m\u001b[43m \u001b[49m\u001b[38;5;124;43m'\u001b[39;49m\u001b[38;5;124;43mmixed\u001b[39;49m\u001b[38;5;124;43m'\u001b[39;49m\u001b[43m]\u001b[49m\u001b[43m)\u001b[49m   \n\u001b[1;32m     20\u001b[0m end_time \u001b[38;5;241m=\u001b[39m time\u001b[38;5;241m.\u001b[39mtime()\n\u001b[1;32m     22\u001b[0m dat[\u001b[38;5;124mf\u001b[39m\u001b[38;5;124m'\u001b[39m\u001b[38;5;124miteration \u001b[39m\u001b[38;5;132;01m{\u001b[39;00mi\u001b[38;5;132;01m}\u001b[39;00m\u001b[38;5;124m incorect\u001b[39m\u001b[38;5;124m'\u001b[39m] \u001b[38;5;241m=\u001b[39m percent_incorrect\n",
      "File \u001b[0;32m~/Code/Multiclass_Behavioral_Classification/model_validation.py:125\u001b[0m, in \u001b[0;36mvalidate_animal\u001b[0;34m(video_path, animal, logits, prediction_frames, window, delay_start, num_clips, labels, show_label)\u001b[0m\n\u001b[1;32m    123\u001b[0m \u001b[38;5;66;03m# Get the clip, show it to the user, prompt them to choose \u001b[39;00m\n\u001b[1;32m    124\u001b[0m clip \u001b[38;5;241m=\u001b[39m grab_clip_with_annotation(cap, s, window, logits, prediction_frames, center, \u001b[38;5;241m300\u001b[39m, frame_delay, add_text \u001b[38;5;241m=\u001b[39m show_label)\n\u001b[0;32m--> 125\u001b[0m user_label \u001b[38;5;241m=\u001b[39m \u001b[43mshow_clip_grab_input\u001b[49m\u001b[43m(\u001b[49m\u001b[43mclip\u001b[49m\u001b[43m,\u001b[49m\u001b[43m \u001b[49m\u001b[43mlabels\u001b[49m\u001b[43m,\u001b[49m\u001b[43m \u001b[49m\u001b[38;5;124;43mf\u001b[39;49m\u001b[38;5;124;43m'\u001b[39;49m\u001b[38;5;132;43;01m{\u001b[39;49;00m\u001b[43mlabels\u001b[49m\u001b[43m[\u001b[49m\u001b[38;5;28;43mint\u001b[39;49m\u001b[43m(\u001b[49m\u001b[43mnp\u001b[49m\u001b[38;5;241;43m.\u001b[39;49m\u001b[43mround\u001b[49m\u001b[43m(\u001b[49m\u001b[43mconfidence\u001b[49m\u001b[43m)\u001b[49m\u001b[43m)\u001b[49m\u001b[43m]\u001b[49m\u001b[38;5;132;43;01m}\u001b[39;49;00m\u001b[38;5;124;43m'\u001b[39;49m\u001b[43m)\u001b[49m\n\u001b[1;32m    127\u001b[0m \u001b[38;5;66;03m# if the user actually labeled the clip, determine if it was labeled wrong\u001b[39;00m\n\u001b[1;32m    128\u001b[0m \u001b[38;5;66;03m# add it to dictionary of clips\u001b[39;00m\n\u001b[1;32m    129\u001b[0m \u001b[38;5;28;01mif\u001b[39;00m user_label:\n",
      "File \u001b[0;32m~/Code/Multiclass_Behavioral_Classification/model_validation.py:64\u001b[0m, in \u001b[0;36mshow_clip_grab_input\u001b[0;34m(clip, labels, clip_name)\u001b[0m\n\u001b[1;32m     62\u001b[0m \u001b[38;5;28;01mfor\u001b[39;00m frame \u001b[38;5;129;01min\u001b[39;00m clip:\n\u001b[1;32m     63\u001b[0m     cv2\u001b[38;5;241m.\u001b[39mimshow(\u001b[38;5;124mf\u001b[39m\u001b[38;5;124m'\u001b[39m\u001b[38;5;132;01m{\u001b[39;00mclip_name\u001b[38;5;132;01m}\u001b[39;00m\u001b[38;5;124m'\u001b[39m, frame)\n\u001b[0;32m---> 64\u001b[0m     key \u001b[38;5;241m=\u001b[39m \u001b[43mcv2\u001b[49m\u001b[38;5;241;43m.\u001b[39;49m\u001b[43mwaitKey\u001b[49m\u001b[43m(\u001b[49m\u001b[38;5;241;43m10\u001b[39;49m\u001b[43m)\u001b[49m \u001b[38;5;241m&\u001b[39m \u001b[38;5;241m0xFF\u001b[39m\n\u001b[1;32m     65\u001b[0m     \u001b[38;5;28;01mif\u001b[39;00m key \u001b[38;5;241m==\u001b[39m \u001b[38;5;28mord\u001b[39m(\u001b[38;5;124m'\u001b[39m\u001b[38;5;124mq\u001b[39m\u001b[38;5;124m'\u001b[39m):\n\u001b[1;32m     66\u001b[0m         replay \u001b[38;5;241m=\u001b[39m \u001b[38;5;28;01mFalse\u001b[39;00m\n",
      "\u001b[0;31mKeyboardInterrupt\u001b[0m: "
     ]
    }
   ],
   "source": [
    "inds = [24, 59, 7]\n",
    "windows = [2,3,4]\n",
    "num_clips = [5, 10, 15]\n",
    "repeats = 3\n",
    "\n",
    "all_results = []\n",
    "for ind in inds:\n",
    "    for window in windows:\n",
    "        for num_clip in num_clips:\n",
    "            dat = {'ind': ind, 'window': window, 'num_clips': num_clip}\n",
    "            for i in range(repeats):\n",
    "                vid = os.path.join(vid_directory, ref.loc[ind,'filepath'])\n",
    "                logit = logits[ind]\n",
    "                an = ref.loc[ind, 'mouse id']\n",
    "                prediction_frames = 20\n",
    "                # window = 2\n",
    "                delay_start = ref.loc[ind, 'Video Start Time']\n",
    "                start_time = time.time()\n",
    "                _, percent_incorrect = validate_animal(vid, an, logit, prediction_frames, window, delay_start = delay_start, num_clips = num_clip, labels = ['not scratch', 'scratch', 'mixed'])   \n",
    "                end_time = time.time()\n",
    "\n",
    "                dat[f'iteration {i} incorect'] = percent_incorrect\n",
    "                dat[f'iteration {i} time']  = end_time - start_time\n",
    "            print(dat)\n",
    "            all_results.append(dat)\n",
    "\n"
   ]
  },
  {
   "cell_type": "code",
   "execution_count": 5,
   "metadata": {},
   "outputs": [],
   "source": [
    "user_labeled_clips, percent_incorrect = validate_animal(vid, an, logit, prediction_frames, window, delay_start = delay_start, num_clips = 5, labels = ['not scratch', 'scratch', 'mixed'])"
   ]
  },
  {
   "cell_type": "code",
   "execution_count": 13,
   "metadata": {},
   "outputs": [
    {
     "name": "stdout",
     "output_type": "stream",
     "text": [
      "Evaluating Bin: 0 with 4 videos\n",
      "Wrong: 4, Total 4\n",
      "Wrong Count: 4.0\n",
      "All Count: 4\n",
      "Evaluating Bin: 1 with 17 videos\n",
      "Wrong: 14, Total 15\n",
      "Wrong Count: 19.866666666666667\n",
      "All Count: 21\n",
      "Evaluating Bin: 2 with 63 videos\n",
      "Wrong: 12, Total 14\n",
      "Wrong Count: 74.72380952380952\n",
      "All Count: 85\n",
      "Evaluating Bin: 3 with 26 videos\n",
      "Wrong: 12, Total 15\n",
      "Wrong Count: 112.32380952380953\n",
      "All Count: 132\n",
      "Evaluating Bin: 4 with 2 videos\n",
      "Wrong: 2, Total 2\n",
      "Wrong Count: 168.32380952380953\n",
      "All Count: 188\n",
      "Evaluating Bin: 5 with 17 videos\n",
      "Wrong: 0, Total 15\n",
      "Wrong Count: 168.32380952380953\n",
      "All Count: 235\n",
      "Evaluating Bin: 6 with 343 videos\n",
      "Wrong: 0, Total 13\n",
      "Wrong Count: 168.32380952380953\n",
      "All Count: 578\n",
      "Evaluating Bin: 7 with 2121 videos\n",
      "Wrong: 2, Total 15\n",
      "Wrong Count: 451.25714285714287\n",
      "All Count: 2700\n"
     ]
    }
   ],
   "source": [
    "ind = 8\n",
    "window = 2\n",
    "num_clip = 15\n",
    "prediction_frames = 20\n",
    "# window = 2\n",
    "delay_start = ref.loc[ind, 'Video Start Time']\n",
    "vid = os.path.join(vid_directory, ref.loc[ind,'filepath'])\n",
    "logit = logits[ind]\n",
    "an = ref.loc[ind, 'mouse id']\n",
    "\n",
    "start_time = time.time()\n",
    "_, percent_incorrect, pi = validate_animal(vid, an, logit, prediction_frames, window, delay_start = delay_start, num_clips = num_clip, bins = 8, labels = ['not scratch', 'scratch', 'mixed'])   \n",
    "end_time = time.time()\n"
   ]
  },
  {
   "cell_type": "code",
   "execution_count": 5,
   "metadata": {},
   "outputs": [],
   "source": [
    "starts, counts = find_starts_bins(logit, window)"
   ]
  },
  {
   "cell_type": "code",
   "execution_count": 9,
   "metadata": {},
   "outputs": [
    {
     "data": {
      "text/plain": [
       "3.312097982565562"
      ]
     },
     "execution_count": 9,
     "metadata": {},
     "output_type": "execute_result"
    }
   ],
   "source": [
    "(end_time - start_time)/60"
   ]
  },
  {
   "cell_type": "code",
   "execution_count": 14,
   "metadata": {},
   "outputs": [
    {
     "name": "stdout",
     "output_type": "stream",
     "text": [
      "16.713227513227512\n",
      "4.0 minutes, 4.0 seconds\n"
     ]
    }
   ],
   "source": [
    "print(percent_incorrect)\n",
    "print(f'{np.round((end_time - start_time)/60)} minutes, {np.round((end_time - start_time)%60)} seconds')"
   ]
  },
  {
   "cell_type": "code",
   "execution_count": 17,
   "metadata": {},
   "outputs": [
    {
     "data": {
      "text/plain": [
       "300.83809523809526"
      ]
     },
     "execution_count": 17,
     "metadata": {},
     "output_type": "execute_result"
    },
    {
     "ename": "",
     "evalue": "",
     "output_type": "error",
     "traceback": [
      "\u001b[1;31mThe Kernel crashed while executing code in the current cell or a previous cell. \n",
      "\u001b[1;31mPlease review the code in the cell(s) to identify a possible cause of the failure. \n",
      "\u001b[1;31mClick <a href='https://aka.ms/vscodeJupyterKernelCrash'>here</a> for more info. \n",
      "\u001b[1;31mView Jupyter <a href='command:jupyter.viewOutput'>log</a> for further details."
     ]
    }
   ],
   "source": [
    "(percent_incorrect/100) * (30 * 60)"
   ]
  },
  {
   "cell_type": "code",
   "execution_count": 5,
   "metadata": {},
   "outputs": [
    {
     "name": "stdout",
     "output_type": "stream",
     "text": [
      "1\n",
      "2\n",
      "5\n",
      "11\n",
      "57\n",
      "50\n",
      "24\n",
      "111\n",
      "1597\n",
      "504\n"
     ]
    }
   ],
   "source": [
    "starts = find_starts_bins(np.squeeze(logit), 3, bins = 10)\n",
    "\n",
    "for k,v in starts.items():\n",
    "    print(len(v))"
   ]
  },
  {
   "cell_type": "code",
   "execution_count": 9,
   "metadata": {},
   "outputs": [
    {
     "data": {
      "text/plain": [
       "(2700, 1)"
      ]
     },
     "execution_count": 9,
     "metadata": {},
     "output_type": "execute_result"
    }
   ],
   "source": [
    "logit.shape"
   ]
  },
  {
   "cell_type": "code",
   "execution_count": 22,
   "metadata": {},
   "outputs": [
    {
     "data": {
      "text/plain": [
       "array([   1,    3,    6,   19,  112,  117,   61,  152, 1705,  524])"
      ]
     },
     "execution_count": 22,
     "metadata": {},
     "output_type": "execute_result"
    }
   ],
   "source": [
    "counts"
   ]
  },
  {
   "cell_type": "code",
   "execution_count": 28,
   "metadata": {},
   "outputs": [
    {
     "data": {
      "text/plain": [
       "1"
      ]
     },
     "execution_count": 28,
     "metadata": {},
     "output_type": "execute_result"
    }
   ],
   "source": [
    "np.sum((logit <= -32.511032) & (logit < -27.744673))"
   ]
  },
  {
   "cell_type": "code",
   "execution_count": 20,
   "metadata": {},
   "outputs": [],
   "source": [
    "initial2 =pd.DataFrame(all_results)\n",
    "initial2.to_csv(\"/Users/rebeccakrall/Desktop/Validation_test_24.csv\")"
   ]
  },
  {
   "cell_type": "code",
   "execution_count": 26,
   "metadata": {},
   "outputs": [],
   "source": [
    "incorrect_avg = np.array(initial2.loc[:, ['iteration 0 incorect','iteration 1 incorect', 'iteration 2 incorect']].mean(axis = 1))"
   ]
  },
  {
   "cell_type": "code",
   "execution_count": 28,
   "metadata": {},
   "outputs": [
    {
     "data": {
      "text/plain": [
       "array([3.18867925, 1.41509434, 2.05345912, 0.29459902, 0.29459902,\n",
       "       0.85433715, 1.46316681, 0.15241321, 0.15241321])"
      ]
     },
     "execution_count": 28,
     "metadata": {},
     "output_type": "execute_result"
    }
   ],
   "source": [
    "(incorrect_avg/100) * 360"
   ]
  },
  {
   "cell_type": "code",
   "execution_count": 58,
   "metadata": {},
   "outputs": [],
   "source": [
    "starts= find_starts_by_confidence(logits[0], 3)"
   ]
  },
  {
   "cell_type": "code",
   "execution_count": 60,
   "metadata": {},
   "outputs": [],
   "source": [
    "v = starts['high_off']"
   ]
  },
  {
   "cell_type": "code",
   "execution_count": 75,
   "metadata": {},
   "outputs": [],
   "source": [
    "num_clips = 10\n",
    "start_sample = []\n",
    "while len(start_sample) < num_clips:\n",
    "    samp = random.sample(list(v),1)\n",
    "    if all([abs(x - samp[0]) > window for x in start_sample]):\n",
    "        start_sample.append(samp[0])"
   ]
  },
  {
   "cell_type": "code",
   "execution_count": 76,
   "metadata": {},
   "outputs": [],
   "source": [
    "start_sample.sort()"
   ]
  },
  {
   "cell_type": "code",
   "execution_count": 77,
   "metadata": {},
   "outputs": [
    {
     "data": {
      "text/plain": [
       "[237, 244, 760, 927, 1536, 1756, 1992, 2029, 2033, 2274]"
      ]
     },
     "execution_count": 77,
     "metadata": {},
     "output_type": "execute_result"
    }
   ],
   "source": [
    "start_sample"
   ]
  },
  {
   "cell_type": "code",
   "execution_count": 18,
   "metadata": {},
   "outputs": [],
   "source": [
    "start_time = time.time()"
   ]
  },
  {
   "cell_type": "code",
   "execution_count": 19,
   "metadata": {},
   "outputs": [],
   "source": [
    "end_time = time.time()"
   ]
  },
  {
   "cell_type": "code",
   "execution_count": 20,
   "metadata": {},
   "outputs": [],
   "source": [
    "elapsed = end_time - start_time"
   ]
  },
  {
   "cell_type": "code",
   "execution_count": 21,
   "metadata": {},
   "outputs": [
    {
     "data": {
      "text/plain": [
       "62.649566888809204"
      ]
     },
     "execution_count": 21,
     "metadata": {},
     "output_type": "execute_result"
    }
   ],
   "source": [
    "elapsed"
   ]
  },
  {
   "cell_type": "code",
   "execution_count": 28,
   "metadata": {},
   "outputs": [
    {
     "data": {
      "text/plain": [
       "'1 minutes, 2 seconds'"
      ]
     },
     "execution_count": 28,
     "metadata": {},
     "output_type": "execute_result"
    }
   ],
   "source": [
    "f'{int(elapsed/60)} min, {int(elapsed%30)} sec'"
   ]
  },
  {
   "cell_type": "code",
   "execution_count": 8,
   "metadata": {},
   "outputs": [],
   "source": [
    "logit = logits[0]"
   ]
  },
  {
   "cell_type": "code",
   "execution_count": 9,
   "metadata": {},
   "outputs": [],
   "source": [
    "avg, counts = rolling_analysis(logit, 3)\n",
    "off = np.mean(logit[logit > 0])\n",
    "on = np.mean(logit[logit < 0])"
   ]
  },
  {
   "cell_type": "code",
   "execution_count": 10,
   "metadata": {},
   "outputs": [
    {
     "data": {
      "text/plain": [
       "7.8852344"
      ]
     },
     "execution_count": 10,
     "metadata": {},
     "output_type": "execute_result"
    }
   ],
   "source": [
    "off"
   ]
  },
  {
   "cell_type": "code",
   "execution_count": 11,
   "metadata": {},
   "outputs": [
    {
     "data": {
      "text/plain": [
       "-7.381026"
      ]
     },
     "execution_count": 11,
     "metadata": {},
     "output_type": "execute_result"
    }
   ],
   "source": [
    "on"
   ]
  },
  {
   "cell_type": "code",
   "execution_count": 13,
   "metadata": {},
   "outputs": [
    {
     "data": {
      "text/plain": [
       "191"
      ]
     },
     "execution_count": 13,
     "metadata": {},
     "output_type": "execute_result"
    }
   ],
   "source": [
    "np.sum(avg < (0.8*on))"
   ]
  },
  {
   "cell_type": "code",
   "execution_count": 15,
   "metadata": {},
   "outputs": [
    {
     "data": {
      "text/plain": [
       "(array([   3.,    4.,   23.,   94.,  141.,   95.,   72.,  263., 1617.,\n",
       "         388.]),\n",
       " array([-24.33381271, -20.5678978 , -16.80198288, -13.03606701,\n",
       "         -9.27015209,  -5.50423717,  -1.73832202,   2.02759314,\n",
       "          5.79350805,   9.55942345,  13.32533836]),\n",
       " <BarContainer object of 10 artists>)"
      ]
     },
     "execution_count": 15,
     "metadata": {},
     "output_type": "execute_result"
    },
    {
     "data": {
      "image/png": "[encoded data removed]",
      "text/plain": [
       "<Figure size 640x480 with 1 Axes>"
      ]
     },
     "metadata": {},
     "output_type": "display_data"
    }
   ],
   "source": [
    "plt.hist(logit)"
   ]
  },
  {
   "cell_type": "code",
   "execution_count": 19,
   "metadata": {},
   "outputs": [
    {
     "name": "stdout",
     "output_type": "stream",
     "text": [
      "243\n",
      "2150\n"
     ]
    }
   ],
   "source": [
    "print(np.sum(counts == 1))\n",
    "print(np.sum(counts == 0))"
   ]
  },
  {
   "cell_type": "code",
   "execution_count": 20,
   "metadata": {},
   "outputs": [
    {
     "data": {
      "text/plain": [
       "(array([ 11.,  26.,  70., 108., 174., 409., 676., 442., 197.,  37.]),\n",
       " array([ 2.31463559,  3.22577813,  4.13692067,  5.04806321,  5.95920575,\n",
       "         6.87034829,  7.78149083,  8.69263337,  9.60377591, 10.51491845,\n",
       "        11.42606099]),\n",
       " <BarContainer object of 10 artists>)"
      ]
     },
     "execution_count": 20,
     "metadata": {},
     "output_type": "execute_result"
    },
    {
     "data": {
      "image/png": "[encoded data removed]",
      "text/plain": [
       "<Figure size 640x480 with 1 Axes>"
      ]
     },
     "metadata": {},
     "output_type": "display_data"
    }
   ],
   "source": [
    "plt.hist(avg[counts == 0])"
   ]
  },
  {
   "cell_type": "code",
   "execution_count": 21,
   "metadata": {},
   "outputs": [
    {
     "data": {
      "text/plain": [
       "(array([ 2.,  3., 15., 31., 43., 38., 49., 34., 20.,  8.]),\n",
       " array([-16.36389414, -14.86149832, -13.3591025 , -11.85670668,\n",
       "        -10.35431086,  -8.85191504,  -7.34951922,  -5.8471234 ,\n",
       "         -4.34472758,  -2.84233176,  -1.33993594]),\n",
       " <BarContainer object of 10 artists>)"
      ]
     },
     "execution_count": 21,
     "metadata": {},
     "output_type": "execute_result"
    },
    {
     "data": {
      "image/png": "[encoded data removed]",
      "text/plain": [
       "<Figure size 640x480 with 1 Axes>"
      ]
     },
     "metadata": {},
     "output_type": "display_data"
    }
   ],
   "source": [
    "plt.hist(avg[counts == 1])"
   ]
  },
  {
   "cell_type": "code",
   "execution_count": 22,
   "metadata": {},
   "outputs": [],
   "source": [
    "sampled_elements = random.choices(logits, weights=logits, k=5)\n"
   ]
  },
  {
   "cell_type": "code",
   "execution_count": 134,
   "metadata": {},
   "outputs": [],
   "source": [
    "ind = 36\n",
    "logit = logits[ind]"
   ]
  },
  {
   "cell_type": "code",
   "execution_count": 135,
   "metadata": {},
   "outputs": [
    {
     "name": "stderr",
     "output_type": "stream",
     "text": [
      "/var/folders/ch/m9j8_ntd13l1fhyf0w__ydsr0000gp/T/ipykernel_95487/1106585492.py:21: FutureWarning: The default of observed=False is deprecated and will be changed to True in a future version of pandas. Pass observed=False to retain current behavior or observed=True to adopt the future default and silence this warning.\n",
      "  strata = population.groupby([\"sign\", \"confidence_bin\"])\n"
     ]
    }
   ],
   "source": [
    "import numpy as np\n",
    "import pandas as pd\n",
    "from scipy.stats import norm\n",
    "from sklearn.utils import resample\n",
    "\n",
    "# Example population: predictions dataframe\n",
    "data = {\n",
    "    \"prediction\": np.squeeze(logit),  # Random predictions from -1 to 1\n",
    "    \"index\": np.linspace(0, logit.shape[0], logit.shape[0]).astype(int)\n",
    "}\n",
    "population = pd.DataFrame(data)\n",
    "\n",
    "# 1. Analyze Population Distribution\n",
    "population[\"magnitude\"] = population[\"prediction\"].abs()\n",
    "population[\"normalized_magnitude\"] = (population[\"magnitude\"] - population[\"magnitude\"].min())/(population['magnitude'].max() - population['magnitude'].min())\n",
    "population[\"sign\"] = np.where(population[\"prediction\"] > 0, \"positive\", \"negative\")\n",
    "\n",
    "# 2. Stratify the Population\n",
    "bins = [0, 0.33, 0.66, 1.0]  # Low, Medium, High confidence\n",
    "population[\"confidence_bin\"] = pd.cut(population[\"normalized_magnitude\"], bins=bins, labels=[\"low\", \"medium\", \"high\"])\n",
    "strata = population.groupby([\"sign\", \"confidence_bin\"])\n",
    "\n"
   ]
  },
  {
   "cell_type": "code",
   "execution_count": 136,
   "metadata": {},
   "outputs": [
    {
     "name": "stdout",
     "output_type": "stream",
     "text": [
      "Required sample size: 75\n"
     ]
    }
   ],
   "source": [
    "def calculate_sample_size(pop_size, confidence_level=0.96, margin_of_error=0.04, p=0.97):\n",
    "    Z = norm.ppf(1 - (1 - confidence_level) / 2)  # Z-score\n",
    "    n = (Z**2 * p * (1 - p)) / (margin_of_error**2)\n",
    "    if pop_size:\n",
    "        n = n / (1 + (n - 1) / pop_size)  # Finite population correction\n",
    "    return int(np.ceil(n))\n",
    "\n",
    "sample_size = calculate_sample_size(len(population))\n",
    "print(f\"Required sample size: {sample_size}\")\n",
    "\n"
   ]
  },
  {
   "cell_type": "code",
   "execution_count": 137,
   "metadata": {},
   "outputs": [],
   "source": [
    "# 4. Stratified Sampling\n",
    "sampled = []\n",
    "for (sign, confidence_bin), group in strata:\n",
    "    stratum_size = len(group)\n",
    "    stratum_sample_size = int(sample_size * (stratum_size / len(population)))\n",
    "    if stratum_sample_size == 0:\n",
    "        stratum_sample_size = 1\n",
    "    sampled.append(resample(group, n_samples=stratum_sample_size, replace=False, random_state=42))\n",
    "\n",
    "sampled_data = pd.concat(sampled)"
   ]
  },
  {
   "cell_type": "code",
   "execution_count": 138,
   "metadata": {},
   "outputs": [],
   "source": [
    "sampled_data = sampled_data.sort_index()"
   ]
  },
  {
   "cell_type": "code",
   "execution_count": 139,
   "metadata": {},
   "outputs": [
    {
     "name": "stderr",
     "output_type": "stream",
     "text": [
      "/var/folders/ch/m9j8_ntd13l1fhyf0w__ydsr0000gp/T/ipykernel_95487/3800614735.py:38: DeprecationWarning: Conversion of an array with ndim > 0 to a scalar is deprecated, and will error in future. Ensure you extract a single element from your array before performing this operation. (Deprecated NumPy 1.25.)\n",
      "  user_label = show_clip_grab_input(clip, labels, f'{labels[int(np.round(confidence))]}')\n",
      "/var/folders/ch/m9j8_ntd13l1fhyf0w__ydsr0000gp/T/ipykernel_95487/3800614735.py:44: DeprecationWarning: Conversion of an array with ndim > 0 to a scalar is deprecated, and will error in future. Ensure you extract a single element from your array before performing this operation. (Deprecated NumPy 1.25.)\n",
      "  if int(user_label) != int(np.round(confidence)):\n"
     ]
    }
   ],
   "source": [
    "start_time = time.time()\n",
    "ind = 36\n",
    "window = 2\n",
    "prediction_frames = 20\n",
    "# window = 2\n",
    "delay_start = ref.loc[ind, 'Video Start Time']\n",
    "labels = ['not scratch', 'scratch']\n",
    "video_path = os.path.join(vid_directory, ref.loc[ind,'filepath'])\n",
    "logit = logits[ind]\n",
    "animal = ref.loc[ind, 'mouse id']\n",
    "\n",
    "circles, vid_frames, fps, _ = get_params_from_vid(video_path)\n",
    "frame_delay = delay_start * 60 * fps\n",
    "center = circles[animal]\n",
    "cap = cv2.VideoCapture(video_path)\n",
    "\n",
    "# Determine sets of frames of high, medium, and low confidence labeling\n",
    "start_sample = sampled_data['index']\n",
    "\n",
    "# Initialize a dictionary to store labeled clips\n",
    "user_labled_clips ={k: [] for k in labels}\n",
    "\n",
    "\n",
    "presumed_wrong = 0\n",
    "all_possible = 0\n",
    "# iterate through the different 'confidence' levels for each label\n",
    "\n",
    "wrong = 0\n",
    "total = 0\n",
    "# iterate through the clips\n",
    "for s in start_sample:\n",
    "\n",
    "    # Determine the clips 'confidence' i.e. proportion of frames labeled 1 \n",
    "    confidence = sum(logit[s:s+window] < 0) / window ## THIS LINE WILL NEED TO CHANGE IF DOING MULTI-LABEL\n",
    "\n",
    "    # Get the clip, show it to the user, prompt them to choose \n",
    "    clip = grab_clip_with_annotation(cap, s, window, logit, prediction_frames, center, 300, frame_delay, add_text = False)\n",
    "    user_label = show_clip_grab_input(clip, labels, f'{labels[int(np.round(confidence))]}')\n",
    "\n",
    "    # if the user actually labeled the clip, determine if it was labeled wrong\n",
    "    # add it to dictionary of clips\n",
    "    if user_label:\n",
    "        total = total + 1\n",
    "        if int(user_label) != int(np.round(confidence)):\n",
    "            wrong = wrong + 1\n",
    "\n",
    "        user_labled_clips[labels[int(user_label)]].append(clip)\n",
    "\n",
    "    cv2.destroyAllWindows()\n",
    "    cv2.waitKey(1)\n",
    "\n",
    "# if len(v):\n",
    "#     presumed_wrong = presumed_wrong + ((wrong/total) * len(v))\n",
    "#     all_possible = all_possible + len(v)\n",
    "\n",
    "\n",
    "cap.release()\n",
    "# percent_wrong = (presumed_wrong/all_possible) * 100\n",
    "end_time = time.time()"
   ]
  },
  {
   "cell_type": "code",
   "execution_count": 142,
   "metadata": {},
   "outputs": [
    {
     "data": {
      "text/plain": [
       "0"
      ]
     },
     "execution_count": 142,
     "metadata": {},
     "output_type": "execute_result"
    }
   ],
   "source": [
    "wrong"
   ]
  },
  {
   "cell_type": "code",
   "execution_count": 128,
   "metadata": {},
   "outputs": [
    {
     "data": {
      "text/plain": [
       "68.4"
      ]
     },
     "execution_count": 128,
     "metadata": {},
     "output_type": "execute_result"
    }
   ],
   "source": [
    ".19 *360"
   ]
  },
  {
   "cell_type": "code",
   "execution_count": 143,
   "metadata": {},
   "outputs": [],
   "source": [
    "elapsed = end_time - start_time"
   ]
  },
  {
   "cell_type": "code",
   "execution_count": 144,
   "metadata": {},
   "outputs": [
    {
     "data": {
      "text/plain": [
       "172.3893780708313"
      ]
     },
     "execution_count": 144,
     "metadata": {},
     "output_type": "execute_result"
    }
   ],
   "source": [
    "elapsed"
   ]
  },
  {
   "cell_type": "code",
   "execution_count": 1,
   "metadata": {},
   "outputs": [
    {
     "ename": "NameError",
     "evalue": "name 'population' is not defined",
     "output_type": "error",
     "traceback": [
      "\u001b[0;31m---------------------------------------------------------------------------\u001b[0m",
      "\u001b[0;31mNameError\u001b[0m                                 Traceback (most recent call last)",
      "Cell \u001b[0;32mIn[1], line 1\u001b[0m\n\u001b[0;32m----> 1\u001b[0m \u001b[43mpopulation\u001b[49m\n",
      "\u001b[0;31mNameError\u001b[0m: name 'population' is not defined"
     ]
    }
   ],
   "source": [
    "population"
   ]
  },
  {
   "cell_type": "code",
   "execution_count": 133,
   "metadata": {},
   "outputs": [
    {
     "data": {
      "text/plain": [
       "0.1891891891891892"
      ]
     },
     "execution_count": 133,
     "metadata": {},
     "output_type": "execute_result"
    }
   ],
   "source": [
    "14/74"
   ]
  },
  {
   "cell_type": "code",
   "execution_count": null,
   "metadata": {},
   "outputs": [],
   "source": []
  }
 ],
 "metadata": {
  "kernelspec": {
   "display_name": "tf",
   "language": "python",
   "name": "python3"
  },
  "language_info": {
   "codemirror_mode": {
    "name": "ipython",
    "version": 3
   },
   "file_extension": ".py",
   "mimetype": "text/x-python",
   "name": "python",
   "nbconvert_exporter": "python",
   "pygments_lexer": "ipython3",
   "version": "3.11.4"
  }
 },
 "nbformat": 4,
 "nbformat_minor": 2
}
