{
 "cells": [
  {
   "cell_type": "code",
   "execution_count": 1,
   "metadata": {},
   "outputs": [],
   "source": [
    "from dataset_generation import *"
   ]
  },
  {
   "cell_type": "code",
   "execution_count": 2,
   "metadata": {},
   "outputs": [
    {
     "name": "stderr",
     "output_type": "stream",
     "text": [
      "/Users/rebeccakrall/miniconda3/envs/tf/lib/python3.11/site-packages/tqdm/auto.py:21: TqdmWarning: IProgress not found. Please update jupyter and ipywidgets. See https://ipywidgets.readthedocs.io/en/stable/user_install.html\n",
      "  from .autonotebook import tqdm as notebook_tqdm\n"
     ]
    }
   ],
   "source": [
    "import os\n",
    "import numpy as np\n",
    "import seaborn as sns\n",
    "import tensorflow as tf, tf_keras\n",
    "import tensorflow_hub as hub\n",
    "from tensorflow.keras import layers\n",
    "from tf_keras.optimizers import Adam\n",
    "from tf_keras.losses import SparseCategoricalCrossentropy, BinaryCrossentropy\n",
    "from official.projects.movinet.modeling import movinet\n",
    "from official.projects.movinet.modeling import movinet_model\n",
    "from official.projects.movinet.tools import export_saved_model"
   ]
  },
  {
   "cell_type": "code",
   "execution_count": 3,
   "metadata": {},
   "outputs": [
    {
     "name": "stderr",
     "output_type": "stream",
     "text": [
      "2024-12-18 14:58:49.789182: I metal_plugin/src/device/metal_device.cc:1154] Metal device set to: Apple M2 Pro\n",
      "2024-12-18 14:58:49.789211: I metal_plugin/src/device/metal_device.cc:296] systemMemory: 16.00 GB\n",
      "2024-12-18 14:58:49.789219: I metal_plugin/src/device/metal_device.cc:313] maxCacheSize: 5.33 GB\n",
      "2024-12-18 14:58:49.789236: I tensorflow/core/common_runtime/pluggable_device/pluggable_device_factory.cc:305] Could not identify NUMA node of platform GPU ID 0, defaulting to 0. Your kernel may not have been built with NUMA support.\n",
      "2024-12-18 14:58:49.789249: I tensorflow/core/common_runtime/pluggable_device/pluggable_device_factory.cc:271] Created TensorFlow device (/job:localhost/replica:0/task:0/device:GPU:0 with 0 MB memory) -> physical PluggableDevice (device: 0, name: METAL, pci bus id: <undefined>)\n"
     ]
    },
    {
     "name": "stdout",
     "output_type": "stream",
     "text": [
      "Running on single GPU  /device:GPU:0\n",
      "Number of accelerators:  1\n"
     ]
    }
   ],
   "source": [
    "model_id = 'a0'\n",
    "use_positional_encoding = model_id in {'a3', 'a4', 'a5'}\n",
    "resolution = 172\n",
    "\n",
    "backbone = movinet.Movinet(\n",
    "    model_id=model_id,\n",
    "    causal=True,\n",
    "    conv_type='2plus1d',\n",
    "    se_type='2plus3d',\n",
    "    activation='hard_swish',\n",
    "    gating_activation='hard_sigmoid',\n",
    "    use_positional_encoding=use_positional_encoding,\n",
    "    use_external_states=False,\n",
    ")\n",
    "\n",
    "model = movinet_model.MovinetClassifier(\n",
    "    backbone,\n",
    "    num_classes=1,\n",
    "    output_states=True)\n",
    "\n",
    "# Create your example input here.\n",
    "# Refer to the paper for recommended input shapes.\n",
    "inputs = tf.ones([8, 30, 172, 172, 3]) #(8, 8, 224, 224, 3)\n",
    "\n",
    "# [Optional] Build the model and load a pretrained checkpoint.\n",
    "model.build(inputs.shape)\n",
    "\n",
    "\n",
    "\n",
    "\n",
    "\n",
    "# load previous checkpoing\n",
    "# checkpoint_dir = 'binary_model'\n",
    "# checkpoint_path = tf.train.latest_checkpoint(checkpoint_dir)\n",
    "# checkpoint = tf.train.Checkpoint(model=model)\n",
    "# status = checkpoint.restore(checkpoint_path)\n",
    "# status.assert_existing_objects_matched()\n",
    "\n",
    "# Detect hardware\n",
    "try:\n",
    "  tpu_resolver = tf.distribute.cluster_resolver.TPUClusterResolver() # TPU detection\n",
    "except ValueError:\n",
    "  tpu_resolver = None\n",
    "  gpus = tf.config.experimental.list_logical_devices(\"GPU\")\n",
    "\n",
    "# Select appropriate distribution strategy\n",
    "if tpu_resolver:\n",
    "  tf.config.experimental_connect_to_cluster(tpu_resolver)\n",
    "  tf.tpu.experimental.initialize_tpu_system(tpu_resolver)\n",
    "  distribution_strategy = tf.distribute.experimental.TPUStrategy(tpu_resolver)\n",
    "  print('Running on TPU ', tpu_resolver.cluster_spec().as_dict()['worker'])\n",
    "elif len(gpus) > 1:\n",
    "  distribution_strategy = tf.distribute.MirroredStrategy([gpu.name for gpu in gpus])\n",
    "  print('Running on multiple GPUs ', [gpu.name for gpu in gpus])\n",
    "elif len(gpus) == 1:\n",
    "  distribution_strategy = tf.distribute.get_strategy() # default strategy that works on CPU and single GPU\n",
    "  print('Running on single GPU ', gpus[0].name)\n",
    "else:\n",
    "  distribution_strategy = tf.distribute.get_strategy() # default strategy that works on CPU and single GPU\n",
    "  print('Running on CPU')\n",
    "\n",
    "print(\"Number of accelerators: \", distribution_strategy.num_replicas_in_sync)"
   ]
  },
  {
   "cell_type": "code",
   "execution_count": 4,
   "metadata": {},
   "outputs": [],
   "source": [
    "def build_classifier(batch_size, num_frames, resolution, backbone, num_classes):\n",
    "  \"\"\"Builds a classifier on top of a backbone model.\"\"\"\n",
    "  model = movinet_model.MovinetClassifier(\n",
    "      backbone=backbone,\n",
    "      num_classes=num_classes)\n",
    "  model.build([batch_size, num_frames, resolution, resolution, 3])\n",
    "\n",
    "  return model\n",
    "\n",
    "\n",
    "batch_size = 8\n",
    "num_frames = 30\n",
    "# Construct loss, optimizer and compile the model\n",
    "with distribution_strategy.scope():\n",
    "  model = build_classifier(batch_size, num_frames, resolution, backbone, 1)\n",
    "  loss_obj =  BinaryCrossentropy(from_logits=True)\n",
    "  optimizer = tf_keras.optimizers.legacy.Adam(learning_rate = 0.001)\n",
    "  model.compile(loss=loss_obj, optimizer=optimizer, metrics=['accuracy'])"
   ]
  },
  {
   "cell_type": "code",
   "execution_count": 5,
   "metadata": {},
   "outputs": [
    {
     "data": {
      "text/plain": [
       "<tensorflow.python.checkpoint.checkpoint.CheckpointLoadStatus at 0x2ec485910>"
      ]
     },
     "execution_count": 5,
     "metadata": {},
     "output_type": "execute_result"
    }
   ],
   "source": [
    "# checkpoint_dir = \"/Users/rebeccakrall/Code/MoviNet Models and Training Sets/headshake_a0_172_1_60_20_072424\"\n",
    "checkpoint_dir = \"/Users/rebeccakrall/Code/Multiclass_Behavioral_Classification/Models/scratch_120624\"\n",
    "model.load_weights(tf.train.latest_checkpoint(checkpoint_dir))"
   ]
  },
  {
   "cell_type": "code",
   "execution_count": 6,
   "metadata": {},
   "outputs": [],
   "source": [
    "from dataset_generation import format_frames\n",
    "from video_preprocessing import get_params_from_vid, padcrop_image, frame_crop\n",
    "class VidGenerator:\n",
    "    def __init__(self, video_path, n_frames = 1, frame_step = 1, buffer = 300, output_size = (172,172), \n",
    "                 animal_choice = ['m1'], dp = 0.5, minDist = 400, start = 0, stop = None):\n",
    "        \"\"\" Returns a set of frames with their associated label. \n",
    "\n",
    "        Args:\n",
    "            df_path: path to dataframe\n",
    "            indices: indices of df to use for \n",
    "            n_frames: Number of frames. \n",
    "            training: Boolean to determine if training dataset is being created.\n",
    "        \"\"\"\n",
    "        self.video_path = video_path\n",
    "        self.batch_size = n_frames * frame_step\n",
    "        self.buffer = buffer\n",
    "        self.output_size = output_size\n",
    "        circles, self.vid_frames, self.fps, _ = get_params_from_vid(self.video_path, dp = dp, minDist = minDist)\n",
    "        self.circles = circles[animal_choice]\n",
    "        self.step = frame_step\n",
    "        self.start = start\n",
    "        if stop is None:\n",
    "            self.stop = self.vid_frames\n",
    "        else:\n",
    "            self.stop = stop\n",
    "\n",
    "    def __call__(self):\n",
    "\n",
    "        cap = cv2.VideoCapture(str(self.video_path))\n",
    "        cap.set(cv2.CAP_PROP_POS_FRAMES, self.start)\n",
    "        print('opened cap')\n",
    "        \n",
    "        for _ in range(int((self.stop-self.start)/self.batch_size)):\n",
    "            result = []\n",
    "            for i in range(self.batch_size):\n",
    "                ret, frame = cap.read()\n",
    "                if i % self.step == 0:\n",
    "\n",
    "                    center = self.circles\n",
    "\n",
    "                    cc, center = frame_crop(center[0], center[1], buffer = self.buffer, shape = frame.shape[:2])\n",
    "                    pc = padcrop_image(frame, self.buffer, cc, center)\n",
    "                    result.append(format_frames(pc, self.output_size))\n",
    "                    \n",
    "                    # center = self.circles # test the output of get_params_from_vide\n",
    "                    # frame = padcrop_image(frame, self.buffer, center[:2])\n",
    "                    # result.append(format_frames(frame, self.output_size))\n",
    "            \n",
    "            result = np.array(result)\n",
    "            yield result[tf.newaxis,...]\n",
    "            \n",
    "        \n",
    "        cap.release()"
   ]
  },
  {
   "cell_type": "code",
   "execution_count": 7,
   "metadata": {},
   "outputs": [],
   "source": [
    "folder = \"/Users/rebeccakrall/Desktop/Behavior Clips\"\n",
    "classes = {'Scratch':['Right Foot Scratch', 'Left Foot Scratch'],'Not Scratch': ['Face Grooming', 'Body Groom Left', 'Body Groom Right', 'Walking', \n",
    "                                                                                 'Turn Left', 'Turn Right', 'Rearing', 'Rear On Wall', 'Dog Shake', \n",
    "                                                                                 'Sleep', 'Not Scratch', 'not_scratch']}\n"
   ]
  },
  {
   "cell_type": "code",
   "execution_count": 8,
   "metadata": {},
   "outputs": [],
   "source": [
    "scratch_files = len([name for x in classes['Scratch'] for name in os.listdir(os.path.join(folder, x)) ])\n",
    "nonscratch_files = len([name for x in classes['Not Scratch'] for name in os.listdir(os.path.join(folder, x)) ])\n"
   ]
  },
  {
   "cell_type": "code",
   "execution_count": 9,
   "metadata": {},
   "outputs": [
    {
     "data": {
      "text/plain": [
       "False"
      ]
     },
     "execution_count": 9,
     "metadata": {},
     "output_type": "execute_result"
    }
   ],
   "source": [
    "scratch_files == 807 + 44 + 45\n"
   ]
  },
  {
   "cell_type": "code",
   "execution_count": 15,
   "metadata": {},
   "outputs": [],
   "source": [
    "splits = {'test': 45, 'val': 44, 'train': 807}\n",
    "training_splits = choose_behavior_subset(folder, classes, splits)"
   ]
  },
  {
   "cell_type": "code",
   "execution_count": 16,
   "metadata": {},
   "outputs": [],
   "source": [
    "num_frames = 20\n",
    "output_signature = (tf.TensorSpec(shape = (None, None, None, 3), dtype = tf.float32),\n",
    "                    tf.TensorSpec(shape = (), dtype = tf.int16))\n",
    "\n",
    "train_ds2 = tf.data.Dataset.from_generator(FrameGenerator(training_splits['train'],  num_frames, frame_step = 1, training = True),\n",
    "                                          output_signature = output_signature)\n",
    "\n",
    "batch_size = 8\n",
    "train_ds2= train_ds2.batch(batch_size)\n",
    "\n",
    "test_ds2 = tf.data.Dataset.from_generator(FrameGenerator(training_splits['test'], num_frames, frame_step = 1,training= True),\n",
    "                                          output_signature = output_signature)\n",
    "test_ds2 = test_ds2.batch(batch_size)\n",
    "\n",
    "val_ds2 = tf.data.Dataset.from_generator(FrameGenerator(training_splits['val'], num_frames, frame_step = 1, training = True),\n",
    "                                          output_signature = output_signature)\n",
    "val_ds2 = val_ds2.batch(batch_size)"
   ]
  },
  {
   "cell_type": "code",
   "execution_count": 17,
   "metadata": {},
   "outputs": [],
   "source": [
    "checkpoint_path = \"Models/scratch_121824/cp_01.ckpt\"\n",
    "checkpoint_dir = os.path.dirname(checkpoint_path)\n",
    "\n",
    "# Create a callback that saves the model's weights\n",
    "cp_callback = tf_keras.callbacks.ModelCheckpoint(filepath=checkpoint_path,\n",
    "                                                 save_weights_only=True,\n",
    "                                                 verbose=1,\n",
    "                                                 save_best_only = True)"
   ]
  },
  {
   "cell_type": "code",
   "execution_count": 18,
   "metadata": {},
   "outputs": [
    {
     "name": "stdout",
     "output_type": "stream",
     "text": [
      "Epoch 1/5\n",
      "    202/Unknown - 2186s 11s/step - loss: 0.0278 - accuracy: 0.9913"
     ]
    },
    {
     "name": "stderr",
     "output_type": "stream",
     "text": [
      "2024-12-19 09:55:19.933019: W tensorflow/core/framework/local_rendezvous.cc:404] Local rendezvous is aborting with status: OUT_OF_RANGE: End of sequence\n",
      "\t [[{{node IteratorGetNext}}]]\n",
      "2024-12-19 09:55:19.933281: I tensorflow/core/framework/local_rendezvous.cc:422] Local rendezvous recv item cancelled. Key hash: 10563838165649432782\n",
      "2024-12-19 09:55:19.933288: W tensorflow/core/framework/local_rendezvous.cc:404] Local rendezvous is aborting with status: OUT_OF_RANGE: End of sequence\n",
      "\t [[{{node IteratorGetNext}}]]\n",
      "\t [[movinet_classifier_1/movinet/block2_layer2/bneck/se/global_average_pool3d_6/Cumsum/_110]]\n",
      "2024-12-19 09:55:19.933310: I tensorflow/core/framework/local_rendezvous.cc:422] Local rendezvous recv item cancelled. Key hash: 5723022188223947692\n",
      "2024-12-19 09:55:19.933321: I tensorflow/core/framework/local_rendezvous.cc:422] Local rendezvous recv item cancelled. Key hash: 14329843108485063489\n",
      "2024-12-19 09:55:19.933331: I tensorflow/core/framework/local_rendezvous.cc:422] Local rendezvous recv item cancelled. Key hash: 17956243343964832736\n",
      "2024-12-19 09:55:19.933334: I tensorflow/core/framework/local_rendezvous.cc:422] Local rendezvous recv item cancelled. Key hash: 5197441386905908277\n",
      "2024-12-19 09:55:19.933344: I tensorflow/core/framework/local_rendezvous.cc:422] Local rendezvous recv item cancelled. Key hash: 17967981782592877853\n",
      "2024-12-19 09:55:19.933349: I tensorflow/core/framework/local_rendezvous.cc:422] Local rendezvous recv item cancelled. Key hash: 13468960341877884855\n",
      "2024-12-19 09:55:19.933353: I tensorflow/core/framework/local_rendezvous.cc:422] Local rendezvous recv item cancelled. Key hash: 5754575568594905453\n",
      "2024-12-19 09:55:19.933357: I tensorflow/core/framework/local_rendezvous.cc:422] Local rendezvous recv item cancelled. Key hash: 18406168101774260529\n",
      "2024-12-19 09:55:19.933364: I tensorflow/core/framework/local_rendezvous.cc:422] Local rendezvous recv item cancelled. Key hash: 8449348558989941463\n",
      "2024-12-19 09:55:19.933368: I tensorflow/core/framework/local_rendezvous.cc:422] Local rendezvous recv item cancelled. Key hash: 13721863481699384323\n",
      "2024-12-19 09:55:19.933372: I tensorflow/core/framework/local_rendezvous.cc:422] Local rendezvous recv item cancelled. Key hash: 953019346070031609\n",
      "2024-12-19 09:55:19.933534: I tensorflow/core/framework/local_rendezvous.cc:422] Local rendezvous recv item cancelled. Key hash: 7107374704138012088\n",
      "2024-12-19 09:55:19.933545: I tensorflow/core/framework/local_rendezvous.cc:422] Local rendezvous recv item cancelled. Key hash: 13316590572250982004\n",
      "2024-12-19 09:55:19.933554: I tensorflow/core/framework/local_rendezvous.cc:422] Local rendezvous recv item cancelled. Key hash: 18002798956205172900\n",
      "2024-12-19 09:55:19.933557: I tensorflow/core/framework/local_rendezvous.cc:422] Local rendezvous recv item cancelled. Key hash: 3749282181987182730\n",
      "2024-12-19 09:55:19.933574: I tensorflow/core/framework/local_rendezvous.cc:422] Local rendezvous recv item cancelled. Key hash: 1537745141020159581\n",
      "2024-12-19 09:55:19.933584: I tensorflow/core/framework/local_rendezvous.cc:422] Local rendezvous recv item cancelled. Key hash: 16562991372777590317\n",
      "2024-12-19 09:55:19.933741: I tensorflow/core/framework/local_rendezvous.cc:422] Local rendezvous recv item cancelled. Key hash: 14441934642813094416\n",
      "2024-12-19 09:55:19.933751: I tensorflow/core/framework/local_rendezvous.cc:422] Local rendezvous recv item cancelled. Key hash: 1040046499641855118\n",
      "2024-12-19 09:55:19.933758: I tensorflow/core/framework/local_rendezvous.cc:422] Local rendezvous recv item cancelled. Key hash: 4226792932755385872\n",
      "2024-12-19 09:55:19.933762: I tensorflow/core/framework/local_rendezvous.cc:422] Local rendezvous recv item cancelled. Key hash: 6659779243496215126\n",
      "2024-12-19 09:55:19.933777: I tensorflow/core/framework/local_rendezvous.cc:422] Local rendezvous recv item cancelled. Key hash: 4411892692211528230\n",
      "2024-12-19 09:55:19.933780: I tensorflow/core/framework/local_rendezvous.cc:422] Local rendezvous recv item cancelled. Key hash: 6167932366379619458\n",
      "2024-12-19 09:55:19.933787: I tensorflow/core/framework/local_rendezvous.cc:422] Local rendezvous recv item cancelled. Key hash: 8629493301586983134\n",
      "2024-12-19 09:55:19.933791: I tensorflow/core/framework/local_rendezvous.cc:422] Local rendezvous recv item cancelled. Key hash: 16946051227198609886\n",
      "2024-12-19 09:55:19.933794: I tensorflow/core/framework/local_rendezvous.cc:422] Local rendezvous recv item cancelled. Key hash: 9891474094904777448\n",
      "2024-12-19 09:55:19.933798: I tensorflow/core/framework/local_rendezvous.cc:422] Local rendezvous recv item cancelled. Key hash: 6183704869068847706\n",
      "2024-12-19 09:55:19.933818: I tensorflow/core/framework/local_rendezvous.cc:422] Local rendezvous recv item cancelled. Key hash: 12774415264874920990\n",
      "2024-12-19 09:55:19.933830: I tensorflow/core/framework/local_rendezvous.cc:422] Local rendezvous recv item cancelled. Key hash: 2931302572513188866\n",
      "2024-12-19 09:55:19.933838: I tensorflow/core/framework/local_rendezvous.cc:422] Local rendezvous recv item cancelled. Key hash: 14478673910376742624\n",
      "2024-12-19 09:55:19.933846: I tensorflow/core/framework/local_rendezvous.cc:422] Local rendezvous recv item cancelled. Key hash: 18204334535494459296\n",
      "2024-12-19 09:56:49.162891: W tensorflow/core/framework/local_rendezvous.cc:404] Local rendezvous is aborting with status: OUT_OF_RANGE: End of sequence\n",
      "\t [[{{node IteratorGetNext}}]]\n",
      "2024-12-19 09:56:49.162912: I tensorflow/core/framework/local_rendezvous.cc:422] Local rendezvous recv item cancelled. Key hash: 18002713609963333360\n",
      "2024-12-19 09:56:49.162931: W tensorflow/core/framework/local_rendezvous.cc:404] Local rendezvous is aborting with status: OUT_OF_RANGE: End of sequence\n",
      "\t [[{{node IteratorGetNext}}]]\n",
      "\t [[movinet_classifier_1/movinet/block2_layer2/bneck/se/global_average_pool3d_6/Cumsum/_62]]\n",
      "2024-12-19 09:56:49.162949: I tensorflow/core/framework/local_rendezvous.cc:422] Local rendezvous recv item cancelled. Key hash: 9816012139080753433\n",
      "2024-12-19 09:56:49.162953: I tensorflow/core/framework/local_rendezvous.cc:422] Local rendezvous recv item cancelled. Key hash: 4371672062624010977\n",
      "2024-12-19 09:56:49.162958: I tensorflow/core/framework/local_rendezvous.cc:422] Local rendezvous recv item cancelled. Key hash: 1110710026930340573\n",
      "2024-12-19 09:56:49.162963: I tensorflow/core/framework/local_rendezvous.cc:422] Local rendezvous recv item cancelled. Key hash: 13364421363249534477\n",
      "2024-12-19 09:56:49.162967: I tensorflow/core/framework/local_rendezvous.cc:422] Local rendezvous recv item cancelled. Key hash: 3698062015300552385\n",
      "2024-12-19 09:56:49.162972: I tensorflow/core/framework/local_rendezvous.cc:422] Local rendezvous recv item cancelled. Key hash: 16932355555854428321\n",
      "2024-12-19 09:56:49.162976: I tensorflow/core/framework/local_rendezvous.cc:422] Local rendezvous recv item cancelled. Key hash: 585040674918603115\n",
      "2024-12-19 09:56:49.162980: I tensorflow/core/framework/local_rendezvous.cc:422] Local rendezvous recv item cancelled. Key hash: 2217219392584789187\n",
      "2024-12-19 09:56:49.162985: I tensorflow/core/framework/local_rendezvous.cc:422] Local rendezvous recv item cancelled. Key hash: 12930361365603904871\n",
      "2024-12-19 09:56:49.162989: I tensorflow/core/framework/local_rendezvous.cc:422] Local rendezvous recv item cancelled. Key hash: 1847985206778912333\n",
      "2024-12-19 09:56:49.163165: I tensorflow/core/framework/local_rendezvous.cc:422] Local rendezvous recv item cancelled. Key hash: 15336212374790904450\n",
      "2024-12-19 09:56:49.163172: I tensorflow/core/framework/local_rendezvous.cc:422] Local rendezvous recv item cancelled. Key hash: 15604946300754906424\n",
      "2024-12-19 09:56:49.163176: I tensorflow/core/framework/local_rendezvous.cc:422] Local rendezvous recv item cancelled. Key hash: 15239021039634314782\n",
      "2024-12-19 09:56:49.163180: I tensorflow/core/framework/local_rendezvous.cc:422] Local rendezvous recv item cancelled. Key hash: 18110576932241315612\n"
     ]
    },
    {
     "name": "stdout",
     "output_type": "stream",
     "text": [
      "\n",
      "Epoch 1: saving model to Models/scratch_121824/cp_01.ckpt\n",
      "202/202 [==============================] - 2278s 11s/step - loss: 0.0278 - accuracy: 0.9913 - val_loss: 0.0153 - val_accuracy: 1.0000\n",
      "Epoch 2/5\n",
      "202/202 [==============================] - ETA: 0s - loss: 0.0173 - accuracy: 0.9926 \n",
      "Epoch 2: saving model to Models/scratch_121824/cp_01.ckpt\n",
      "202/202 [==============================] - 2269s 11s/step - loss: 0.0173 - accuracy: 0.9926 - val_loss: 0.0297 - val_accuracy: 0.9886\n",
      "Epoch 3/5\n",
      "202/202 [==============================] - ETA: 0s - loss: 0.0206 - accuracy: 0.9919 \n",
      "Epoch 3: saving model to Models/scratch_121824/cp_01.ckpt\n",
      "202/202 [==============================] - 2270s 11s/step - loss: 0.0206 - accuracy: 0.9919 - val_loss: 0.0885 - val_accuracy: 0.9773\n",
      "Epoch 4/5\n",
      "202/202 [==============================] - ETA: 0s - loss: 0.0214 - accuracy: 0.9919 \n",
      "Epoch 4: saving model to Models/scratch_121824/cp_01.ckpt\n",
      "202/202 [==============================] - 2271s 11s/step - loss: 0.0214 - accuracy: 0.9919 - val_loss: 0.0124 - val_accuracy: 0.9886\n",
      "Epoch 5/5\n",
      "202/202 [==============================] - ETA: 0s - loss: 0.0337 - accuracy: 0.9851 \n",
      "Epoch 5: saving model to Models/scratch_121824/cp_01.ckpt\n",
      "202/202 [==============================] - 2278s 11s/step - loss: 0.0337 - accuracy: 0.9851 - val_loss: 0.0689 - val_accuracy: 0.9659\n"
     ]
    }
   ],
   "source": [
    "history = model.fit(train_ds2,\n",
    "                    validation_data=val_ds2,\n",
    "                    epochs=5,\n",
    "                    validation_freq=1,\n",
    "                    verbose=1,\n",
    "                    callbacks = [cp_callback])"
   ]
  },
  {
   "cell_type": "code",
   "execution_count": 19,
   "metadata": {},
   "outputs": [
    {
     "name": "stdout",
     "output_type": "stream",
     "text": [
      "     12/Unknown - 84s 7s/step - loss: 0.0233 - accuracy: 0.9889"
     ]
    },
    {
     "name": "stderr",
     "output_type": "stream",
     "text": [
      "2024-12-19 12:31:30.381958: W tensorflow/core/framework/local_rendezvous.cc:404] Local rendezvous is aborting with status: OUT_OF_RANGE: End of sequence\n",
      "\t [[{{node IteratorGetNext}}]]\n",
      "2024-12-19 12:31:30.381979: W tensorflow/core/framework/local_rendezvous.cc:404] Local rendezvous is aborting with status: OUT_OF_RANGE: End of sequence\n",
      "\t [[{{node IteratorGetNext}}]]\n",
      "\t [[movinet_classifier_1/movinet/block2_layer2/bneck/se/global_average_pool3d_6/Cumsum/_62]]\n",
      "2024-12-19 12:31:30.381988: I tensorflow/core/framework/local_rendezvous.cc:422] Local rendezvous recv item cancelled. Key hash: 18110576932241315612\n",
      "2024-12-19 12:31:30.381992: I tensorflow/core/framework/local_rendezvous.cc:422] Local rendezvous recv item cancelled. Key hash: 9816012139080753433\n",
      "2024-12-19 12:31:30.382007: I tensorflow/core/framework/local_rendezvous.cc:422] Local rendezvous recv item cancelled. Key hash: 4371672062624010977\n",
      "2024-12-19 12:31:30.382011: I tensorflow/core/framework/local_rendezvous.cc:422] Local rendezvous recv item cancelled. Key hash: 1110710026930340573\n",
      "2024-12-19 12:31:30.382014: I tensorflow/core/framework/local_rendezvous.cc:422] Local rendezvous recv item cancelled. Key hash: 3698062015300552385\n",
      "2024-12-19 12:31:30.382017: I tensorflow/core/framework/local_rendezvous.cc:422] Local rendezvous recv item cancelled. Key hash: 13364421363249534477\n",
      "2024-12-19 12:31:30.382020: I tensorflow/core/framework/local_rendezvous.cc:422] Local rendezvous recv item cancelled. Key hash: 16932355555854428321\n",
      "2024-12-19 12:31:30.382024: I tensorflow/core/framework/local_rendezvous.cc:422] Local rendezvous recv item cancelled. Key hash: 585040674918603115\n",
      "2024-12-19 12:31:30.382028: I tensorflow/core/framework/local_rendezvous.cc:422] Local rendezvous recv item cancelled. Key hash: 2217219392584789187\n",
      "2024-12-19 12:31:30.382031: I tensorflow/core/framework/local_rendezvous.cc:422] Local rendezvous recv item cancelled. Key hash: 12930361365603904871\n",
      "2024-12-19 12:31:30.382034: I tensorflow/core/framework/local_rendezvous.cc:422] Local rendezvous recv item cancelled. Key hash: 1847985206778912333\n",
      "2024-12-19 12:31:30.382224: I tensorflow/core/framework/local_rendezvous.cc:422] Local rendezvous recv item cancelled. Key hash: 15336212374790904450\n",
      "2024-12-19 12:31:30.382229: I tensorflow/core/framework/local_rendezvous.cc:422] Local rendezvous recv item cancelled. Key hash: 15604946300754906424\n",
      "2024-12-19 12:31:30.382232: I tensorflow/core/framework/local_rendezvous.cc:422] Local rendezvous recv item cancelled. Key hash: 15239021039634314782\n",
      "2024-12-19 12:31:30.382237: I tensorflow/core/framework/local_rendezvous.cc:422] Local rendezvous recv item cancelled. Key hash: 18002713609963333360\n"
     ]
    },
    {
     "name": "stdout",
     "output_type": "stream",
     "text": [
      "12/12 [==============================] - 86s 7s/step - loss: 0.0233 - accuracy: 0.9889\n"
     ]
    },
    {
     "data": {
      "text/plain": [
       "[0.023275116458535194, 0.9888888597488403]"
      ]
     },
     "execution_count": 19,
     "metadata": {},
     "output_type": "execute_result"
    }
   ],
   "source": [
    "model.evaluate(test_ds2)"
   ]
  },
  {
   "cell_type": "code",
   "execution_count": null,
   "metadata": {},
   "outputs": [],
   "source": [
    "{'Scratch':1}"
   ]
  },
  {
   "cell_type": "code",
   "execution_count": null,
   "metadata": {},
   "outputs": [],
   "source": []
  },
  {
   "cell_type": "code",
   "execution_count": null,
   "metadata": {},
   "outputs": [],
   "source": []
  }
 ],
 "metadata": {
  "kernelspec": {
   "display_name": "tf",
   "language": "python",
   "name": "python3"
  },
  "language_info": {
   "codemirror_mode": {
    "name": "ipython",
    "version": 3
   },
   "file_extension": ".py",
   "mimetype": "text/x-python",
   "name": "python",
   "nbconvert_exporter": "python",
   "pygments_lexer": "ipython3",
   "version": "3.11.4"
  }
 },
 "nbformat": 4,
 "nbformat_minor": 2
}
